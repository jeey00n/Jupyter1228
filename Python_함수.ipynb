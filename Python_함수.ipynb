{
 "cells": [
  {
   "cell_type": "code",
   "execution_count": 1,
   "metadata": {},
   "outputs": [
    {
     "data": {
      "text/plain": [
       "'Hi'"
      ]
     },
     "execution_count": 1,
     "metadata": {},
     "output_type": "execute_result"
    }
   ],
   "source": [
    "# 함수\n",
    "# 입력값이 없고 결과값만 있는 함수\n",
    "def say():\n",
    "    return 'Hi'\n",
    "a = say()\n",
    "a"
   ]
  },
  {
   "cell_type": "code",
   "execution_count": 2,
   "metadata": {},
   "outputs": [
    {
     "name": "stdout",
     "output_type": "stream",
     "text": [
      "3, 4의 합은 7입니다.\n"
     ]
    }
   ],
   "source": [
    "# 결과값(return값) 없는 함수\n",
    "def add(a,b):\n",
    "    print('%d, %d의 합은 %d입니다.' %(a,b,a+b))\n",
    "    \n",
    "add(3,4)"
   ]
  },
  {
   "cell_type": "code",
   "execution_count": 3,
   "metadata": {},
   "outputs": [
    {
     "name": "stdout",
     "output_type": "stream",
     "text": [
      "Hi\n"
     ]
    }
   ],
   "source": [
    "# 입력값도 결과값도 없는 함수\n",
    "def say():\n",
    "    print('Hi')\n",
    "    \n",
    "say()"
   ]
  },
  {
   "cell_type": "code",
   "execution_count": 4,
   "metadata": {},
   "outputs": [
    {
     "data": {
      "text/plain": [
       "7"
      ]
     },
     "execution_count": 4,
     "metadata": {},
     "output_type": "execute_result"
    }
   ],
   "source": [
    "# 입출력 모두 있는 경우\n",
    "def add(a, b):\n",
    "    return a+b\n",
    "add(3,4)"
   ]
  },
  {
   "cell_type": "code",
   "execution_count": 5,
   "metadata": {},
   "outputs": [
    {
     "data": {
      "text/plain": [
       "15"
      ]
     },
     "execution_count": 5,
     "metadata": {},
     "output_type": "execute_result"
    }
   ],
   "source": [
    "# 여러개의 입력값을 받는 함수\n",
    "# *args (all arguments의 약자)\n",
    "def add_many(*args):\n",
    "    add = 0\n",
    "    for i in args:\n",
    "        add += i\n",
    "    return add\n",
    "add_many(1,2,3,4,5)"
   ]
  },
  {
   "cell_type": "code",
   "execution_count": 7,
   "metadata": {},
   "outputs": [
    {
     "data": {
      "text/plain": [
       "(7, 12)"
      ]
     },
     "execution_count": 7,
     "metadata": {},
     "output_type": "execute_result"
    }
   ],
   "source": [
    "# 함수의 반환(결과값)은 언제나 하나임 - 결과값으로 튜플 값 하나를 갖게 됨\n",
    "def add_and_mul(a,b):\n",
    "    return a+b, a*b\n",
    "result = add_and_mul(3,4)\n",
    "result\n"
   ]
  },
  {
   "cell_type": "code",
   "execution_count": 13,
   "metadata": {},
   "outputs": [
    {
     "name": "stdout",
     "output_type": "stream",
     "text": [
      "7\n",
      "12\n"
     ]
    }
   ],
   "source": [
    "# 하나의 튜플값을 2개의 결과값처럼 받는 방법 \n",
    "result1, result2 = add_and_mul(3,4)\n",
    "print(result1)\n",
    "print(result2)"
   ]
  },
  {
   "cell_type": "code",
   "execution_count": 14,
   "metadata": {},
   "outputs": [
    {
     "name": "stdout",
     "output_type": "stream",
     "text": [
      "7\n"
     ]
    }
   ],
   "source": [
    "# 함수는 return문을 만나는 순간 결과값을 돌려준 후 함수를 빠져나간다.\n",
    "def add_and_mul(a,b):\n",
    "    return a+b\n",
    "    return a*b\n",
    "result = add_and_mul(3,4)\n",
    "print(result)"
   ]
  },
  {
   "cell_type": "code",
   "execution_count": 8,
   "metadata": {},
   "outputs": [
    {
     "name": "stdout",
     "output_type": "stream",
     "text": [
      "15\n",
      "120\n"
     ]
    }
   ],
   "source": [
    "# Q. add_mul()함수를 정의하여 1,2,3,4,5를 입력값으로 적용하여\n",
    "# 덧셈, 곱셈 연산을 수행\n",
    "def add_mul(choice, *args):\n",
    "    if choice == 'add':\n",
    "        result = 0\n",
    "        for i in args:\n",
    "            result += i\n",
    "    elif choice == 'mul':\n",
    "        result = 1\n",
    "        for i in args:\n",
    "            result *= i\n",
    "    return result\n",
    "\n",
    "print(add_mul('add', 1,2,3,4,5))\n",
    "print(add_mul('mul', 1,2,3,4,5))"
   ]
  },
  {
   "cell_type": "code",
   "execution_count": 11,
   "metadata": {},
   "outputs": [
    {
     "name": "stdout",
     "output_type": "stream",
     "text": [
      "70\n",
      "0.026041666666666668\n"
     ]
    }
   ],
   "source": [
    "# Q. sub_div() 함수를 정의하여 1,2,3,4,5를 입력값으로 적용하여\n",
    "# 뺄셈, 나눗셈 연산 수행\n",
    "def sub_div(choice, *args):\n",
    "    if choice == 'sub':\n",
    "        result = 100\n",
    "        for i in args:\n",
    "            result -= i\n",
    "    elif choice == 'div':\n",
    "        result = 100\n",
    "        for i in args:\n",
    "            result /= i\n",
    "    return result\n",
    "\n",
    "print(sub_div('sub', 2,4,6,8,10))\n",
    "print(sub_div('div', 2,4,6,8,10))"
   ]
  },
  {
   "cell_type": "code",
   "execution_count": 16,
   "metadata": {},
   "outputs": [
    {
     "name": "stdout",
     "output_type": "stream",
     "text": [
      "나의 별명은 야호입니다\n"
     ]
    },
    {
     "data": {
      "text/plain": [
       "'아니야!'"
      ]
     },
     "execution_count": 16,
     "metadata": {},
     "output_type": "execute_result"
    }
   ],
   "source": [
    "# 문자열을 출력한다는 것과 리턴값이 있다는 것은 전혀 다른 것이다.\n",
    "def say_nick(nick):\n",
    "    if nick == '바보':\n",
    "        return '아니야!'    #<-리턴값\n",
    "    print('나의 별명은 %s입니다' %(nick))    #<-문자열을 출력\n",
    "    \n",
    "say_nick('야호')\n",
    "say_nick('바보')"
   ]
  },
  {
   "cell_type": "code",
   "execution_count": 22,
   "metadata": {},
   "outputs": [
    {
     "name": "stdout",
     "output_type": "stream",
     "text": [
      "나의 이름은 홍길동입니다.\n",
      "나이는 20살입니다.\n",
      "여자입니다.\n"
     ]
    }
   ],
   "source": [
    "# 입력 인수에 초기값 미리 설정하기\n",
    "def say_myself(name, old, man=True):\n",
    "    print('나의 이름은 %s입니다.' %name)\n",
    "    print('나이는 %d살입니다.' %old)\n",
    "    if man:\n",
    "        print('남자입니다.')\n",
    "    else:\n",
    "        print('여자입니다.')\n",
    "        \n",
    "say_myself('홍길동', 20, False)"
   ]
  },
  {
   "cell_type": "code",
   "execution_count": 1,
   "metadata": {},
   "outputs": [
    {
     "ename": "UnboundLocalError",
     "evalue": "local variable 'a' referenced before assignment",
     "output_type": "error",
     "traceback": [
      "\u001b[1;31m---------------------------------------------------------------------------\u001b[0m",
      "\u001b[1;31mUnboundLocalError\u001b[0m                         Traceback (most recent call last)",
      "\u001b[1;32m<ipython-input-1-a92d03179dc9>\u001b[0m in \u001b[0;36m<module>\u001b[1;34m\u001b[0m\n\u001b[0;32m      3\u001b[0m     \u001b[0ma\u001b[0m \u001b[1;33m=\u001b[0m \u001b[0ma\u001b[0m \u001b[1;33m+\u001b[0m \u001b[1;36m1\u001b[0m\u001b[1;33m\u001b[0m\u001b[1;33m\u001b[0m\u001b[0m\n\u001b[0;32m      4\u001b[0m \u001b[1;33m\u001b[0m\u001b[0m\n\u001b[1;32m----> 5\u001b[1;33m \u001b[0mvartest\u001b[0m\u001b[1;33m(\u001b[0m\u001b[1;33m)\u001b[0m\u001b[1;33m\u001b[0m\u001b[1;33m\u001b[0m\u001b[0m\n\u001b[0m\u001b[0;32m      6\u001b[0m \u001b[0ma\u001b[0m\u001b[1;33m\u001b[0m\u001b[1;33m\u001b[0m\u001b[0m\n",
      "\u001b[1;32m<ipython-input-1-a92d03179dc9>\u001b[0m in \u001b[0;36mvartest\u001b[1;34m()\u001b[0m\n\u001b[0;32m      1\u001b[0m \u001b[0ma\u001b[0m \u001b[1;33m=\u001b[0m \u001b[1;36m1\u001b[0m\u001b[1;33m\u001b[0m\u001b[1;33m\u001b[0m\u001b[0m\n\u001b[0;32m      2\u001b[0m \u001b[1;32mdef\u001b[0m \u001b[0mvartest\u001b[0m\u001b[1;33m(\u001b[0m\u001b[1;33m)\u001b[0m\u001b[1;33m:\u001b[0m\u001b[1;33m\u001b[0m\u001b[1;33m\u001b[0m\u001b[0m\n\u001b[1;32m----> 3\u001b[1;33m     \u001b[0ma\u001b[0m \u001b[1;33m=\u001b[0m \u001b[0ma\u001b[0m \u001b[1;33m+\u001b[0m \u001b[1;36m1\u001b[0m\u001b[1;33m\u001b[0m\u001b[1;33m\u001b[0m\u001b[0m\n\u001b[0m\u001b[0;32m      4\u001b[0m \u001b[1;33m\u001b[0m\u001b[0m\n\u001b[0;32m      5\u001b[0m \u001b[0mvartest\u001b[0m\u001b[1;33m(\u001b[0m\u001b[1;33m)\u001b[0m\u001b[1;33m\u001b[0m\u001b[1;33m\u001b[0m\u001b[0m\n",
      "\u001b[1;31mUnboundLocalError\u001b[0m: local variable 'a' referenced before assignment"
     ]
    }
   ],
   "source": [
    "a = 1\n",
    "def vartest():\n",
    "    a = a + 1\n",
    "    #return a\n",
    "vartest()\n",
    "a"
   ]
  },
  {
   "cell_type": "code",
   "execution_count": 27,
   "metadata": {},
   "outputs": [
    {
     "data": {
      "text/plain": [
       "2"
      ]
     },
     "execution_count": 27,
     "metadata": {},
     "output_type": "execute_result"
    }
   ],
   "source": [
    "# 글로벌 변수를 이용하는 방법\n",
    "a = 1\n",
    "def vartest():\n",
    "    global a    #전역변수를 쓰겠다는 의미\n",
    "    a = a + 1\n",
    "\n",
    "vartest()\n",
    "a"
   ]
  },
  {
   "cell_type": "code",
   "execution_count": null,
   "metadata": {},
   "outputs": [],
   "source": [
    "while 1:\n",
    "    data = input()\n",
    "    if not data: break\n",
    "    print(data)\n",
    "    "
   ]
  },
  {
   "cell_type": "code",
   "execution_count": 29,
   "metadata": {},
   "outputs": [
    {
     "data": {
      "text/plain": [
       "'C:\\\\Caba2015\\\\workspace'"
      ]
     },
     "execution_count": 29,
     "metadata": {},
     "output_type": "execute_result"
    }
   ],
   "source": [
    "# 파일 읽고 쓰기\n",
    "%pwd"
   ]
  },
  {
   "cell_type": "code",
   "execution_count": 30,
   "metadata": {},
   "outputs": [],
   "source": [
    "#open 함수로 파일을 열어준 후에는 꼭 .close()로 닫아 준다.\n",
    "#'w'는 write모드, 'r'는 read모드다.\n",
    "f = open('test1.txt', 'w')\n",
    "f.close()"
   ]
  },
  {
   "cell_type": "code",
   "execution_count": 31,
   "metadata": {},
   "outputs": [],
   "source": [
    "f = open('test1.txt', 'w')\n",
    "for i in range(1,11):\n",
    "    data = '%d번째 줄입니다.\\n'%i\n",
    "    f.write(data)\n",
    "\n",
    "f.close()"
   ]
  },
  {
   "cell_type": "code",
   "execution_count": 33,
   "metadata": {},
   "outputs": [
    {
     "name": "stdout",
     "output_type": "stream",
     "text": [
      "1번째 줄입니다.\n",
      "\n"
     ]
    }
   ],
   "source": [
    "f = open('test1.txt', 'r')\n",
    "line = f.readline()\n",
    "print(line)\n",
    "f.close()"
   ]
  },
  {
   "cell_type": "code",
   "execution_count": 34,
   "metadata": {},
   "outputs": [
    {
     "name": "stdout",
     "output_type": "stream",
     "text": [
      "1번째 줄입니다.\n",
      "\n",
      "2번째 줄입니다.\n",
      "\n",
      "3번째 줄입니다.\n",
      "\n",
      "4번째 줄입니다.\n",
      "\n",
      "5번째 줄입니다.\n",
      "\n",
      "6번째 줄입니다.\n",
      "\n",
      "7번째 줄입니다.\n",
      "\n",
      "8번째 줄입니다.\n",
      "\n",
      "9번째 줄입니다.\n",
      "\n",
      "10번째 줄입니다.\n",
      "\n"
     ]
    }
   ],
   "source": [
    "f = open('test1.txt', 'r')\n",
    "while True:\n",
    "    line = f.readline()\n",
    "    if not line:break\n",
    "    print(line)\n",
    "f.close()"
   ]
  },
  {
   "cell_type": "code",
   "execution_count": 35,
   "metadata": {},
   "outputs": [
    {
     "name": "stdout",
     "output_type": "stream",
     "text": [
      "1번째 줄입니다.\n",
      "2번째 줄입니다.\n",
      "3번째 줄입니다.\n",
      "4번째 줄입니다.\n",
      "5번째 줄입니다.\n",
      "6번째 줄입니다.\n",
      "7번째 줄입니다.\n",
      "8번째 줄입니다.\n",
      "9번째 줄입니다.\n",
      "10번째 줄입니다.\n",
      "\n"
     ]
    }
   ],
   "source": [
    "f = open('test1.txt', 'r')\n",
    "data = f.read()\n",
    "print(data)\n",
    "f.close()"
   ]
  },
  {
   "cell_type": "code",
   "execution_count": 36,
   "metadata": {},
   "outputs": [],
   "source": [
    "f = open('test1.txt', 'a')    #a는 추가한다는 뜻(add)\n",
    "for i in range(11,16):\n",
    "    data = '%d번째 줄입니다.\\n'%i\n",
    "    f.write(data)\n",
    "f.close()"
   ]
  },
  {
   "cell_type": "code",
   "execution_count": 37,
   "metadata": {},
   "outputs": [
    {
     "name": "stdout",
     "output_type": "stream",
     "text": [
      "1번째 줄입니다.\n",
      "2번째 줄입니다.\n",
      "3번째 줄입니다.\n",
      "4번째 줄입니다.\n",
      "5번째 줄입니다.\n",
      "6번째 줄입니다.\n",
      "7번째 줄입니다.\n",
      "8번째 줄입니다.\n",
      "9번째 줄입니다.\n",
      "10번째 줄입니다.\n",
      "11번째 줄입니다.\n",
      "12번째 줄입니다.\n",
      "13번째 줄입니다.\n",
      "14번째 줄입니다.\n",
      "15번째 줄입니다.\n",
      "\n"
     ]
    }
   ],
   "source": [
    "f = open('test1.txt', 'r')\n",
    "data = f.read()\n",
    "print(data)\n",
    "f.close()"
   ]
  },
  {
   "cell_type": "code",
   "execution_count": 38,
   "metadata": {},
   "outputs": [],
   "source": [
    "# with문과 같이 사용 -> f.close() 없이 써도 된다.\n",
    "#with블록을 벗어나는 순간 객체가 자동으로 close되기 때문이다.\n",
    "with open('foo.txt','w') as f:\n",
    "    f.write('파이썬은 재미있습니다.')\n"
   ]
  },
  {
   "cell_type": "code",
   "execution_count": 39,
   "metadata": {},
   "outputs": [
    {
     "name": "stdout",
     "output_type": "stream",
     "text": [
      "파이썬은 재미있습니다.\n"
     ]
    }
   ],
   "source": [
    "# with문을 사용하면 with block을 벗어나는 순간 객체 f가 자동으로 close됨\n",
    "with open('foo.txt', 'r') as f:\n",
    "    data = f.read()\n",
    "    print(data)"
   ]
  },
  {
   "cell_type": "markdown",
   "metadata": {},
   "source": [
    "모듈 (파일 단위)\n",
    "- 특정 기능들(함수, 변수, 클래스 등)이 구현되어 있는 파이썬 파일(.py)\n",
    "- 하나의 모듈에 여러 개의 클래스 등이 포함되어 있을 수 있다.\n",
    "\n",
    "패키지 (모듈을 모아 놓은,, 패키지 안에 여러 폴더 존재 가능)\n",
    "- 특정 기능과 관련된 여러 모듈들을 하나의 상위폴더에 넣어 놓은 것\n",
    "- 패키지 안에 여러가지 폴더 존재 가능\n",
    "- 패키지를 표현해주기 위해 \\__init__.py가 존재\n",
    "\n",
    "라이브러리 \n",
    "- 여러 모듈과 패키지를 묶어놓은 것\n",
    "- 파이썬에 기본적으로 설치된 모듈과 패키지, 내장함수를 묶어서 \n",
    "  파이썬 표준 라이브러리라고 한다.\n",
    "  \n",
    "패키지 안에 모듈을 불러 와 쓰는 방법\n",
    "- import 패키지.모듈\n",
    "- import 패키지.모듈1, 패키지.모듈2\n",
    "- 패키지.모듈.변수\n",
    "- 패키지.모듈.함수\n",
    "- 패키지.모듈.클래스\n"
   ]
  },
  {
   "cell_type": "code",
   "execution_count": 53,
   "metadata": {},
   "outputs": [],
   "source": [
    "# 모듈 mod1 만들기\n",
    "with open('mod1.py', 'w') as f:\n",
    "    f.write('''\n",
    "def add(x,y):\n",
    "    return x + y\n",
    "print(add(3,4))\n",
    "''')"
   ]
  },
  {
   "cell_type": "code",
   "execution_count": 54,
   "metadata": {},
   "outputs": [
    {
     "name": "stdout",
     "output_type": "stream",
     "text": [
      "\n",
      "def add(x,y):\n",
      "    return x + y\n",
      "print(add(3,4))\n",
      "\n"
     ]
    }
   ],
   "source": [
    "with open('mod1.py', 'r') as f:\n",
    "    data = f.read()\n",
    "    print(data)"
   ]
  },
  {
   "cell_type": "code",
   "execution_count": 55,
   "metadata": {},
   "outputs": [
    {
     "name": "stdout",
     "output_type": "stream",
     "text": [
      "7\n"
     ]
    }
   ],
   "source": [
    "!python mod1.py"
   ]
  },
  {
   "cell_type": "code",
   "execution_count": 56,
   "metadata": {},
   "outputs": [],
   "source": [
    "import mod1\n",
    "# import시 print를 출력하지 않으려면 어떻게 해야 할까?"
   ]
  },
  {
   "cell_type": "code",
   "execution_count": 45,
   "metadata": {},
   "outputs": [],
   "source": [
    "# 모듈 mod2 만들기\n",
    "# ***********책에 없는 내용이다******************\n",
    "with open('mod2.py', 'w') as f:\n",
    "    f.write('''\n",
    "def add(x,y):\n",
    "    return x + y\n",
    "if __name__ == \"__main__\":\n",
    "    print(add(3,4))\n",
    "''')"
   ]
  },
  {
   "cell_type": "code",
   "execution_count": 46,
   "metadata": {},
   "outputs": [
    {
     "name": "stdout",
     "output_type": "stream",
     "text": [
      "\n",
      "def add(x,y):\n",
      "    return x + y\n",
      "if __name__ == \"__main__\":\n",
      "    print(add(3,4))\n",
      "\n"
     ]
    }
   ],
   "source": [
    "with open('mod2.py', 'r') as f:\n",
    "    data = f.read()\n",
    "    print(data)"
   ]
  },
  {
   "cell_type": "code",
   "execution_count": 47,
   "metadata": {},
   "outputs": [
    {
     "name": "stdout",
     "output_type": "stream",
     "text": [
      "7\n"
     ]
    }
   ],
   "source": [
    "!python mod2.py"
   ]
  },
  {
   "cell_type": "code",
   "execution_count": 48,
   "metadata": {},
   "outputs": [],
   "source": [
    "import mod2"
   ]
  },
  {
   "cell_type": "markdown",
   "metadata": {},
   "source": [
    "파이썬 if.name == \"main\" 의미\n",
    "\n",
    "- 메인 함수의 선언, 시작을 의미한다. 해당 코드 밑에 main 등의 함수 호출 코드를 작성해서 함수의 기능을 수행한다.\n",
    "\n",
    "- 직접 mod.py 파일을 실행하는 경우에는 name_ 변수에 main이라는 값이 할당되고ㅡ 이 조건절이 참이 되어 if문 다음 문장들이 수행\n",
    "\n",
    "- 모듈을 불러와서 사용하는 경우 name 변수에는 모듈 이름이 저장되고 이 조건절이 거짓이 되어 if문 다음 문장들이 수행되지 않음\n",
    "\n",
    "- if name == \"main\"와 같이 조건문을 사용하여 터미널에서와 같이 직접 호출되어 사용될 때는 그 자체로 기능을 수행하고, 동시에 다른 모듈에서 필요한 함수 등을 제공"
   ]
  },
  {
   "cell_type": "code",
   "execution_count": 57,
   "metadata": {},
   "outputs": [
    {
     "data": {
      "text/plain": [
       "5"
      ]
     },
     "execution_count": 57,
     "metadata": {},
     "output_type": "execute_result"
    }
   ],
   "source": [
    "mod2.add(2,3)"
   ]
  },
  {
   "cell_type": "code",
   "execution_count": 58,
   "metadata": {},
   "outputs": [
    {
     "name": "stdout",
     "output_type": "stream",
     "text": [
      "3\n",
      "False\n",
      "True\n",
      "a\n"
     ]
    }
   ],
   "source": [
    "# 내장함수 : 외부 모듈과 달리 import가 필요없으므로 \n",
    "# 아무런 설정 없이 바로 사용할 수 있다.\n",
    "print(abs(-3))    # 절대값함수 abs()\n",
    "print(all([1,2,3,0]))    # 모두 참이면 True, 거짓이 하나라도 있으면 False\n",
    "print(any([1,2,3,0]))    # 하나라도 참이 있을 경우 True, 모두 거짓인 경우 False\n",
    "print(chr(97))    # 아스키코드값에 해당하는 문자 출력"
   ]
  },
  {
   "cell_type": "code",
   "execution_count": 59,
   "metadata": {},
   "outputs": [
    {
     "name": "stdout",
     "output_type": "stream",
     "text": [
      "['__add__', '__class__', '__contains__', '__delattr__', '__delitem__', '__dir__', '__doc__', '__eq__', '__format__', '__ge__', '__getattribute__', '__getitem__', '__gt__', '__hash__', '__iadd__', '__imul__', '__init__', '__init_subclass__', '__iter__', '__le__', '__len__', '__lt__', '__mul__', '__ne__', '__new__', '__reduce__', '__reduce_ex__', '__repr__', '__reversed__', '__rmul__', '__setattr__', '__setitem__', '__sizeof__', '__str__', '__subclasshook__', 'append', 'clear', 'copy', 'count', 'extend', 'index', 'insert', 'pop', 'remove', 'reverse', 'sort']\n"
     ]
    }
   ],
   "source": [
    "# dir 함수 : 객체가 자체적으로 가지고 있는 변수, 함수들을 return\n",
    "print(dir([1,2,3]))"
   ]
  },
  {
   "cell_type": "code",
   "execution_count": 60,
   "metadata": {},
   "outputs": [
    {
     "name": "stdout",
     "output_type": "stream",
     "text": [
      "(2, 1)\n"
     ]
    }
   ],
   "source": [
    "# divmod 함수: (몫, 나머지)를 튜플 형태로 반환\n",
    "print(divmod(7,3))"
   ]
  },
  {
   "cell_type": "code",
   "execution_count": 61,
   "metadata": {},
   "outputs": [
    {
     "name": "stdout",
     "output_type": "stream",
     "text": [
      "3\n"
     ]
    }
   ],
   "source": [
    "# eval 함수: 실행 가능한 '문자열'을 입력으로 받아 실행한 결과를 반환\n",
    "print(eval('1+2'))"
   ]
  },
  {
   "cell_type": "code",
   "execution_count": 62,
   "metadata": {},
   "outputs": [
    {
     "name": "stdout",
     "output_type": "stream",
     "text": [
      "[1, 2, 6]\n"
     ]
    }
   ],
   "source": [
    "# 함수를 어떤 용도에서 어떻게 쓰는지 잘 이해해야 한다.\n",
    "# filter 함수 : 첫번째 인수로 함수 이름을,\n",
    "# 두 번째 인수로 그 함수에 적용하는 반복 가능한 자료형을 받고 \n",
    "# \"\"리턴값이 참\"\"인 \"\"입력받았던 자료를 묶어서 반환\"\"\n",
    "def positive(x):\n",
    "    return x>0\n",
    "print(list(filter(positive,[1,-3,2,0,-5,6])))\n"
   ]
  },
  {
   "cell_type": "code",
   "execution_count": 63,
   "metadata": {},
   "outputs": [
    {
     "name": "stdout",
     "output_type": "stream",
     "text": [
      "[True, False, True, False, False, True]\n"
     ]
    }
   ],
   "source": [
    "# filter함수와 비교해서 공부하자.\n",
    "# ***많이 쓰고 유용한 map함수\n",
    "# ***map(func, iterable)은 입력받은 자료형의 각 요소가 \n",
    "# func에 의해 수행된 \"\"결과를 묶어서 반환\"\"\n",
    "def positive(x):\n",
    "    return x>0\n",
    "print(list(map(positive,[1,-3,2,0,-5,6])))"
   ]
  },
  {
   "cell_type": "code",
   "execution_count": 65,
   "metadata": {},
   "outputs": [
    {
     "name": "stdout",
     "output_type": "stream",
     "text": [
      "[2, 4, 6, 8]\n",
      "[2, 4, 6, 8]\n"
     ]
    }
   ],
   "source": [
    "def two_times(x): return x*2\n",
    "print(list(map(two_times, [1,2,3,4])))\n",
    "print(list(map(lambda a:a*2, [1,2,3,4])))"
   ]
  },
  {
   "cell_type": "code",
   "execution_count": 67,
   "metadata": {},
   "outputs": [
    {
     "data": {
      "text/plain": [
       "7"
      ]
     },
     "execution_count": 67,
     "metadata": {},
     "output_type": "execute_result"
    }
   ],
   "source": [
    "#람다는 def보다 간결하게 사용할 수 있다.\n",
    "sum = lambda a, b:a+b\n",
    "sum(3,4)"
   ]
  },
  {
   "cell_type": "code",
   "execution_count": 68,
   "metadata": {},
   "outputs": [
    {
     "name": "stdout",
     "output_type": "stream",
     "text": [
      "7\n",
      "12\n"
     ]
    }
   ],
   "source": [
    "myList = [lambda a,b:a+b, lambda a,b:a*b]\n",
    "print(myList[0](3,4))\n",
    "print(myList[1](3,4))"
   ]
  },
  {
   "cell_type": "code",
   "execution_count": 66,
   "metadata": {},
   "outputs": [
    {
     "data": {
      "text/plain": [
       "True"
      ]
     },
     "execution_count": 66,
     "metadata": {},
     "output_type": "execute_result"
    }
   ],
   "source": [
    "# isinstance(object, class) : 입력으로 받은 인스턴스가 그 클래스의 인스턴스인지 판단\n",
    "class Person: pass\n",
    "a = Person()\n",
    "isinstance(a, Person)    #a는 Person클래스로부터 만든 인스턴스다. (True)"
   ]
  },
  {
   "cell_type": "code",
   "execution_count": 69,
   "metadata": {},
   "outputs": [
    {
     "name": "stdout",
     "output_type": "stream",
     "text": [
      "3\n",
      "y\n",
      "1\n",
      "h\n"
     ]
    }
   ],
   "source": [
    "print(max([1,2,3]))\n",
    "print(max('python'))\n",
    "print(min([1,2,3]))\n",
    "print(min('python'))"
   ]
  },
  {
   "cell_type": "code",
   "execution_count": 70,
   "metadata": {},
   "outputs": [
    {
     "data": {
      "text/plain": [
       "16"
      ]
     },
     "execution_count": 70,
     "metadata": {},
     "output_type": "execute_result"
    }
   ],
   "source": [
    "# pow(x,y) 함수 : x의 y승\n",
    "pow(2,4)"
   ]
  },
  {
   "cell_type": "code",
   "execution_count": 71,
   "metadata": {},
   "outputs": [
    {
     "data": {
      "text/plain": [
       "['C:\\\\Caba2015\\\\workspace',\n",
       " 'C:\\\\Users\\\\a\\\\anaconda3\\\\envs\\\\caba\\\\python37.zip',\n",
       " 'C:\\\\Users\\\\a\\\\anaconda3\\\\envs\\\\caba\\\\DLLs',\n",
       " 'C:\\\\Users\\\\a\\\\anaconda3\\\\envs\\\\caba\\\\lib',\n",
       " 'C:\\\\Users\\\\a\\\\anaconda3\\\\envs\\\\caba',\n",
       " '',\n",
       " 'C:\\\\Users\\\\a\\\\anaconda3\\\\envs\\\\caba\\\\lib\\\\site-packages',\n",
       " 'C:\\\\Users\\\\a\\\\anaconda3\\\\envs\\\\caba\\\\lib\\\\site-packages\\\\win32',\n",
       " 'C:\\\\Users\\\\a\\\\anaconda3\\\\envs\\\\caba\\\\lib\\\\site-packages\\\\win32\\\\lib',\n",
       " 'C:\\\\Users\\\\a\\\\anaconda3\\\\envs\\\\caba\\\\lib\\\\site-packages\\\\Pythonwin',\n",
       " 'C:\\\\Users\\\\a\\\\anaconda3\\\\envs\\\\caba\\\\lib\\\\site-packages\\\\IPython\\\\extensions',\n",
       " 'C:\\\\Users\\\\a\\\\.ipython']"
      ]
     },
     "execution_count": 71,
     "metadata": {},
     "output_type": "execute_result"
    }
   ],
   "source": [
    "# 외장함수 : 파이썬 사용자들이 만든 유용한 프로그램을 모아놓은 라이브러리\n",
    "# sys.path 위치에 있는 파이썬 모듈은 경로에 상관 없이 어디에서나 불러올 수 있다.\n",
    "import sys\n",
    "sys.path"
   ]
  },
  {
   "cell_type": "code",
   "execution_count": 72,
   "metadata": {},
   "outputs": [],
   "source": [
    "# pickle은 객체의 형태를 유지하면서 파일에 저장하고 불러올 수 있게 하는 모듈\n",
    "# 판다스에 있는 pickle을 나중에 자주 쓸 것이다.\n",
    "import pickle\n",
    "f = open('test.txt', 'wb')    #'wb의 b는 binary'\n",
    "data = {1:'python', 2:'you need'}\n",
    "pickle.dump(data,f)           #dump는 집어넣는다는 의미\n",
    "f.close()"
   ]
  },
  {
   "cell_type": "code",
   "execution_count": 73,
   "metadata": {},
   "outputs": [
    {
     "name": "stdout",
     "output_type": "stream",
     "text": [
      "{1: 'python', 2: 'you need'}\n"
     ]
    }
   ],
   "source": [
    "import pickle\n",
    "f = open('test.txt', 'rb')\n",
    "data = pickle.load(f)\n",
    "print(data)\n",
    "f.close()"
   ]
  },
  {
   "cell_type": "code",
   "execution_count": 74,
   "metadata": {},
   "outputs": [
    {
     "data": {
      "text/plain": [
       "'C:\\\\Caba2015\\\\workspace'"
      ]
     },
     "execution_count": 74,
     "metadata": {},
     "output_type": "execute_result"
    }
   ],
   "source": [
    "import os\n",
    "os.getcwd()"
   ]
  },
  {
   "cell_type": "code",
   "execution_count": 77,
   "metadata": {},
   "outputs": [
    {
     "data": {
      "text/plain": [
       "'C:\\\\Caba2015\\\\workspace'"
      ]
     },
     "execution_count": 77,
     "metadata": {},
     "output_type": "execute_result"
    }
   ],
   "source": [
    "os.chdir('C:\\\\Caba2015\\\\workspace')\n",
    "os.getcwd()"
   ]
  },
  {
   "cell_type": "code",
   "execution_count": 81,
   "metadata": {},
   "outputs": [],
   "source": [
    "# os.mkdir(디렉토리) 디렉토리 생성, os.rmdir(디렉토리) 디렉토리 삭제,\n",
    "# os.unlink(파일 이름) 파일 지우기\n",
    "# os.rename(src, dst) src라는 이름의 파일을 dst라는 이름으로 바꾸기\n",
    "os.rename('text.txt', 'ex1.txt')"
   ]
  },
  {
   "cell_type": "code",
   "execution_count": 82,
   "metadata": {},
   "outputs": [
    {
     "data": {
      "text/plain": [
       "['C:\\\\Caba2015\\\\workspace\\\\Python_함수.ipynb']"
      ]
     },
     "execution_count": 82,
     "metadata": {},
     "output_type": "execute_result"
    }
   ],
   "source": [
    "# 특정 디렉토리에 있는 파일 이름 모두를 알아야 할 경우\n",
    "import glob\n",
    "glob.glob('C:\\\\Caba2015\\\\workspace/*.ipynb')    # <- 이 경로에 있는 모든 JupyterNotebook 파일을 보고 싶다"
   ]
  },
  {
   "cell_type": "code",
   "execution_count": 3,
   "metadata": {},
   "outputs": [
    {
     "data": {
      "text/plain": [
       "1609288893.136496"
      ]
     },
     "execution_count": 3,
     "metadata": {},
     "output_type": "execute_result"
    }
   ],
   "source": [
    "# time.time()은 현재시간을 실수 형태로 리턴해준다\n",
    "# 1970년 1월 1일 0시 0분 0초를 기준으로 지난 시간을 초 단위로 계산해서 반환\n",
    "import time\n",
    "time.time()"
   ]
  },
  {
   "cell_type": "code",
   "execution_count": 85,
   "metadata": {},
   "outputs": [
    {
     "data": {
      "text/plain": [
       "time.struct_time(tm_year=2020, tm_mon=12, tm_mday=29, tm_hour=16, tm_min=46, tm_sec=18, tm_wday=1, tm_yday=364, tm_isdst=0)"
      ]
     },
     "execution_count": 85,
     "metadata": {},
     "output_type": "execute_result"
    }
   ],
   "source": [
    "# localtime을 써주면 우리가 알 수 있는 형태로 시간 출력을 바꿔 준다.\n",
    "time.localtime(time.time())"
   ]
  },
  {
   "cell_type": "code",
   "execution_count": 4,
   "metadata": {},
   "outputs": [
    {
     "data": {
      "text/plain": [
       "'Tue Dec 29 16:41:30 2020'"
      ]
     },
     "execution_count": 4,
     "metadata": {},
     "output_type": "execute_result"
    }
   ],
   "source": [
    "# (우리가 원하는 시간을) 날짜와 시간을 알아보기 쉬운 형태로 반환\n",
    "time.asctime(time.localtime(1609227690.9052513))"
   ]
  },
  {
   "cell_type": "code",
   "execution_count": 5,
   "metadata": {},
   "outputs": [
    {
     "data": {
      "text/plain": [
       "'Wed Dec 30 09:44:36 2020'"
      ]
     },
     "execution_count": 5,
     "metadata": {},
     "output_type": "execute_result"
    }
   ],
   "source": [
    "# ctime은 항상 \"현재 시간\"만을 반환\n",
    "time.ctime()"
   ]
  },
  {
   "cell_type": "code",
   "execution_count": 173,
   "metadata": {},
   "outputs": [
    {
     "name": "stdout",
     "output_type": "stream",
     "text": [
      "<class 'str'>\n"
     ]
    }
   ],
   "source": [
    "# strftime 함수는 시간에 관계된 것을 \n",
    "# 세밀하게 표현할 수 있는 여러 가지 포맷으로 코드를 제공한다.\n",
    "# time.strftime('%d',time.localtime(time.time()))    # 일\n",
    "# time.strftime('%m',time.localtime(time.time()))    # 월\n",
    "# time.strftime('%Y',time.localtime(time.time()))    # 년도\n",
    "# time.strftime('%A',time.localtime(time.time()))    # 요일\n",
    "# time.strftime('%X',time.localtime(time.time()))    # 시:분:초\n",
    "# time.strftime('%x',time.localtime(time.time()))    # 월/일/년도"
   ]
  },
  {
   "cell_type": "code",
   "execution_count": 14,
   "metadata": {},
   "outputs": [
    {
     "name": "stdout",
     "output_type": "stream",
     "text": [
      "0\n",
      "1\n",
      "2\n",
      "3\n",
      "4\n",
      "5\n",
      "6\n",
      "7\n",
      "8\n",
      "9\n"
     ]
    }
   ],
   "source": [
    "# time.sleep 함수는 주로 루프 안에서 많이 사용\n",
    "# 일정한 시간 간격을 두고 루프를 실행할 수 있음\n",
    "import time\n",
    "for i in range(10):\n",
    "    print(i)\n",
    "    time.sleep(1)    #java에서는 (밀리세컨드)였지만 python에서는 (초)단위\n"
   ]
  },
  {
   "cell_type": "code",
   "execution_count": 22,
   "metadata": {},
   "outputs": [
    {
     "name": "stdout",
     "output_type": "stream",
     "text": [
      "   December 2020\n",
      "Mo Tu We Th Fr Sa Su\n",
      "    1  2  3  4  5  6\n",
      " 7  8  9 10 11 12 13\n",
      "14 15 16 17 18 19 20\n",
      "21 22 23 24 25 26 27\n",
      "28 29 30 31\n",
      "None\n",
      "\n",
      "3\n",
      "\n",
      "(5, 29)\n"
     ]
    }
   ],
   "source": [
    "# calendar 달력을 볼 수 있게 함\n",
    "import calendar\n",
    "print(calendar.prmonth(2020,12))    # 년도, 월 입력 시 달력 형태로 리턴 \n",
    "print()\n",
    "print(calendar.weekday(2020,12,31))\n",
    "# ㄴ>2020/12/31에 해당하는 요일을 숫자로 리턴\n",
    "# 월요일부터 0, 수요일은 2.. 이런 식으로 리턴한다\n",
    "print()\n",
    "print(calendar.monthrange(2020,2))    \n",
    "# ㄴ>해당 (년도, 월) 입력 \n",
    "# 반환값은 (1일의 요일에 해당하는 숫자, 해당 달에 들어있는 날짜의 갯수)"
   ]
  },
  {
   "cell_type": "code",
   "execution_count": 23,
   "metadata": {},
   "outputs": [
    {
     "data": {
      "text/plain": [
       "0.4546655333690295"
      ]
     },
     "execution_count": 23,
     "metadata": {},
     "output_type": "execute_result"
    }
   ],
   "source": [
    "# random은 난수를 발생시키는 모듈\n",
    "import random\n",
    "random.random()    #0.0에서 1.0 사이의 실수 중에서 난수값을 반환"
   ]
  },
  {
   "cell_type": "code",
   "execution_count": 71,
   "metadata": {},
   "outputs": [
    {
     "data": {
      "text/plain": [
       "7"
      ]
     },
     "execution_count": 71,
     "metadata": {},
     "output_type": "execute_result"
    }
   ],
   "source": [
    "random.randint(1,10)    #(시작숫자,끝숫자) 사이의 정수 중 난수값을 반환"
   ]
  },
  {
   "cell_type": "code",
   "execution_count": 82,
   "metadata": {},
   "outputs": [
    {
     "name": "stdout",
     "output_type": "stream",
     "text": [
      "5\n",
      "3\n",
      "4\n",
      "1\n",
      "2\n"
     ]
    }
   ],
   "source": [
    "def random_pop(data):\n",
    "    number = random.choice(data)\n",
    "    data.remove(number)\n",
    "    return number\n",
    "if __name__ == \"__main__\":\n",
    "    data = [1,2,3,4,5]\n",
    "    while data: print(random_pop(data))"
   ]
  },
  {
   "cell_type": "code",
   "execution_count": 83,
   "metadata": {},
   "outputs": [
    {
     "data": {
      "text/plain": [
       "[3, 2, 5, 1, 4]"
      ]
     },
     "execution_count": 83,
     "metadata": {},
     "output_type": "execute_result"
    }
   ],
   "source": [
    "# 리스트의 항목을 무작위로 섞고 싶은 경우 shuffle함수\n",
    "import random\n",
    "data = [1,2,3,4,5]\n",
    "random.shuffle(data)\n",
    "data"
   ]
  },
  {
   "cell_type": "code",
   "execution_count": 84,
   "metadata": {},
   "outputs": [
    {
     "data": {
      "text/plain": [
       "True"
      ]
     },
     "execution_count": 84,
     "metadata": {},
     "output_type": "execute_result"
    }
   ],
   "source": [
    "# 웹브라우저를 자동으로 실행\n",
    "import webbrowser\n",
    "webbrowser.open_new('http://google.com')"
   ]
  },
  {
   "cell_type": "code",
   "execution_count": 85,
   "metadata": {},
   "outputs": [
    {
     "name": "stdout",
     "output_type": "stream",
     "text": [
      "start\n",
      "working:0\n",
      "\n",
      "working:1\n",
      "\n",
      "working:2\n",
      "\n",
      "working:3\n",
      "\n",
      "working:4\n",
      "\n",
      "working:0\n",
      "\n",
      "working:1\n",
      "\n",
      "working:2\n",
      "\n",
      "working:3\n",
      "\n",
      "working:4\n",
      "\n",
      "working:0\n",
      "\n",
      "working:1\n",
      "\n",
      "working:2\n",
      "\n",
      "working:3\n",
      "\n",
      "working:4\n",
      "\n",
      "working:0\n",
      "\n",
      "working:1\n",
      "\n",
      "working:2\n",
      "\n",
      "working:3\n",
      "\n",
      "working:4\n",
      "\n",
      "working:0\n",
      "\n",
      "working:1\n",
      "\n",
      "working:2\n",
      "\n",
      "working:3\n",
      "\n",
      "working:4\n",
      "\n",
      "end\n"
     ]
    }
   ],
   "source": [
    "import time\n",
    "def long_task():    # 5초의 시간이 걸리는 함수\n",
    "    for i in range(5):\n",
    "        time.sleep(1)\n",
    "        print(\"working:%d\\n\" %i)\n",
    "print('start')\n",
    "for i in range(5):\n",
    "    long_task()\n",
    "print('end')"
   ]
  },
  {
   "cell_type": "code",
   "execution_count": 86,
   "metadata": {},
   "outputs": [
    {
     "name": "stdout",
     "output_type": "stream",
     "text": [
      "start\n",
      "working:0\n",
      "working:0\n",
      "working:0\n",
      "working:0\n",
      "working:0\n",
      "\n",
      "\n",
      "\n",
      "\n",
      "\n",
      "working:1\n",
      "\n",
      "working:1\n",
      "\n",
      "working:1\n",
      "\n",
      "working:1\n",
      "\n",
      "working:1\n",
      "\n",
      "working:2\n",
      "\n",
      "working:2\n",
      "\n",
      "working:2\n",
      "working:2\n",
      "\n",
      "\n",
      "working:2\n",
      "\n",
      "working:3\n",
      "\n",
      "working:3\n",
      "working:3\n",
      "working:3\n",
      "\n",
      "\n",
      "\n",
      "working:3\n",
      "\n",
      "working:4\n",
      "\n",
      "working:4\n",
      "\n",
      "working:4\n",
      "\n",
      "working:4\n",
      "\n",
      "working:4\n",
      "\n",
      "end\n"
     ]
    }
   ],
   "source": [
    "# python에서 thread를 실행하려면 \n",
    "# threading 모듈의 threading.Thread 함수 호출\n",
    "# Thread 객체를 얻은 후 start 메서드 호출\n",
    "# thread가 실행할 함수(혹은 메서드)를 작성하고 \n",
    "# 그 함수명을 threading.Thread함수의 target argument에 지정\n",
    "\n",
    "import time\n",
    "import threading\n",
    "\n",
    "def long_task():    # 5초의 시간이 걸리는 함수\n",
    "    for i in range(5):\n",
    "        time.sleep(1)\n",
    "        print(\"working:%d\\n\" %i)\n",
    "print('start')\n",
    "\n",
    "threads = []\n",
    "for i in range(5):\n",
    "    t = threading.Thread(target = long_task)\n",
    "    threads.append(t)\n",
    "    \n",
    "for t in threads:\n",
    "    t.start()\n",
    "    \n",
    "for t in threads:\n",
    "    t.join()    # join으로 thread가 종료될 때까지 기다림\n",
    "                # 기다렸다가 그 thread가 완료된 후에 출력\n",
    "\n",
    "print('end')"
   ]
  },
  {
   "cell_type": "markdown",
   "metadata": {},
   "source": [
    "더블 언더스코어(__)\n",
    "- private을 구현하기 위해 사용\n",
    "- 클래스 내 비슷한 이름끼리 충돌을 방지하기 위해 사용하며, 인터프리터에게 해당 변수를 다른 이름으로 치환하라고 알려준다.\n",
    "- 내부에서만 접근 가능하며, 외부에서는 접근 불가하다."
   ]
  },
  {
   "cell_type": "code",
   "execution_count": 93,
   "metadata": {},
   "outputs": [
    {
     "name": "stdout",
     "output_type": "stream",
     "text": [
      ">>> 10\n",
      "20\n"
     ]
    },
    {
     "ename": "AttributeError",
     "evalue": "'MyClass' object has no attribute '__variable'",
     "output_type": "error",
     "traceback": [
      "\u001b[1;31m---------------------------------------------------------------------------\u001b[0m",
      "\u001b[1;31mAttributeError\u001b[0m                            Traceback (most recent call last)",
      "\u001b[1;32m<ipython-input-93-ed5e1ef4d040>\u001b[0m in \u001b[0;36m<module>\u001b[1;34m\u001b[0m\n\u001b[0;32m     10\u001b[0m \u001b[0mobj\u001b[0m\u001b[1;33m.\u001b[0m\u001b[0mfunc\u001b[0m\u001b[1;33m(\u001b[0m\u001b[1;33m)\u001b[0m\u001b[1;33m\u001b[0m\u001b[1;33m\u001b[0m\u001b[0m\n\u001b[0;32m     11\u001b[0m \u001b[0mprint\u001b[0m\u001b[1;33m(\u001b[0m\u001b[0mobj\u001b[0m\u001b[1;33m.\u001b[0m\u001b[0mabc\u001b[0m\u001b[1;33m)\u001b[0m\u001b[1;33m\u001b[0m\u001b[1;33m\u001b[0m\u001b[0m\n\u001b[1;32m---> 12\u001b[1;33m \u001b[0mobj\u001b[0m\u001b[1;33m.\u001b[0m\u001b[0m__variable\u001b[0m\u001b[1;33m\u001b[0m\u001b[1;33m\u001b[0m\u001b[0m\n\u001b[0m",
      "\u001b[1;31mAttributeError\u001b[0m: 'MyClass' object has no attribute '__variable'"
     ]
    }
   ],
   "source": [
    "class MyClass():\n",
    "    def __init__(self):    # python에서 init은 생성자 역할을 한다\n",
    "        self.__variable = 10\n",
    "        self.abc = 20\n",
    "    \n",
    "    def func(self):\n",
    "        print('>>>',self.__variable)    # self는 객체 자신\n",
    "        \n",
    "obj = MyClass()\n",
    "obj.func()\n",
    "print(obj.abc)\n",
    "obj.__variable"
   ]
  },
  {
   "cell_type": "code",
   "execution_count": 90,
   "metadata": {},
   "outputs": [],
   "source": [
    "with open('MyClass.py', 'w') as f:\n",
    "    f.write('''\n",
    "class MyClass():\n",
    "    def __init__(self):\n",
    "        self.__superprivate = \"Hello\"\n",
    "        self._semiprivate = \"world!\"    # 싱글 언더스코어\n",
    "''')"
   ]
  },
  {
   "cell_type": "code",
   "execution_count": 91,
   "metadata": {},
   "outputs": [],
   "source": [
    "with open('test.py', 'w') as f:\n",
    "    f.write(\"\"\"\n",
    "from MyClass import *\n",
    "mc = MyClass()\n",
    "print(mc.__superprivate)\n",
    "\"\"\")"
   ]
  },
  {
   "cell_type": "code",
   "execution_count": 92,
   "metadata": {},
   "outputs": [
    {
     "name": "stderr",
     "output_type": "stream",
     "text": [
      "Traceback (most recent call last):\n",
      "  File \"test.py\", line 4, in <module>\n",
      "    print(mc.__superprivate)\n",
      "AttributeError: 'MyClass' object has no attribute '__superprivate'\n"
     ]
    }
   ],
   "source": [
    "!python test.py"
   ]
  },
  {
   "cell_type": "code",
   "execution_count": 94,
   "metadata": {},
   "outputs": [
    {
     "name": "stdout",
     "output_type": "stream",
     "text": [
      "Hello\n"
     ]
    }
   ],
   "source": [
    "# __변수명을 _클래스명__변수명으로 치환\n",
    "from MyClass import *\n",
    "mc = MyClass()\n",
    "print(mc._MyClass__superprivate)"
   ]
  },
  {
   "cell_type": "code",
   "execution_count": 109,
   "metadata": {},
   "outputs": [
    {
     "ename": "UnboundLocalError",
     "evalue": "local variable 'a' referenced before assignment",
     "output_type": "error",
     "traceback": [
      "\u001b[1;31m---------------------------------------------------------------------------\u001b[0m",
      "\u001b[1;31mUnboundLocalError\u001b[0m                         Traceback (most recent call last)",
      "\u001b[1;32m<ipython-input-109-65ec57b8b471>\u001b[0m in \u001b[0;36m<module>\u001b[1;34m\u001b[0m\n\u001b[0;32m      3\u001b[0m \u001b[1;32mdef\u001b[0m \u001b[0mbind_a_variable\u001b[0m\u001b[1;33m(\u001b[0m\u001b[1;33m)\u001b[0m\u001b[1;33m:\u001b[0m\u001b[1;33m\u001b[0m\u001b[1;33m\u001b[0m\u001b[0m\n\u001b[0;32m      4\u001b[0m     \u001b[0ma\u001b[0m \u001b[1;33m=\u001b[0m \u001b[0ma\u001b[0m\u001b[1;33m\u001b[0m\u001b[1;33m\u001b[0m\u001b[0m\n\u001b[1;32m----> 5\u001b[1;33m \u001b[0mbind_a_variable\u001b[0m\u001b[1;33m(\u001b[0m\u001b[1;33m)\u001b[0m\u001b[1;33m\u001b[0m\u001b[1;33m\u001b[0m\u001b[0m\n\u001b[0m\u001b[0;32m      6\u001b[0m \u001b[0ma\u001b[0m\u001b[1;33m\u001b[0m\u001b[1;33m\u001b[0m\u001b[0m\n",
      "\u001b[1;32m<ipython-input-109-65ec57b8b471>\u001b[0m in \u001b[0;36mbind_a_variable\u001b[1;34m()\u001b[0m\n\u001b[0;32m      2\u001b[0m \u001b[0ma\u001b[0m \u001b[1;33m=\u001b[0m \u001b[1;33m[\u001b[0m\u001b[1;36m1\u001b[0m\u001b[1;33m,\u001b[0m\u001b[1;36m2\u001b[0m\u001b[1;33m,\u001b[0m\u001b[1;36m3\u001b[0m\u001b[1;33m]\u001b[0m\u001b[1;33m\u001b[0m\u001b[1;33m\u001b[0m\u001b[0m\n\u001b[0;32m      3\u001b[0m \u001b[1;32mdef\u001b[0m \u001b[0mbind_a_variable\u001b[0m\u001b[1;33m(\u001b[0m\u001b[1;33m)\u001b[0m\u001b[1;33m:\u001b[0m\u001b[1;33m\u001b[0m\u001b[1;33m\u001b[0m\u001b[0m\n\u001b[1;32m----> 4\u001b[1;33m     \u001b[0ma\u001b[0m \u001b[1;33m=\u001b[0m \u001b[0ma\u001b[0m\u001b[1;33m\u001b[0m\u001b[1;33m\u001b[0m\u001b[0m\n\u001b[0m\u001b[0;32m      5\u001b[0m \u001b[0mbind_a_variable\u001b[0m\u001b[1;33m(\u001b[0m\u001b[1;33m)\u001b[0m\u001b[1;33m\u001b[0m\u001b[1;33m\u001b[0m\u001b[0m\n\u001b[0;32m      6\u001b[0m \u001b[0ma\u001b[0m\u001b[1;33m\u001b[0m\u001b[1;33m\u001b[0m\u001b[0m\n",
      "\u001b[1;31mUnboundLocalError\u001b[0m: local variable 'a' referenced before assignment"
     ]
    }
   ],
   "source": [
    "# Q. 아래 코드 실행 결과가 [1,2,3]이 출력되도록 오류를 수정하세요.\n",
    "a = [1,2,3]\n",
    "def bind_a_variable():\n",
    "    a = a\n",
    "bind_a_variable()\n",
    "a"
   ]
  },
  {
   "cell_type": "code",
   "execution_count": 110,
   "metadata": {},
   "outputs": [
    {
     "data": {
      "text/plain": [
       "[1, 2, 3]"
      ]
     },
     "execution_count": 110,
     "metadata": {},
     "output_type": "execute_result"
    }
   ],
   "source": [
    "# 전역변수 사용\n",
    "a = [1,2,3]\n",
    "def bind_a_variable():\n",
    "    global a\n",
    "    a = a\n",
    "bind_a_variable()\n",
    "a"
   ]
  },
  {
   "cell_type": "code",
   "execution_count": 114,
   "metadata": {},
   "outputs": [
    {
     "data": {
      "text/plain": [
       "[1, 2, 3]"
      ]
     },
     "execution_count": 114,
     "metadata": {},
     "output_type": "execute_result"
    }
   ],
   "source": [
    "# return 사용\n",
    "a = [1,2,3]\n",
    "def bind_a_variable(a):\n",
    "    a = a\n",
    "    return a\n",
    "a = bind_a_variable(a)\n",
    "a"
   ]
  },
  {
   "cell_type": "code",
   "execution_count": 137,
   "metadata": {},
   "outputs": [
    {
     "data": {
      "text/plain": [
       "['Alabama',\n",
       " 'Georgia',\n",
       " 'Georgia',\n",
       " 'Florida',\n",
       " 'South   Carolina',\n",
       " 'West Virginia']"
      ]
     },
     "execution_count": 137,
     "metadata": {},
     "output_type": "execute_result"
    }
   ],
   "source": [
    "# Q. 문자열 리스트 states를 정형화하여 아래와 같이 출력하세요.\n",
    "# re.sub() 정규표현식 문자열 치환 value = re.sub('[!#?]', '', value)\n",
    "# title() 함수 첫글자를 대문자로 변환\n",
    "# strip() 함수를 사용하면 주어진 문자열에서 양쪽 끝에 있는 공백과 \\n 기호를 삭제\n",
    "import re\n",
    "\n",
    "states = ['    Alabama ', 'Georgia!', 'Georgia', 'FlOrIda', \n",
    "          'south   carolina##', 'West virginia?']\n",
    "\n",
    "def clean_string(strings):\n",
    "    result = []\n",
    "    for value in strings:\n",
    "        value = re.sub('[!#?]', '', value)\n",
    "        value = value.title()\n",
    "        value = value.strip()\n",
    "        #value = ' '.join(value.split())\n",
    "        result.append(value)\n",
    "    return result\n",
    "\n",
    "#[출력]\n",
    "clean_string(states)"
   ]
  },
  {
   "cell_type": "code",
   "execution_count": 135,
   "metadata": {},
   "outputs": [
    {
     "name": "stdout",
     "output_type": "stream",
     "text": [
      "south carolina\n"
     ]
    }
   ],
   "source": [
    "# 단어 사이에 있는 스페이스바 갯수 조정\n",
    "import re\n",
    "str_content = 'south       carolina'\n",
    "rr = ' '.join(str_content.split())\n",
    "print(rr)"
   ]
  },
  {
   "cell_type": "code",
   "execution_count": 138,
   "metadata": {},
   "outputs": [
    {
     "name": "stdout",
     "output_type": "stream",
     "text": [
      "34 pages\n"
     ]
    }
   ],
   "source": [
    "# Q. 게시물의 총 건수와 한 페이지에 보여 줄 게시물 수를 입력 시\n",
    "# 총 페이지 수를 출력하는 프로그램을 작성하세요.\n",
    "\n",
    "def whole_pages(post_num, show_post):\n",
    "    if post_num%show_post == 0:\n",
    "        return post_num//show_post\n",
    "    elif post_num%show_post != 0:\n",
    "        return post_num//show_post + 1\n",
    "    \n",
    "print('%d pages' %whole_pages(100,3))"
   ]
  },
  {
   "cell_type": "code",
   "execution_count": 140,
   "metadata": {},
   "outputs": [
    {
     "name": "stdout",
     "output_type": "stream",
     "text": [
      "2.0\n"
     ]
    }
   ],
   "source": [
    "# Q. 입력으로 들어오는 모든 수의 평균값을 계산해주는 함수를 작성한 후\n",
    "# 1,2,3을 입력한 결과를 출력하세요.\n",
    "\n",
    "def avgs(*args):\n",
    "    total = 0\n",
    "    count = 0    #len(args)\n",
    "    for i in args:\n",
    "        total += i\n",
    "        count += 1\n",
    "    result = float(total/count)\n",
    "    return result\n",
    "        \n",
    "print(avgs(1,2,3))"
   ]
  },
  {
   "cell_type": "code",
   "execution_count": 143,
   "metadata": {},
   "outputs": [
    {
     "name": "stdout",
     "output_type": "stream",
     "text": [
      "32\n",
      "25\n"
     ]
    }
   ],
   "source": [
    "# Q. 람다 함수를 이용해서 a의 b제곱을 구하는 식을 만들고\n",
    "# 그 식을 이용해서 a,b가 아래와 같이 주어졌을 때 각각의 값을 구하세요.\n",
    "# a = 2, b = 5\n",
    "# a = 5, b = 2\n",
    "\n",
    "involution = lambda a, b: a**b\n",
    "\n",
    "print(involution(2,5))\n",
    "print(involution(5,2))"
   ]
  },
  {
   "cell_type": "code",
   "execution_count": 145,
   "metadata": {},
   "outputs": [
    {
     "name": "stdout",
     "output_type": "stream",
     "text": [
      "(2, 17)\n",
      "2\n",
      "17\n"
     ]
    }
   ],
   "source": [
    "# Q. 97을 40으로 나눈 몫과 나머지를 내장함수를 이용해 구하세요.\n",
    "\n",
    "print(divmod(97,40))"
   ]
  },
  {
   "cell_type": "code",
   "execution_count": 198,
   "metadata": {},
   "outputs": [
    {
     "name": "stdout",
     "output_type": "stream",
     "text": [
      "{'o', 'f'}\n",
      "2\n",
      "['bar', 'card', 'foo', None, None]\n"
     ]
    }
   ],
   "source": [
    "# 과제\n",
    "# Q. strings를 다양한 문자가 포함된 순서로 정렬하세요.\n",
    "strings = ['foo', 'card', 'bar', 'aaaa', 'abab']\n",
    "#            2       4      3       1       2\n",
    "#            4       1      2       5       3\n",
    "s1 = set(strings[0])\n",
    "print (s1)\n",
    "print(len(s1))\n",
    "temp = [strings[0]]\n",
    "\n",
    "for a in strings:\n",
    "    if a == strings[0] : \n",
    "        continue\n",
    "    setTemp = set(a)\n",
    "    if len(setTemp) > len(s1):\n",
    "        temp.insert(0,a)\n",
    "    elif len(setTemp) < len(s1):\n",
    "        temp[len(temp)-1] = temp.append(a)\n",
    "    elif len(setTemp) == len(s1):\n",
    "        if len(strings[0]) > len(a):\n",
    "            temp.insert(0,a)\n",
    "        elif len(strings[0]) < len(a):\n",
    "            temp[len(temp)-1] = temp.append(a)\n",
    "            \n",
    "print(temp)\n",
    "    "
   ]
  },
  {
   "cell_type": "code",
   "execution_count": 146,
   "metadata": {},
   "outputs": [
    {
     "data": {
      "text/plain": [
       "1.2345"
      ]
     },
     "execution_count": 146,
     "metadata": {},
     "output_type": "execute_result"
    }
   ],
   "source": [
    "# 숫자를 넣었을 때 입력한 값을 실수로 변환해주는 함수\n",
    "def attempt_float(x):\n",
    "    try:\n",
    "        return float(x)\n",
    "    except:\n",
    "        return x\n",
    "    \n",
    "attempt_float('1.2345')"
   ]
  },
  {
   "cell_type": "code",
   "execution_count": 149,
   "metadata": {},
   "outputs": [
    {
     "data": {
      "text/plain": [
       "'something'"
      ]
     },
     "execution_count": 149,
     "metadata": {},
     "output_type": "execute_result"
    }
   ],
   "source": [
    "attempt_float('something')"
   ]
  },
  {
   "cell_type": "code",
   "execution_count": 167,
   "metadata": {},
   "outputs": [],
   "source": [
    "# Q. 랜덤하게 1000명의 이름, 키, 몸무게 만들기\n",
    "# 만든 후 파일로 저장 (info.txt)\n",
    "# 이름, 몸무게, 키 format으로 저장\n",
    "import random\n",
    "f = open ('info.txt','w')\n",
    "hanguls = list(\"가나다라마바사아자차카타파하\")\n",
    "for i in range(1000):\n",
    "    name = random.choice(hanguls) + random.choice(hanguls)\n",
    "    wei = random.randrange(40, 120)\n",
    "    hei = random.randrange(145, 190)\n",
    "    f.write('{},{},{}\\n'.format(name, wei, hei))\n",
    "f.close()"
   ]
  },
  {
   "cell_type": "markdown",
   "metadata": {},
   "source": [
    "[과제]\n",
    "Q. 1000명에 대해 아래와 같이 출력하세요\n",
    "이름 : 라바\n",
    "몸무게 : 80\n",
    "키 : 146\n",
    "BMI : 37.53049352598987\n",
    "결과: 과체중\n",
    "\n",
    "[bmi 산출]\n",
    "bmi = int(weight)/((int(height)/100)**2\n",
    "25 < bmi -> 과체중\n",
    "18.5 < bmi -> 정상체중\n",
    "그 이하는 저체중"
   ]
  },
  {
   "cell_type": "code",
   "execution_count": null,
   "metadata": {},
   "outputs": [],
   "source": [
    "f = open ('info.txt','r')\n",
    "while True:\n",
    "    line = f.readline()\n",
    "    if not line:break\n",
    "    print(line)\n",
    "f.close()"
   ]
  },
  {
   "cell_type": "code",
   "execution_count": 170,
   "metadata": {},
   "outputs": [
    {
     "data": {
      "text/html": [
       "<div>\n",
       "<style scoped>\n",
       "    .dataframe tbody tr th:only-of-type {\n",
       "        vertical-align: middle;\n",
       "    }\n",
       "\n",
       "    .dataframe tbody tr th {\n",
       "        vertical-align: top;\n",
       "    }\n",
       "\n",
       "    .dataframe thead th {\n",
       "        text-align: right;\n",
       "    }\n",
       "</style>\n",
       "<table border=\"1\" class=\"dataframe\">\n",
       "  <thead>\n",
       "    <tr style=\"text-align: right;\">\n",
       "      <th></th>\n",
       "      <th>name</th>\n",
       "      <th>weight</th>\n",
       "      <th>height</th>\n",
       "    </tr>\n",
       "  </thead>\n",
       "  <tbody>\n",
       "    <tr>\n",
       "      <th>995</th>\n",
       "      <td>하파</td>\n",
       "      <td>62</td>\n",
       "      <td>176</td>\n",
       "    </tr>\n",
       "    <tr>\n",
       "      <th>996</th>\n",
       "      <td>타하</td>\n",
       "      <td>84</td>\n",
       "      <td>153</td>\n",
       "    </tr>\n",
       "    <tr>\n",
       "      <th>997</th>\n",
       "      <td>라아</td>\n",
       "      <td>51</td>\n",
       "      <td>165</td>\n",
       "    </tr>\n",
       "    <tr>\n",
       "      <th>998</th>\n",
       "      <td>자바</td>\n",
       "      <td>56</td>\n",
       "      <td>160</td>\n",
       "    </tr>\n",
       "    <tr>\n",
       "      <th>999</th>\n",
       "      <td>사파</td>\n",
       "      <td>82</td>\n",
       "      <td>181</td>\n",
       "    </tr>\n",
       "  </tbody>\n",
       "</table>\n",
       "</div>"
      ],
      "text/plain": [
       "    name  weight  height\n",
       "995   하파      62     176\n",
       "996   타하      84     153\n",
       "997   라아      51     165\n",
       "998   자바      56     160\n",
       "999   사파      82     181"
      ]
     },
     "execution_count": 170,
     "metadata": {},
     "output_type": "execute_result"
    }
   ],
   "source": [
    "import pandas as pd\n",
    "data = pd.read_csv('./info.txt',sep=',',encoding='CP949',\n",
    "                   names = ['name', 'weight', 'height'])\n",
    "data.head()\n",
    "data.tail()"
   ]
  },
  {
   "cell_type": "code",
   "execution_count": 171,
   "metadata": {},
   "outputs": [
    {
     "data": {
      "text/html": [
       "<div>\n",
       "<style scoped>\n",
       "    .dataframe tbody tr th:only-of-type {\n",
       "        vertical-align: middle;\n",
       "    }\n",
       "\n",
       "    .dataframe tbody tr th {\n",
       "        vertical-align: top;\n",
       "    }\n",
       "\n",
       "    .dataframe thead th {\n",
       "        text-align: right;\n",
       "    }\n",
       "</style>\n",
       "<table border=\"1\" class=\"dataframe\">\n",
       "  <thead>\n",
       "    <tr style=\"text-align: right;\">\n",
       "      <th></th>\n",
       "      <th>name</th>\n",
       "      <th>weight</th>\n",
       "      <th>height</th>\n",
       "    </tr>\n",
       "  </thead>\n",
       "  <tbody>\n",
       "    <tr>\n",
       "      <th>2</th>\n",
       "      <td>가나</td>\n",
       "      <td>116</td>\n",
       "      <td>161</td>\n",
       "    </tr>\n",
       "    <tr>\n",
       "      <th>3</th>\n",
       "      <td>마마</td>\n",
       "      <td>110</td>\n",
       "      <td>170</td>\n",
       "    </tr>\n",
       "    <tr>\n",
       "      <th>4</th>\n",
       "      <td>차가</td>\n",
       "      <td>102</td>\n",
       "      <td>145</td>\n",
       "    </tr>\n",
       "    <tr>\n",
       "      <th>5</th>\n",
       "      <td>마차</td>\n",
       "      <td>98</td>\n",
       "      <td>160</td>\n",
       "    </tr>\n",
       "    <tr>\n",
       "      <th>7</th>\n",
       "      <td>아카</td>\n",
       "      <td>103</td>\n",
       "      <td>155</td>\n",
       "    </tr>\n",
       "    <tr>\n",
       "      <th>...</th>\n",
       "      <td>...</td>\n",
       "      <td>...</td>\n",
       "      <td>...</td>\n",
       "    </tr>\n",
       "    <tr>\n",
       "      <th>980</th>\n",
       "      <td>아차</td>\n",
       "      <td>103</td>\n",
       "      <td>169</td>\n",
       "    </tr>\n",
       "    <tr>\n",
       "      <th>981</th>\n",
       "      <td>다다</td>\n",
       "      <td>99</td>\n",
       "      <td>172</td>\n",
       "    </tr>\n",
       "    <tr>\n",
       "      <th>986</th>\n",
       "      <td>자나</td>\n",
       "      <td>116</td>\n",
       "      <td>177</td>\n",
       "    </tr>\n",
       "    <tr>\n",
       "      <th>992</th>\n",
       "      <td>파가</td>\n",
       "      <td>103</td>\n",
       "      <td>170</td>\n",
       "    </tr>\n",
       "    <tr>\n",
       "      <th>994</th>\n",
       "      <td>다라</td>\n",
       "      <td>102</td>\n",
       "      <td>149</td>\n",
       "    </tr>\n",
       "  </tbody>\n",
       "</table>\n",
       "<p>344 rows × 3 columns</p>\n",
       "</div>"
      ],
      "text/plain": [
       "    name  weight  height\n",
       "2     가나     116     161\n",
       "3     마마     110     170\n",
       "4     차가     102     145\n",
       "5     마차      98     160\n",
       "7     아카     103     155\n",
       "..   ...     ...     ...\n",
       "980   아차     103     169\n",
       "981   다다      99     172\n",
       "986   자나     116     177\n",
       "992   파가     103     170\n",
       "994   다라     102     149\n",
       "\n",
       "[344 rows x 3 columns]"
      ]
     },
     "execution_count": 171,
     "metadata": {},
     "output_type": "execute_result"
    }
   ],
   "source": [
    "d90 = data[data.weight > 90]\n",
    "d90"
   ]
  }
 ],
 "metadata": {
  "kernelspec": {
   "display_name": "Python 3",
   "language": "python",
   "name": "python3"
  },
  "language_info": {
   "codemirror_mode": {
    "name": "ipython",
    "version": 3
   },
   "file_extension": ".py",
   "mimetype": "text/x-python",
   "name": "python",
   "nbconvert_exporter": "python",
   "pygments_lexer": "ipython3",
   "version": "3.7.9"
  }
 },
 "nbformat": 4,
 "nbformat_minor": 4
}
