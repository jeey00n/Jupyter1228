{
 "cells": [
  {
   "cell_type": "markdown",
   "id": "amended-oregon",
   "metadata": {},
   "source": [
    "[실습 과제]\n",
    "\n",
    "train.csv 파일로 작성한 분석용 데이터셋에 대하여 DecisionTreeClassifier를 이용하여 다음을 수행하세요.\n",
    "\n",
    "- 학습데이터와 검증데이터 분리한 후 정확도 평가\n",
    "- cv=5를 적용한 KFold 교차 검증 수행 후 정확도 평가\n",
    "- cv=5를 적용한 cross_val_score 교차검증 수행 후 정확도 평가\n",
    "- GridSearchCV를 이용해 최적 하이퍼파라미터를 찾고 예측성능 측정하기"
   ]
  },
  {
   "cell_type": "code",
   "execution_count": 3,
   "id": "wireless-bible",
   "metadata": {},
   "outputs": [],
   "source": [
    "#연산\n",
    "import pandas as pd\n",
    "import numpy as np\n",
    "\n",
    "#시각화\n",
    "import seaborn as sns\n",
    "import matplotlib.pyplot as plt\n",
    "import matplotlib\n",
    "\n",
    "from sklearn.metrics import classification_report, confusion_matrix\n",
    "# sklearn.metrics는 scikit-learn 패키지 중 모델 평가에 사용되는 모듈이다.\n",
    "# sklearn.metrics 패키지의 모듈 중 classification_report는 \n",
    "# 주요 분류 측정 항목을 보여주는 보고서 모듈이다.\n",
    "# confusion_matrix는 분류의 정확성을 평가하기 위한 오차행렬 계산 모듈이다.\n",
    "from sklearn.model_selection import train_test_split\n",
    "# sklearn.model_section은 scikit-learn 패키지 중 클래스를 나눌 때, \n",
    "# 그리고 함수를 통해 train/test셋을 나눌 때, \n",
    "# 아울러 모델 검증에 사용되는 서브 패키지 이다.\n",
    "# sklearn.model_selection 패키지의 모듈중 train_test_split은 \n",
    "# 배열 또는 행렬을 임의의 훈련 및 테스트 셋으로 분할하는 모듈이다.\n",
    "from sklearn.tree import DecisionTreeClassifier\n",
    "from sklearn import tree\n",
    "# sklearn.tree는 scikit-learn 패키지 중 \n",
    "# 분류 및 회귀를 위한 의사결정 트리 기반 모델이있는 서브 패키지 이다.\n",
    "# sklearn.tree 패키지의 모듈 중 DecisionTreeClassifier는 \n",
    "# 의사결정 트리 분류 모듈이다.\n",
    "from IPython.display import Image\n",
    "import os"
   ]
  },
  {
   "cell_type": "code",
   "execution_count": 2,
   "id": "union-delicious",
   "metadata": {},
   "outputs": [
    {
     "data": {
      "text/html": [
       "<div>\n",
       "<style scoped>\n",
       "    .dataframe tbody tr th:only-of-type {\n",
       "        vertical-align: middle;\n",
       "    }\n",
       "\n",
       "    .dataframe tbody tr th {\n",
       "        vertical-align: top;\n",
       "    }\n",
       "\n",
       "    .dataframe thead th {\n",
       "        text-align: right;\n",
       "    }\n",
       "</style>\n",
       "<table border=\"1\" class=\"dataframe\">\n",
       "  <thead>\n",
       "    <tr style=\"text-align: right;\">\n",
       "      <th></th>\n",
       "      <th>PassengerId</th>\n",
       "      <th>Survived</th>\n",
       "      <th>Pclass</th>\n",
       "      <th>Name</th>\n",
       "      <th>Sex</th>\n",
       "      <th>Age</th>\n",
       "      <th>SibSp</th>\n",
       "      <th>Parch</th>\n",
       "      <th>Ticket</th>\n",
       "      <th>Fare</th>\n",
       "      <th>Cabin</th>\n",
       "      <th>Embarked</th>\n",
       "    </tr>\n",
       "  </thead>\n",
       "  <tbody>\n",
       "    <tr>\n",
       "      <th>0</th>\n",
       "      <td>1</td>\n",
       "      <td>0</td>\n",
       "      <td>3</td>\n",
       "      <td>Braund, Mr. Owen Harris</td>\n",
       "      <td>male</td>\n",
       "      <td>22.0</td>\n",
       "      <td>1</td>\n",
       "      <td>0</td>\n",
       "      <td>A/5 21171</td>\n",
       "      <td>7.2500</td>\n",
       "      <td>NaN</td>\n",
       "      <td>S</td>\n",
       "    </tr>\n",
       "    <tr>\n",
       "      <th>1</th>\n",
       "      <td>2</td>\n",
       "      <td>1</td>\n",
       "      <td>1</td>\n",
       "      <td>Cumings, Mrs. John Bradley (Florence Briggs Th...</td>\n",
       "      <td>female</td>\n",
       "      <td>38.0</td>\n",
       "      <td>1</td>\n",
       "      <td>0</td>\n",
       "      <td>PC 17599</td>\n",
       "      <td>71.2833</td>\n",
       "      <td>C85</td>\n",
       "      <td>C</td>\n",
       "    </tr>\n",
       "    <tr>\n",
       "      <th>2</th>\n",
       "      <td>3</td>\n",
       "      <td>1</td>\n",
       "      <td>3</td>\n",
       "      <td>Heikkinen, Miss. Laina</td>\n",
       "      <td>female</td>\n",
       "      <td>26.0</td>\n",
       "      <td>0</td>\n",
       "      <td>0</td>\n",
       "      <td>STON/O2. 3101282</td>\n",
       "      <td>7.9250</td>\n",
       "      <td>NaN</td>\n",
       "      <td>S</td>\n",
       "    </tr>\n",
       "    <tr>\n",
       "      <th>3</th>\n",
       "      <td>4</td>\n",
       "      <td>1</td>\n",
       "      <td>1</td>\n",
       "      <td>Futrelle, Mrs. Jacques Heath (Lily May Peel)</td>\n",
       "      <td>female</td>\n",
       "      <td>35.0</td>\n",
       "      <td>1</td>\n",
       "      <td>0</td>\n",
       "      <td>113803</td>\n",
       "      <td>53.1000</td>\n",
       "      <td>C123</td>\n",
       "      <td>S</td>\n",
       "    </tr>\n",
       "    <tr>\n",
       "      <th>4</th>\n",
       "      <td>5</td>\n",
       "      <td>0</td>\n",
       "      <td>3</td>\n",
       "      <td>Allen, Mr. William Henry</td>\n",
       "      <td>male</td>\n",
       "      <td>35.0</td>\n",
       "      <td>0</td>\n",
       "      <td>0</td>\n",
       "      <td>373450</td>\n",
       "      <td>8.0500</td>\n",
       "      <td>NaN</td>\n",
       "      <td>S</td>\n",
       "    </tr>\n",
       "  </tbody>\n",
       "</table>\n",
       "</div>"
      ],
      "text/plain": [
       "   PassengerId  Survived  Pclass  \\\n",
       "0            1         0       3   \n",
       "1            2         1       1   \n",
       "2            3         1       3   \n",
       "3            4         1       1   \n",
       "4            5         0       3   \n",
       "\n",
       "                                                Name     Sex   Age  SibSp  \\\n",
       "0                            Braund, Mr. Owen Harris    male  22.0      1   \n",
       "1  Cumings, Mrs. John Bradley (Florence Briggs Th...  female  38.0      1   \n",
       "2                             Heikkinen, Miss. Laina  female  26.0      0   \n",
       "3       Futrelle, Mrs. Jacques Heath (Lily May Peel)  female  35.0      1   \n",
       "4                           Allen, Mr. William Henry    male  35.0      0   \n",
       "\n",
       "   Parch            Ticket     Fare Cabin Embarked  \n",
       "0      0         A/5 21171   7.2500   NaN        S  \n",
       "1      0          PC 17599  71.2833   C85        C  \n",
       "2      0  STON/O2. 3101282   7.9250   NaN        S  \n",
       "3      0            113803  53.1000  C123        S  \n",
       "4      0            373450   8.0500   NaN        S  "
      ]
     },
     "execution_count": 2,
     "metadata": {},
     "output_type": "execute_result"
    }
   ],
   "source": [
    "tdf = pd.read_csv(\"dataset/train.csv\")\n",
    "tdf.head()"
   ]
  },
  {
   "cell_type": "code",
   "execution_count": 8,
   "id": "greatest-netherlands",
   "metadata": {},
   "outputs": [],
   "source": [
    "tdf.drop(['PassengerId','Ticket','Cabin'], axis = 1, inplace=True)"
   ]
  },
  {
   "cell_type": "code",
   "execution_count": 9,
   "id": "oriental-pittsburgh",
   "metadata": {},
   "outputs": [
    {
     "data": {
      "text/plain": [
       "0      Mr\n",
       "1     Mrs\n",
       "2    Miss\n",
       "3     Mrs\n",
       "4      Mr\n",
       "Name: Name, dtype: object"
      ]
     },
     "execution_count": 9,
     "metadata": {},
     "output_type": "execute_result"
    }
   ],
   "source": [
    "def name_split(name):\n",
    "    name = str(name)\n",
    "    props = name.split(' ')\n",
    "    if 'Mr.' in props:\n",
    "        return 'Mr'\n",
    "    elif 'Mrs.' in props:\n",
    "        return 'Mrs'\n",
    "    elif 'Miss.' in props:\n",
    "        return 'Miss'\n",
    "    elif 'Master.' in props:\n",
    "        return 'Master'\n",
    "    else:\n",
    "        return ' '\n",
    "    \n",
    "tdf.Name = tdf.Name.apply(name_split)\n",
    "tdf.Name.head()"
   ]
  },
  {
   "cell_type": "code",
   "execution_count": 10,
   "id": "future-skill",
   "metadata": {},
   "outputs": [
    {
     "data": {
      "text/plain": [
       "Mr        544\n",
       "Miss      182\n",
       "Mrs       125\n",
       "Master     40\n",
       "Name: Name, dtype: int64"
      ]
     },
     "execution_count": 10,
     "metadata": {},
     "output_type": "execute_result"
    }
   ],
   "source": [
    "tdf.Name = tdf.Name.map(lambda x : x.replace(' ', 'Mr'))\n",
    "tdf.Name.value_counts()"
   ]
  },
  {
   "cell_type": "code",
   "execution_count": 11,
   "id": "settled-snowboard",
   "metadata": {},
   "outputs": [],
   "source": [
    "tdf.Embarked = tdf.Embarked.fillna('S')"
   ]
  },
  {
   "cell_type": "code",
   "execution_count": 13,
   "id": "featured-sussex",
   "metadata": {},
   "outputs": [
    {
     "data": {
      "text/plain": [
       "0    3\n",
       "1    0\n",
       "2    3\n",
       "3    0\n",
       "4    2\n",
       "Name: Fare_cat, dtype: int64"
      ]
     },
     "execution_count": 13,
     "metadata": {},
     "output_type": "execute_result"
    }
   ],
   "source": [
    "def fare_cat(fare):\n",
    "    if fare<8:\n",
    "        return 3\n",
    "    elif fare<15:\n",
    "        return 2\n",
    "    elif fare<31:\n",
    "        return 1\n",
    "    else:\n",
    "        return 0\n",
    "    \n",
    "tdf['Fare_cat'] = tdf.Fare.apply(lambda x:fare_cat(x))\n",
    "tdf.Fare_cat.head()"
   ]
  },
  {
   "cell_type": "code",
   "execution_count": 14,
   "id": "listed-friendly",
   "metadata": {},
   "outputs": [
    {
     "data": {
      "text/plain": [
       "0    Adult\n",
       "1    Adult\n",
       "2    Adult\n",
       "3    Adult\n",
       "4    Adult\n",
       "Name: Age_Cat, dtype: object"
      ]
     },
     "execution_count": 14,
     "metadata": {},
     "output_type": "execute_result"
    }
   ],
   "source": [
    "def age_cat(age):\n",
    "    if age<10:\n",
    "        return 'Child'\n",
    "    elif age<20:\n",
    "        return 'Teen'\n",
    "    elif age<45:\n",
    "        return 'Adult'\n",
    "    elif age<65:\n",
    "        return 'Mid_Age'\n",
    "    else:\n",
    "        return 'Elderly'\n",
    "    \n",
    "tdf['Age_Cat'] = tdf.Age.apply(lambda x : age_cat(x))\n",
    "tdf.Age_Cat.head()"
   ]
  },
  {
   "cell_type": "code",
   "execution_count": 15,
   "id": "supposed-powell",
   "metadata": {},
   "outputs": [
    {
     "data": {
      "text/plain": [
       "<AxesSubplot:xlabel='Age_Cat', ylabel='Survived'>"
      ]
     },
     "execution_count": 15,
     "metadata": {},
     "output_type": "execute_result"
    },
    {
     "data": {
      "image/png": "[encoded data removed]",
      "text/plain": [
       "<Figure size 432x288 with 1 Axes>"
      ]
     },
     "metadata": {
      "needs_background": "light"
     },
     "output_type": "display_data"
    }
   ],
   "source": [
    "sns.barplot(data=tdf,x='Age_Cat',y='Survived')"
   ]
  },
  {
   "cell_type": "code",
   "execution_count": 16,
   "id": "located-multiple",
   "metadata": {},
   "outputs": [],
   "source": [
    "Age_Cat_d = pd.get_dummies(tdf.Age_Cat)\n",
    "Emb_d = pd.get_dummies(tdf.Embarked)\n",
    "Name_d = pd.get_dummies(tdf.Name)\n",
    "Sex_d = pd.get_dummies(tdf.Sex)"
   ]
  },
  {
   "cell_type": "code",
   "execution_count": 19,
   "id": "killing-commissioner",
   "metadata": {},
   "outputs": [],
   "source": [
    "tdf['Family'] = tdf.SibSp + tdf.Parch"
   ]
  },
  {
   "cell_type": "code",
   "execution_count": 20,
   "id": "placed-roller",
   "metadata": {},
   "outputs": [
    {
     "data": {
      "text/html": [
       "<div>\n",
       "<style scoped>\n",
       "    .dataframe tbody tr th:only-of-type {\n",
       "        vertical-align: middle;\n",
       "    }\n",
       "\n",
       "    .dataframe tbody tr th {\n",
       "        vertical-align: top;\n",
       "    }\n",
       "\n",
       "    .dataframe thead th {\n",
       "        text-align: right;\n",
       "    }\n",
       "</style>\n",
       "<table border=\"1\" class=\"dataframe\">\n",
       "  <thead>\n",
       "    <tr style=\"text-align: right;\">\n",
       "      <th></th>\n",
       "      <th>Survived</th>\n",
       "      <th>Fare_cat</th>\n",
       "      <th>Family</th>\n",
       "      <th>Adult</th>\n",
       "      <th>Child</th>\n",
       "      <th>Elderly</th>\n",
       "      <th>Mid_Age</th>\n",
       "      <th>Teen</th>\n",
       "      <th>C</th>\n",
       "      <th>Q</th>\n",
       "      <th>S</th>\n",
       "      <th>Master</th>\n",
       "      <th>Miss</th>\n",
       "      <th>Mr</th>\n",
       "      <th>Mrs</th>\n",
       "      <th>female</th>\n",
       "      <th>male</th>\n",
       "    </tr>\n",
       "  </thead>\n",
       "  <tbody>\n",
       "    <tr>\n",
       "      <th>0</th>\n",
       "      <td>0</td>\n",
       "      <td>3</td>\n",
       "      <td>1</td>\n",
       "      <td>1</td>\n",
       "      <td>0</td>\n",
       "      <td>0</td>\n",
       "      <td>0</td>\n",
       "      <td>0</td>\n",
       "      <td>0</td>\n",
       "      <td>0</td>\n",
       "      <td>1</td>\n",
       "      <td>0</td>\n",
       "      <td>0</td>\n",
       "      <td>1</td>\n",
       "      <td>0</td>\n",
       "      <td>0</td>\n",
       "      <td>1</td>\n",
       "    </tr>\n",
       "    <tr>\n",
       "      <th>1</th>\n",
       "      <td>1</td>\n",
       "      <td>0</td>\n",
       "      <td>1</td>\n",
       "      <td>1</td>\n",
       "      <td>0</td>\n",
       "      <td>0</td>\n",
       "      <td>0</td>\n",
       "      <td>0</td>\n",
       "      <td>1</td>\n",
       "      <td>0</td>\n",
       "      <td>0</td>\n",
       "      <td>0</td>\n",
       "      <td>0</td>\n",
       "      <td>0</td>\n",
       "      <td>1</td>\n",
       "      <td>1</td>\n",
       "      <td>0</td>\n",
       "    </tr>\n",
       "    <tr>\n",
       "      <th>2</th>\n",
       "      <td>1</td>\n",
       "      <td>3</td>\n",
       "      <td>0</td>\n",
       "      <td>1</td>\n",
       "      <td>0</td>\n",
       "      <td>0</td>\n",
       "      <td>0</td>\n",
       "      <td>0</td>\n",
       "      <td>0</td>\n",
       "      <td>0</td>\n",
       "      <td>1</td>\n",
       "      <td>0</td>\n",
       "      <td>1</td>\n",
       "      <td>0</td>\n",
       "      <td>0</td>\n",
       "      <td>1</td>\n",
       "      <td>0</td>\n",
       "    </tr>\n",
       "    <tr>\n",
       "      <th>3</th>\n",
       "      <td>1</td>\n",
       "      <td>0</td>\n",
       "      <td>1</td>\n",
       "      <td>1</td>\n",
       "      <td>0</td>\n",
       "      <td>0</td>\n",
       "      <td>0</td>\n",
       "      <td>0</td>\n",
       "      <td>0</td>\n",
       "      <td>0</td>\n",
       "      <td>1</td>\n",
       "      <td>0</td>\n",
       "      <td>0</td>\n",
       "      <td>0</td>\n",
       "      <td>1</td>\n",
       "      <td>1</td>\n",
       "      <td>0</td>\n",
       "    </tr>\n",
       "    <tr>\n",
       "      <th>4</th>\n",
       "      <td>0</td>\n",
       "      <td>2</td>\n",
       "      <td>0</td>\n",
       "      <td>1</td>\n",
       "      <td>0</td>\n",
       "      <td>0</td>\n",
       "      <td>0</td>\n",
       "      <td>0</td>\n",
       "      <td>0</td>\n",
       "      <td>0</td>\n",
       "      <td>1</td>\n",
       "      <td>0</td>\n",
       "      <td>0</td>\n",
       "      <td>1</td>\n",
       "      <td>0</td>\n",
       "      <td>0</td>\n",
       "      <td>1</td>\n",
       "    </tr>\n",
       "    <tr>\n",
       "      <th>...</th>\n",
       "      <td>...</td>\n",
       "      <td>...</td>\n",
       "      <td>...</td>\n",
       "      <td>...</td>\n",
       "      <td>...</td>\n",
       "      <td>...</td>\n",
       "      <td>...</td>\n",
       "      <td>...</td>\n",
       "      <td>...</td>\n",
       "      <td>...</td>\n",
       "      <td>...</td>\n",
       "      <td>...</td>\n",
       "      <td>...</td>\n",
       "      <td>...</td>\n",
       "      <td>...</td>\n",
       "      <td>...</td>\n",
       "      <td>...</td>\n",
       "    </tr>\n",
       "    <tr>\n",
       "      <th>886</th>\n",
       "      <td>0</td>\n",
       "      <td>2</td>\n",
       "      <td>0</td>\n",
       "      <td>1</td>\n",
       "      <td>0</td>\n",
       "      <td>0</td>\n",
       "      <td>0</td>\n",
       "      <td>0</td>\n",
       "      <td>0</td>\n",
       "      <td>0</td>\n",
       "      <td>1</td>\n",
       "      <td>0</td>\n",
       "      <td>0</td>\n",
       "      <td>1</td>\n",
       "      <td>0</td>\n",
       "      <td>0</td>\n",
       "      <td>1</td>\n",
       "    </tr>\n",
       "    <tr>\n",
       "      <th>887</th>\n",
       "      <td>1</td>\n",
       "      <td>1</td>\n",
       "      <td>0</td>\n",
       "      <td>0</td>\n",
       "      <td>0</td>\n",
       "      <td>0</td>\n",
       "      <td>0</td>\n",
       "      <td>1</td>\n",
       "      <td>0</td>\n",
       "      <td>0</td>\n",
       "      <td>1</td>\n",
       "      <td>0</td>\n",
       "      <td>1</td>\n",
       "      <td>0</td>\n",
       "      <td>0</td>\n",
       "      <td>1</td>\n",
       "      <td>0</td>\n",
       "    </tr>\n",
       "    <tr>\n",
       "      <th>888</th>\n",
       "      <td>0</td>\n",
       "      <td>1</td>\n",
       "      <td>3</td>\n",
       "      <td>0</td>\n",
       "      <td>0</td>\n",
       "      <td>1</td>\n",
       "      <td>0</td>\n",
       "      <td>0</td>\n",
       "      <td>0</td>\n",
       "      <td>0</td>\n",
       "      <td>1</td>\n",
       "      <td>0</td>\n",
       "      <td>1</td>\n",
       "      <td>0</td>\n",
       "      <td>0</td>\n",
       "      <td>1</td>\n",
       "      <td>0</td>\n",
       "    </tr>\n",
       "    <tr>\n",
       "      <th>889</th>\n",
       "      <td>1</td>\n",
       "      <td>1</td>\n",
       "      <td>0</td>\n",
       "      <td>1</td>\n",
       "      <td>0</td>\n",
       "      <td>0</td>\n",
       "      <td>0</td>\n",
       "      <td>0</td>\n",
       "      <td>1</td>\n",
       "      <td>0</td>\n",
       "      <td>0</td>\n",
       "      <td>0</td>\n",
       "      <td>0</td>\n",
       "      <td>1</td>\n",
       "      <td>0</td>\n",
       "      <td>0</td>\n",
       "      <td>1</td>\n",
       "    </tr>\n",
       "    <tr>\n",
       "      <th>890</th>\n",
       "      <td>0</td>\n",
       "      <td>3</td>\n",
       "      <td>0</td>\n",
       "      <td>1</td>\n",
       "      <td>0</td>\n",
       "      <td>0</td>\n",
       "      <td>0</td>\n",
       "      <td>0</td>\n",
       "      <td>0</td>\n",
       "      <td>1</td>\n",
       "      <td>0</td>\n",
       "      <td>0</td>\n",
       "      <td>0</td>\n",
       "      <td>1</td>\n",
       "      <td>0</td>\n",
       "      <td>0</td>\n",
       "      <td>1</td>\n",
       "    </tr>\n",
       "  </tbody>\n",
       "</table>\n",
       "<p>891 rows × 17 columns</p>\n",
       "</div>"
      ],
      "text/plain": [
       "     Survived  Fare_cat  Family  Adult  Child  Elderly  Mid_Age  Teen  C  Q  \\\n",
       "0           0         3       1      1      0        0        0     0  0  0   \n",
       "1           1         0       1      1      0        0        0     0  1  0   \n",
       "2           1         3       0      1      0        0        0     0  0  0   \n",
       "3           1         0       1      1      0        0        0     0  0  0   \n",
       "4           0         2       0      1      0        0        0     0  0  0   \n",
       "..        ...       ...     ...    ...    ...      ...      ...   ... .. ..   \n",
       "886         0         2       0      1      0        0        0     0  0  0   \n",
       "887         1         1       0      0      0        0        0     1  0  0   \n",
       "888         0         1       3      0      0        1        0     0  0  0   \n",
       "889         1         1       0      1      0        0        0     0  1  0   \n",
       "890         0         3       0      1      0        0        0     0  0  1   \n",
       "\n",
       "     S  Master  Miss  Mr  Mrs  female  male  \n",
       "0    1       0     0   1    0       0     1  \n",
       "1    0       0     0   0    1       1     0  \n",
       "2    1       0     1   0    0       1     0  \n",
       "3    1       0     0   0    1       1     0  \n",
       "4    1       0     0   1    0       0     1  \n",
       "..  ..     ...   ...  ..  ...     ...   ...  \n",
       "886  1       0     0   1    0       0     1  \n",
       "887  1       0     1   0    0       1     0  \n",
       "888  1       0     1   0    0       1     0  \n",
       "889  0       0     0   1    0       0     1  \n",
       "890  0       0     0   1    0       0     1  \n",
       "\n",
       "[891 rows x 17 columns]"
      ]
     },
     "execution_count": 20,
     "metadata": {},
     "output_type": "execute_result"
    }
   ],
   "source": [
    "tdf1 = tdf[['Survived','Fare_cat','Family']]\n",
    "tdf1 = pd.concat([tdf1,Age_Cat_d, Emb_d,Name_d,Sex_d],axis=1)\n",
    "tdf1"
   ]
  },
  {
   "cell_type": "code",
   "execution_count": 25,
   "id": "invalid-current",
   "metadata": {},
   "outputs": [],
   "source": [
    "y_tdf = tdf1['Survived']\n",
    "X_tdf = tdf1.drop('Survived',axis=1)\n",
    "X_train, X_test, y_train, y_test = train_test_split(X_tdf,y_tdf,test_size=0.2,random_state=11)"
   ]
  },
  {
   "cell_type": "code",
   "execution_count": 26,
   "id": "civilian-pursuit",
   "metadata": {},
   "outputs": [],
   "source": [
    "dt_clf = DecisionTreeClassifier()"
   ]
  },
  {
   "cell_type": "code",
   "execution_count": 27,
   "id": "sized-archives",
   "metadata": {},
   "outputs": [
    {
     "data": {
      "text/plain": [
       "DecisionTreeClassifier()"
      ]
     },
     "execution_count": 27,
     "metadata": {},
     "output_type": "execute_result"
    }
   ],
   "source": [
    "# 문제점:\n",
    "# 학습용 데이터에서는 정확도가 높지만,\n",
    "# 검증용 데이터에서 정확도가 낮아지면 일반화된 모델이라고 할 수 없다.\n",
    "# 맞을 때까지 도가 지나치게 돌리면 과적화될 수 있음.\n",
    "# 그런 문제를 해결하고자 교차검증 수행\n",
    "dt_clf.fit(X_train, y_train)\n",
    "\n",
    "# 학습용 데이터와 검증 데이터를 하나씩만 나누는 게 아니라,\n",
    "# 전체 데이터를 k개만큼 나눈다.\n",
    "# k1그룹 평가결과 ~ k5평가결과 등 \n",
    "# 5그룹 데이터를 모두 평가한 후 평균을 내서 교차검증할 수 있다."
   ]
  },
  {
   "cell_type": "code",
   "execution_count": 28,
   "id": "surrounded-benjamin",
   "metadata": {},
   "outputs": [],
   "source": [
    "dt_prediction = dt_clf.predict(X_test)"
   ]
  },
  {
   "cell_type": "code",
   "execution_count": 29,
   "id": "agricultural-heather",
   "metadata": {},
   "outputs": [],
   "source": [
    "from sklearn.metrics import accuracy_score"
   ]
  },
  {
   "cell_type": "code",
   "execution_count": 31,
   "id": "minute-material",
   "metadata": {},
   "outputs": [
    {
     "name": "stdout",
     "output_type": "stream",
     "text": [
      "dt 정확도:0.8380\n"
     ]
    }
   ],
   "source": [
    "print('dt 정확도:{0:.4f}'.format(accuracy_score(y_test,dt_prediction)))"
   ]
  },
  {
   "cell_type": "code",
   "execution_count": null,
   "id": "economic-comparison",
   "metadata": {},
   "outputs": [],
   "source": []
  },
  {
   "cell_type": "markdown",
   "id": "noted-springer",
   "metadata": {},
   "source": [
    "[과제] dt_clf 대신 random forest를 이용해서 아래의 과정을 수행해 보기\n",
    "\n",
    "- 학습데이터와 검증데이터 분리한 후 정확도 평가\n",
    "- cv=5를 적용한 KFold 교차 검증 수행 후 정확도 평가\n",
    "- cv=5를 적용한 cross_val_score 교차검증 수행 후 정확도 평가\n",
    "- GridSearchCV를 이용해 최적 하이퍼파라미터를 찾고 예측성능 측정하기"
   ]
  },
  {
   "cell_type": "code",
   "execution_count": null,
   "id": "conscious-joining",
   "metadata": {},
   "outputs": [],
   "source": []
  },
  {
   "cell_type": "code",
   "execution_count": 32,
   "id": "unavailable-thanksgiving",
   "metadata": {},
   "outputs": [
    {
     "name": "stdout",
     "output_type": "stream",
     "text": [
      "교차 검증 0 정확도: 0.7765\n",
      "교차 검증 1 정확도: 0.8146\n",
      "교차 검증 2 정확도: 0.7697\n",
      "교차 검증 3 정확도: 0.7472\n",
      "교차 검증 4 정확도: 0.8146\n",
      "평균 정확도:0.7845\n"
     ]
    }
   ],
   "source": [
    "from sklearn.model_selection import KFold\n",
    "def exec_kfold(clf,folds=5):\n",
    "    # Fold 세트 5개인 KFold 객체 생성\n",
    "    # Fold 수만큼 예측 결과 저장을 위한 리스트 생성\n",
    "    kfold = KFold(n_splits=folds)\n",
    "    scores = []\n",
    "    # KFold 교차검증 수행                       enumerate는 index가 함꼐 나옴\n",
    "    for iter_count, (train_index, test_index) in enumerate(kfold.split(tdf)):\n",
    "        X_train, X_test = X_tdf.values[train_index],X_tdf.values[test_index]\n",
    "        y_train, y_test = y_tdf.values[train_index],y_tdf.values[test_index]\n",
    "        \n",
    "        # Classifier 학습, 예측 정확도 계산\n",
    "        clf.fit(X_train,y_train)\n",
    "        pred = clf.predict(X_test)\n",
    "        accuracy = accuracy_score(y_test,pred)\n",
    "        scores.append(accuracy)\n",
    "        print(\"교차 검증 {0} 정확도: {1:.4f}\".format(iter_count,accuracy))\n",
    "    # 5eo fold에서의 평균 정확도 계산\n",
    "    mean_score = np.mean(scores)\n",
    "    print(\"평균 정확도:{0:.4f}\".format(mean_score))\n",
    "    \n",
    "# exec_kfold 호출\n",
    "exec_kfold(dt_clf, folds=5)"
   ]
  },
  {
   "cell_type": "code",
   "execution_count": 33,
   "id": "motivated-pontiac",
   "metadata": {},
   "outputs": [
    {
     "name": "stdout",
     "output_type": "stream",
     "text": [
      "GCV 최적 하이퍼 파라미터: {'max_depth': 2, 'min_samples_leaf': 1, 'min_samples_split': 2}\n",
      "GCV 최고 정확도:0.8174\n",
      "GCV에 의한 DT 정확도:0.8659\n"
     ]
    }
   ],
   "source": [
    "from sklearn.model_selection import GridSearchCV\n",
    "# max_depth : 의사결정나무를 얼마나 수행할 것인지 최대치를 정해 줌\n",
    "# min_sample_split : 분기될 때 최소한의 샘플 수\n",
    "# min_samples_leaf : 이 leaf는 의사결정나무의 잎사귀를 말하는 것이다.\n",
    "parameters = {'max_depth':[2,3,5,10],\n",
    "             'min_samples_split':[2,3,5],'min_samples_leaf':[1,5,8]}\n",
    "# cv는 교차검증 k의 갯수 - cross validation의 약자.\n",
    "# dt_clf 자리에 random forest나 로지스틱regression 등을 넣어서 검증을 할 수 있다.\n",
    "\n",
    "# dt_clf = DecisionTreeClassifier()\n",
    "\n",
    "# [과제] - random forest를 이용해서 이를 구해 보기\n",
    "\n",
    "grid_dclf = GridSearchCV(dt_clf, param_grid=parameters, scoring='accuracy',cv=5)\n",
    "# 이것을 가지고 학습한다.\n",
    "grid_dclf.fit(X_train,y_train)\n",
    "print('GCV 최적 하이퍼 파라미터:',grid_dclf.best_params_)\n",
    "print('GCV 최고 정확도:{0:.4f}'.format(grid_dclf.best_score_))\n",
    "# best_estimator:best params가 적용된  estimator이다.\n",
    "best_dclf = grid_dclf.best_estimator_\n",
    "\n",
    "# GridSearchCV의 최적 하이퍼 파라미터로 학습된 Estimator로 예측 및 평가 수행\n",
    "# GridSearchCV는 일반화를 하기 위한 최적의 parameter 값을 알려주고\n",
    "# 이를 종합해서 grid search cv 객체를 만들어 준다.\n",
    "# 이 객체로 학습을 시키고, 만든 best_dclf로 예측을 해서\n",
    "# 검증용으로 남겨 둔 실제 데이터와 비교해서 정확도를 구한다.\n",
    "\n",
    "dpred = best_dclf.predict(X_test)\n",
    "accuracy = accuracy_score(y_test, dpred)\n",
    "print('GCV에 의한 DT 정확도:{0:.4f}'.format(accuracy))"
   ]
  }
 ],
 "metadata": {
  "kernelspec": {
   "display_name": "Python 3",
   "language": "python",
   "name": "python3"
  },
  "language_info": {
   "codemirror_mode": {
    "name": "ipython",
    "version": 3
   },
   "file_extension": ".py",
   "mimetype": "text/x-python",
   "name": "python",
   "nbconvert_exporter": "python",
   "pygments_lexer": "ipython3",
   "version": "3.7.9"
  }
 },
 "nbformat": 4,
 "nbformat_minor": 5
}
