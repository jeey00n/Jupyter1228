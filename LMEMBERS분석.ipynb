{
 "cells": [
  {
   "cell_type": "markdown",
   "metadata": {},
   "source": [
    "# LMEMBERS 분석\n",
    "\n",
    "\n",
    "### 종속변수  \n",
    "\n",
    "- test 종속변수 셋팅: 14년도 (1,2,3,4분기),15년도(1,2,3,4)분기 총 구매금액의 감소 및 증가  (감소0,증가1)\n",
    "- test 종속변수 범위: 14년도 (1,2,3,4분기),15년도(1,2,3,4)분기 별 1건 이상 구매내역이 있는 고객\n",
    "- 향후 범주 추가로는 식품군 세분화 해서 구매금액과 구매품목별 포인트로 지수화 해서 0.1~1.0 이런식으로 0,1 이 아닌 피파WAGE식으로하는 방법 논의 예정\n",
    "\n",
    "### 독립변수\n",
    "\n",
    "- test 독립변수 설정 시퀸스: \n",
    "1. 기본적인 공통 칼럼(제휴사,구매금액,구매내역,지역,채널,구매시간)등등 전처리 후 데이터프레임 제작 (큰 범위로 일단 시각화해서 확인 후 세분화작업)\n",
    "2. 데이터프레임 정확도 체크후 rmse , importance 확인후 제거 칼럼확인\n",
    "3. 조원들끼리 상의후 선택된 변수 범주화 그룹, 비선택된 변수들 범주화로 상관관계를 높이거나 파생변수 생성 그룹으로 나눠서 진행.\n",
    "4. 정확도 체크 및 통계적으로 유의미한 의미를 가진 변수 탐색\n",
    "5. 선택된 변수들로 통합 데이터프레임 생성.\n",
    "6. 정확도를 높이기 위한 하이퍼파라미터 튜닝과 스케일링 및 추가 전처리 작업 실행\n",
    "7. 최종 선택된 데이터 프레임 3가지 머신러닝 알고리즘으로 분석(DecisionTree,Randomforest,LightGBM)\n"
   ]
  },
  {
   "cell_type": "markdown",
   "metadata": {},
   "source": [
    "## 1. csv파일 데이터 프레임화"
   ]
  },
  {
   "cell_type": "code",
   "execution_count": 16,
   "metadata": {},
   "outputs": [],
   "source": [
    "import pandas as pd\n",
    "import matplotlib.pyplot as plt"
   ]
  },
  {
   "cell_type": "code",
   "execution_count": 17,
   "metadata": {},
   "outputs": [
    {
     "data": {
      "text/html": [
       "<div>\n",
       "<style scoped>\n",
       "    .dataframe tbody tr th:only-of-type {\n",
       "        vertical-align: middle;\n",
       "    }\n",
       "\n",
       "    .dataframe tbody tr th {\n",
       "        vertical-align: top;\n",
       "    }\n",
       "\n",
       "    .dataframe thead th {\n",
       "        text-align: right;\n",
       "    }\n",
       "</style>\n",
       "<table border=\"1\" class=\"dataframe\">\n",
       "  <thead>\n",
       "    <tr style=\"text-align: right;\">\n",
       "      <th></th>\n",
       "      <th>CUST_NO</th>\n",
       "      <th>SHOP</th>\n",
       "      <th>NEW_CAT</th>\n",
       "      <th>SUM_14</th>\n",
       "      <th>CNT_14</th>\n",
       "      <th>SUM_15</th>\n",
       "      <th>CNT_15</th>\n",
       "      <th>SUM_RESULT</th>\n",
       "    </tr>\n",
       "  </thead>\n",
       "  <tbody>\n",
       "    <tr>\n",
       "      <th>0</th>\n",
       "      <td>1</td>\n",
       "      <td>A</td>\n",
       "      <td>가공식품</td>\n",
       "      <td>4818010</td>\n",
       "      <td>150</td>\n",
       "      <td>1859129.48</td>\n",
       "      <td>111</td>\n",
       "      <td>1</td>\n",
       "    </tr>\n",
       "    <tr>\n",
       "      <th>1</th>\n",
       "      <td>1</td>\n",
       "      <td>A</td>\n",
       "      <td>농산물</td>\n",
       "      <td>1333860</td>\n",
       "      <td>95</td>\n",
       "      <td>778751.48</td>\n",
       "      <td>66</td>\n",
       "      <td>1</td>\n",
       "    </tr>\n",
       "    <tr>\n",
       "      <th>2</th>\n",
       "      <td>1</td>\n",
       "      <td>A</td>\n",
       "      <td>수산물</td>\n",
       "      <td>479900</td>\n",
       "      <td>20</td>\n",
       "      <td>327472.60</td>\n",
       "      <td>15</td>\n",
       "      <td>1</td>\n",
       "    </tr>\n",
       "    <tr>\n",
       "      <th>3</th>\n",
       "      <td>1</td>\n",
       "      <td>A</td>\n",
       "      <td>육류</td>\n",
       "      <td>123420</td>\n",
       "      <td>10</td>\n",
       "      <td>66037.92</td>\n",
       "      <td>5</td>\n",
       "      <td>1</td>\n",
       "    </tr>\n",
       "    <tr>\n",
       "      <th>4</th>\n",
       "      <td>1</td>\n",
       "      <td>A</td>\n",
       "      <td>음료</td>\n",
       "      <td>229000</td>\n",
       "      <td>13</td>\n",
       "      <td>111940.40</td>\n",
       "      <td>12</td>\n",
       "      <td>1</td>\n",
       "    </tr>\n",
       "    <tr>\n",
       "      <th>...</th>\n",
       "      <td>...</td>\n",
       "      <td>...</td>\n",
       "      <td>...</td>\n",
       "      <td>...</td>\n",
       "      <td>...</td>\n",
       "      <td>...</td>\n",
       "      <td>...</td>\n",
       "      <td>...</td>\n",
       "    </tr>\n",
       "    <tr>\n",
       "      <th>95</th>\n",
       "      <td>10</td>\n",
       "      <td>B</td>\n",
       "      <td>음료</td>\n",
       "      <td>9380</td>\n",
       "      <td>3</td>\n",
       "      <td>71807.84</td>\n",
       "      <td>14</td>\n",
       "      <td>0</td>\n",
       "    </tr>\n",
       "    <tr>\n",
       "      <th>96</th>\n",
       "      <td>10</td>\n",
       "      <td>C</td>\n",
       "      <td>가공식품</td>\n",
       "      <td>1714490</td>\n",
       "      <td>416</td>\n",
       "      <td>1464630.96</td>\n",
       "      <td>347</td>\n",
       "      <td>1</td>\n",
       "    </tr>\n",
       "    <tr>\n",
       "      <th>97</th>\n",
       "      <td>10</td>\n",
       "      <td>C</td>\n",
       "      <td>농산물</td>\n",
       "      <td>1826374</td>\n",
       "      <td>493</td>\n",
       "      <td>1539322.77</td>\n",
       "      <td>465</td>\n",
       "      <td>1</td>\n",
       "    </tr>\n",
       "    <tr>\n",
       "      <th>98</th>\n",
       "      <td>10</td>\n",
       "      <td>C</td>\n",
       "      <td>수산물</td>\n",
       "      <td>885034</td>\n",
       "      <td>116</td>\n",
       "      <td>440938.47</td>\n",
       "      <td>58</td>\n",
       "      <td>1</td>\n",
       "    </tr>\n",
       "    <tr>\n",
       "      <th>99</th>\n",
       "      <td>10</td>\n",
       "      <td>C</td>\n",
       "      <td>육류</td>\n",
       "      <td>618350</td>\n",
       "      <td>75</td>\n",
       "      <td>710716.81</td>\n",
       "      <td>81</td>\n",
       "      <td>0</td>\n",
       "    </tr>\n",
       "  </tbody>\n",
       "</table>\n",
       "<p>100 rows × 8 columns</p>\n",
       "</div>"
      ],
      "text/plain": [
       "    CUST_NO SHOP NEW_CAT   SUM_14  CNT_14      SUM_15  CNT_15  SUM_RESULT\n",
       "0         1    A    가공식품  4818010     150  1859129.48     111           1\n",
       "1         1    A     농산물  1333860      95   778751.48      66           1\n",
       "2         1    A     수산물   479900      20   327472.60      15           1\n",
       "3         1    A      육류   123420      10    66037.92       5           1\n",
       "4         1    A      음료   229000      13   111940.40      12           1\n",
       "..      ...  ...     ...      ...     ...         ...     ...         ...\n",
       "95       10    B      음료     9380       3    71807.84      14           0\n",
       "96       10    C    가공식품  1714490     416  1464630.96     347           1\n",
       "97       10    C     농산물  1826374     493  1539322.77     465           1\n",
       "98       10    C     수산물   885034     116   440938.47      58           1\n",
       "99       10    C      육류   618350      75   710716.81      81           0\n",
       "\n",
       "[100 rows x 8 columns]"
      ]
     },
     "execution_count": 17,
     "metadata": {},
     "output_type": "execute_result"
    }
   ],
   "source": [
    "\n",
    "df = pd.read_csv('dataset/식품분류별_년간구매금액비교.csv',encoding='cp949')\n",
    "\n",
    "df.head(100)"
   ]
  },
  {
   "cell_type": "code",
   "execution_count": null,
   "metadata": {},
   "outputs": [],
   "source": [
    "import matplotlib\n",
    "matplotlib.font_manager._rebuild()"
   ]
  },
  {
   "cell_type": "code",
   "execution_count": 1,
   "metadata": {},
   "outputs": [],
   "source": [
    "# 품목별 매출비중"
   ]
  },
  {
   "cell_type": "code",
   "execution_count": null,
   "metadata": {},
   "outputs": [],
   "source": [
    "# 구매 상품군별 매출비중"
   ]
  },
  {
   "cell_type": "code",
   "execution_count": null,
   "metadata": {},
   "outputs": [],
   "source": [
    "# 구매 제휴사별 판매된 상품군 비중"
   ]
  },
  {
   "cell_type": "code",
   "execution_count": null,
   "metadata": {},
   "outputs": [],
   "source": [
    "# 제휴사별 구매금액 및 건수"
   ]
  },
  {
   "cell_type": "code",
   "execution_count": null,
   "metadata": {},
   "outputs": [],
   "source": [
    "# 제휴사별 건수 별 평균 객단가"
   ]
  },
  {
   "cell_type": "code",
   "execution_count": null,
   "metadata": {},
   "outputs": [],
   "source": [
    "# 히트맵"
   ]
  },
  {
   "cell_type": "code",
   "execution_count": null,
   "metadata": {},
   "outputs": [],
   "source": [
    "# 파생변수 생성 및 추가"
   ]
  },
  {
   "cell_type": "code",
   "execution_count": null,
   "metadata": {},
   "outputs": [],
   "source": [
    "# 1차 데이터 프레임 고정"
   ]
  },
  {
   "cell_type": "code",
   "execution_count": null,
   "metadata": {},
   "outputs": [],
   "source": [
    "# importance 확인"
   ]
  },
  {
   "cell_type": "code",
   "execution_count": null,
   "metadata": {},
   "outputs": [],
   "source": [
    "# 추가 변수 생성 및 확인"
   ]
  },
  {
   "cell_type": "code",
   "execution_count": null,
   "metadata": {},
   "outputs": [],
   "source": [
    "# 예측 모델 3가지"
   ]
  },
  {
   "cell_type": "code",
   "execution_count": null,
   "metadata": {},
   "outputs": [],
   "source": [
    "# 스케일링 및 변수 범주화"
   ]
  },
  {
   "cell_type": "code",
   "execution_count": null,
   "metadata": {},
   "outputs": [],
   "source": [
    "# 2차 데이터 프레임 고정"
   ]
  },
  {
   "cell_type": "code",
   "execution_count": null,
   "metadata": {},
   "outputs": [],
   "source": [
    "# importance 확인"
   ]
  },
  {
   "cell_type": "code",
   "execution_count": null,
   "metadata": {},
   "outputs": [],
   "source": [
    "# 파생변수 추가"
   ]
  },
  {
   "cell_type": "code",
   "execution_count": null,
   "metadata": {},
   "outputs": [],
   "source": [
    "# 최종 데이터 프레임 확정"
   ]
  },
  {
   "cell_type": "code",
   "execution_count": null,
   "metadata": {},
   "outputs": [],
   "source": [
    "# 추가 마케팅 방법 논의"
   ]
  }
 ],
 "metadata": {
  "kernelspec": {
   "display_name": "Python 3",
   "language": "python",
   "name": "python3"
  },
  "language_info": {
   "codemirror_mode": {
    "name": "ipython",
    "version": 3
   },
   "file_extension": ".py",
   "mimetype": "text/x-python",
   "name": "python",
   "nbconvert_exporter": "python",
   "pygments_lexer": "ipython3",
   "version": "3.7.9"
  }
 },
 "nbformat": 4,
 "nbformat_minor": 4
}
