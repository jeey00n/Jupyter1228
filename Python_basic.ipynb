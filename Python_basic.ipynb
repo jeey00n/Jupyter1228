{
 "cells": [
  {
   "cell_type": "code",
   "execution_count": 1,
   "metadata": {},
   "outputs": [
    {
     "name": "stdout",
     "output_type": "stream",
     "text": [
      "Python 3.7.9\n"
     ]
    }
   ],
   "source": [
    "!python -V"
   ]
  },
  {
   "cell_type": "code",
   "execution_count": 3,
   "metadata": {},
   "outputs": [
    {
     "name": "stdout",
     "output_type": "stream",
     "text": [
      "['False', 'None', 'True', 'and', 'as', 'assert', 'async', 'await', 'break', 'class', 'continue', 'def', 'del', 'elif', 'else', 'except', 'finally', 'for', 'from', 'global', 'if', 'import', 'in', 'is', 'lambda', 'nonlocal', 'not', 'or', 'pass', 'raise', 'return', 'try', 'while', 'with', 'yield']\n"
     ]
    }
   ],
   "source": [
    "import keyword\n",
    "print(keyword.kwlist)"
   ]
  },
  {
   "cell_type": "code",
   "execution_count": 6,
   "metadata": {},
   "outputs": [
    {
     "data": {
      "text/plain": [
       "'Hello Python'"
      ]
     },
     "execution_count": 6,
     "metadata": {},
     "output_type": "execute_result"
    }
   ],
   "source": [
    "a = \"Hello\"\n",
    "b = \"Python\"\n",
    "print(a + \" \" + b)\n",
    "a + \" \" + b"
   ]
  },
  {
   "cell_type": "code",
   "execution_count": 8,
   "metadata": {},
   "outputs": [
    {
     "name": "stdout",
     "output_type": "stream",
     "text": [
      "3이 있습니다.\n"
     ]
    }
   ],
   "source": [
    "# 사람이 생각하는 방식을 그대로 표현할 수 있는 언어\n",
    "if 3 in [1,2,3,4]: print(\"3이 있습니다.\")"
   ]
  },
  {
   "cell_type": "code",
   "execution_count": 9,
   "metadata": {},
   "outputs": [
    {
     "name": "stdout",
     "output_type": "stream",
     "text": [
      "123\n",
      "-123\n",
      "0\n",
      "1.23\n",
      "127\n",
      "2748\n"
     ]
    }
   ],
   "source": [
    "# 숫자(정수, 실수, 8진수, 16진수)\n",
    "a = 123\n",
    "b = -123\n",
    "c = 0\n",
    "d = 1.23\n",
    "e = 0o177\n",
    "f = 0xABC\n",
    "print(a)\n",
    "print(b)\n",
    "print(c)\n",
    "print(d)\n",
    "print(e)\n",
    "print(f)"
   ]
  },
  {
   "cell_type": "code",
   "execution_count": 87,
   "metadata": {},
   "outputs": [
    {
     "name": "stdout",
     "output_type": "stream",
     "text": [
      "12.3\n",
      "23.0\n",
      "4.347826086956522\n",
      "4.0\n",
      "0.8000000000000007\n",
      "4\n",
      "2\n",
      "100000\n"
     ]
    }
   ],
   "source": [
    "# 사칙연산\n",
    "a = 10\n",
    "b = 2.3\n",
    "c = a + b\n",
    "d = a * b\n",
    "e = a/b\n",
    "f = a//b\n",
    "g = a % b\n",
    "h = 2**2\n",
    "print(c)\n",
    "print(d)\n",
    "print(e)\n",
    "print(f)\n",
    "print(g)\n",
    "print(h)\n",
    "print(10//5)\n",
    "print(10**5)"
   ]
  },
  {
   "cell_type": "code",
   "execution_count": 15,
   "metadata": {},
   "outputs": [
    {
     "data": {
      "text/plain": [
       "'문자열273'"
      ]
     },
     "execution_count": 15,
     "metadata": {},
     "output_type": "execute_result"
    }
   ],
   "source": [
    "String = '문자열'\n",
    "Number = '273'\n",
    "String + Number"
   ]
  },
  {
   "cell_type": "code",
   "execution_count": 16,
   "metadata": {},
   "outputs": [
    {
     "data": {
      "text/plain": [
       "150"
      ]
     },
     "execution_count": 16,
     "metadata": {},
     "output_type": "execute_result"
    }
   ],
   "source": [
    "# 복합대입연산자\n",
    "number = 100\n",
    "number += 20\n",
    "number += 30\n",
    "number"
   ]
  },
  {
   "cell_type": "code",
   "execution_count": null,
   "metadata": {},
   "outputs": [],
   "source": [
    "# -=, *=, /=\n",
    "# Q. number = 100일 때, 20을 빼고 30을 더하는 연산을 복합연산자를 사용해서 구하세요"
   ]
  },
  {
   "cell_type": "code",
   "execution_count": 17,
   "metadata": {},
   "outputs": [
    {
     "data": {
      "text/plain": [
       "110"
      ]
     },
     "execution_count": 17,
     "metadata": {},
     "output_type": "execute_result"
    }
   ],
   "source": [
    "number = 100\n",
    "number -= 20\n",
    "number += 30\n",
    "number"
   ]
  },
  {
   "cell_type": "code",
   "execution_count": 18,
   "metadata": {},
   "outputs": [
    {
     "name": "stdout",
     "output_type": "stream",
     "text": [
      "인사말을 입력하세요>안녕하세요\n"
     ]
    },
    {
     "data": {
      "text/plain": [
       "'안녕하세요'"
      ]
     },
     "execution_count": 18,
     "metadata": {},
     "output_type": "execute_result"
    }
   ],
   "source": [
    "# 사용자 입력 : input()\n",
    "input('인사말을 입력하세요>')\n"
   ]
  },
  {
   "cell_type": "code",
   "execution_count": 21,
   "metadata": {},
   "outputs": [
    {
     "name": "stdout",
     "output_type": "stream",
     "text": [
      "숫자를 입력하세요>5\n",
      "5\n",
      "<class 'str'>\n"
     ]
    }
   ],
   "source": [
    "# input함수는 무엇을 입력해도 결과는 무조건 문자형\n",
    "number = input('숫자를 입력하세요>')\n",
    "print(number)\n",
    "print(type(number))"
   ]
  },
  {
   "cell_type": "code",
   "execution_count": 22,
   "metadata": {},
   "outputs": [
    {
     "name": "stdout",
     "output_type": "stream",
     "text": [
      "입력A> 3\n",
      "입력B> 3\n",
      "33\n"
     ]
    }
   ],
   "source": [
    "String_a = input('입력A> ')\n",
    "String_b = input('입력B> ')\n",
    "print(String_a + String_b)"
   ]
  },
  {
   "cell_type": "code",
   "execution_count": 28,
   "metadata": {},
   "outputs": [
    {
     "name": "stdout",
     "output_type": "stream",
     "text": [
      "입력A> 3\n",
      "입력B> 3\n",
      "6\n"
     ]
    }
   ],
   "source": [
    "#Q. 문자열을 숫자 자료형으로 변환해서 숫자 연산을 수행하여 6을 출력하세요.\n",
    "\n",
    "String_a = input('입력A> ')\n",
    "String_b = input('입력B> ')\n",
    "String_a = int(String_a)\n",
    "String_b = int(String_b)\n",
    "print(String_a + String_b)"
   ]
  },
  {
   "cell_type": "code",
   "execution_count": 29,
   "metadata": {},
   "outputs": [
    {
     "name": "stdout",
     "output_type": "stream",
     "text": [
      "입력A> 3\n",
      "입력B> 3.3\n",
      "6.3\n"
     ]
    }
   ],
   "source": [
    "#Q. 3과 3.3을 입력하고 숫자 연산을 수행하여 6.3을 출력하세요.\n",
    "\n",
    "String_a = input('입력A> ')\n",
    "String_b = input('입력B> ')\n",
    "String_a = int(String_a)\n",
    "String_b = float(String_b)\n",
    "print(String_a + String_b)"
   ]
  },
  {
   "cell_type": "code",
   "execution_count": 31,
   "metadata": {},
   "outputs": [
    {
     "name": "stdout",
     "output_type": "stream",
     "text": [
      "5252.273\n"
     ]
    }
   ],
   "source": [
    "a = 52\n",
    "b = 52.273\n",
    "a = str(a)\n",
    "b = str(b)\n",
    "print(a+b)"
   ]
  },
  {
   "cell_type": "code",
   "execution_count": 32,
   "metadata": {},
   "outputs": [
    {
     "name": "stdout",
     "output_type": "stream",
     "text": [
      "python's value is great\n"
     ]
    }
   ],
   "source": [
    "# 문자열: \"\", '', ''' '''\n",
    "p1 = \"python's value is great\"\n",
    "#p2 = 'python's value is great'\n",
    "print(p1)\n",
    "#print(p2)"
   ]
  },
  {
   "cell_type": "code",
   "execution_count": 34,
   "metadata": {},
   "outputs": [
    {
     "name": "stdout",
     "output_type": "stream",
     "text": [
      "\"python is valuable\" he says.\n"
     ]
    }
   ],
   "source": [
    "s1 = '\"python is valuable\" he says.'\n",
    "#s2 = \"\"python is valuable\" he says.\"\n",
    "print(s1)\n",
    "#print(s2)"
   ]
  },
  {
   "cell_type": "code",
   "execution_count": 35,
   "metadata": {},
   "outputs": [
    {
     "name": "stdout",
     "output_type": "stream",
     "text": [
      "python's value is great\n"
     ]
    }
   ],
   "source": [
    "p1 = 'python\\'s value is great'\n",
    "print(p1)"
   ]
  },
  {
   "cell_type": "code",
   "execution_count": 36,
   "metadata": {},
   "outputs": [
    {
     "name": "stdout",
     "output_type": "stream",
     "text": [
      "Once you study data analysis\n",
      "You need Python\n",
      "\n",
      "Once you study data analysis\n",
      "You need Python\n",
      "\n"
     ]
    }
   ],
   "source": [
    "y1 = \"Once you study data analysis\\nYou need Python\"\n",
    "y2 = '''\n",
    "Once you study data analysis\n",
    "You need Python\n",
    "'''\n",
    "print(y1)\n",
    "print(y2)\n"
   ]
  },
  {
   "cell_type": "code",
   "execution_count": 37,
   "metadata": {},
   "outputs": [
    {
     "name": "stdout",
     "output_type": "stream",
     "text": [
      "Python is easy to learn\n",
      "PythonPythonPython\n",
      "==============================\n"
     ]
    }
   ],
   "source": [
    "# 문자열 연산\n",
    "a1 = 'Python'\n",
    "a2 = ' is easy to learn'\n",
    "print(a1 + a2)\n",
    "print(a1 * 3)\n",
    "print('=' * 30)"
   ]
  },
  {
   "cell_type": "code",
   "execution_count": 39,
   "metadata": {},
   "outputs": [
    {
     "name": "stdout",
     "output_type": "stream",
     "text": [
      "a가 Id에 있습니다.\n"
     ]
    }
   ],
   "source": [
    "# 들여쓰기\n",
    "Id = ['a', 'b', 'c']\n",
    "if 'a' in Id:\n",
    "    print('a가 Id에 있습니다.')\n",
    "else:\n",
    "    print('a가 Id에 없습니다.')"
   ]
  },
  {
   "cell_type": "code",
   "execution_count": 41,
   "metadata": {},
   "outputs": [
    {
     "name": "stdout",
     "output_type": "stream",
     "text": [
      "012\n"
     ]
    }
   ],
   "source": [
    "# 포멧함수\n",
    "f1 = '{}{}{}'.format(0,1,2)\n",
    "print(f1)"
   ]
  },
  {
   "cell_type": "code",
   "execution_count": 42,
   "metadata": {},
   "outputs": [
    {
     "name": "stdout",
     "output_type": "stream",
     "text": [
      "파이썬은 자바보다 3배 쉽습니다.\n"
     ]
    }
   ],
   "source": [
    "f2 = '파이썬은 자바보다 {0}배 쉽습니다.'.format(3)\n",
    "print(f2)"
   ]
  },
  {
   "cell_type": "code",
   "execution_count": 44,
   "metadata": {},
   "outputs": [
    {
     "name": "stdout",
     "output_type": "stream",
     "text": [
      "12345\n",
      "     12345\n"
     ]
    }
   ],
   "source": [
    "fd = 12345\n",
    "f3 = '{:d}'.format(fd)\n",
    "f4 = '{:10d}'.format(fd)\n",
    "print(f3)\n",
    "print(f4)"
   ]
  },
  {
   "cell_type": "code",
   "execution_count": 45,
   "metadata": {},
   "outputs": [
    {
     "name": "stdout",
     "output_type": "stream",
     "text": [
      "12.345679\n",
      "      12.345679\n",
      "12.35\n"
     ]
    }
   ],
   "source": [
    "ff = 12.3456789\n",
    "f5 = '{:f}'.format(ff)\n",
    "f6 = '{:15f}'.format(ff)\n",
    "f7 = '{:.2f}'.format(ff)\n",
    "print(f5)\n",
    "print(f6)\n",
    "print(f7)"
   ]
  },
  {
   "cell_type": "code",
   "execution_count": 46,
   "metadata": {},
   "outputs": [
    {
     "name": "stdout",
     "output_type": "stream",
     "text": [
      "홍길동 선수가 1등입니다!!!\n"
     ]
    }
   ],
   "source": [
    "f9 = '{} 선수가 {}등입니다!!!'.format('홍길동', 1)\n",
    "print(f9)"
   ]
  },
  {
   "cell_type": "code",
   "execution_count": 47,
   "metadata": {},
   "outputs": [
    {
     "name": "stdout",
     "output_type": "stream",
     "text": [
      "홍길동 선수가 1등입니다!!!\n"
     ]
    }
   ],
   "source": [
    "print('%s 선수가 %d등입니다!!!' %('홍길동', 1))"
   ]
  },
  {
   "cell_type": "code",
   "execution_count": 48,
   "metadata": {},
   "outputs": [
    {
     "data": {
      "text/plain": [
       "[1, 2, 3, 4]"
      ]
     },
     "execution_count": 48,
     "metadata": {},
     "output_type": "execute_result"
    }
   ],
   "source": [
    "# 변수와 인자 전달\n",
    "# 파이썬에서는 a와 b가 같은 객체인 [1, 2, 3]을 가리킨다\n",
    "a= [1, 2, 3]\n",
    "b = a\n",
    "a.append(4)\n",
    "b"
   ]
  },
  {
   "cell_type": "code",
   "execution_count": 49,
   "metadata": {},
   "outputs": [
    {
     "data": {
      "text/plain": [
       "[1, 2, 3, 4]"
      ]
     },
     "execution_count": 49,
     "metadata": {},
     "output_type": "execute_result"
    }
   ],
   "source": [
    "# 파이썬에서는 모든 것이 객체가 가능하다.\n",
    "# 사용자 함수 직접 만들기\n",
    "# 함수에 객체를 인자로 넘기면 새로운 지역변수가 생성되고, 원래 객체를 복사하지 않고 참조만 한다.\n",
    "def append_element(some_list, element):\n",
    "    some_list.append(element)\n",
    "    \n",
    "data = [1, 2, 3]\n",
    "append_element(data, 4)\n",
    "data"
   ]
  },
  {
   "cell_type": "code",
   "execution_count": 51,
   "metadata": {},
   "outputs": [
    {
     "name": "stdout",
     "output_type": "stream",
     "text": [
      "<class 'int'>\n",
      "<class 'str'>\n"
     ]
    }
   ],
   "source": [
    "# 자바와 같은 컴파일 언어와는 달리, 파이썬에서는 객체 참조에 타입이 관여하지 않는다.\n",
    "# 타입을 알아서 정해준다.\n",
    "a = 5\n",
    "print(type(a))\n",
    "a = 'foo'\n",
    "print(type(a))"
   ]
  },
  {
   "cell_type": "code",
   "execution_count": 54,
   "metadata": {},
   "outputs": [
    {
     "name": "stdout",
     "output_type": "stream",
     "text": [
      "True\n"
     ]
    }
   ],
   "source": [
    "#  is instance 함수 : 자료형 검사\n",
    "a = 5; b = 4.5\n",
    "print(isinstance(a, int))"
   ]
  },
  {
   "cell_type": "code",
   "execution_count": 55,
   "metadata": {},
   "outputs": [
    {
     "data": {
      "text/plain": [
       "'Foo'"
      ]
     },
     "execution_count": 55,
     "metadata": {},
     "output_type": "execute_result"
    }
   ],
   "source": [
    "# 객체는 일반적으로 속성과 메소드 포함\n",
    "a = 'foo'\n",
    "a.capitalize()"
   ]
  },
  {
   "cell_type": "code",
   "execution_count": 56,
   "metadata": {},
   "outputs": [
    {
     "name": "stdout",
     "output_type": "stream",
     "text": [
      "<class 'list_iterator'>\n",
      "1 2 3 "
     ]
    }
   ],
   "source": [
    "# iterator 객체 - 반복 가능한 객체\n",
    "# 대표적인 iterable type : list, dict, set, str, bytes, tuple, range\n",
    "# iterator 객체 - 값을 차례대로 꺼낼 수 있는 객체\n",
    "# iterator는 iterable한 객체를 내장함수 또는 iterable 객체의 메소드로 객체를 생성\n",
    "# 파이썬 내장함수 iter()를 사용해 iterator 객체를 생성\n",
    "a = [1, 2, 3]\n",
    "a_iter = iter(a)\n",
    "print(type(a_iter))\n",
    "for i in a:\n",
    "    print(i, end=' ')"
   ]
  },
  {
   "cell_type": "code",
   "execution_count": 57,
   "metadata": {},
   "outputs": [
    {
     "data": {
      "text/plain": [
       "['__and__',\n",
       " '__class__',\n",
       " '__contains__',\n",
       " '__delattr__',\n",
       " '__dir__',\n",
       " '__doc__',\n",
       " '__eq__',\n",
       " '__format__',\n",
       " '__ge__',\n",
       " '__getattribute__',\n",
       " '__gt__',\n",
       " '__hash__',\n",
       " '__iand__',\n",
       " '__init__',\n",
       " '__init_subclass__',\n",
       " '__ior__',\n",
       " '__isub__',\n",
       " '__iter__',\n",
       " '__ixor__',\n",
       " '__le__',\n",
       " '__len__',\n",
       " '__lt__',\n",
       " '__ne__',\n",
       " '__new__',\n",
       " '__or__',\n",
       " '__rand__',\n",
       " '__reduce__',\n",
       " '__reduce_ex__',\n",
       " '__repr__',\n",
       " '__ror__',\n",
       " '__rsub__',\n",
       " '__rxor__',\n",
       " '__setattr__',\n",
       " '__sizeof__',\n",
       " '__str__',\n",
       " '__sub__',\n",
       " '__subclasshook__',\n",
       " '__xor__',\n",
       " 'add',\n",
       " 'clear',\n",
       " 'copy',\n",
       " 'difference',\n",
       " 'difference_update',\n",
       " 'discard',\n",
       " 'intersection',\n",
       " 'intersection_update',\n",
       " 'isdisjoint',\n",
       " 'issubset',\n",
       " 'issuperset',\n",
       " 'pop',\n",
       " 'remove',\n",
       " 'symmetric_difference',\n",
       " 'symmetric_difference_update',\n",
       " 'union',\n",
       " 'update']"
      ]
     },
     "execution_count": 57,
     "metadata": {},
     "output_type": "execute_result"
    }
   ],
   "source": [
    "# dir() 내장 함수는 어떤 객체를 인자로 넣어주면 해당 객체가 어떤 변수와 메소드를\n",
    "# 가지고 있는지 나열\n",
    "b = {1, 2, 3}\n",
    "dir(b)"
   ]
  },
  {
   "cell_type": "code",
   "execution_count": 61,
   "metadata": {},
   "outputs": [],
   "source": [
    "def isiterable(obj):\n",
    "    try:\n",
    "        iter(obj)\n",
    "        return True\n",
    "    except TypeError: #iterable 객체 아님\n",
    "        return False"
   ]
  },
  {
   "cell_type": "code",
   "execution_count": 62,
   "metadata": {},
   "outputs": [
    {
     "name": "stdout",
     "output_type": "stream",
     "text": [
      "True\n",
      "True\n",
      "False\n"
     ]
    }
   ],
   "source": [
    "print(isiterable('a string'))\n",
    "print(isiterable([1, 2, 3]))\n",
    "print(isiterable(5))"
   ]
  },
  {
   "cell_type": "code",
   "execution_count": 63,
   "metadata": {},
   "outputs": [
    {
     "name": "stdout",
     "output_type": "stream",
     "text": [
      "[1, 2, 3]\n",
      "True\n",
      "False\n",
      "True\n",
      "False\n"
     ]
    }
   ],
   "source": [
    "# '==' 연산자 vs \"is\"\n",
    "# 두 변수가 같은 객체를 가리키고 있는지 검사하려면 'is'예약어 사용\n",
    "# 두 변수의 값이 같은지 확인은 '=='을 사용\n",
    "# list는 항상 새로운 파이썬 리스트를 생성하므로 c와 a는 구별됨\n",
    "# is와 is not은 변수가 None인지 검사 시 사용\n",
    "\n",
    "a = [1,2,3]\n",
    "b = a\n",
    "c = list(a)\n",
    "print(c)\n",
    "print(a is b)\n",
    "print(a is c)\n",
    "print(a == c)\n",
    "print(a is None)"
   ]
  },
  {
   "cell_type": "code",
   "execution_count": 64,
   "metadata": {},
   "outputs": [
    {
     "name": "stdout",
     "output_type": "stream",
     "text": [
      "['foo', 2, (3, 4)]\n"
     ]
    }
   ],
   "source": [
    "# 리스트, 사전, Numpy 배열, 사용자 정의 클래스 등 대부분의 객체는 변경 가능\n",
    "a_list = ['foo', 2, [4, 5]]\n",
    "a_list[2] = (3, 4)\n",
    "print(a_list)"
   ]
  },
  {
   "cell_type": "code",
   "execution_count": 65,
   "metadata": {},
   "outputs": [
    {
     "ename": "TypeError",
     "evalue": "'tuple' object does not support item assignment",
     "output_type": "error",
     "traceback": [
      "\u001b[1;31m---------------------------------------------------------------------------\u001b[0m",
      "\u001b[1;31mTypeError\u001b[0m                                 Traceback (most recent call last)",
      "\u001b[1;32m<ipython-input-65-e3429bd481cf>\u001b[0m in \u001b[0;36m<module>\u001b[1;34m\u001b[0m\n\u001b[0;32m      1\u001b[0m \u001b[0ma_tuple\u001b[0m \u001b[1;33m=\u001b[0m \u001b[1;33m(\u001b[0m\u001b[1;36m3\u001b[0m\u001b[1;33m,\u001b[0m\u001b[1;36m4\u001b[0m\u001b[1;33m,\u001b[0m\u001b[1;33m(\u001b[0m\u001b[1;36m4\u001b[0m\u001b[1;33m,\u001b[0m\u001b[1;36m5\u001b[0m\u001b[1;33m)\u001b[0m\u001b[1;33m)\u001b[0m\u001b[1;33m\u001b[0m\u001b[1;33m\u001b[0m\u001b[0m\n\u001b[1;32m----> 2\u001b[1;33m \u001b[0ma_tuple\u001b[0m\u001b[1;33m[\u001b[0m\u001b[1;36m1\u001b[0m\u001b[1;33m]\u001b[0m \u001b[1;33m=\u001b[0m \u001b[1;34m'four'\u001b[0m\u001b[1;33m\u001b[0m\u001b[1;33m\u001b[0m\u001b[0m\n\u001b[0m\u001b[0;32m      3\u001b[0m \u001b[0mprint\u001b[0m\u001b[1;33m(\u001b[0m\u001b[0ma_tuple\u001b[0m\u001b[1;33m)\u001b[0m\u001b[1;33m\u001b[0m\u001b[1;33m\u001b[0m\u001b[0m\n",
      "\u001b[1;31mTypeError\u001b[0m: 'tuple' object does not support item assignment"
     ]
    }
   ],
   "source": [
    "#TypeError: 'tuple' object does not support item assignment\n",
    "a_tuple = (3,4,(4,5))\n",
    "a_tuple[1] = 'four'\n",
    "print(a_tuple)"
   ]
  },
  {
   "cell_type": "code",
   "execution_count": 66,
   "metadata": {},
   "outputs": [
    {
     "data": {
      "text/plain": [
       "[3, 'four', (4, 5)]"
      ]
     },
     "execution_count": 66,
     "metadata": {},
     "output_type": "execute_result"
    }
   ],
   "source": [
    "# list로 변환 후 수정\n",
    "a = list(a_tuple)\n",
    "a[1] = 'four'\n",
    "a"
   ]
  },
  {
   "cell_type": "code",
   "execution_count": 67,
   "metadata": {},
   "outputs": [
    {
     "ename": "TypeError",
     "evalue": "'str' object does not support item assignment",
     "output_type": "error",
     "traceback": [
      "\u001b[1;31m---------------------------------------------------------------------------\u001b[0m",
      "\u001b[1;31mTypeError\u001b[0m                                 Traceback (most recent call last)",
      "\u001b[1;32m<ipython-input-67-5a1a1cd7aacd>\u001b[0m in \u001b[0;36m<module>\u001b[1;34m\u001b[0m\n\u001b[0;32m      1\u001b[0m \u001b[1;31m# 파이썬의 문자열은 변경 불가\u001b[0m\u001b[1;33m\u001b[0m\u001b[1;33m\u001b[0m\u001b[1;33m\u001b[0m\u001b[0m\n\u001b[0;32m      2\u001b[0m \u001b[0ma\u001b[0m \u001b[1;33m=\u001b[0m \u001b[1;34m'this is a string'\u001b[0m\u001b[1;33m\u001b[0m\u001b[1;33m\u001b[0m\u001b[0m\n\u001b[1;32m----> 3\u001b[1;33m \u001b[0ma\u001b[0m\u001b[1;33m[\u001b[0m\u001b[1;36m10\u001b[0m\u001b[1;33m]\u001b[0m \u001b[1;33m=\u001b[0m \u001b[1;34m'f'\u001b[0m\u001b[1;33m\u001b[0m\u001b[1;33m\u001b[0m\u001b[0m\n\u001b[0m\u001b[0;32m      4\u001b[0m \u001b[0ma\u001b[0m\u001b[1;33m\u001b[0m\u001b[1;33m\u001b[0m\u001b[0m\n",
      "\u001b[1;31mTypeError\u001b[0m: 'str' object does not support item assignment"
     ]
    }
   ],
   "source": [
    "# 파이썬의 문자열은 변경 불가\n",
    "a = 'this is a string'\n",
    "a[10] = 'f'\n",
    "a"
   ]
  },
  {
   "cell_type": "code",
   "execution_count": 68,
   "metadata": {},
   "outputs": [
    {
     "data": {
      "text/plain": [
       "'this is a longer string'"
      ]
     },
     "execution_count": 68,
     "metadata": {},
     "output_type": "execute_result"
    }
   ],
   "source": [
    "# replace 함수 사용하여 수정\n",
    "b = a.replace('string', 'longer string')\n",
    "b"
   ]
  },
  {
   "cell_type": "code",
   "execution_count": 69,
   "metadata": {},
   "outputs": [
    {
     "data": {
      "text/plain": [
       "True"
      ]
     },
     "execution_count": 69,
     "metadata": {},
     "output_type": "execute_result"
    }
   ],
   "source": [
    "# 불리언\n",
    "True and True\n",
    "True & False\n",
    "False or False\n",
    "False | True"
   ]
  },
  {
   "cell_type": "code",
   "execution_count": 72,
   "metadata": {},
   "outputs": [
    {
     "data": {
      "text/plain": [
       "False"
      ]
     },
     "execution_count": 72,
     "metadata": {},
     "output_type": "execute_result"
    }
   ],
   "source": [
    "# 형변환 함수 : str, bool, int, float\n",
    "s = '3.14159'\n",
    "fval = float(s)\n",
    "bool(fval) #true\n",
    "bool(0)"
   ]
  },
  {
   "cell_type": "code",
   "execution_count": 74,
   "metadata": {},
   "outputs": [
    {
     "name": "stdout",
     "output_type": "stream",
     "text": [
      "2020 년\n",
      "12 월\n",
      "28 일\n",
      "12 시\n",
      "36 분\n",
      "23 초\n"
     ]
    }
   ],
   "source": [
    "# 날짜와 시간\n",
    "import datetime\n",
    "\n",
    "now = datetime.datetime.now()\n",
    "now\n",
    "print(now.year, '년')\n",
    "print(now.month, '월')\n",
    "print(now.day, '일')\n",
    "print(now.hour, '시')\n",
    "print(now.minute, '분')\n",
    "print(now.second, '초')"
   ]
  },
  {
   "cell_type": "code",
   "execution_count": 98,
   "metadata": {},
   "outputs": [
    {
     "name": "stdout",
     "output_type": "stream",
     "text": [
      "29\n",
      "30\n",
      "2011-10-29\n",
      "20:30:21\n"
     ]
    }
   ],
   "source": [
    "from datetime import datetime, date, time\n",
    "dt = datetime(2011, 10, 29, 20, 30, 21)\n",
    "print(dt.day)\n",
    "print(dt.minute)\n",
    "print(dt.date())\n",
    "print(dt.time())"
   ]
  },
  {
   "cell_type": "code",
   "execution_count": 79,
   "metadata": {},
   "outputs": [
    {
     "data": {
      "text/plain": [
       "'10/29/2011 20:30'"
      ]
     },
     "execution_count": 79,
     "metadata": {},
     "output_type": "execute_result"
    }
   ],
   "source": [
    "# strftime 함수는 datetime을 문자열로 반환\n",
    "dt.strftime('%m/%d/%Y %H:%M')"
   ]
  },
  {
   "cell_type": "code",
   "execution_count": 80,
   "metadata": {},
   "outputs": [
    {
     "data": {
      "text/plain": [
       "datetime.datetime(2009, 10, 31, 0, 0)"
      ]
     },
     "execution_count": 80,
     "metadata": {},
     "output_type": "execute_result"
    }
   ],
   "source": [
    "# strptime 함수는 문자열을 datetime으로 변환\n",
    "datetime.strptime('20091031', '%Y%m%d')"
   ]
  },
  {
   "cell_type": "code",
   "execution_count": 103,
   "metadata": {},
   "outputs": [
    {
     "name": "stdout",
     "output_type": "stream",
     "text": [
      "17 days, 2:00:09 <class 'datetime.timedelta'>\n"
     ]
    }
   ],
   "source": [
    "dt1 = datetime(2011, 10, 29, 20, 30, 21)\n",
    "dt2 = datetime(2011, 11, 15, 22, 30, 30)\n",
    "delta = dt2 - dt1\n",
    "print(delta, type(delta))"
   ]
  },
  {
   "cell_type": "code",
   "execution_count": 150,
   "metadata": {},
   "outputs": [
    {
     "name": "stdout",
     "output_type": "stream",
     "text": [
      "2020년 12월 28일 15시 41분 57초\n"
     ]
    }
   ],
   "source": [
    "#Q. format함수를 이용해서 다음과 같은 형식으로 현재 날짜/시간을 출력하세요\n",
    "# 2020년 7월 19일 10시 22분 36초\n",
    "import datetime\n",
    "now = datetime.datetime.now()\n",
    "now = \"{}년 {}월 {}일 {}시 {}분 {}초\".format(now.year, now.month, now.day, now.hour, now.minute, now.second)\n",
    "\n",
    "print(now)"
   ]
  },
  {
   "cell_type": "code",
   "execution_count": 110,
   "metadata": {},
   "outputs": [
    {
     "name": "stdout",
     "output_type": "stream",
     "text": [
      "오후\n"
     ]
    }
   ],
   "source": [
    "#현재 시각으로 오전과 오후를 구분하는 프로그램을 작성하세요.\n",
    "import datetime\n",
    "\n",
    "t = datetime.datetime.now()\n",
    "if t.hour < 12:\n",
    "    print(\"오전\")\n",
    "else:\n",
    "    print(\"오후\")"
   ]
  },
  {
   "cell_type": "code",
   "execution_count": 105,
   "metadata": {},
   "outputs": [
    {
     "name": "stdout",
     "output_type": "stream",
     "text": [
      "Positive and larger than or equal to 5\n"
     ]
    }
   ],
   "source": [
    "# 제어문\n",
    "# if, elif, else\n",
    "x = 5\n",
    "if x < 0:\n",
    "    print('It\\'s negative')\n",
    "elif x == 0:\n",
    "    print('Equal to zero')\n",
    "elif 0 < x < 5:\n",
    "    print('Positive but smaller than 5')\n",
    "else:\n",
    "    print('Positive and larger than or equal to 5')"
   ]
  },
  {
   "cell_type": "markdown",
   "metadata": {},
   "source": [
    "Q. 커피 자판기 프로그램\n",
    "시나리오: 자판기 커피 재고 5잔, 커피 1잔 가격에 300원, 재고 범위 내에서 300원 이상 돈을 넣으면 거스름돈과 커피를 주고 그렇지 않으면 반환하며 재고가 소진되면 안내멘트 출력\n",
    "각 Case별 멘트 출력은 상황에 맞게 창작\n",
    "while, if~elif~else 제어문을 사용하여 작성"
   ]
  },
  {
   "cell_type": "code",
   "execution_count": 119,
   "metadata": {},
   "outputs": [
    {
     "name": "stdout",
     "output_type": "stream",
     "text": [
      "5 coffee left\n",
      "insert coins> 300\n",
      "Here is your coffee\n",
      "4 coffee left\n",
      "insert coins> 300\n",
      "Here is your coffee\n",
      "3 coffee left\n",
      "insert coins> 300\n",
      "Here is your coffee\n",
      "2 coffee left\n",
      "insert coins> 300\n",
      "Here is your coffee\n",
      "1 coffee left\n",
      "insert coins> 300\n",
      "Here is your coffee\n",
      "==========\n",
      "Sold out\n",
      "==========\n"
     ]
    }
   ],
   "source": [
    "leftCoffee = 5\n",
    "while leftCoffee > 0:\n",
    "    print(\"{} coffee left\".format(leftCoffee))\n",
    "    inputMoney = input('insert coins> ')\n",
    "    inputMoney = int(inputMoney)\n",
    "    \n",
    "    if  inputMoney < 300:\n",
    "        print('Short of money')\n",
    "    elif inputMoney == 300:\n",
    "        print('Here is your coffee')\n",
    "        leftCoffee = leftCoffee - 1\n",
    "    else:\n",
    "        print(\"Here is your coffee and change {}\".format(inputMoney - 300))\n",
    "        leftCoffee = leftCoffee - 1\n",
    "        \n",
    "    if leftCoffee == 0:\n",
    "        print(\"=\" * 10)\n",
    "        print('Sold out')\n",
    "        print(\"=\" * 10)\n",
    "        break"
   ]
  },
  {
   "cell_type": "code",
   "execution_count": 121,
   "metadata": {},
   "outputs": [
    {
     "name": "stdout",
     "output_type": "stream",
     "text": [
      "가지고 있는 현금>9500\n",
      "버스를 타세요\n"
     ]
    }
   ],
   "source": [
    "#Q. 현금이 만원 이상 있으면 택시를 타고 그렇지 않으면 버스를 타세요\n",
    "myMoney = input('가지고 있는 현금>')\n",
    "myMoney = int(myMoney)\n",
    "\n",
    "if myMoney < 10000:\n",
    "    print(\"버스를 타세요\")\n",
    "else:\n",
    "    print(\"택시를 타세요\")"
   ]
  },
  {
   "cell_type": "code",
   "execution_count": 122,
   "metadata": {},
   "outputs": [
    {
     "data": {
      "text/plain": [
       "True"
      ]
     },
     "execution_count": 122,
     "metadata": {},
     "output_type": "execute_result"
    }
   ],
   "source": [
    "a = 5; b = 7\n",
    "c = 8; d = 4\n",
    "a < b or c > d"
   ]
  },
  {
   "cell_type": "code",
   "execution_count": 126,
   "metadata": {},
   "outputs": [
    {
     "name": "stdout",
     "output_type": "stream",
     "text": [
      "부채 증가\n"
     ]
    }
   ],
   "source": [
    "#Q. 수입과 지출 금액을 비교해서 수입이 많으면 저축 증가,\n",
    "#반대이면 부채 증가, 같으면 현상 유지\n",
    "\n",
    "i = 4000000\n",
    "e = 5000000\n",
    "if i > e:\n",
    "    print(\"저축 증가\")\n",
    "elif i == e:\n",
    "    print(\"현상 유지\")\n",
    "else:\n",
    "    print(\"부채 증가\")"
   ]
  },
  {
   "cell_type": "code",
   "execution_count": 130,
   "metadata": {},
   "outputs": [
    {
     "name": "stdout",
     "output_type": "stream",
     "text": [
      "[5, 15, 6, 20, 7, 25]\n",
      "5 15 6 20 7 25 "
     ]
    }
   ],
   "source": [
    "# for 반복문\n",
    "numbers = [5, 15, 6, 20, 7, 25]\n",
    "print(numbers)\n",
    "for number in numbers:\n",
    "    print(number, end=\" \")"
   ]
  },
  {
   "cell_type": "code",
   "execution_count": 137,
   "metadata": {},
   "outputs": [
    {
     "name": "stdout",
     "output_type": "stream",
     "text": [
      "79.0\n"
     ]
    }
   ],
   "source": [
    "#Q. A 학급에 총 10명의 학생이 있다. 이 학생들의 중간고사 점수는 다음과 같다.\n",
    "#[70, 60, 55, 75, 95, 90, 80 ,80 ,85, 100]\n",
    "#for문을 사용하여 A 학급의 평균 점수를 구해 보자.\n",
    "\n",
    "scores = [70, 60, 55, 75, 95, 90, 80 ,80 ,85, 100]\n",
    "total = 0\n",
    "for score in scores:\n",
    "    total += score\n",
    "\n",
    "print(total/len(scores))"
   ]
  },
  {
   "cell_type": "code",
   "execution_count": 138,
   "metadata": {},
   "outputs": [
    {
     "name": "stdout",
     "output_type": "stream",
     "text": [
      "[2, 6, 10]\n"
     ]
    }
   ],
   "source": [
    "#리스트 중에서 홀수에만 2를 곱하여 저장하는 다음과 같은 코드가 있다.\n",
    "#numbers = [1, 2, 3, 4, 5]\n",
    "#result = []\n",
    "#for n in numbers:\n",
    "#    if n % 2 == 1:\n",
    "#        result.append(n*2)\n",
    "#위 코드를 리스트 내포(list comprehension)를 사용해서 표현해 보자.\n",
    "\n",
    "numbers = [1,2,3,4,5]\n",
    "result = []\n",
    "for n in numbers:\n",
    "    if n % 2 == 1:\n",
    "        result.append(n * 2)\n",
    "        \n",
    "print(result)"
   ]
  },
  {
   "cell_type": "code",
   "execution_count": 139,
   "metadata": {},
   "outputs": [
    {
     "data": {
      "text/plain": [
       "[2, 6, 10]"
      ]
     },
     "execution_count": 139,
     "metadata": {},
     "output_type": "execute_result"
    }
   ],
   "source": [
    "#list comprehension\n",
    "numbers = [1,2,3,4,5]\n",
    "result = [n * 2 for n in numbers if n % 2 == 1]\n",
    "result"
   ]
  },
  {
   "cell_type": "code",
   "execution_count": 140,
   "metadata": {},
   "outputs": [
    {
     "name": "stdout",
     "output_type": "stream",
     "text": [
      "12\n"
     ]
    }
   ],
   "source": [
    "#continue\n",
    "sequence = [1,2,None,4,None,5]\n",
    "total = 0\n",
    "for value in sequence:\n",
    "    if value is None:\n",
    "        continue\n",
    "    total += value\n",
    "    \n",
    "print(total)"
   ]
  },
  {
   "cell_type": "code",
   "execution_count": 143,
   "metadata": {},
   "outputs": [
    {
     "data": {
      "text/plain": [
       "10"
      ]
     },
     "execution_count": 143,
     "metadata": {},
     "output_type": "execute_result"
    }
   ],
   "source": [
    "# break\n",
    "# 4까지의 합 구하기\n",
    "sequence = [1,2,3,4,5,6,7,8]\n",
    "total_until_4 = 0\n",
    "for value in sequence:\n",
    "    if value>4:\n",
    "        break;\n",
    "    total_until_4 += value\n",
    "\n",
    "total_until_4"
   ]
  },
  {
   "cell_type": "code",
   "execution_count": 146,
   "metadata": {},
   "outputs": [
    {
     "name": "stdout",
     "output_type": "stream",
     "text": [
      "1 2 3 4 5 "
     ]
    }
   ],
   "source": [
    "#for - continue - break\n",
    "#Q. 1~10 범위의 정수에서 1부터 5까지만 출력\n",
    "\n",
    "for value in range(1, 11):\n",
    "    print(value, end=\" \")\n",
    "    if value < 5:\n",
    "        continue\n",
    "    else:\n",
    "        break\n"
   ]
  },
  {
   "cell_type": "code",
   "execution_count": 147,
   "metadata": {},
   "outputs": [
    {
     "name": "stdout",
     "output_type": "stream",
     "text": [
      "(0, 0)\n",
      "(1, 0)\n",
      "(1, 1)\n",
      "(2, 0)\n",
      "(2, 1)\n",
      "(2, 2)\n",
      "(3, 0)\n",
      "(3, 1)\n",
      "(3, 2)\n",
      "(3, 3)\n"
     ]
    }
   ],
   "source": [
    "for i in range(4): # <- 0~3까지임\n",
    "    for j in range(4):\n",
    "        if j > i:\n",
    "            break # <- break는 가장 안쪽에 있는 for문만 빠져나간다.\n",
    "        print((i, j))"
   ]
  },
  {
   "cell_type": "code",
   "execution_count": 151,
   "metadata": {},
   "outputs": [
    {
     "name": "stdout",
     "output_type": "stream",
     "text": [
      "15 20 25 "
     ]
    }
   ],
   "source": [
    "#Q. numbers 리스트에서 15,20,25를 출력하세요. (for문과 if조건 사용 필수)\n",
    "numbers = [5,15,6,20,7,25]\n",
    "for i in numbers:\n",
    "    if i < 10:\n",
    "        continue\n",
    "    else:\n",
    "        print(i, end=\" \")"
   ]
  },
  {
   "cell_type": "code",
   "execution_count": 155,
   "metadata": {},
   "outputs": [
    {
     "name": "stdout",
     "output_type": "stream",
     "text": [
      "504\n",
      "4\n"
     ]
    }
   ],
   "source": [
    "#while문\n",
    "#while문은 조건을 명시하여 해당 조건이 False가 되거나 break문을 사용해서\n",
    "#명시적으로 반복을 종료시까지 블록 내의 코드를 실행\n",
    "x = 256\n",
    "total = 0\n",
    "while x > 0:\n",
    "    if total > 500:\n",
    "        break\n",
    "    total += x\n",
    "    x = x // 2\n",
    "    \n",
    "print(total)\n",
    "print(x)"
   ]
  },
  {
   "cell_type": "code",
   "execution_count": 158,
   "metadata": {},
   "outputs": [
    {
     "name": "stdout",
     "output_type": "stream",
     "text": [
      "n = 46\n",
      "total = 1035\n"
     ]
    }
   ],
   "source": [
    "#Q. 정수 1부터 n까지 더할 때, 그 합이 1000보다 커지게 되는 n과 합을 구하세요.\n",
    "i = 1\n",
    "total = 0\n",
    "while(i>0):\n",
    "    if total > 1000:\n",
    "        break\n",
    "    total += i\n",
    "    i = i + 1\n",
    "    \n",
    "print('n = {}'.format(i))\n",
    "print('total = {}'.format(total))"
   ]
  },
  {
   "cell_type": "code",
   "execution_count": 160,
   "metadata": {},
   "outputs": [
    {
     "name": "stdout",
     "output_type": "stream",
     "text": [
      "*\n",
      "**\n",
      "***\n",
      "****\n",
      "*****\n"
     ]
    }
   ],
   "source": [
    "#과제. 아래와 같이 출력하는 코딩을 수행하세요.\n",
    "for i in range(5):\n",
    "    print(\"*\"*(i+1))"
   ]
  },
  {
   "cell_type": "code",
   "execution_count": 170,
   "metadata": {},
   "outputs": [
    {
     "name": "stdout",
     "output_type": "stream",
     "text": [
      "4550\n"
     ]
    }
   ],
   "source": [
    "#과제. while~continue~break문을 사용해 1부터 100까지의 정수 중 5에서 95까지의\n",
    "#합을 구하시오.\n",
    "i = 1\n",
    "total = 0\n",
    "while(i > 0):\n",
    "    i = i + 1\n",
    "    if i < 5:\n",
    "        continue\n",
    "    elif i < 96:\n",
    "        total += i\n",
    "    else:\n",
    "        break\n",
    "        \n",
    "print(total)"
   ]
  },
  {
   "cell_type": "code",
   "execution_count": 171,
   "metadata": {},
   "outputs": [
    {
     "name": "stdout",
     "output_type": "stream",
     "text": [
      "166833\n"
     ]
    }
   ],
   "source": [
    "#과제. while문을 사용해서 1부터 1000까지의 정수 중 3의 배수의 합을 구하세요.\n",
    "i = 0\n",
    "total = 0\n",
    "while (i > -1):\n",
    "    i += 1\n",
    "    if i%3 == 0:\n",
    "        total += i\n",
    "    elif i > 1000:\n",
    "        break\n",
    "    else:\n",
    "        continue\n",
    "        \n",
    "print(total)\n",
    "        "
   ]
  },
  {
   "cell_type": "code",
   "execution_count": 174,
   "metadata": {},
   "outputs": [
    {
     "name": "stdout",
     "output_type": "stream",
     "text": [
      "positive\n"
     ]
    }
   ],
   "source": [
    "#pass는 아무것도 하지 않음을 나타냄\n",
    "x = 1\n",
    "if x < 0:\n",
    "    print('negative')\n",
    "elif x == 0:\n",
    "    pass\n",
    "else:\n",
    "    print('positive')"
   ]
  },
  {
   "cell_type": "code",
   "execution_count": 178,
   "metadata": {},
   "outputs": [
    {
     "name": "stdout",
     "output_type": "stream",
     "text": [
      "[0, 1, 2, 3, 4, 5, 6, 7, 8, 9]\n",
      "[0, 2, 4, 6, 8, 10, 12, 14, 16, 18]\n"
     ]
    },
    {
     "data": {
      "text/plain": [
       "[5, 4, 3, 2, 1]"
      ]
     },
     "execution_count": 178,
     "metadata": {},
     "output_type": "execute_result"
    }
   ],
   "source": [
    "# range 함수는 연속된 정수를 넘겨주는 이터레이터를 반환\n",
    "# start, end, step 값을 지정\n",
    "r1 = range(10) # 0~9\n",
    "print(list(r1))\n",
    "r2 = range(0,20,2) #range(start, end, step)\n",
    "print(list(r2))\n",
    "r3 = range(5, 0, -1)\n",
    "list(r3)"
   ]
  },
  {
   "cell_type": "code",
   "execution_count": 180,
   "metadata": {},
   "outputs": [
    {
     "name": "stdout",
     "output_type": "stream",
     "text": [
      "2333316668\n"
     ]
    }
   ],
   "source": [
    "# Q. 0~99999까지의 정수 중에서 3 또는 5의 배수 합계\n",
    "\n",
    "#total = 0\n",
    "#for i in range(100000):\n",
    "#    if i%3 == 0 or i%5 == 0:\n",
    "#        total += i\n",
    "#print(total)\n",
    "#2333216669\n",
    "\n",
    "r1 = range(0, 100000, 3)\n",
    "r2 = range(0, 100000, 5)\n",
    "r3 = range(0, 100000, 15)\n",
    "t1 = 0; t2 = 0; t3 = 0\n",
    "for value in r1:\n",
    "    t1 += value\n",
    "for value in r2:\n",
    "    t2 += value\n",
    "for value in r3:\n",
    "    t3 += value\n",
    "t4 = t1 + t2 - t3\n",
    "print(t4)"
   ]
  },
  {
   "cell_type": "code",
   "execution_count": 181,
   "metadata": {},
   "outputs": [
    {
     "data": {
      "text/plain": [
       "'Non-negative'"
      ]
     },
     "execution_count": 181,
     "metadata": {},
     "output_type": "execute_result"
    }
   ],
   "source": [
    "#삼항 표현식\n",
    "x = 5\n",
    "'Non-negative' if x >= 0 else 'Negative'"
   ]
  },
  {
   "cell_type": "code",
   "execution_count": 184,
   "metadata": {},
   "outputs": [
    {
     "name": "stdout",
     "output_type": "stream",
     "text": [
      "(1, 2)\n",
      "안녕하세요\n"
     ]
    }
   ],
   "source": [
    "# 자료구조\n",
    "# 튜플 : 리스트와 비슷한 성질을 가지고 있는 자료형이지만, 요소의 값을 변경할 수  없음\n",
    "tuple1 = (1, 2, 3, 4, 5)\n",
    "tuple2 = ('a', 'b', 'c')\n",
    "tuple3 = (1, 'a', 'abc', [1,2,3,4,5],['a','b','c'])\n",
    "#tuple1[0] = 6     <- 에러 발생\n",
    "\n",
    "def myfunc():\n",
    "    print(\"안녕하세요\")\n",
    "    \n",
    "tuple4 = (1,2,myfunc)\n",
    "print(tuple4[:2])    #슬라이싱\n",
    "tuple4[2]()"
   ]
  }
 ],
 "metadata": {
  "kernelspec": {
   "display_name": "Python 3",
   "language": "python",
   "name": "python3"
  },
  "language_info": {
   "codemirror_mode": {
    "name": "ipython",
    "version": 3
   },
   "file_extension": ".py",
   "mimetype": "text/x-python",
   "name": "python",
   "nbconvert_exporter": "python",
   "pygments_lexer": "ipython3",
   "version": "3.7.9"
  }
 },
 "nbformat": 4,
 "nbformat_minor": 4
}
