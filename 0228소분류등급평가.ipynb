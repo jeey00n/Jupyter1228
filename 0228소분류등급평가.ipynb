{
 "cells": [
  {
   "cell_type": "code",
   "execution_count": 1,
   "id": "entitled-definition",
   "metadata": {},
   "outputs": [],
   "source": [
    "import numpy as np\n",
    "import pandas as pd\n",
    "import matplotlib.pyplot as plt\n",
    "import warnings\n",
    "warnings.filterwarnings('ignore')\n",
    "import seaborn as sns\n",
    "#컬럼 한꺼번에보기\n",
    "from IPython.display import display\n",
    "pd.options.display.max_columns = None\n",
    "import platform\n",
    "platform.system()\n",
    "\n",
    "# 운영체제별 한글 폰트 설정\n",
    "if platform.system() == 'Darwin': # Mac 환경 폰트 설정\n",
    "    plt.rc('font', family='AppleGothic')\n",
    "elif platform.system() == 'Windows': # Windows 환경 폰트 설정\n",
    "    plt.rc('font', family='Malgun Gothic')\n",
    "\n",
    "plt.rc('axes', unicode_minus=False) # 마이너스 폰트 설정\n",
    "\n",
    "\n",
    "# 글씨 선명하게 출력하는 설정\n",
    "%config InlineBackend.figure_format = 'retina'"
   ]
  },
  {
   "cell_type": "code",
   "execution_count": 2,
   "id": "racial-velvet",
   "metadata": {},
   "outputs": [],
   "source": [
    "import cx_Oracle\n",
    "\n",
    "db = cx_Oracle.connect(\"LMEMBER\", \"lmember\", 'localhost:1521/xepdb1')\n",
    "cursor = db.cursor()\n",
    "cursor.execute('select * from SMALL_AVG')\n",
    "\n",
    "# SMALL_AVG\n",
    "# create table SMALL_AVG as \n",
    "# select min(p.제휴사) 제휴사, min(p.대분류코드) p.대분류코드, min(p.중분류코드) p.중분류코드, p.소분류코드 ,\n",
    "# round(avg(p.구매금액),0) p.소분류평균, 간략분류 from purprd p \n",
    "# where 소분류코드 in (select 소분류코드 from food_abc) group by 소분류코드;\n",
    "\n",
    "x = cursor.fetchall()\n",
    "small_avg = pd.DataFrame(x)\n",
    "cursor.execute(\"\"\"select column_name from user_tab_columns where table_name='SMALL_AVG'\"\"\")\n",
    "col = cursor.fetchall()\n",
    "list1 = []\n",
    "for i in col:\n",
    "    for j in i:\n",
    "        list1.append(j)\n",
    "small_avg.columns = list1\n",
    "cursor.close()\n",
    "db.close()"
   ]
  },
  {
   "cell_type": "code",
   "execution_count": 3,
   "id": "completed-challenge",
   "metadata": {},
   "outputs": [
    {
     "data": {
      "text/html": [
       "<div>\n",
       "<style scoped>\n",
       "    .dataframe tbody tr th:only-of-type {\n",
       "        vertical-align: middle;\n",
       "    }\n",
       "\n",
       "    .dataframe tbody tr th {\n",
       "        vertical-align: top;\n",
       "    }\n",
       "\n",
       "    .dataframe thead th {\n",
       "        text-align: right;\n",
       "    }\n",
       "</style>\n",
       "<table border=\"1\" class=\"dataframe\">\n",
       "  <thead>\n",
       "    <tr style=\"text-align: right;\">\n",
       "      <th></th>\n",
       "      <th>제휴사</th>\n",
       "      <th>S_CAT</th>\n",
       "      <th>소분류평균</th>\n",
       "      <th>NEW_CAT</th>\n",
       "    </tr>\n",
       "  </thead>\n",
       "  <tbody>\n",
       "    <tr>\n",
       "      <th>0</th>\n",
       "      <td>B</td>\n",
       "      <td>B160101</td>\n",
       "      <td>3778</td>\n",
       "      <td>주류</td>\n",
       "    </tr>\n",
       "    <tr>\n",
       "      <th>1</th>\n",
       "      <td>B</td>\n",
       "      <td>B050901</td>\n",
       "      <td>2926</td>\n",
       "      <td>농산물</td>\n",
       "    </tr>\n",
       "    <tr>\n",
       "      <th>2</th>\n",
       "      <td>B</td>\n",
       "      <td>B060105</td>\n",
       "      <td>5673</td>\n",
       "      <td>수산물</td>\n",
       "    </tr>\n",
       "    <tr>\n",
       "      <th>3</th>\n",
       "      <td>B</td>\n",
       "      <td>B100306</td>\n",
       "      <td>4252</td>\n",
       "      <td>음료</td>\n",
       "    </tr>\n",
       "    <tr>\n",
       "      <th>4</th>\n",
       "      <td>B</td>\n",
       "      <td>B670402</td>\n",
       "      <td>4839</td>\n",
       "      <td>간식류</td>\n",
       "    </tr>\n",
       "    <tr>\n",
       "      <th>...</th>\n",
       "      <td>...</td>\n",
       "      <td>...</td>\n",
       "      <td>...</td>\n",
       "      <td>...</td>\n",
       "    </tr>\n",
       "    <tr>\n",
       "      <th>2030</th>\n",
       "      <td>C</td>\n",
       "      <td>C030209</td>\n",
       "      <td>3973</td>\n",
       "      <td>농산물</td>\n",
       "    </tr>\n",
       "    <tr>\n",
       "      <th>2031</th>\n",
       "      <td>B</td>\n",
       "      <td>B790701</td>\n",
       "      <td>27200</td>\n",
       "      <td>수산물</td>\n",
       "    </tr>\n",
       "    <tr>\n",
       "      <th>2032</th>\n",
       "      <td>B</td>\n",
       "      <td>B061104</td>\n",
       "      <td>21000</td>\n",
       "      <td>수산물</td>\n",
       "    </tr>\n",
       "    <tr>\n",
       "      <th>2033</th>\n",
       "      <td>B</td>\n",
       "      <td>B070203</td>\n",
       "      <td>4510</td>\n",
       "      <td>수산물</td>\n",
       "    </tr>\n",
       "    <tr>\n",
       "      <th>2034</th>\n",
       "      <td>B</td>\n",
       "      <td>B050114</td>\n",
       "      <td>10300</td>\n",
       "      <td>농산물</td>\n",
       "    </tr>\n",
       "  </tbody>\n",
       "</table>\n",
       "<p>2035 rows × 4 columns</p>\n",
       "</div>"
      ],
      "text/plain": [
       "     제휴사    S_CAT  소분류평균 NEW_CAT\n",
       "0      B  B160101   3778      주류\n",
       "1      B  B050901   2926     농산물\n",
       "2      B  B060105   5673     수산물\n",
       "3      B  B100306   4252      음료\n",
       "4      B  B670402   4839     간식류\n",
       "...   ..      ...    ...     ...\n",
       "2030   C  C030209   3973     농산물\n",
       "2031   B  B790701  27200     수산물\n",
       "2032   B  B061104  21000     수산물\n",
       "2033   B  B070203   4510     수산물\n",
       "2034   B  B050114  10300     농산물\n",
       "\n",
       "[2035 rows x 4 columns]"
      ]
     },
     "execution_count": 3,
     "metadata": {},
     "output_type": "execute_result"
    }
   ],
   "source": [
    "small_avg"
   ]
  },
  {
   "cell_type": "code",
   "execution_count": 5,
   "id": "focused-liberia",
   "metadata": {},
   "outputs": [
    {
     "data": {
      "text/plain": [
       "array(['주류', '농산물', '수산물', '음료', '간식류', '육류', '식사류/반찬', '건강식품'],\n",
       "      dtype=object)"
      ]
     },
     "execution_count": 5,
     "metadata": {},
     "output_type": "execute_result"
    }
   ],
   "source": [
    "small_avg['NEW_CAT'].unique()"
   ]
  },
  {
   "cell_type": "code",
   "execution_count": 16,
   "id": "usual-polyester",
   "metadata": {},
   "outputs": [
    {
     "name": "stdout",
     "output_type": "stream",
     "text": [
      "수산물 카테고리 내 가격 별 5등분 분기점:4912.20, 7334.80, 9579.80, 13470.60\n"
     ]
    }
   ],
   "source": [
    "수산물 = small_avg[small_avg['NEW_CAT']=='수산물']\n",
    "qt_20 = np.percentile(수산물['소분류평균'],20)\n",
    "qt_40 = np.percentile(수산물['소분류평균'],40)\n",
    "qt_60 = np.percentile(수산물['소분류평균'],60)\n",
    "qt_80 = np.percentile(수산물['소분류평균'],80)\n",
    "print('수산물 카테고리 내 가격 별 5등분 분기점:{0:.2f}, {1:.2f}, {2:.2f}, {3:.2f}'.format(qt_20,qt_40,qt_60,qt_80))"
   ]
  },
  {
   "cell_type": "code",
   "execution_count": 17,
   "id": "naval-casting",
   "metadata": {},
   "outputs": [
    {
     "name": "stdout",
     "output_type": "stream",
     "text": [
      "육류 카테고리 내 가격 별 5등분 분기점:8050.40, 11337.20, 15024.40, 22596.60\n"
     ]
    }
   ],
   "source": [
    "육류 = small_avg[small_avg['NEW_CAT']=='육류']\n",
    "qt_20 = np.percentile(육류['소분류평균'],20)\n",
    "qt_40 = np.percentile(육류['소분류평균'],40)\n",
    "qt_60 = np.percentile(육류['소분류평균'],60)\n",
    "qt_80 = np.percentile(육류['소분류평균'],80)\n",
    "print('육류 카테고리 내 가격 별 5등분 분기점:{0:.2f}, {1:.2f}, {2:.2f}, {3:.2f}'.format(qt_20,qt_40,qt_60,qt_80))"
   ]
  },
  {
   "cell_type": "code",
   "execution_count": 18,
   "id": "digital-courtesy",
   "metadata": {},
   "outputs": [
    {
     "name": "stdout",
     "output_type": "stream",
     "text": [
      "식사류반찬 카테고리 내 가격 별 5등분 분기점:3534.80, 4985.60, 6708.60, 9582.80\n"
     ]
    }
   ],
   "source": [
    "식사류반찬 = small_avg[small_avg['NEW_CAT']=='식사류/반찬']\n",
    "qt_20 = np.percentile(식사류반찬['소분류평균'],20)\n",
    "qt_40 = np.percentile(식사류반찬['소분류평균'],40)\n",
    "qt_60 = np.percentile(식사류반찬['소분류평균'],60)\n",
    "qt_80 = np.percentile(식사류반찬['소분류평균'],80)\n",
    "print('식사류반찬 카테고리 내 가격 별 5등분 분기점:{0:.2f}, {1:.2f}, {2:.2f}, {3:.2f}'.format(qt_20,qt_40,qt_60,qt_80))"
   ]
  },
  {
   "cell_type": "code",
   "execution_count": 15,
   "id": "material-invitation",
   "metadata": {},
   "outputs": [
    {
     "name": "stdout",
     "output_type": "stream",
     "text": [
      "농산물 카테고리 내 가격 별 5등분 분기점:2696.60, 4638.00, 7709.00, 11192.40\n"
     ]
    }
   ],
   "source": [
    "농산물 = small_avg[small_avg['NEW_CAT']=='농산물']\n",
    "qt_20 = np.percentile(농산물['소분류평균'],20)\n",
    "qt_40 = np.percentile(농산물['소분류평균'],40)\n",
    "qt_60 = np.percentile(농산물['소분류평균'],60)\n",
    "qt_80 = np.percentile(농산물['소분류평균'],80)\n",
    "print('농산물 카테고리 내 가격 별 5등분 분기점:{0:.2f}, {1:.2f}, {2:.2f}, {3:.2f}'.format(qt_20,qt_40,qt_60,qt_80))"
   ]
  },
  {
   "cell_type": "code",
   "execution_count": 19,
   "id": "promising-institute",
   "metadata": {},
   "outputs": [
    {
     "name": "stdout",
     "output_type": "stream",
     "text": [
      "간식류 카테고리 내 가격 별 5등분 분기점:3359.40, 4868.20, 6673.40, 10162.40\n"
     ]
    }
   ],
   "source": [
    "간식류 = small_avg[small_avg['NEW_CAT']=='간식류']\n",
    "qt_20 = np.percentile(간식류['소분류평균'],20)\n",
    "qt_40 = np.percentile(간식류['소분류평균'],40)\n",
    "qt_60 = np.percentile(간식류['소분류평균'],60)\n",
    "qt_80 = np.percentile(간식류['소분류평균'],80)\n",
    "print('간식류 카테고리 내 가격 별 5등분 분기점:{0:.2f}, {1:.2f}, {2:.2f}, {3:.2f}'.format(qt_20,qt_40,qt_60,qt_80))"
   ]
  },
  {
   "cell_type": "code",
   "execution_count": 21,
   "id": "tracked-assumption",
   "metadata": {},
   "outputs": [
    {
     "name": "stdout",
     "output_type": "stream",
     "text": [
      "음료 카테고리 내 가격 별 5등분 분기점:2890.40, 4080.20, 6402.40, 11171.40\n"
     ]
    }
   ],
   "source": [
    "음료 = small_avg[small_avg['NEW_CAT']=='음료']\n",
    "qt_20 = np.percentile(음료['소분류평균'],20)\n",
    "qt_40 = np.percentile(음료['소분류평균'],40)\n",
    "qt_60 = np.percentile(음료['소분류평균'],60)\n",
    "qt_80 = np.percentile(음료['소분류평균'],80)\n",
    "print('음료 카테고리 내 가격 별 5등분 분기점:{0:.2f}, {1:.2f}, {2:.2f}, {3:.2f}'.format(qt_20,qt_40,qt_60,qt_80))"
   ]
  },
  {
   "cell_type": "code",
   "execution_count": 20,
   "id": "lightweight-supplier",
   "metadata": {},
   "outputs": [
    {
     "name": "stdout",
     "output_type": "stream",
     "text": [
      "건강식품 카테고리 내 가격 별 5등분 분기점:10992.00, 21226.00, 47354.00, 85837.00\n"
     ]
    }
   ],
   "source": [
    "건강식품 = small_avg[small_avg['NEW_CAT']=='건강식품']\n",
    "qt_20 = np.percentile(건강식품['소분류평균'],20)\n",
    "qt_40 = np.percentile(건강식품['소분류평균'],40)\n",
    "qt_60 = np.percentile(건강식품['소분류평균'],60)\n",
    "qt_80 = np.percentile(건강식품['소분류평균'],80)\n",
    "print('건강식품 카테고리 내 가격 별 5등분 분기점:{0:.2f}, {1:.2f}, {2:.2f}, {3:.2f}'.format(qt_20,qt_40,qt_60,qt_80))"
   ]
  },
  {
   "cell_type": "code",
   "execution_count": 22,
   "id": "awful-family",
   "metadata": {},
   "outputs": [
    {
     "name": "stdout",
     "output_type": "stream",
     "text": [
      "주류 카테고리 내 가격 별 5등분 분기점:4427.00, 6397.00, 14348.00, 34349.00\n"
     ]
    }
   ],
   "source": [
    "주류 = small_avg[small_avg['NEW_CAT']=='주류']\n",
    "qt_20 = np.percentile(주류['소분류평균'],20)\n",
    "qt_40 = np.percentile(주류['소분류평균'],40)\n",
    "qt_60 = np.percentile(주류['소분류평균'],60)\n",
    "qt_80 = np.percentile(주류['소분류평균'],80)\n",
    "print('주류 카테고리 내 가격 별 5등분 분기점:{0:.2f}, {1:.2f}, {2:.2f}, {3:.2f}'.format(qt_20,qt_40,qt_60,qt_80))"
   ]
  },
  {
   "cell_type": "code",
   "execution_count": 24,
   "id": "chronic-housing",
   "metadata": {},
   "outputs": [],
   "source": [
    "def price_category(new_cat, value):\n",
    "    if new_cat == '농산물':\n",
    "        if value < 2696:\n",
    "            return 1\n",
    "        elif value < 4638:\n",
    "            return 2\n",
    "        elif value < 7709:\n",
    "            return 3\n",
    "        elif value <  11192:\n",
    "            return 4\n",
    "        else:\n",
    "            return 5\n",
    "    elif new_cat == '육류': \n",
    "        if value < 8050:\n",
    "            return 1\n",
    "        elif value < 11337:\n",
    "            return 2\n",
    "        elif value < 15024:\n",
    "            return 3\n",
    "        elif value <  22596:\n",
    "            return 4\n",
    "        else:\n",
    "            return 5\n",
    "    elif new_cat == '간식류': \n",
    "        if value < 2696:\n",
    "            return 1\n",
    "        elif value < 4638:\n",
    "            return 2\n",
    "        elif value < 7709:\n",
    "            return 3\n",
    "        elif value <  11192:\n",
    "            return 4\n",
    "        else:\n",
    "            return 5\n",
    "    elif new_cat == '수산물': \n",
    "        if value < 4912:\n",
    "            return 1\n",
    "        elif value < 7334:\n",
    "            return 2\n",
    "        elif value < 9579:\n",
    "            return 3\n",
    "        elif value <  13470:\n",
    "            return 4\n",
    "        else:\n",
    "            return 5\n",
    "    elif new_cat == '식사류/반찬': \n",
    "        if value < 3534:\n",
    "            return 1\n",
    "        elif value < 4985:\n",
    "            return 2\n",
    "        elif value < 6708:\n",
    "            return 3\n",
    "        elif value < 9582:\n",
    "            return 4\n",
    "        else:\n",
    "            return 5\n",
    "    elif new_cat == '건강식품':\n",
    "        if value < 10992:\n",
    "            return 1\n",
    "        elif value < 21226:\n",
    "            return 2\n",
    "        elif value < 47354:\n",
    "            return 3\n",
    "        elif value < 85837:\n",
    "            return 4\n",
    "        else:\n",
    "            return 5\n",
    "    elif new_cat == '주류':\n",
    "        if value < 4427:\n",
    "            return 1\n",
    "        elif value < 6397:\n",
    "            return 2\n",
    "        elif value < 14348:\n",
    "            return 3\n",
    "        elif value < 34349:\n",
    "            return 4\n",
    "        else:\n",
    "            return 5\n",
    "    elif new_cat == '음료':\n",
    "        if value < 2890:\n",
    "            return 1\n",
    "        elif value < 4080:\n",
    "            return 2\n",
    "        elif value < 6402:\n",
    "            return 3\n",
    "        elif value < 11171:\n",
    "            return 4\n",
    "        else:\n",
    "            return 5\n",
    "    else:\n",
    "        return ' '"
   ]
  },
  {
   "cell_type": "code",
   "execution_count": 25,
   "id": "stopped-japanese",
   "metadata": {},
   "outputs": [],
   "source": [
    "small_avg['CLASS'] = small_avg.apply(lambda x :price_category(x.NEW_CAT, x.소분류평균), axis = 1)"
   ]
  },
  {
   "cell_type": "code",
   "execution_count": 27,
   "id": "reflected-memory",
   "metadata": {},
   "outputs": [
    {
     "data": {
      "text/html": [
       "<div>\n",
       "<style scoped>\n",
       "    .dataframe tbody tr th:only-of-type {\n",
       "        vertical-align: middle;\n",
       "    }\n",
       "\n",
       "    .dataframe tbody tr th {\n",
       "        vertical-align: top;\n",
       "    }\n",
       "\n",
       "    .dataframe thead th {\n",
       "        text-align: right;\n",
       "    }\n",
       "</style>\n",
       "<table border=\"1\" class=\"dataframe\">\n",
       "  <thead>\n",
       "    <tr style=\"text-align: right;\">\n",
       "      <th></th>\n",
       "      <th>제휴사</th>\n",
       "      <th>S_CAT</th>\n",
       "      <th>소분류평균</th>\n",
       "      <th>NEW_CAT</th>\n",
       "      <th>CLASS</th>\n",
       "    </tr>\n",
       "  </thead>\n",
       "  <tbody>\n",
       "    <tr>\n",
       "      <th>0</th>\n",
       "      <td>B</td>\n",
       "      <td>B160101</td>\n",
       "      <td>3778</td>\n",
       "      <td>주류</td>\n",
       "      <td>1</td>\n",
       "    </tr>\n",
       "    <tr>\n",
       "      <th>1</th>\n",
       "      <td>B</td>\n",
       "      <td>B050901</td>\n",
       "      <td>2926</td>\n",
       "      <td>농산물</td>\n",
       "      <td>2</td>\n",
       "    </tr>\n",
       "    <tr>\n",
       "      <th>2</th>\n",
       "      <td>B</td>\n",
       "      <td>B060105</td>\n",
       "      <td>5673</td>\n",
       "      <td>수산물</td>\n",
       "      <td>2</td>\n",
       "    </tr>\n",
       "    <tr>\n",
       "      <th>3</th>\n",
       "      <td>B</td>\n",
       "      <td>B100306</td>\n",
       "      <td>4252</td>\n",
       "      <td>음료</td>\n",
       "      <td>3</td>\n",
       "    </tr>\n",
       "    <tr>\n",
       "      <th>4</th>\n",
       "      <td>B</td>\n",
       "      <td>B670402</td>\n",
       "      <td>4839</td>\n",
       "      <td>간식류</td>\n",
       "      <td>3</td>\n",
       "    </tr>\n",
       "    <tr>\n",
       "      <th>...</th>\n",
       "      <td>...</td>\n",
       "      <td>...</td>\n",
       "      <td>...</td>\n",
       "      <td>...</td>\n",
       "      <td>...</td>\n",
       "    </tr>\n",
       "    <tr>\n",
       "      <th>2030</th>\n",
       "      <td>C</td>\n",
       "      <td>C030209</td>\n",
       "      <td>3973</td>\n",
       "      <td>농산물</td>\n",
       "      <td>2</td>\n",
       "    </tr>\n",
       "    <tr>\n",
       "      <th>2031</th>\n",
       "      <td>B</td>\n",
       "      <td>B790701</td>\n",
       "      <td>27200</td>\n",
       "      <td>수산물</td>\n",
       "      <td>5</td>\n",
       "    </tr>\n",
       "    <tr>\n",
       "      <th>2032</th>\n",
       "      <td>B</td>\n",
       "      <td>B061104</td>\n",
       "      <td>21000</td>\n",
       "      <td>수산물</td>\n",
       "      <td>5</td>\n",
       "    </tr>\n",
       "    <tr>\n",
       "      <th>2033</th>\n",
       "      <td>B</td>\n",
       "      <td>B070203</td>\n",
       "      <td>4510</td>\n",
       "      <td>수산물</td>\n",
       "      <td>1</td>\n",
       "    </tr>\n",
       "    <tr>\n",
       "      <th>2034</th>\n",
       "      <td>B</td>\n",
       "      <td>B050114</td>\n",
       "      <td>10300</td>\n",
       "      <td>농산물</td>\n",
       "      <td>4</td>\n",
       "    </tr>\n",
       "  </tbody>\n",
       "</table>\n",
       "<p>2035 rows × 5 columns</p>\n",
       "</div>"
      ],
      "text/plain": [
       "     제휴사    S_CAT  소분류평균 NEW_CAT  CLASS\n",
       "0      B  B160101   3778      주류      1\n",
       "1      B  B050901   2926     농산물      2\n",
       "2      B  B060105   5673     수산물      2\n",
       "3      B  B100306   4252      음료      3\n",
       "4      B  B670402   4839     간식류      3\n",
       "...   ..      ...    ...     ...    ...\n",
       "2030   C  C030209   3973     농산물      2\n",
       "2031   B  B790701  27200     수산물      5\n",
       "2032   B  B061104  21000     수산물      5\n",
       "2033   B  B070203   4510     수산물      1\n",
       "2034   B  B050114  10300     농산물      4\n",
       "\n",
       "[2035 rows x 5 columns]"
      ]
     },
     "execution_count": 27,
     "metadata": {},
     "output_type": "execute_result"
    }
   ],
   "source": [
    "small_avg"
   ]
  },
  {
   "cell_type": "markdown",
   "id": "nuclear-scanning",
   "metadata": {},
   "source": [
    "- 소분류별 평균 가격을 구한 후, 'NEW_CAT(간략분류)' 기준으로 5등급을 매김. \n",
    "- 용이한 회귀분석을 위해 가격이 높은 물건에 더 큰 숫자를 부여했음\n",
    "    - 1등급에는 5점, 2등급에는 4점 ... 5등급에는 1점을 부여"
   ]
  },
  {
   "cell_type": "code",
   "execution_count": 28,
   "id": "chubby-advertising",
   "metadata": {},
   "outputs": [],
   "source": [
    "small_avg = small_avg.rename({'CLASS':'CLASS_POINT'},axis='columns')"
   ]
  },
  {
   "cell_type": "code",
   "execution_count": 29,
   "id": "political-agenda",
   "metadata": {},
   "outputs": [
    {
     "data": {
      "text/html": [
       "<div>\n",
       "<style scoped>\n",
       "    .dataframe tbody tr th:only-of-type {\n",
       "        vertical-align: middle;\n",
       "    }\n",
       "\n",
       "    .dataframe tbody tr th {\n",
       "        vertical-align: top;\n",
       "    }\n",
       "\n",
       "    .dataframe thead th {\n",
       "        text-align: right;\n",
       "    }\n",
       "</style>\n",
       "<table border=\"1\" class=\"dataframe\">\n",
       "  <thead>\n",
       "    <tr style=\"text-align: right;\">\n",
       "      <th></th>\n",
       "      <th>제휴사</th>\n",
       "      <th>S_CAT</th>\n",
       "      <th>소분류평균</th>\n",
       "      <th>NEW_CAT</th>\n",
       "      <th>CLASS_POINT</th>\n",
       "    </tr>\n",
       "  </thead>\n",
       "  <tbody>\n",
       "    <tr>\n",
       "      <th>0</th>\n",
       "      <td>B</td>\n",
       "      <td>B160101</td>\n",
       "      <td>3778</td>\n",
       "      <td>주류</td>\n",
       "      <td>1</td>\n",
       "    </tr>\n",
       "    <tr>\n",
       "      <th>1</th>\n",
       "      <td>B</td>\n",
       "      <td>B050901</td>\n",
       "      <td>2926</td>\n",
       "      <td>농산물</td>\n",
       "      <td>2</td>\n",
       "    </tr>\n",
       "    <tr>\n",
       "      <th>2</th>\n",
       "      <td>B</td>\n",
       "      <td>B060105</td>\n",
       "      <td>5673</td>\n",
       "      <td>수산물</td>\n",
       "      <td>2</td>\n",
       "    </tr>\n",
       "    <tr>\n",
       "      <th>3</th>\n",
       "      <td>B</td>\n",
       "      <td>B100306</td>\n",
       "      <td>4252</td>\n",
       "      <td>음료</td>\n",
       "      <td>3</td>\n",
       "    </tr>\n",
       "    <tr>\n",
       "      <th>4</th>\n",
       "      <td>B</td>\n",
       "      <td>B670402</td>\n",
       "      <td>4839</td>\n",
       "      <td>간식류</td>\n",
       "      <td>3</td>\n",
       "    </tr>\n",
       "    <tr>\n",
       "      <th>...</th>\n",
       "      <td>...</td>\n",
       "      <td>...</td>\n",
       "      <td>...</td>\n",
       "      <td>...</td>\n",
       "      <td>...</td>\n",
       "    </tr>\n",
       "    <tr>\n",
       "      <th>2030</th>\n",
       "      <td>C</td>\n",
       "      <td>C030209</td>\n",
       "      <td>3973</td>\n",
       "      <td>농산물</td>\n",
       "      <td>2</td>\n",
       "    </tr>\n",
       "    <tr>\n",
       "      <th>2031</th>\n",
       "      <td>B</td>\n",
       "      <td>B790701</td>\n",
       "      <td>27200</td>\n",
       "      <td>수산물</td>\n",
       "      <td>5</td>\n",
       "    </tr>\n",
       "    <tr>\n",
       "      <th>2032</th>\n",
       "      <td>B</td>\n",
       "      <td>B061104</td>\n",
       "      <td>21000</td>\n",
       "      <td>수산물</td>\n",
       "      <td>5</td>\n",
       "    </tr>\n",
       "    <tr>\n",
       "      <th>2033</th>\n",
       "      <td>B</td>\n",
       "      <td>B070203</td>\n",
       "      <td>4510</td>\n",
       "      <td>수산물</td>\n",
       "      <td>1</td>\n",
       "    </tr>\n",
       "    <tr>\n",
       "      <th>2034</th>\n",
       "      <td>B</td>\n",
       "      <td>B050114</td>\n",
       "      <td>10300</td>\n",
       "      <td>농산물</td>\n",
       "      <td>4</td>\n",
       "    </tr>\n",
       "  </tbody>\n",
       "</table>\n",
       "<p>2035 rows × 5 columns</p>\n",
       "</div>"
      ],
      "text/plain": [
       "     제휴사    S_CAT  소분류평균 NEW_CAT  CLASS_POINT\n",
       "0      B  B160101   3778      주류            1\n",
       "1      B  B050901   2926     농산물            2\n",
       "2      B  B060105   5673     수산물            2\n",
       "3      B  B100306   4252      음료            3\n",
       "4      B  B670402   4839     간식류            3\n",
       "...   ..      ...    ...     ...          ...\n",
       "2030   C  C030209   3973     농산물            2\n",
       "2031   B  B790701  27200     수산물            5\n",
       "2032   B  B061104  21000     수산물            5\n",
       "2033   B  B070203   4510     수산물            1\n",
       "2034   B  B050114  10300     농산물            4\n",
       "\n",
       "[2035 rows x 5 columns]"
      ]
     },
     "execution_count": 29,
     "metadata": {},
     "output_type": "execute_result"
    }
   ],
   "source": [
    "small_avg"
   ]
  },
  {
   "cell_type": "code",
   "execution_count": 30,
   "id": "adjusted-ethnic",
   "metadata": {},
   "outputs": [],
   "source": [
    "# small_avg.to_csv('dataset/small_avg_class_point.csv', encoding='utf-8-sig')"
   ]
  },
  {
   "cell_type": "markdown",
   "id": "economic-password",
   "metadata": {},
   "source": [
    "A제휴사의 평균 등급 점수(5점에 가까울수록 비싼 품목)"
   ]
  },
  {
   "cell_type": "code",
   "execution_count": 38,
   "id": "collected-allocation",
   "metadata": {},
   "outputs": [
    {
     "data": {
      "text/plain": [
       "4.37"
      ]
     },
     "execution_count": 38,
     "metadata": {},
     "output_type": "execute_result"
    }
   ],
   "source": [
    "np.round(np.mean(small_avg[(small_avg['제휴사']=='A')]['CLASS_POINT']),2)"
   ]
  },
  {
   "cell_type": "markdown",
   "id": "thirty-commissioner",
   "metadata": {},
   "source": [
    "B제휴사의 평균 등급 점수(5점에 가까울수록 비싼 품목)"
   ]
  },
  {
   "cell_type": "code",
   "execution_count": 40,
   "id": "statistical-premises",
   "metadata": {},
   "outputs": [
    {
     "data": {
      "text/plain": [
       "3.04"
      ]
     },
     "execution_count": 40,
     "metadata": {},
     "output_type": "execute_result"
    }
   ],
   "source": [
    "np.round(np.mean(small_avg[(small_avg['제휴사']=='B')]['CLASS_POINT']),2)"
   ]
  },
  {
   "cell_type": "markdown",
   "id": "inner-walnut",
   "metadata": {},
   "source": [
    "C제휴사의 평균 등급 점수(5점에 가까울수록 비싼 품목)"
   ]
  },
  {
   "cell_type": "code",
   "execution_count": 39,
   "id": "normal-network",
   "metadata": {},
   "outputs": [
    {
     "data": {
      "text/plain": [
       "2.65"
      ]
     },
     "execution_count": 39,
     "metadata": {},
     "output_type": "execute_result"
    }
   ],
   "source": [
    "np.round(np.mean(small_avg[(small_avg['제휴사']=='C')]['CLASS_POINT']),2)"
   ]
  },
  {
   "cell_type": "markdown",
   "id": "existing-payday",
   "metadata": {},
   "source": [
    "A제휴사 품목은 대체로 4점~5점의 고가상품으로 구성"
   ]
  },
  {
   "cell_type": "code",
   "execution_count": 43,
   "id": "substantial-hamburg",
   "metadata": {},
   "outputs": [
    {
     "data": {
      "text/plain": [
       "(array([ 3.,  4., 13., 27., 76.]),\n",
       " array([1. , 1.8, 2.6, 3.4, 4.2, 5. ]),\n",
       " <BarContainer object of 5 artists>)"
      ]
     },
     "execution_count": 43,
     "metadata": {},
     "output_type": "execute_result"
    },
    {
     "data": {
      "image/png": "[encoded data removed]",
      "text/plain": [
       "<Figure size 432x288 with 1 Axes>"
      ]
     },
     "metadata": {
      "image/png": {
       "height": 249,
       "width": 367
      },
      "needs_background": "light"
     },
     "output_type": "display_data"
    }
   ],
   "source": [
    "A_class = small_avg[(small_avg['제휴사']=='A')]\n",
    "plt.hist(A_class['CLASS_POINT'],bins=5)"
   ]
  },
  {
   "cell_type": "markdown",
   "id": "gentle-resolution",
   "metadata": {},
   "source": [
    "B제휴사 품목은 등급이 고르게 분포되어 있는데, 3등급 물품이 가장 많음."
   ]
  },
  {
   "cell_type": "code",
   "execution_count": 44,
   "id": "systematic-rehabilitation",
   "metadata": {},
   "outputs": [
    {
     "data": {
      "text/plain": [
       "(array([221., 266., 302., 267., 246.]),\n",
       " array([1. , 1.8, 2.6, 3.4, 4.2, 5. ]),\n",
       " <BarContainer object of 5 artists>)"
      ]
     },
     "execution_count": 44,
     "metadata": {},
     "output_type": "execute_result"
    },
    {
     "data": {
      "image/png": "[encoded data removed]",
      "text/plain": [
       "<Figure size 432x288 with 1 Axes>"
      ]
     },
     "metadata": {
      "image/png": {
       "height": 249,
       "width": 372
      },
      "needs_background": "light"
     },
     "output_type": "display_data"
    }
   ],
   "source": [
    "B_class = small_avg[(small_avg['제휴사']=='B')]\n",
    "plt.hist(B_class['CLASS_POINT'],bins=5)"
   ]
  },
  {
   "cell_type": "markdown",
   "id": "independent-franklin",
   "metadata": {},
   "source": [
    "C제휴사에는 1~2점짜리와 3점짜리 상품이 많이 구성되어 있다. 고가 품목은 타 제휴사에 비해 적은 편이다."
   ]
  },
  {
   "cell_type": "code",
   "execution_count": 45,
   "id": "occupied-essay",
   "metadata": {},
   "outputs": [
    {
     "data": {
      "text/plain": [
       "(array([149., 161., 131.,  94.,  75.]),\n",
       " array([1. , 1.8, 2.6, 3.4, 4.2, 5. ]),\n",
       " <BarContainer object of 5 artists>)"
      ]
     },
     "execution_count": 45,
     "metadata": {},
     "output_type": "execute_result"
    },
    {
     "data": {
      "image/png": "[encoded data removed]",
      "text/plain": [
       "<Figure size 432x288 with 1 Axes>"
      ]
     },
     "metadata": {
      "image/png": {
       "height": 249,
       "width": 372
      },
      "needs_background": "light"
     },
     "output_type": "display_data"
    }
   ],
   "source": [
    "C_class = small_avg[(small_avg['제휴사']=='C')]\n",
    "plt.hist(C_class['CLASS_POINT'],bins=5)"
   ]
  },
  {
   "cell_type": "code",
   "execution_count": null,
   "id": "precise-sherman",
   "metadata": {},
   "outputs": [],
   "source": []
  },
  {
   "cell_type": "code",
   "execution_count": null,
   "id": "completed-drain",
   "metadata": {},
   "outputs": [],
   "source": []
  },
  {
   "cell_type": "code",
   "execution_count": null,
   "id": "right-auction",
   "metadata": {},
   "outputs": [],
   "source": []
  },
  {
   "cell_type": "code",
   "execution_count": null,
   "id": "running-guitar",
   "metadata": {},
   "outputs": [],
   "source": []
  },
  {
   "cell_type": "code",
   "execution_count": null,
   "id": "irish-provision",
   "metadata": {},
   "outputs": [],
   "source": []
  },
  {
   "cell_type": "code",
   "execution_count": null,
   "id": "precious-territory",
   "metadata": {},
   "outputs": [],
   "source": []
  },
  {
   "cell_type": "code",
   "execution_count": null,
   "id": "above-camel",
   "metadata": {},
   "outputs": [],
   "source": []
  },
  {
   "cell_type": "code",
   "execution_count": null,
   "id": "informal-saudi",
   "metadata": {},
   "outputs": [],
   "source": []
  },
  {
   "cell_type": "code",
   "execution_count": null,
   "id": "frequent-payday",
   "metadata": {},
   "outputs": [],
   "source": []
  },
  {
   "cell_type": "code",
   "execution_count": null,
   "id": "weird-speech",
   "metadata": {},
   "outputs": [],
   "source": []
  },
  {
   "cell_type": "code",
   "execution_count": null,
   "id": "advised-smith",
   "metadata": {},
   "outputs": [],
   "source": []
  },
  {
   "cell_type": "code",
   "execution_count": 7,
   "id": "nonprofit-front",
   "metadata": {},
   "outputs": [],
   "source": [
    "import cx_Oracle\n",
    "\n",
    "db = cx_Oracle.connect(\"LMEMBER\", \"lmember\", 'localhost:1521/xepdb1')\n",
    "cursor = db.cursor()\n",
    "#cursor.execute(\"select shop||'-'||gender||'-'||age cust, new_cat, -1 * gap gap from shop_cat1\")\n",
    "cursor.execute(\"select shop||'-'||gender||'-'||age cust, new_cat, amt_sum_14, amt_sum_15 from shop_cat1\")\n",
    "x = cursor.fetchall()\n",
    "shop_cat = pd.DataFrame(x)\n",
    "shop_cat.columns = ['고객','카테고리', '14년 매출금액', '15년 매출금액']\n",
    "cursor.close()\n",
    "db.close()"
   ]
  },
  {
   "cell_type": "code",
   "execution_count": 8,
   "id": "instant-texture",
   "metadata": {},
   "outputs": [
    {
     "data": {
      "text/html": [
       "<div>\n",
       "<style scoped>\n",
       "    .dataframe tbody tr th:only-of-type {\n",
       "        vertical-align: middle;\n",
       "    }\n",
       "\n",
       "    .dataframe tbody tr th {\n",
       "        vertical-align: top;\n",
       "    }\n",
       "\n",
       "    .dataframe thead th {\n",
       "        text-align: right;\n",
       "    }\n",
       "</style>\n",
       "<table border=\"1\" class=\"dataframe\">\n",
       "  <thead>\n",
       "    <tr style=\"text-align: right;\">\n",
       "      <th></th>\n",
       "      <th>고객</th>\n",
       "      <th>카테고리</th>\n",
       "      <th>14년 매출금액</th>\n",
       "      <th>15년 매출금액</th>\n",
       "    </tr>\n",
       "  </thead>\n",
       "  <tbody>\n",
       "    <tr>\n",
       "      <th>0</th>\n",
       "      <td>B-M-35세~39세</td>\n",
       "      <td>간식류</td>\n",
       "      <td>2312118611</td>\n",
       "      <td>261538769</td>\n",
       "    </tr>\n",
       "    <tr>\n",
       "      <th>1</th>\n",
       "      <td>B-F-40세~44세</td>\n",
       "      <td>간식류</td>\n",
       "      <td>1735859708</td>\n",
       "      <td>965095873</td>\n",
       "    </tr>\n",
       "    <tr>\n",
       "      <th>2</th>\n",
       "      <td>B-F-35세~39세</td>\n",
       "      <td>음료</td>\n",
       "      <td>902666270</td>\n",
       "      <td>476156266</td>\n",
       "    </tr>\n",
       "    <tr>\n",
       "      <th>3</th>\n",
       "      <td>C-F-35세~39세</td>\n",
       "      <td>음료</td>\n",
       "      <td>535836833</td>\n",
       "      <td>275125820</td>\n",
       "    </tr>\n",
       "    <tr>\n",
       "      <th>4</th>\n",
       "      <td>B-M-45세~49세</td>\n",
       "      <td>음료</td>\n",
       "      <td>381792550</td>\n",
       "      <td>238260840</td>\n",
       "    </tr>\n",
       "    <tr>\n",
       "      <th>...</th>\n",
       "      <td>...</td>\n",
       "      <td>...</td>\n",
       "      <td>...</td>\n",
       "      <td>...</td>\n",
       "    </tr>\n",
       "    <tr>\n",
       "      <th>474</th>\n",
       "      <td>B-F-45세~49세</td>\n",
       "      <td>농산물</td>\n",
       "      <td>1386552836</td>\n",
       "      <td>1630563436</td>\n",
       "    </tr>\n",
       "    <tr>\n",
       "      <th>475</th>\n",
       "      <td>B-F-50세~54세</td>\n",
       "      <td>농산물</td>\n",
       "      <td>1144975419</td>\n",
       "      <td>1395486075</td>\n",
       "    </tr>\n",
       "    <tr>\n",
       "      <th>476</th>\n",
       "      <td>C-M-45세~49세</td>\n",
       "      <td>음료</td>\n",
       "      <td>74465605</td>\n",
       "      <td>403239550</td>\n",
       "    </tr>\n",
       "    <tr>\n",
       "      <th>477</th>\n",
       "      <td>C-F-50세~54세</td>\n",
       "      <td>음료</td>\n",
       "      <td>446732589</td>\n",
       "      <td>825999498</td>\n",
       "    </tr>\n",
       "    <tr>\n",
       "      <th>478</th>\n",
       "      <td>C-M-35세~39세</td>\n",
       "      <td>음료</td>\n",
       "      <td>130802974</td>\n",
       "      <td>592708198</td>\n",
       "    </tr>\n",
       "  </tbody>\n",
       "</table>\n",
       "<p>479 rows × 4 columns</p>\n",
       "</div>"
      ],
      "text/plain": [
       "              고객 카테고리    14년 매출금액    15년 매출금액\n",
       "0    B-M-35세~39세  간식류  2312118611   261538769\n",
       "1    B-F-40세~44세  간식류  1735859708   965095873\n",
       "2    B-F-35세~39세   음료   902666270   476156266\n",
       "3    C-F-35세~39세   음료   535836833   275125820\n",
       "4    B-M-45세~49세   음료   381792550   238260840\n",
       "..           ...  ...         ...         ...\n",
       "474  B-F-45세~49세  농산물  1386552836  1630563436\n",
       "475  B-F-50세~54세  농산물  1144975419  1395486075\n",
       "476  C-M-45세~49세   음료    74465605   403239550\n",
       "477  C-F-50세~54세   음료   446732589   825999498\n",
       "478  C-M-35세~39세   음료   130802974   592708198\n",
       "\n",
       "[479 rows x 4 columns]"
      ]
     },
     "execution_count": 8,
     "metadata": {},
     "output_type": "execute_result"
    }
   ],
   "source": [
    "shop_cat"
   ]
  },
  {
   "cell_type": "code",
   "execution_count": 21,
   "id": "sunrise-helicopter",
   "metadata": {},
   "outputs": [
    {
     "data": {
      "text/plain": [
       "<AxesSubplot:xlabel='카테고리', ylabel='GAP'>"
      ]
     },
     "execution_count": 21,
     "metadata": {},
     "output_type": "execute_result"
    },
    {
     "data": {
      "image/png": "[encoded data removed]",
      "text/plain": [
       "<Figure size 720x720 with 1 Axes>"
      ]
     },
     "metadata": {
      "image/png": {
       "height": 601,
       "width": 616
      },
      "needs_background": "light"
     },
     "output_type": "display_data"
    }
   ],
   "source": [
    "shop_cat['GAP'] = shop_cat['15년 매출금액']-shop_cat['14년 매출금액']\n",
    "shop_cat.sort_values(by='GAP',ascending=True,inplace=True)\n",
    "df = shop_cat[:20]\n",
    "plt.figure(figsize=(10,10))\n",
    "sns.barplot(x='카테고리',y='GAP',hue='고객',data=df)"
   ]
  },
  {
   "cell_type": "code",
   "execution_count": 22,
   "id": "played-frontier",
   "metadata": {},
   "outputs": [
    {
     "data": {
      "text/plain": [
       "<AxesSubplot:xlabel='카테고리', ylabel='GAP'>"
      ]
     },
     "execution_count": 22,
     "metadata": {},
     "output_type": "execute_result"
    },
    {
     "data": {
      "image/png": "[encoded data removed]",
      "text/plain": [
       "<Figure size 720x720 with 1 Axes>"
      ]
     },
     "metadata": {
      "image/png": {
       "height": 601,
       "width": 599
      },
      "needs_background": "light"
     },
     "output_type": "display_data"
    }
   ],
   "source": [
    "shop_cat['GAP'] = shop_cat['15년 매출금액']-shop_cat['14년 매출금액']\n",
    "shop_cat.sort_values(by='GAP',ascending=False,inplace=True)\n",
    "df = shop_cat[:20]\n",
    "plt.figure(figsize=(10,10))\n",
    "sns.barplot(x='카테고리',y='GAP',hue='고객',data=df)"
   ]
  },
  {
   "cell_type": "code",
   "execution_count": null,
   "id": "developed-africa",
   "metadata": {},
   "outputs": [],
   "source": []
  },
  {
   "cell_type": "code",
   "execution_count": null,
   "id": "behavioral-terminology",
   "metadata": {},
   "outputs": [],
   "source": []
  },
  {
   "cell_type": "code",
   "execution_count": null,
   "id": "infectious-margin",
   "metadata": {},
   "outputs": [],
   "source": []
  },
  {
   "cell_type": "code",
   "execution_count": 23,
   "id": "sweet-madrid",
   "metadata": {},
   "outputs": [
    {
     "data": {
      "text/html": [
       "<div>\n",
       "<style scoped>\n",
       "    .dataframe tbody tr th:only-of-type {\n",
       "        vertical-align: middle;\n",
       "    }\n",
       "\n",
       "    .dataframe tbody tr th {\n",
       "        vertical-align: top;\n",
       "    }\n",
       "\n",
       "    .dataframe thead th {\n",
       "        text-align: right;\n",
       "    }\n",
       "</style>\n",
       "<table border=\"1\" class=\"dataframe\">\n",
       "  <thead>\n",
       "    <tr style=\"text-align: right;\">\n",
       "      <th></th>\n",
       "      <th>고객번호</th>\n",
       "      <th>점포코드</th>\n",
       "      <th>총구매액</th>\n",
       "    </tr>\n",
       "  </thead>\n",
       "  <tbody>\n",
       "    <tr>\n",
       "      <th>0</th>\n",
       "      <td>07133</td>\n",
       "      <td>033</td>\n",
       "      <td>12641512</td>\n",
       "    </tr>\n",
       "    <tr>\n",
       "      <th>1</th>\n",
       "      <td>18750</td>\n",
       "      <td>074</td>\n",
       "      <td>5025552</td>\n",
       "    </tr>\n",
       "    <tr>\n",
       "      <th>2</th>\n",
       "      <td>08528</td>\n",
       "      <td>075</td>\n",
       "      <td>5001467</td>\n",
       "    </tr>\n",
       "    <tr>\n",
       "      <th>3</th>\n",
       "      <td>16154</td>\n",
       "      <td>015</td>\n",
       "      <td>7768650</td>\n",
       "    </tr>\n",
       "    <tr>\n",
       "      <th>4</th>\n",
       "      <td>12922</td>\n",
       "      <td>031</td>\n",
       "      <td>5902210</td>\n",
       "    </tr>\n",
       "  </tbody>\n",
       "</table>\n",
       "</div>"
      ],
      "text/plain": [
       "    고객번호 점포코드      총구매액\n",
       "0  07133  033  12641512\n",
       "1  18750  074   5025552\n",
       "2  08528  075   5001467\n",
       "3  16154  015   7768650\n",
       "4  12922  031   5902210"
      ]
     },
     "execution_count": 23,
     "metadata": {},
     "output_type": "execute_result"
    }
   ],
   "source": [
    "import cx_Oracle\n",
    "\n",
    "db = cx_Oracle.connect(\"LMEMBER\", \"lmember\", 'localhost:1521/xepdb1')\n",
    "cursor = db.cursor()\n",
    "#cursor.execute(\"select shop||'-'||gender||'-'||age cust, new_cat, -1 * gap gap from shop_cat1\")\n",
    "cursor.execute(\"select 고객번호, 점포코드, sum(구매금액) from purprd where 소분류코드 in (select 소분류코드 from food_abc) group by 점포코드, 고객번호\")\n",
    "x = cursor.fetchall()\n",
    "marketcode = pd.DataFrame(x)\n",
    "marketcode.columns = ['고객번호','점포코드', '총구매액']\n",
    "cursor.close()\n",
    "db.close()\n",
    "\n",
    "marketcode.head()"
   ]
  },
  {
   "cell_type": "code",
   "execution_count": 34,
   "id": "designed-agreement",
   "metadata": {},
   "outputs": [],
   "source": [
    "marketcode.to_csv('dataset/marketcode.csv',encoding='cp949')"
   ]
  },
  {
   "cell_type": "code",
   "execution_count": 46,
   "id": "internal-paste",
   "metadata": {},
   "outputs": [],
   "source": [
    "grouped = marketcode.groupby(['점포코드'])['고객번호'].count()\n",
    "grouped.sort_values(ascending=False, inplace=True)\n",
    "top_20_visited_market = grouped[:20]\n",
    "top_20_visited_market = pd.DataFrame(top_20_visited_market)"
   ]
  },
  {
   "cell_type": "code",
   "execution_count": 52,
   "id": "geological-stephen",
   "metadata": {},
   "outputs": [
    {
     "data": {
      "text/html": [
       "<div>\n",
       "<style scoped>\n",
       "    .dataframe tbody tr th:only-of-type {\n",
       "        vertical-align: middle;\n",
       "    }\n",
       "\n",
       "    .dataframe tbody tr th {\n",
       "        vertical-align: top;\n",
       "    }\n",
       "\n",
       "    .dataframe thead th {\n",
       "        text-align: right;\n",
       "    }\n",
       "</style>\n",
       "<table border=\"1\" class=\"dataframe\">\n",
       "  <thead>\n",
       "    <tr style=\"text-align: right;\">\n",
       "      <th></th>\n",
       "      <th>고객번호</th>\n",
       "      <th>점포코드</th>\n",
       "    </tr>\n",
       "    <tr>\n",
       "      <th>점포코드</th>\n",
       "      <th></th>\n",
       "      <th></th>\n",
       "    </tr>\n",
       "  </thead>\n",
       "  <tbody>\n",
       "    <tr>\n",
       "      <th>002</th>\n",
       "      <td>5223</td>\n",
       "      <td>002</td>\n",
       "    </tr>\n",
       "    <tr>\n",
       "      <th>001</th>\n",
       "      <td>4434</td>\n",
       "      <td>001</td>\n",
       "    </tr>\n",
       "    <tr>\n",
       "      <th>007</th>\n",
       "      <td>3531</td>\n",
       "      <td>007</td>\n",
       "    </tr>\n",
       "    <tr>\n",
       "      <th>004</th>\n",
       "      <td>2786</td>\n",
       "      <td>004</td>\n",
       "    </tr>\n",
       "    <tr>\n",
       "      <th>009</th>\n",
       "      <td>2714</td>\n",
       "      <td>009</td>\n",
       "    </tr>\n",
       "    <tr>\n",
       "      <th>041</th>\n",
       "      <td>2455</td>\n",
       "      <td>041</td>\n",
       "    </tr>\n",
       "    <tr>\n",
       "      <th>029</th>\n",
       "      <td>2392</td>\n",
       "      <td>029</td>\n",
       "    </tr>\n",
       "    <tr>\n",
       "      <th>020</th>\n",
       "      <td>2374</td>\n",
       "      <td>020</td>\n",
       "    </tr>\n",
       "    <tr>\n",
       "      <th>025</th>\n",
       "      <td>2198</td>\n",
       "      <td>025</td>\n",
       "    </tr>\n",
       "    <tr>\n",
       "      <th>016</th>\n",
       "      <td>2179</td>\n",
       "      <td>016</td>\n",
       "    </tr>\n",
       "    <tr>\n",
       "      <th>012</th>\n",
       "      <td>1795</td>\n",
       "      <td>012</td>\n",
       "    </tr>\n",
       "    <tr>\n",
       "      <th>037</th>\n",
       "      <td>1773</td>\n",
       "      <td>037</td>\n",
       "    </tr>\n",
       "    <tr>\n",
       "      <th>026</th>\n",
       "      <td>1723</td>\n",
       "      <td>026</td>\n",
       "    </tr>\n",
       "    <tr>\n",
       "      <th>035</th>\n",
       "      <td>1635</td>\n",
       "      <td>035</td>\n",
       "    </tr>\n",
       "    <tr>\n",
       "      <th>011</th>\n",
       "      <td>1610</td>\n",
       "      <td>011</td>\n",
       "    </tr>\n",
       "    <tr>\n",
       "      <th>003</th>\n",
       "      <td>1604</td>\n",
       "      <td>003</td>\n",
       "    </tr>\n",
       "    <tr>\n",
       "      <th>008</th>\n",
       "      <td>1568</td>\n",
       "      <td>008</td>\n",
       "    </tr>\n",
       "    <tr>\n",
       "      <th>027</th>\n",
       "      <td>1564</td>\n",
       "      <td>027</td>\n",
       "    </tr>\n",
       "    <tr>\n",
       "      <th>024</th>\n",
       "      <td>1501</td>\n",
       "      <td>024</td>\n",
       "    </tr>\n",
       "    <tr>\n",
       "      <th>043</th>\n",
       "      <td>1466</td>\n",
       "      <td>043</td>\n",
       "    </tr>\n",
       "  </tbody>\n",
       "</table>\n",
       "</div>"
      ],
      "text/plain": [
       "      고객번호 점포코드\n",
       "점포코드           \n",
       "002   5223  002\n",
       "001   4434  001\n",
       "007   3531  007\n",
       "004   2786  004\n",
       "009   2714  009\n",
       "041   2455  041\n",
       "029   2392  029\n",
       "020   2374  020\n",
       "025   2198  025\n",
       "016   2179  016\n",
       "012   1795  012\n",
       "037   1773  037\n",
       "026   1723  026\n",
       "035   1635  035\n",
       "011   1610  011\n",
       "003   1604  003\n",
       "008   1568  008\n",
       "027   1564  027\n",
       "024   1501  024\n",
       "043   1466  043"
      ]
     },
     "execution_count": 52,
     "metadata": {},
     "output_type": "execute_result"
    }
   ],
   "source": [
    "top_20_visited_market['점포코드']= top_20_visited_market.index\n",
    "top_20_visited_market"
   ]
  },
  {
   "cell_type": "code",
   "execution_count": 65,
   "id": "commercial-restaurant",
   "metadata": {},
   "outputs": [
    {
     "data": {
      "text/html": [
       "<div>\n",
       "<style scoped>\n",
       "    .dataframe tbody tr th:only-of-type {\n",
       "        vertical-align: middle;\n",
       "    }\n",
       "\n",
       "    .dataframe tbody tr th {\n",
       "        vertical-align: top;\n",
       "    }\n",
       "\n",
       "    .dataframe thead th {\n",
       "        text-align: right;\n",
       "    }\n",
       "</style>\n",
       "<table border=\"1\" class=\"dataframe\">\n",
       "  <thead>\n",
       "    <tr style=\"text-align: right;\">\n",
       "      <th></th>\n",
       "      <th>총구매액</th>\n",
       "    </tr>\n",
       "    <tr>\n",
       "      <th>점포코드</th>\n",
       "      <th></th>\n",
       "    </tr>\n",
       "  </thead>\n",
       "  <tbody>\n",
       "    <tr>\n",
       "      <th>002</th>\n",
       "      <td>8165382258</td>\n",
       "    </tr>\n",
       "    <tr>\n",
       "      <th>007</th>\n",
       "      <td>7642281577</td>\n",
       "    </tr>\n",
       "    <tr>\n",
       "      <th>020</th>\n",
       "      <td>7034266061</td>\n",
       "    </tr>\n",
       "    <tr>\n",
       "      <th>001</th>\n",
       "      <td>5884226269</td>\n",
       "    </tr>\n",
       "    <tr>\n",
       "      <th>012</th>\n",
       "      <td>5254206490</td>\n",
       "    </tr>\n",
       "    <tr>\n",
       "      <th>029</th>\n",
       "      <td>5084640455</td>\n",
       "    </tr>\n",
       "    <tr>\n",
       "      <th>037</th>\n",
       "      <td>4377142327</td>\n",
       "    </tr>\n",
       "    <tr>\n",
       "      <th>013</th>\n",
       "      <td>3851304303</td>\n",
       "    </tr>\n",
       "    <tr>\n",
       "      <th>030</th>\n",
       "      <td>3703629503</td>\n",
       "    </tr>\n",
       "    <tr>\n",
       "      <th>008</th>\n",
       "      <td>3392665294</td>\n",
       "    </tr>\n",
       "    <tr>\n",
       "      <th>031</th>\n",
       "      <td>3373519247</td>\n",
       "    </tr>\n",
       "    <tr>\n",
       "      <th>010</th>\n",
       "      <td>3223207034</td>\n",
       "    </tr>\n",
       "    <tr>\n",
       "      <th>004</th>\n",
       "      <td>3191946123</td>\n",
       "    </tr>\n",
       "    <tr>\n",
       "      <th>006</th>\n",
       "      <td>3143299593</td>\n",
       "    </tr>\n",
       "    <tr>\n",
       "      <th>016</th>\n",
       "      <td>2804635625</td>\n",
       "    </tr>\n",
       "    <tr>\n",
       "      <th>025</th>\n",
       "      <td>2687161330</td>\n",
       "    </tr>\n",
       "    <tr>\n",
       "      <th>034</th>\n",
       "      <td>2467318612</td>\n",
       "    </tr>\n",
       "    <tr>\n",
       "      <th>003</th>\n",
       "      <td>2442983814</td>\n",
       "    </tr>\n",
       "    <tr>\n",
       "      <th>044</th>\n",
       "      <td>2407731091</td>\n",
       "    </tr>\n",
       "    <tr>\n",
       "      <th>014</th>\n",
       "      <td>2324559050</td>\n",
       "    </tr>\n",
       "  </tbody>\n",
       "</table>\n",
       "</div>"
      ],
      "text/plain": [
       "            총구매액\n",
       "점포코드            \n",
       "002   8165382258\n",
       "007   7642281577\n",
       "020   7034266061\n",
       "001   5884226269\n",
       "012   5254206490\n",
       "029   5084640455\n",
       "037   4377142327\n",
       "013   3851304303\n",
       "030   3703629503\n",
       "008   3392665294\n",
       "031   3373519247\n",
       "010   3223207034\n",
       "004   3191946123\n",
       "006   3143299593\n",
       "016   2804635625\n",
       "025   2687161330\n",
       "034   2467318612\n",
       "003   2442983814\n",
       "044   2407731091\n",
       "014   2324559050"
      ]
     },
     "execution_count": 65,
     "metadata": {},
     "output_type": "execute_result"
    }
   ],
   "source": [
    "grouped2 = marketcode.groupby(['점포코드'])['총구매액'].sum()\n",
    "grouped2.sort_values(ascending=False, inplace=True)\n",
    "top_20 = grouped2[:20]\n",
    "top_20 = pd.DataFrame(top_20)\n",
    "top_20"
   ]
  },
  {
   "cell_type": "code",
   "execution_count": 66,
   "id": "prerequisite-trouble",
   "metadata": {},
   "outputs": [
    {
     "data": {
      "text/html": [
       "<div>\n",
       "<style scoped>\n",
       "    .dataframe tbody tr th:only-of-type {\n",
       "        vertical-align: middle;\n",
       "    }\n",
       "\n",
       "    .dataframe tbody tr th {\n",
       "        vertical-align: top;\n",
       "    }\n",
       "\n",
       "    .dataframe thead th {\n",
       "        text-align: right;\n",
       "    }\n",
       "</style>\n",
       "<table border=\"1\" class=\"dataframe\">\n",
       "  <thead>\n",
       "    <tr style=\"text-align: right;\">\n",
       "      <th></th>\n",
       "      <th>총구매액</th>\n",
       "      <th>점포코드</th>\n",
       "    </tr>\n",
       "    <tr>\n",
       "      <th>점포코드</th>\n",
       "      <th></th>\n",
       "      <th></th>\n",
       "    </tr>\n",
       "  </thead>\n",
       "  <tbody>\n",
       "    <tr>\n",
       "      <th>002</th>\n",
       "      <td>8165382258</td>\n",
       "      <td>002</td>\n",
       "    </tr>\n",
       "    <tr>\n",
       "      <th>007</th>\n",
       "      <td>7642281577</td>\n",
       "      <td>007</td>\n",
       "    </tr>\n",
       "    <tr>\n",
       "      <th>020</th>\n",
       "      <td>7034266061</td>\n",
       "      <td>020</td>\n",
       "    </tr>\n",
       "    <tr>\n",
       "      <th>001</th>\n",
       "      <td>5884226269</td>\n",
       "      <td>001</td>\n",
       "    </tr>\n",
       "    <tr>\n",
       "      <th>012</th>\n",
       "      <td>5254206490</td>\n",
       "      <td>012</td>\n",
       "    </tr>\n",
       "    <tr>\n",
       "      <th>029</th>\n",
       "      <td>5084640455</td>\n",
       "      <td>029</td>\n",
       "    </tr>\n",
       "    <tr>\n",
       "      <th>037</th>\n",
       "      <td>4377142327</td>\n",
       "      <td>037</td>\n",
       "    </tr>\n",
       "    <tr>\n",
       "      <th>013</th>\n",
       "      <td>3851304303</td>\n",
       "      <td>013</td>\n",
       "    </tr>\n",
       "    <tr>\n",
       "      <th>030</th>\n",
       "      <td>3703629503</td>\n",
       "      <td>030</td>\n",
       "    </tr>\n",
       "    <tr>\n",
       "      <th>008</th>\n",
       "      <td>3392665294</td>\n",
       "      <td>008</td>\n",
       "    </tr>\n",
       "    <tr>\n",
       "      <th>031</th>\n",
       "      <td>3373519247</td>\n",
       "      <td>031</td>\n",
       "    </tr>\n",
       "    <tr>\n",
       "      <th>010</th>\n",
       "      <td>3223207034</td>\n",
       "      <td>010</td>\n",
       "    </tr>\n",
       "    <tr>\n",
       "      <th>004</th>\n",
       "      <td>3191946123</td>\n",
       "      <td>004</td>\n",
       "    </tr>\n",
       "    <tr>\n",
       "      <th>006</th>\n",
       "      <td>3143299593</td>\n",
       "      <td>006</td>\n",
       "    </tr>\n",
       "    <tr>\n",
       "      <th>016</th>\n",
       "      <td>2804635625</td>\n",
       "      <td>016</td>\n",
       "    </tr>\n",
       "    <tr>\n",
       "      <th>025</th>\n",
       "      <td>2687161330</td>\n",
       "      <td>025</td>\n",
       "    </tr>\n",
       "    <tr>\n",
       "      <th>034</th>\n",
       "      <td>2467318612</td>\n",
       "      <td>034</td>\n",
       "    </tr>\n",
       "    <tr>\n",
       "      <th>003</th>\n",
       "      <td>2442983814</td>\n",
       "      <td>003</td>\n",
       "    </tr>\n",
       "    <tr>\n",
       "      <th>044</th>\n",
       "      <td>2407731091</td>\n",
       "      <td>044</td>\n",
       "    </tr>\n",
       "    <tr>\n",
       "      <th>014</th>\n",
       "      <td>2324559050</td>\n",
       "      <td>014</td>\n",
       "    </tr>\n",
       "  </tbody>\n",
       "</table>\n",
       "</div>"
      ],
      "text/plain": [
       "            총구매액 점포코드\n",
       "점포코드                 \n",
       "002   8165382258  002\n",
       "007   7642281577  007\n",
       "020   7034266061  020\n",
       "001   5884226269  001\n",
       "012   5254206490  012\n",
       "029   5084640455  029\n",
       "037   4377142327  037\n",
       "013   3851304303  013\n",
       "030   3703629503  030\n",
       "008   3392665294  008\n",
       "031   3373519247  031\n",
       "010   3223207034  010\n",
       "004   3191946123  004\n",
       "006   3143299593  006\n",
       "016   2804635625  016\n",
       "025   2687161330  025\n",
       "034   2467318612  034\n",
       "003   2442983814  003\n",
       "044   2407731091  044\n",
       "014   2324559050  014"
      ]
     },
     "execution_count": 66,
     "metadata": {},
     "output_type": "execute_result"
    }
   ],
   "source": [
    "top_20['점포코드']= top_20.index\n",
    "top_20"
   ]
  },
  {
   "cell_type": "code",
   "execution_count": 76,
   "id": "aggressive-sender",
   "metadata": {},
   "outputs": [
    {
     "data": {
      "text/plain": [
       "<AxesSubplot:xlabel='점포코드'>"
      ]
     },
     "execution_count": 76,
     "metadata": {},
     "output_type": "execute_result"
    },
    {
     "data": {
      "image/png": "[encoded data removed]",
      "text/plain": [
       "<Figure size 432x288 with 1 Axes>"
      ]
     },
     "metadata": {
      "image/png": {
       "height": 269,
       "width": 378
      },
      "needs_background": "light"
     },
     "output_type": "display_data"
    }
   ],
   "source": [
    "top_20_visited_market.plot.bar(alpha=0.7)"
   ]
  },
  {
   "cell_type": "code",
   "execution_count": 77,
   "id": "early-catholic",
   "metadata": {},
   "outputs": [
    {
     "data": {
      "text/plain": [
       "<AxesSubplot:xlabel='점포코드'>"
      ]
     },
     "execution_count": 77,
     "metadata": {},
     "output_type": "execute_result"
    },
    {
     "data": {
      "image/png": "[encoded data removed]",
      "text/plain": [
       "<Figure size 432x288 with 1 Axes>"
      ]
     },
     "metadata": {
      "image/png": {
       "height": 280,
       "width": 361
      },
      "needs_background": "light"
     },
     "output_type": "display_data"
    }
   ],
   "source": [
    "top_20.plot.bar(alpha=0.7)"
   ]
  },
  {
   "cell_type": "code",
   "execution_count": 80,
   "id": "recognized-ebony",
   "metadata": {},
   "outputs": [
    {
     "data": {
      "text/html": [
       "<div>\n",
       "<style scoped>\n",
       "    .dataframe tbody tr th:only-of-type {\n",
       "        vertical-align: middle;\n",
       "    }\n",
       "\n",
       "    .dataframe tbody tr th {\n",
       "        vertical-align: top;\n",
       "    }\n",
       "\n",
       "    .dataframe thead th {\n",
       "        text-align: right;\n",
       "    }\n",
       "</style>\n",
       "<table border=\"1\" class=\"dataframe\">\n",
       "  <thead>\n",
       "    <tr style=\"text-align: right;\">\n",
       "      <th></th>\n",
       "      <th>총구매액</th>\n",
       "    </tr>\n",
       "  </thead>\n",
       "  <tbody>\n",
       "    <tr>\n",
       "      <th>count</th>\n",
       "      <td>2.374000e+03</td>\n",
       "    </tr>\n",
       "    <tr>\n",
       "      <th>mean</th>\n",
       "      <td>2.963044e+06</td>\n",
       "    </tr>\n",
       "    <tr>\n",
       "      <th>std</th>\n",
       "      <td>8.750387e+06</td>\n",
       "    </tr>\n",
       "    <tr>\n",
       "      <th>min</th>\n",
       "      <td>7.500000e+02</td>\n",
       "    </tr>\n",
       "    <tr>\n",
       "      <th>25%</th>\n",
       "      <td>4.352000e+04</td>\n",
       "    </tr>\n",
       "    <tr>\n",
       "      <th>50%</th>\n",
       "      <td>3.572900e+05</td>\n",
       "    </tr>\n",
       "    <tr>\n",
       "      <th>75%</th>\n",
       "      <td>4.287600e+06</td>\n",
       "    </tr>\n",
       "    <tr>\n",
       "      <th>max</th>\n",
       "      <td>2.943261e+08</td>\n",
       "    </tr>\n",
       "  </tbody>\n",
       "</table>\n",
       "</div>"
      ],
      "text/plain": [
       "               총구매액\n",
       "count  2.374000e+03\n",
       "mean   2.963044e+06\n",
       "std    8.750387e+06\n",
       "min    7.500000e+02\n",
       "25%    4.352000e+04\n",
       "50%    3.572900e+05\n",
       "75%    4.287600e+06\n",
       "max    2.943261e+08"
      ]
     },
     "execution_count": 80,
     "metadata": {},
     "output_type": "execute_result"
    }
   ],
   "source": [
    "marketcode[marketcode['점포코드']=='020'].describe()"
   ]
  }
 ],
 "metadata": {
  "kernelspec": {
   "display_name": "Python 3",
   "language": "python",
   "name": "python3"
  },
  "language_info": {
   "codemirror_mode": {
    "name": "ipython",
    "version": 3
   },
   "file_extension": ".py",
   "mimetype": "text/x-python",
   "name": "python",
   "nbconvert_exporter": "python",
   "pygments_lexer": "ipython3",
   "version": "3.7.9"
  }
 },
 "nbformat": 4,
 "nbformat_minor": 5
}
