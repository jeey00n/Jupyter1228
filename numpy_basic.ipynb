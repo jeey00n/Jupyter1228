{
 "cells": [
  {
   "cell_type": "code",
   "execution_count": 2,
   "metadata": {},
   "outputs": [],
   "source": [
    "# Numpy는 내부적으로 데이터를 다른 내장 파이썬 객체와 구분된 연속된 메모리 블록에 저장\n",
    "import numpy as np\n",
    "my_arr = np.arange(1000000)\n",
    "my_list = list(range(1000000))"
   ]
  },
  {
   "cell_type": "code",
   "execution_count": 3,
   "metadata": {},
   "outputs": [
    {
     "name": "stdout",
     "output_type": "stream",
     "text": [
      "Wall time: 22.9 ms\n"
     ]
    }
   ],
   "source": [
    "# _는 값을 무시하고 싶은 경우 사용 (여기서는 인덱스를 무시)\n",
    "%time for _ in range(10): my_array2 = my_arr * 2"
   ]
  },
  {
   "cell_type": "code",
   "execution_count": 7,
   "metadata": {},
   "outputs": [
    {
     "name": "stdout",
     "output_type": "stream",
     "text": [
      "Wall time: 1 s\n"
     ]
    }
   ],
   "source": [
    "%time for _ in range(10): my_list2 = [x*2 for x in my_list]"
   ]
  },
  {
   "cell_type": "code",
   "execution_count": 13,
   "metadata": {},
   "outputs": [
    {
     "name": "stdout",
     "output_type": "stream",
     "text": [
      "[[0.93194582 0.57965806 1.64130004]\n",
      " [0.84622944 0.14127504 0.61932025]] \n",
      "\n",
      "[[ 9.31945815  5.79658063 16.41300036]\n",
      " [ 8.46229443  1.41275042  6.19320253]] \n",
      "\n",
      "[[1.86389163 1.15931613 3.28260007]\n",
      " [1.69245889 0.28255008 1.23864051]]\n"
     ]
    }
   ],
   "source": [
    "# randn은 2행 3열의 특정한 정규분포를 만들어 주는 함수\n",
    "data = np.random.randn(2,3)\n",
    "print(data, '\\n')\n",
    "print(data * 10, '\\n')\n",
    "print(data + data)"
   ]
  },
  {
   "cell_type": "code",
   "execution_count": 14,
   "metadata": {},
   "outputs": [
    {
     "name": "stdout",
     "output_type": "stream",
     "text": [
      "(2, 3)\n",
      "float64\n"
     ]
    }
   ],
   "source": [
    "print(data.shape) # 크기\n",
    "print(data.dtype) # 자료형"
   ]
  },
  {
   "cell_type": "code",
   "execution_count": 15,
   "metadata": {},
   "outputs": [
    {
     "name": "stdout",
     "output_type": "stream",
     "text": [
      "[6 7 5 8 0 1]\n"
     ]
    }
   ],
   "source": [
    "# array 함수\n",
    "data1 = [6,7,5,8,0,1]\n",
    "arr1 = np.array(data1)\n",
    "print(arr1)"
   ]
  },
  {
   "cell_type": "code",
   "execution_count": 17,
   "metadata": {},
   "outputs": [
    {
     "data": {
      "text/plain": [
       "'C:\\\\Caba2015\\\\workspace\\\\caba'"
      ]
     },
     "execution_count": 17,
     "metadata": {},
     "output_type": "execute_result"
    }
   ],
   "source": [
    "%pwd"
   ]
  },
  {
   "cell_type": "code",
   "execution_count": 16,
   "metadata": {},
   "outputs": [
    {
     "data": {
      "text/plain": [
       "array([[1, 2, 3, 4],\n",
       "       [5, 6, 7, 8]])"
      ]
     },
     "execution_count": 16,
     "metadata": {},
     "output_type": "execute_result"
    }
   ],
   "source": [
    "# 다차원 배열\n",
    "data2 = [[1,2,3,4],[5,6,7,8]]\n",
    "arr2 = np.array(data2)\n",
    "arr2"
   ]
  },
  {
   "cell_type": "code",
   "execution_count": 19,
   "metadata": {},
   "outputs": [
    {
     "name": "stdout",
     "output_type": "stream",
     "text": [
      "2\n",
      "(2, 4)\n"
     ]
    }
   ],
   "source": [
    "print(arr2.ndim) # 차원\n",
    "print(arr2.shape) # 크기"
   ]
  },
  {
   "cell_type": "code",
   "execution_count": 21,
   "metadata": {},
   "outputs": [
    {
     "name": "stdout",
     "output_type": "stream",
     "text": [
      "array1 type: <class 'numpy.ndarray'>\n",
      "array1 array 형태: (3,)\n"
     ]
    }
   ],
   "source": [
    "# 1차원 배열로 3개의 데이터\n",
    "array1 = np.array([1,2,3])\n",
    "print('array1 type:',type(array1))\n",
    "print('array1 array 형태:',array1.shape) # 1차원인 경우는\n",
    "                                         # (,열)이 아닌 (열,) 형태다."
   ]
  },
  {
   "cell_type": "code",
   "execution_count": 24,
   "metadata": {},
   "outputs": [
    {
     "name": "stdout",
     "output_type": "stream",
     "text": [
      "array2 type: <class 'numpy.ndarray'>\n",
      "array2 array 형태: (2, 3)\n"
     ]
    }
   ],
   "source": [
    "# 2차원 배열로 2개의 row와 3개의 column으로 구성된 6개의 데이터\n",
    "array2 = np.array([[1,2,3],\n",
    "                 [2,3,4]])\n",
    "print('array2 type:',type(array2))\n",
    "print('array2 array 형태:',array2.shape)"
   ]
  },
  {
   "cell_type": "code",
   "execution_count": 26,
   "metadata": {},
   "outputs": [
    {
     "name": "stdout",
     "output_type": "stream",
     "text": [
      "[[1 2 3]]\n",
      "(1, 3)\n"
     ]
    }
   ],
   "source": [
    "# 1개의 row와 3개의 column으로 구성된 2차원 배열\n",
    "array21 = np.array([[1,2,3]])\n",
    "print(array21)\n",
    "print(array21.shape) # 2차원인 경우는 (1,3) 형식으로 표현된다.\n",
    "                     # 위의 1차원 배열 shape와 구분해서 알아두기"
   ]
  },
  {
   "cell_type": "code",
   "execution_count": 32,
   "metadata": {},
   "outputs": [
    {
     "name": "stdout",
     "output_type": "stream",
     "text": [
      "<class 'numpy.ndarray'> \n",
      "\n",
      "(array([[[ 1,  2,  3,  4,  5],\n",
      "        [ 6,  7,  8,  9, 10]],\n",
      "\n",
      "       [[ 1,  2,  3,  4,  5],\n",
      "        [ 6,  7,  8,  9, 10]],\n",
      "\n",
      "       [[ 1,  2,  3,  4,  5],\n",
      "        [ 6,  7,  8,  9, 10]]]), (3, 2, 5))\n"
     ]
    }
   ],
   "source": [
    "import numpy as np\n",
    "array3 = np.array([[[1,2,3,4,5],[6,7,8,9,10]],\n",
    "                  [[1,2,3,4,5],[6,7,8,9,10]],\n",
    "                  [[1,2,3,4,5],[6,7,8,9,10]]])\n",
    "\n",
    "print(type(array3),'\\n')\n",
    "print((array3, array3.shape))"
   ]
  },
  {
   "cell_type": "markdown",
   "metadata": {},
   "source": [
    "배열 생성 및 초기화\n",
    "- Numpy는 원하는 shape로 배열을 설정하고 각 요소를 특정 값으로 초기화하는 zeros,\n",
    "  ones, full, eye 함수 제공\n",
    "- 파라미터로 입력한 배열과 같은 shape의 배열을 만드는 zeros_like, ones_like,\n",
    "  full_like 함수도 제공"
   ]
  },
  {
   "cell_type": "code",
   "execution_count": 37,
   "metadata": {},
   "outputs": [
    {
     "name": "stdout",
     "output_type": "stream",
     "text": [
      "[0. 0. 0. 0. 0. 0. 0. 0. 0. 0.]\n",
      "[[0. 0. 0. 0. 0. 0.]\n",
      " [0. 0. 0. 0. 0. 0.]\n",
      " [0. 0. 0. 0. 0. 0.]]\n",
      "[[[0. 0.]\n",
      "  [0. 0.]\n",
      "  [0. 0.]]\n",
      "\n",
      " [[0. 0.]\n",
      "  [0. 0.]\n",
      "  [0. 0.]]]\n"
     ]
    }
   ],
   "source": [
    "print(np.zeros(10)) # 0이 10개인 1차원 배열 생성\n",
    "print(np.zeros((3,6))) # 2차원 배열 만들어 줌\n",
    "print(np.zeros((2,3,2))) #3차원 배열 만들어 줌"
   ]
  },
  {
   "cell_type": "code",
   "execution_count": 38,
   "metadata": {},
   "outputs": [
    {
     "data": {
      "text/plain": [
       "array([[[1., 1., 1., 1.],\n",
       "        [1., 1., 1., 1.],\n",
       "        [1., 1., 1., 1.]],\n",
       "\n",
       "       [[1., 1., 1., 1.],\n",
       "        [1., 1., 1., 1.],\n",
       "        [1., 1., 1., 1.]]])"
      ]
     },
     "execution_count": 38,
     "metadata": {},
     "output_type": "execute_result"
    }
   ],
   "source": [
    "a = np.ones((2,3,4))\n",
    "a"
   ]
  },
  {
   "cell_type": "code",
   "execution_count": 39,
   "metadata": {},
   "outputs": [
    {
     "data": {
      "text/plain": [
       "array([ 0,  1,  2,  3,  4,  5,  6,  7,  8,  9, 10, 11, 12, 13, 14])"
      ]
     },
     "execution_count": 39,
     "metadata": {},
     "output_type": "execute_result"
    }
   ],
   "source": [
    "# arange 함수: 파이썬의 range함수의 배열 버전\n",
    "arr3 = np.arange(15)\n",
    "arr3"
   ]
  },
  {
   "cell_type": "code",
   "execution_count": 40,
   "metadata": {},
   "outputs": [
    {
     "data": {
      "text/plain": [
       "array([[ 0,  1,  2,  3,  4],\n",
       "       [ 5,  6,  7,  8,  9],\n",
       "       [10, 11, 12, 13, 14]])"
      ]
     },
     "execution_count": 40,
     "metadata": {},
     "output_type": "execute_result"
    }
   ],
   "source": [
    "# arrange함수와 reshape함수를 함께 사용하여 원하는 모양의 배열을 만들 수 있음\n",
    "# reshape 함수\n",
    "arr3.reshape(3,5)"
   ]
  },
  {
   "cell_type": "code",
   "execution_count": 46,
   "metadata": {},
   "outputs": [
    {
     "name": "stdout",
     "output_type": "stream",
     "text": [
      "[[0 1]\n",
      " [2 3]\n",
      " [4 5]\n",
      " [6 7]\n",
      " [8 9]]\n",
      "\n",
      "(10,)\n"
     ]
    }
   ],
   "source": [
    "# Q. array1에 reshape함수 이용 (5,2) 배열을 생성하고 형태를 출력하세요.\n",
    "array1 = np.arange(10)\n",
    "print(array1.reshape(5,2))\n",
    "print()\n",
    "print(array1.shape) # 형태"
   ]
  },
  {
   "cell_type": "code",
   "execution_count": 50,
   "metadata": {},
   "outputs": [
    {
     "name": "stdout",
     "output_type": "stream",
     "text": [
      "[ 0  1  2  3  4  5  6  7  8  9 10 11 12 13 14 15 16 17 18 19 20 21 22 23\n",
      " 24 25 26 27 28 29]\n",
      "\n",
      "[[ 0  1  2  3  4  5]\n",
      " [ 6  7  8  9 10 11]\n",
      " [12 13 14 15 16 17]\n",
      " [18 19 20 21 22 23]\n",
      " [24 25 26 27 28 29]]\n",
      "\n",
      "[[[ 0  1  2  3  4]\n",
      "  [ 5  6  7  8  9]\n",
      "  [10 11 12 13 14]]\n",
      "\n",
      " [[15 16 17 18 19]\n",
      "  [20 21 22 23 24]\n",
      "  [25 26 27 28 29]]]\n"
     ]
    }
   ],
   "source": [
    "# Q. ar에 reshape()함수를 이용해서 1차원, 2차원, 3차원 배열 생성\n",
    "ar = np.arange(30)\n",
    "ar1 = ar\n",
    "print(ar1)\n",
    "print()\n",
    "ar2 = ar.reshape(5,6)\n",
    "print(ar2)\n",
    "print()\n",
    "ar3 = ar.reshape(2,3,5)\n",
    "print(ar3)"
   ]
  },
  {
   "cell_type": "code",
   "execution_count": 56,
   "metadata": {},
   "outputs": [
    {
     "name": "stdout",
     "output_type": "stream",
     "text": [
      "[ 0  1  2  3  4  5  6  7  8  9 10 11 12 13 14 15 16 17 18 19 20 21 22 23\n",
      " 24 25 26 27 28 29]\n",
      "\n",
      "1 -> 2,3차원으로 변경\n",
      "\n",
      "[[ 0  1  2  3  4  5  6  7  8  9 10 11 12 13 14]\n",
      " [15 16 17 18 19 20 21 22 23 24 25 26 27 28 29]]\n",
      "[[[ 0  1  2  3  4]\n",
      "  [ 5  6  7  8  9]]\n",
      "\n",
      " [[10 11 12 13 14]\n",
      "  [15 16 17 18 19]]\n",
      "\n",
      " [[20 21 22 23 24]\n",
      "  [25 26 27 28 29]]]\n",
      "\n",
      "2 -> 1,3차원으로 변경\n",
      "\n",
      "[ 0  1  2  3  4  5  6  7  8  9 10 11 12 13 14 15 16 17 18 19 20 21 22 23\n",
      " 24 25 26 27 28 29]\n",
      "[[[ 0  1  2  3  4]\n",
      "  [ 5  6  7  8  9]]\n",
      "\n",
      " [[10 11 12 13 14]\n",
      "  [15 16 17 18 19]]\n",
      "\n",
      " [[20 21 22 23 24]\n",
      "  [25 26 27 28 29]]]\n",
      "\n",
      "3 -> 1,2차원으로 변경\n",
      "\n",
      "[ 0  1  2  3  4  5  6  7  8  9 10 11 12 13 14 15 16 17 18 19 20 21 22 23\n",
      " 24 25 26 27 28 29]\n",
      "[[ 0  1  2  3  4  5  6  7  8  9 10 11 12 13 14]\n",
      " [15 16 17 18 19 20 21 22 23 24 25 26 27 28 29]]\n"
     ]
    }
   ],
   "source": [
    "# reshape(-1,-1)을 이용, 차원 변경\n",
    "print(ar1)\n",
    "print('\\n1 -> 2,3차원으로 변경\\n')\n",
    "ar12 = ar1.reshape(2,-1)\n",
    "ar13 = ar1.reshape(-1,2,5)\n",
    "print(ar12)\n",
    "print(ar13)\n",
    "print('\\n2 -> 1,3차원으로 변경\\n')\n",
    "ar21 = ar12.reshape(-1)\n",
    "ar23 = ar12.reshape(-1,2,5)\n",
    "print(ar21)\n",
    "print(ar23)\n",
    "print('\\n3 -> 1,2차원으로 변경\\n')\n",
    "ar31 = ar13.reshape(-1)\n",
    "ar32 = ar13.reshape(2,-1)\n",
    "print(ar31)\n",
    "print(ar32)"
   ]
  },
  {
   "cell_type": "code",
   "execution_count": 60,
   "metadata": {},
   "outputs": [
    {
     "name": "stdout",
     "output_type": "stream",
     "text": [
      "[[[ 0  1  2  3  4]\n",
      "  [ 5  6  7  8  9]]\n",
      "\n",
      " [[10 11 12 13 14]\n",
      "  [15 16 17 18 19]]\n",
      "\n",
      " [[20 21 22 23 24]\n",
      "  [25 26 27 28 29]]] \n",
      "\n",
      "[[[0, 1, 2, 3, 4], [5, 6, 7, 8, 9]], [[10, 11, 12, 13, 14], [15, 16, 17, 18, 19]], [[20, 21, 22, 23, 24], [25, 26, 27, 28, 29]]]\n"
     ]
    }
   ],
   "source": [
    "array1 = np.arange(30)\n",
    "array3d = array1.reshape((3,2,5))\n",
    "print(array3d,'\\n')\n",
    "print(array3d.tolist())"
   ]
  },
  {
   "cell_type": "code",
   "execution_count": 61,
   "metadata": {},
   "outputs": [
    {
     "data": {
      "text/plain": [
       "array([[7, 7],\n",
       "       [7, 7]])"
      ]
     },
     "execution_count": 61,
     "metadata": {},
     "output_type": "execute_result"
    }
   ],
   "source": [
    "a = np.full((2,2),7)\n",
    "a"
   ]
  },
  {
   "cell_type": "code",
   "execution_count": 62,
   "metadata": {},
   "outputs": [
    {
     "data": {
      "text/plain": [
       "array([[1., 0., 0.],\n",
       "       [0., 1., 0.],\n",
       "       [0., 0., 1.]])"
      ]
     },
     "execution_count": 62,
     "metadata": {},
     "output_type": "execute_result"
    }
   ],
   "source": [
    "arr5 = np.eye(3) #대각선이 1이고 나머지는 다 0인, 대각행렬을 만들어주는 함수\n",
    "arr5"
   ]
  },
  {
   "cell_type": "code",
   "execution_count": 64,
   "metadata": {},
   "outputs": [
    {
     "name": "stdout",
     "output_type": "stream",
     "text": [
      "[[1 2 3]\n",
      " [4 5 6]]\n"
     ]
    },
    {
     "data": {
      "text/plain": [
       "array([[0, 0, 0],\n",
       "       [0, 0, 0]])"
      ]
     },
     "execution_count": 64,
     "metadata": {},
     "output_type": "execute_result"
    }
   ],
   "source": [
    "a = np.array([[1,2,3],[4,5,6]])\n",
    "print(a)\n",
    "b = np.zeros_like(a)\n",
    "b"
   ]
  },
  {
   "cell_type": "code",
   "execution_count": 66,
   "metadata": {},
   "outputs": [
    {
     "data": {
      "text/plain": [
       "array([ 0.        ,  0.20408163,  0.40816327,  0.6122449 ,  0.81632653,\n",
       "        1.02040816,  1.2244898 ,  1.42857143,  1.63265306,  1.83673469,\n",
       "        2.04081633,  2.24489796,  2.44897959,  2.65306122,  2.85714286,\n",
       "        3.06122449,  3.26530612,  3.46938776,  3.67346939,  3.87755102,\n",
       "        4.08163265,  4.28571429,  4.48979592,  4.69387755,  4.89795918,\n",
       "        5.10204082,  5.30612245,  5.51020408,  5.71428571,  5.91836735,\n",
       "        6.12244898,  6.32653061,  6.53061224,  6.73469388,  6.93877551,\n",
       "        7.14285714,  7.34693878,  7.55102041,  7.75510204,  7.95918367,\n",
       "        8.16326531,  8.36734694,  8.57142857,  8.7755102 ,  8.97959184,\n",
       "        9.18367347,  9.3877551 ,  9.59183673,  9.79591837, 10.        ])"
      ]
     },
     "execution_count": 66,
     "metadata": {},
     "output_type": "execute_result"
    }
   ],
   "source": [
    "np.linspace(0,10)"
   ]
  },
  {
   "cell_type": "code",
   "execution_count": 68,
   "metadata": {},
   "outputs": [
    {
     "data": {
      "text/plain": [
       "(array([0.  , 0.25, 0.5 , 0.75, 1.  ]), 0.25)"
      ]
     },
     "execution_count": 68,
     "metadata": {},
     "output_type": "execute_result"
    }
   ],
   "source": [
    "np.linspace(0,1,5,retstep=True) # 0부터 1을 5등분하고, 사이 간격을 알려준다"
   ]
  },
  {
   "cell_type": "code",
   "execution_count": 70,
   "metadata": {},
   "outputs": [
    {
     "data": {
      "text/plain": [
       "[<matplotlib.lines.Line2D at 0x1d5821bef08>]"
      ]
     },
     "execution_count": 70,
     "metadata": {},
     "output_type": "execute_result"
    },
    {
     "data": {
      "image/png": "[encoded data removed]",
      "text/plain": [
       "<Figure size 432x288 with 1 Axes>"
      ]
     },
     "metadata": {
      "needs_background": "light"
     },
     "output_type": "display_data"
    }
   ],
   "source": [
    "import matplotlib.pyplot as plt\n",
    "x = np.linspace(0,1)\n",
    "y = np.linspace(0,50)\n",
    "plt.plot(x,y,'o')"
   ]
  },
  {
   "cell_type": "code",
   "execution_count": 72,
   "metadata": {},
   "outputs": [
    {
     "data": {
      "text/plain": [
       "array([ 1.25892541,  1.40400425,  1.565802  ,  1.74624535,  1.94748304,\n",
       "        2.1719114 ,  2.42220294,  2.70133812,  3.0126409 ,  3.35981829,\n",
       "        3.74700446,  4.17881006,  4.66037703,  5.19743987,  5.79639395,\n",
       "        6.46437163,  7.2093272 ,  8.04013161,  8.9666781 , 10.        ])"
      ]
     },
     "execution_count": 72,
     "metadata": {},
     "output_type": "execute_result"
    }
   ],
   "source": [
    "# log10(y1) = 0.1\n",
    "# log10(y2) = 1\n",
    "np.logspace(0.1,1,20)"
   ]
  },
  {
   "cell_type": "code",
   "execution_count": 71,
   "metadata": {
    "scrolled": true
   },
   "outputs": [
    {
     "data": {
      "text/plain": [
       "[<matplotlib.lines.Line2D at 0x1d58252bc88>]"
      ]
     },
     "execution_count": 71,
     "metadata": {},
     "output_type": "execute_result"
    },
    {
     "data": {
      "image/png": "[encoded data removed]",
      "text/plain": [
       "<Figure size 432x288 with 1 Axes>"
      ]
     },
     "metadata": {
      "needs_background": "light"
     },
     "output_type": "display_data"
    }
   ],
   "source": [
    "x = np.linspace(0,20,20)\n",
    "y = np.logspace(0.1,1,20)\n",
    "plt.plot(x,y,'o')"
   ]
  },
  {
   "cell_type": "code",
   "execution_count": 73,
   "metadata": {},
   "outputs": [
    {
     "data": {
      "text/plain": [
       "dtype('float64')"
      ]
     },
     "execution_count": 73,
     "metadata": {},
     "output_type": "execute_result"
    }
   ],
   "source": [
    "arr1 = np.array([1,2,3],dtype=np.float64)\n",
    "arr1.dtype"
   ]
  },
  {
   "cell_type": "code",
   "execution_count": 75,
   "metadata": {},
   "outputs": [
    {
     "name": "stdout",
     "output_type": "stream",
     "text": [
      "int32\n",
      "float64\n"
     ]
    }
   ],
   "source": [
    "arr = np.array([1,2,3,4,5])\n",
    "print(arr.dtype)\n",
    "float_arr = arr.astype(np.float64) # astype 함수로 타입을 바꿀 수 있다\n",
    "print(float_arr.dtype)"
   ]
  },
  {
   "cell_type": "code",
   "execution_count": 76,
   "metadata": {},
   "outputs": [
    {
     "data": {
      "text/plain": [
       "array([ 1.25, -9.5 , 42.  ])"
      ]
     },
     "execution_count": 76,
     "metadata": {},
     "output_type": "execute_result"
    }
   ],
   "source": [
    "numeric_string = np.array(['1.25','-9.5','42'], dtype = np.string_)\n",
    "numeric_string.astype(float)"
   ]
  },
  {
   "cell_type": "code",
   "execution_count": 80,
   "metadata": {},
   "outputs": [
    {
     "name": "stdout",
     "output_type": "stream",
     "text": [
      "[1.2 2.3 3. ] float64\n",
      "[1 2 3] int32\n"
     ]
    }
   ],
   "source": [
    "# Q. 정수와 실수로 구성된 list_e = [1.2, 2.3, 3]을 numpy를 이용해서\n",
    "# 실수형과 정수형으로 각각 출력하세요.\n",
    "list_e = [1.2, 2.3, 3]\n",
    "array_e1 = np.array(list_e)\n",
    "print(array_e1, array_e1.dtype)\n",
    "array_e2 = array_e1.astype(np.int32)\n",
    "print(array_e2, array_e2.dtype)"
   ]
  },
  {
   "cell_type": "code",
   "execution_count": 83,
   "metadata": {},
   "outputs": [
    {
     "name": "stdout",
     "output_type": "stream",
     "text": [
      "[[1. 2. 3.]\n",
      " [4. 5. 6.]] float64\n"
     ]
    }
   ],
   "source": [
    "# 배열의 산술 연산\n",
    "import numpy as np\n",
    "arr = np.array([[1.,2.,3.],[4.,5.,6.]])\n",
    "print(arr, arr.dtype)"
   ]
  },
  {
   "cell_type": "code",
   "execution_count": 84,
   "metadata": {},
   "outputs": [
    {
     "data": {
      "text/plain": [
       "array([[ 1.,  4.,  9.],\n",
       "       [16., 25., 36.]])"
      ]
     },
     "execution_count": 84,
     "metadata": {},
     "output_type": "execute_result"
    }
   ],
   "source": [
    "arr * arr"
   ]
  },
  {
   "cell_type": "code",
   "execution_count": 85,
   "metadata": {},
   "outputs": [
    {
     "data": {
      "text/plain": [
       "array([[0., 0., 0.],\n",
       "       [0., 0., 0.]])"
      ]
     },
     "execution_count": 85,
     "metadata": {},
     "output_type": "execute_result"
    }
   ],
   "source": [
    "arr - arr"
   ]
  },
  {
   "cell_type": "code",
   "execution_count": 86,
   "metadata": {},
   "outputs": [
    {
     "data": {
      "text/plain": [
       "array([[ 0.,  4.,  1.],\n",
       "       [ 7.,  2., 12.]])"
      ]
     },
     "execution_count": 86,
     "metadata": {},
     "output_type": "execute_result"
    }
   ],
   "source": [
    "arr2 = np.array([[0.,4.,1.],[7.,2.,12.,]])\n",
    "arr2"
   ]
  },
  {
   "cell_type": "code",
   "execution_count": 87,
   "metadata": {},
   "outputs": [
    {
     "data": {
      "text/plain": [
       "array([[False,  True, False],\n",
       "       [ True, False,  True]])"
      ]
     },
     "execution_count": 87,
     "metadata": {},
     "output_type": "execute_result"
    }
   ],
   "source": [
    "arr2 > arr"
   ]
  },
  {
   "cell_type": "markdown",
   "metadata": {},
   "source": [
    "뷰(view): 넘파이의 ndarray(이하 배열)을 슬라이싱할 때 파이썬의 리스트(list)와 다르게 원본의 참조가 생성\n",
    "\n",
    "numpy는 대용량 데이터 처리를 염두에 두고 대용량 데이터의 슬라이싱이 빈번하게 일어나는 복잡한 코드를 실행시키는데 있어서 복사가 남발되면 메모리 문제를 일으킬 소지가 많기 때문에 이렇게 설계\n",
    "\n",
    "- 복사가 아니고 뷰(참조의 개념)이기 때문에 원본이 바뀌면 이 참조본도 따라서 바뀜\n",
    "- 리스트의 슬라이싱에서는 복사본이 생성되는 것과는 다른 동작이기 때문에 주의\n",
    "- 슬라이싱의 복사본을 생성하고 싶다면 copy() 속성을 이용"
   ]
  },
  {
   "cell_type": "code",
   "execution_count": 89,
   "metadata": {},
   "outputs": [
    {
     "name": "stdout",
     "output_type": "stream",
     "text": [
      "[1, 2, 3, 4, 5, 6, 7, 8, 9, 10]\n",
      "[1, 2, 3, 4, 5]\n",
      "[1, 0, 3, 4, 5]\n",
      "[1, 2, 3, 4, 5, 6, 7, 8, 9, 10]\n"
     ]
    }
   ],
   "source": [
    "li = list(np.arange(1,11))\n",
    "print(li)\n",
    "li_slice = li[:5].copy()\n",
    "print(li_slice)\n",
    "li_slice[1] = 0\n",
    "print(li_slice)\n",
    "print(li)"
   ]
  },
  {
   "cell_type": "code",
   "execution_count": 90,
   "metadata": {},
   "outputs": [
    {
     "data": {
      "text/plain": [
       "array([0, 1, 2, 3, 4, 5, 6, 7, 8, 9])"
      ]
     },
     "execution_count": 90,
     "metadata": {},
     "output_type": "execute_result"
    }
   ],
   "source": [
    "arr = np.arange(10)\n",
    "arr"
   ]
  },
  {
   "cell_type": "code",
   "execution_count": 91,
   "metadata": {},
   "outputs": [
    {
     "data": {
      "text/plain": [
       "array([5, 6, 7])"
      ]
     },
     "execution_count": 91,
     "metadata": {},
     "output_type": "execute_result"
    }
   ],
   "source": [
    "li_slice = arr[5:8]\n",
    "li_slice"
   ]
  },
  {
   "cell_type": "code",
   "execution_count": 92,
   "metadata": {},
   "outputs": [
    {
     "name": "stdout",
     "output_type": "stream",
     "text": [
      "[12 12 12]\n",
      "[ 0  1  2  3  4 12 12 12  8  9]\n"
     ]
    }
   ],
   "source": [
    "# 뷰는 원본이 변경\n",
    "li_slice[:] = 12\n",
    "print(li_slice)\n",
    "print(arr)\n"
   ]
  },
  {
   "cell_type": "code",
   "execution_count": 93,
   "metadata": {},
   "outputs": [
    {
     "data": {
      "text/plain": [
       "array([[1, 2, 3],\n",
       "       [4, 5, 6],\n",
       "       [7, 8, 9]])"
      ]
     },
     "execution_count": 93,
     "metadata": {},
     "output_type": "execute_result"
    }
   ],
   "source": [
    "arr2d = np.array([[1,2,3],[4,5,6],[7,8,9]])\n",
    "arr2d"
   ]
  },
  {
   "cell_type": "code",
   "execution_count": 94,
   "metadata": {},
   "outputs": [
    {
     "data": {
      "text/plain": [
       "array([7, 8, 9])"
      ]
     },
     "execution_count": 94,
     "metadata": {},
     "output_type": "execute_result"
    }
   ],
   "source": [
    "arr2d[2]"
   ]
  },
  {
   "cell_type": "code",
   "execution_count": 96,
   "metadata": {},
   "outputs": [
    {
     "data": {
      "text/plain": [
       "3"
      ]
     },
     "execution_count": 96,
     "metadata": {},
     "output_type": "execute_result"
    }
   ],
   "source": [
    "arr2d[0][2]"
   ]
  },
  {
   "cell_type": "code",
   "execution_count": 97,
   "metadata": {},
   "outputs": [
    {
     "data": {
      "text/plain": [
       "3"
      ]
     },
     "execution_count": 97,
     "metadata": {},
     "output_type": "execute_result"
    }
   ],
   "source": [
    "arr2d[0,2]"
   ]
  },
  {
   "cell_type": "code",
   "execution_count": 99,
   "metadata": {},
   "outputs": [
    {
     "data": {
      "text/plain": [
       "array([[ 0,  1,  2,  3],\n",
       "       [ 4,  5,  6,  7],\n",
       "       [ 8,  9, 10, 11],\n",
       "       [12, 13, 14, 15],\n",
       "       [16, 17, 18, 19]])"
      ]
     },
     "execution_count": 99,
     "metadata": {},
     "output_type": "execute_result"
    }
   ],
   "source": [
    "arr2d = np.arange(20).reshape(5,4)\n",
    "arr2d"
   ]
  },
  {
   "cell_type": "code",
   "execution_count": 103,
   "metadata": {},
   "outputs": [
    {
     "data": {
      "text/plain": [
       "array([[1, 2, 3],\n",
       "       [5, 6, 7]])"
      ]
     },
     "execution_count": 103,
     "metadata": {},
     "output_type": "execute_result"
    }
   ],
   "source": [
    "# 배열의 부분집합\n",
    "# 행은 처음부터 2 전까지, 열은 1부터 끝까지 슬라이싱\n",
    "arr2d[:2,1:]"
   ]
  },
  {
   "cell_type": "code",
   "execution_count": 104,
   "metadata": {},
   "outputs": [
    {
     "data": {
      "text/plain": [
       "array([[1, 2, 3],\n",
       "       [4, 5, 6],\n",
       "       [7, 8, 9]])"
      ]
     },
     "execution_count": 104,
     "metadata": {},
     "output_type": "execute_result"
    }
   ],
   "source": [
    "array2d = np.arange(1,10).reshape(3,3)\n",
    "array2d"
   ]
  },
  {
   "cell_type": "code",
   "execution_count": 123,
   "metadata": {},
   "outputs": [
    {
     "name": "stdout",
     "output_type": "stream",
     "text": [
      "[[1 2]\n",
      " [4 5]]\n",
      "\n",
      "[[4 5 6]\n",
      " [7 8 9]]\n",
      "\n",
      "[[4 5 6]\n",
      " [7 8 9]]\n",
      "\n",
      "[[1 2 3]\n",
      " [4 5 6]\n",
      " [7 8 9]]\n",
      "\n",
      "[[2 3]\n",
      " [5 6]]\n",
      "\n",
      "[[1]\n",
      " [4]]\n"
     ]
    }
   ],
   "source": [
    "# Q. array2d에서 슬라이싱을 사용해서 아래와 같이 출력하세요.\n",
    "# [[1 2]\n",
    "# [4 5]]\n",
    "\n",
    "# (2가지 방법)\n",
    "# [[4 5 6]\n",
    "# [7 8 9]]\n",
    "\n",
    "# [[1 2 3]\n",
    "# [4 5 6]\n",
    "# [7 8 9]]\n",
    "\n",
    "# [[2 3]\n",
    "# [5 6]]\n",
    "\n",
    "# [1 4]\n",
    "\n",
    "print(array2d[:2,:2])\n",
    "print()\n",
    "print(array2d[1:3,0:3])\n",
    "print()\n",
    "print(array2d[1:,])\n",
    "print()\n",
    "print(array2d[:, :])\n",
    "print()\n",
    "print(array2d[:2,1:])\n",
    "print()\n",
    "print(array2d[:2, :1])\n"
   ]
  },
  {
   "cell_type": "code",
   "execution_count": 126,
   "metadata": {},
   "outputs": [
    {
     "name": "stdout",
     "output_type": "stream",
     "text": [
      "3 6\n"
     ]
    }
   ],
   "source": [
    "#[과제]\n",
    "# Q. array2d에서 인덱스를 이용해서 값을 선택하고 리스트로 아래와 같이 출력하세요.\n",
    "# [3,6]\n",
    "# [[1,2],[4,5]]\n",
    "# [[1,2,3],[4,5,6]]\n",
    "\n",
    "print(array2d[0][2], array2d[1][2])"
   ]
  },
  {
   "cell_type": "code",
   "execution_count": 133,
   "metadata": {},
   "outputs": [
    {
     "name": "stdout",
     "output_type": "stream",
     "text": [
      "[1 2 3 4 5 6 7 8 9]\n",
      "[6 7 8 9]\n",
      "[False False False False False  True  True  True  True]\n"
     ]
    }
   ],
   "source": [
    "# Boolean indexing\n",
    "array1d = np.arange(1,10)\n",
    "print(array1d)\n",
    "array3 = array1d[array1d > 5]\n",
    "print(array3)\n",
    "print(array1d>5)"
   ]
  },
  {
   "cell_type": "code",
   "execution_count": 135,
   "metadata": {},
   "outputs": [
    {
     "name": "stdout",
     "output_type": "stream",
     "text": [
      "[6 7 8 9]\n"
     ]
    }
   ],
   "source": [
    "# Q. array1d에서 일반 인덱스를 이용, [6,7,8,9]를 출력하세요.\n",
    "indexes = np.array([5,6,7,8])\n",
    "array_e2 = array1d[indexes]\n",
    "print(array_e2)"
   ]
  },
  {
   "cell_type": "code",
   "execution_count": 131,
   "metadata": {},
   "outputs": [
    {
     "name": "stdout",
     "output_type": "stream",
     "text": [
      "[ 1  2  3  4  5  6  7  8  9 10 11 12 13 14]\n",
      "[11 12 13 14]\n"
     ]
    }
   ],
   "source": [
    "# Q. 1~14까지 ndarray를 만들어 array_e로 저장하고 (array_e / 2) > 5를 만족하는 값을\n",
    "# Boolean 인덱스로 출력하세요.\n",
    "\n",
    "array_e = np.arange(1,15)\n",
    "print(array_e)\n",
    "array_e1 = array_e[array_e/2 > 5]\n",
    "print(array_e1)"
   ]
  },
  {
   "cell_type": "code",
   "execution_count": 139,
   "metadata": {},
   "outputs": [
    {
     "name": "stdout",
     "output_type": "stream",
     "text": [
      "['Bob' 'Joe' 'Will' 'Bob' 'Will' 'Joe' 'Joe']\n",
      "[[-0.98385532 -1.53285254  0.58579973 -1.80493451]\n",
      " [ 2.14202635  1.01520683  0.81693794 -0.93492593]\n",
      " [ 0.6833018  -0.04710074 -1.78554662  0.26267243]\n",
      " [-1.12881198  0.13175433 -0.03380715  0.71822429]\n",
      " [-1.59919317 -0.17737856 -1.33236866 -2.18137505]\n",
      " [ 0.20704439 -0.21073005  1.03981476  0.09203264]\n",
      " [ 0.70736001  0.48173835 -0.74650172  0.53432777]]\n"
     ]
    }
   ],
   "source": [
    "names = np.array(['Bob','Joe', 'Will','Bob','Will','Joe', 'Joe'])\n",
    "data = np.random.randn(7,4)\n",
    "print(names)\n",
    "print(data)"
   ]
  },
  {
   "cell_type": "code",
   "execution_count": 138,
   "metadata": {},
   "outputs": [
    {
     "data": {
      "text/plain": [
       "array([ True, False, False, False,  True, False, False, False])"
      ]
     },
     "execution_count": 138,
     "metadata": {},
     "output_type": "execute_result"
    }
   ],
   "source": [
    "names == 'Bob'"
   ]
  },
  {
   "cell_type": "code",
   "execution_count": 140,
   "metadata": {},
   "outputs": [
    {
     "data": {
      "text/plain": [
       "array([[-0.98385532, -1.53285254,  0.58579973, -1.80493451],\n",
       "       [-1.12881198,  0.13175433, -0.03380715,  0.71822429]])"
      ]
     },
     "execution_count": 140,
     "metadata": {},
     "output_type": "execute_result"
    }
   ],
   "source": [
    "data[names=='Bob']"
   ]
  },
  {
   "cell_type": "code",
   "execution_count": 141,
   "metadata": {},
   "outputs": [
    {
     "data": {
      "text/plain": [
       "array([[ 2.14202635,  1.01520683,  0.81693794, -0.93492593],\n",
       "       [ 0.6833018 , -0.04710074, -1.78554662,  0.26267243],\n",
       "       [-1.59919317, -0.17737856, -1.33236866, -2.18137505],\n",
       "       [ 0.20704439, -0.21073005,  1.03981476,  0.09203264],\n",
       "       [ 0.70736001,  0.48173835, -0.74650172,  0.53432777]])"
      ]
     },
     "execution_count": 141,
     "metadata": {},
     "output_type": "execute_result"
    }
   ],
   "source": [
    "data[names != 'Bob']"
   ]
  },
  {
   "cell_type": "code",
   "execution_count": 147,
   "metadata": {},
   "outputs": [
    {
     "data": {
      "text/plain": [
       "array([ True, False,  True,  True,  True, False, False])"
      ]
     },
     "execution_count": 147,
     "metadata": {},
     "output_type": "execute_result"
    }
   ],
   "source": [
    "mask = (names == 'Bob') | (names == 'Will')\n",
    "mask"
   ]
  },
  {
   "cell_type": "code",
   "execution_count": 143,
   "metadata": {},
   "outputs": [
    {
     "data": {
      "text/plain": [
       "array([[-0.98385532, -1.53285254,  0.58579973, -1.80493451],\n",
       "       [ 0.6833018 , -0.04710074, -1.78554662,  0.26267243],\n",
       "       [-1.12881198,  0.13175433, -0.03380715,  0.71822429],\n",
       "       [-1.59919317, -0.17737856, -1.33236866, -2.18137505]])"
      ]
     },
     "execution_count": 143,
     "metadata": {},
     "output_type": "execute_result"
    }
   ],
   "source": [
    "data[mask]"
   ]
  },
  {
   "cell_type": "code",
   "execution_count": 144,
   "metadata": {},
   "outputs": [
    {
     "data": {
      "text/plain": [
       "array([[0.        , 0.        , 0.58579973, 0.        ],\n",
       "       [2.14202635, 1.01520683, 0.81693794, 0.        ],\n",
       "       [0.6833018 , 0.        , 0.        , 0.26267243],\n",
       "       [0.        , 0.13175433, 0.        , 0.71822429],\n",
       "       [0.        , 0.        , 0.        , 0.        ],\n",
       "       [0.20704439, 0.        , 1.03981476, 0.09203264],\n",
       "       [0.70736001, 0.48173835, 0.        , 0.53432777]])"
      ]
     },
     "execution_count": 144,
     "metadata": {},
     "output_type": "execute_result"
    }
   ],
   "source": [
    "data[data<0]=0\n",
    "data"
   ]
  },
  {
   "cell_type": "code",
   "execution_count": 146,
   "metadata": {},
   "outputs": [
    {
     "data": {
      "text/plain": [
       "array([[7.        , 7.        , 7.        , 7.        ],\n",
       "       [2.14202635, 1.01520683, 0.81693794, 0.        ],\n",
       "       [7.        , 7.        , 7.        , 7.        ],\n",
       "       [7.        , 7.        , 7.        , 7.        ],\n",
       "       [7.        , 7.        , 7.        , 7.        ],\n",
       "       [0.20704439, 0.        , 1.03981476, 0.09203264],\n",
       "       [0.70736001, 0.48173835, 0.        , 0.53432777]])"
      ]
     },
     "execution_count": 146,
     "metadata": {},
     "output_type": "execute_result"
    }
   ],
   "source": [
    "data[names != 'Joe'] = 7\n",
    "data"
   ]
  },
  {
   "cell_type": "code",
   "execution_count": 148,
   "metadata": {},
   "outputs": [
    {
     "data": {
      "text/plain": [
       "array([[ 0,  1,  2,  3,  4],\n",
       "       [ 5,  6,  7,  8,  9],\n",
       "       [10, 11, 12, 13, 14]])"
      ]
     },
     "execution_count": 148,
     "metadata": {},
     "output_type": "execute_result"
    }
   ],
   "source": [
    "# 배열 전치와 축 바꾸기\n",
    "# 전치한다는 것은 행 방향과 열 방향을 바꾸는 것\n",
    "arr = np.arange(15).reshape(3,5)\n",
    "arr"
   ]
  },
  {
   "cell_type": "code",
   "execution_count": 149,
   "metadata": {},
   "outputs": [
    {
     "data": {
      "text/plain": [
       "array([[ 0,  5, 10],\n",
       "       [ 1,  6, 11],\n",
       "       [ 2,  7, 12],\n",
       "       [ 3,  8, 13],\n",
       "       [ 4,  9, 14]])"
      ]
     },
     "execution_count": 149,
     "metadata": {},
     "output_type": "execute_result"
    }
   ],
   "source": [
    "arr.T"
   ]
  },
  {
   "cell_type": "code",
   "execution_count": 150,
   "metadata": {},
   "outputs": [
    {
     "data": {
      "text/plain": [
       "array([[ 1.0753111 ,  0.29384069,  1.52651856],\n",
       "       [ 0.04814008, -0.45737595,  0.86775019],\n",
       "       [-0.00632207,  1.05234149,  1.08545087],\n",
       "       [-0.27264763, -0.68340289, -0.94849406],\n",
       "       [-0.69095508,  0.17608527, -1.56337672],\n",
       "       [-0.4113707 ,  0.82618915, -0.48170567]])"
      ]
     },
     "execution_count": 150,
     "metadata": {},
     "output_type": "execute_result"
    }
   ],
   "source": [
    "# np.random.randn(m,n) 평균 0, 표준편차 1의 표준정규분포 난수 matrix(m,n) 생성\n",
    "arr=np.random.randn(6,3)\n",
    "arr"
   ]
  },
  {
   "cell_type": "code",
   "execution_count": 151,
   "metadata": {},
   "outputs": [
    {
     "data": {
      "text/plain": [
       "array([[ 1.0753111 ,  0.04814008, -0.00632207, -0.27264763, -0.69095508,\n",
       "        -0.4113707 ],\n",
       "       [ 0.29384069, -0.45737595,  1.05234149, -0.68340289,  0.17608527,\n",
       "         0.82618915],\n",
       "       [ 1.52651856,  0.86775019,  1.08545087, -0.94849406, -1.56337672,\n",
       "        -0.48170567]])"
      ]
     },
     "execution_count": 151,
     "metadata": {},
     "output_type": "execute_result"
    }
   ],
   "source": [
    "arr.T"
   ]
  },
  {
   "cell_type": "code",
   "execution_count": 152,
   "metadata": {},
   "outputs": [
    {
     "data": {
      "text/plain": [
       "array([[1.87963291, 0.01209021, 3.21338095],\n",
       "       [0.01209021, 2.58359176, 1.16886615],\n",
       "       [3.21338095, 1.16886615, 7.83728097]])"
      ]
     },
     "execution_count": 152,
     "metadata": {},
     "output_type": "execute_result"
    }
   ],
   "source": [
    "# 행렬의 곱 구하기\n",
    "np.dot(arr.T, arr)"
   ]
  },
  {
   "cell_type": "code",
   "execution_count": 160,
   "metadata": {},
   "outputs": [
    {
     "name": "stdout",
     "output_type": "stream",
     "text": [
      "[ 3  6  9 12 15 18 21 24 27 30 33 36 39 42 45 48 51 54 57 60 63 66 69 72\n",
      " 75 78 81 84 87 90 93 96 99]\n"
     ]
    }
   ],
   "source": [
    "# Q. 1~100까지 배열에서 3의 배수인 것만을 출력\n",
    "import numpy as np\n",
    "\n",
    "mylist = np.arange(3,101)\n",
    "print(mylist[mylist%3 == 0])"
   ]
  },
  {
   "cell_type": "code",
   "execution_count": 159,
   "metadata": {},
   "outputs": [
    {
     "ename": "ValueError",
     "evalue": "The truth value of an array with more than one element is ambiguous. Use a.any() or a.all()",
     "output_type": "error",
     "traceback": [
      "\u001b[1;31m---------------------------------------------------------------------------\u001b[0m",
      "\u001b[1;31mValueError\u001b[0m                                Traceback (most recent call last)",
      "\u001b[1;32m<ipython-input-159-6b7930bc3fa1>\u001b[0m in \u001b[0;36m<module>\u001b[1;34m\u001b[0m\n\u001b[0;32m      2\u001b[0m \u001b[1;33m\u001b[0m\u001b[0m\n\u001b[0;32m      3\u001b[0m \u001b[0mmylist\u001b[0m \u001b[1;33m=\u001b[0m \u001b[0mnp\u001b[0m\u001b[1;33m.\u001b[0m\u001b[0marange\u001b[0m\u001b[1;33m(\u001b[0m\u001b[1;36m1\u001b[0m\u001b[1;33m,\u001b[0m\u001b[1;36m101\u001b[0m\u001b[1;33m)\u001b[0m\u001b[1;33m\u001b[0m\u001b[1;33m\u001b[0m\u001b[0m\n\u001b[1;32m----> 4\u001b[1;33m \u001b[0mprint\u001b[0m\u001b[1;33m(\u001b[0m\u001b[0mmylist\u001b[0m\u001b[1;33m[\u001b[0m\u001b[0mmylist\u001b[0m\u001b[1;33m%\u001b[0m\u001b[1;36m3\u001b[0m \u001b[1;33m==\u001b[0m\u001b[1;36m0\u001b[0m \u001b[1;33m|\u001b[0m \u001b[0mmylist\u001b[0m\u001b[1;33m%\u001b[0m\u001b[1;36m5\u001b[0m \u001b[1;33m==\u001b[0m\u001b[1;36m0\u001b[0m\u001b[1;33m]\u001b[0m\u001b[1;33m)\u001b[0m\u001b[1;33m\u001b[0m\u001b[1;33m\u001b[0m\u001b[0m\n\u001b[0m",
      "\u001b[1;31mValueError\u001b[0m: The truth value of an array with more than one element is ambiguous. Use a.any() or a.all()"
     ]
    }
   ],
   "source": [
    "# Q. 1~100까지 배열에서 3의 배수이거나 5의 배수인 것만을 출력\n",
    "\n",
    "mylist = np.arange(1,101)\n",
    "print(mylist[mylist%3 ==0 | mylist%5 ==0])"
   ]
  },
  {
   "cell_type": "code",
   "execution_count": null,
   "metadata": {},
   "outputs": [],
   "source": [
    "# Q. 배열 a를 아래와 같이 생성하세요\n",
    "array([[0,1,2,3],\n",
    "      [4,5,6,7],\n",
    "      [8,9,10,11]],\n",
    "     \n",
    "     [[12,13,14,15],\n",
    "     [16,17,18,19],\n",
    "     [20,21,22,23]])\n",
    "\n",
    "mylist34 = np.arange(24)"
   ]
  },
  {
   "cell_type": "code",
   "execution_count": null,
   "metadata": {},
   "outputs": [],
   "source": [
    "# Q. 101~150 사이의 정수를 랜덤하게 추출, 2행 5열 다차원 배열을 생성 후 전치하세요"
   ]
  },
  {
   "cell_type": "code",
   "execution_count": null,
   "metadata": {},
   "outputs": [],
   "source": [
    "# Q. 표준정규분포로 구성된 5행 5열 다차원 배열을 생성하세요."
   ]
  },
  {
   "cell_type": "markdown",
   "metadata": {},
   "source": [
    "[Random 함수]\n",
    "\n",
    "- np.random.seed # seed를 통한 난수 생성\n",
    "- np.random.randint # 균일분포의 정수 난수 1개 생성\n",
    "- np.random.rand # 0부터 1 사이의 균일분포에서 난수 매트릭스 array 생성\n",
    "- np.random.randn # 가우시안 표준 정규 분포에서 난수 매트릭스 array 생성\n",
    "- np.random.shuffle # 기존의 데이터의 순서 바꾸기\n",
    "- np.random.choice # 기존의 데이터에서 sampling"
   ]
  },
  {
   "cell_type": "code",
   "execution_count": 164,
   "metadata": {},
   "outputs": [
    {
     "data": {
      "text/plain": [
       "array([[12, 19, 10, 13, 14],\n",
       "       [10, 12, 19, 13, 11],\n",
       "       [17, 19, 11, 19, 10]])"
      ]
     },
     "execution_count": 164,
     "metadata": {},
     "output_type": "execute_result"
    }
   ],
   "source": [
    "np.random.randint(6) # 0~5 중 랜덤한 정수 1개 출력\n",
    "np.random.randint(1,20) # 1~19중 랜덤한 정수 1개\n",
    "np.random.randint(10, size = 10) # 0~9중 난수 10개 발생\n",
    "np.random.randint(10, 20, size=10) # 10~19 사이의 난수 10개\n",
    "np.random.randint(10,20,size=(3,5)) # 10~19까지 정수인 난수로 3행 5열 배열생성"
   ]
  },
  {
   "cell_type": "code",
   "execution_count": 165,
   "metadata": {},
   "outputs": [
    {
     "data": {
      "text/plain": [
       "array([0.22957203, 0.34942002, 0.40091451, 0.90967603, 0.15152477,\n",
       "       0.94897907])"
      ]
     },
     "execution_count": 165,
     "metadata": {},
     "output_type": "execute_result"
    }
   ],
   "source": [
    "np.random.rand(6) # 0부터 1 사이의 균일분포에서 난수 매트릭스 array 생성"
   ]
  },
  {
   "cell_type": "code",
   "execution_count": null,
   "metadata": {},
   "outputs": [],
   "source": [
    "# 평균 0, 표준편차 1의 가우시안 표준정규분포 난수를 매트릭스 array 생성\n",
    "np.random.randn(6)"
   ]
  },
  {
   "cell_type": "code",
   "execution_count": 170,
   "metadata": {},
   "outputs": [
    {
     "name": "stdout",
     "output_type": "stream",
     "text": [
      "[1 5 3 2 4]\n"
     ]
    }
   ],
   "source": [
    "list = np.arange(1,6)\n",
    "np.random.shuffle(list)\n",
    "print(list)"
   ]
  },
  {
   "cell_type": "code",
   "execution_count": 172,
   "metadata": {},
   "outputs": [
    {
     "data": {
      "text/plain": [
       "3"
      ]
     },
     "execution_count": 172,
     "metadata": {},
     "output_type": "execute_result"
    }
   ],
   "source": [
    "np.random.choice([1,2,3,4,5])"
   ]
  },
  {
   "cell_type": "code",
   "execution_count": 174,
   "metadata": {},
   "outputs": [
    {
     "data": {
      "text/plain": [
       "array([[ 6,  1,  4,  4,  8],\n",
       "       [10,  4,  6,  3,  5]])"
      ]
     },
     "execution_count": 174,
     "metadata": {},
     "output_type": "execute_result"
    }
   ],
   "source": [
    "np.random.seed(0)\n",
    "np.random.randint(1,11,size=(2,5))"
   ]
  },
  {
   "cell_type": "code",
   "execution_count": 182,
   "metadata": {},
   "outputs": [
    {
     "name": "stdout",
     "output_type": "stream",
     "text": [
      "[ 2  3  7 11]\n",
      "[3 2 1 2]\n"
     ]
    }
   ],
   "source": [
    "a = np.array([11,11,3,3,2,2,2,7])\n",
    "index, count = np.unique(a, return_counts=True)\n",
    "print(index)\n",
    "print(count)"
   ]
  },
  {
   "cell_type": "code",
   "execution_count": 178,
   "metadata": {},
   "outputs": [
    {
     "name": "stdout",
     "output_type": "stream",
     "text": [
      "[4, 1, 2, 5, 3]\n"
     ]
    }
   ],
   "source": [
    "#Python\n",
    "import random\n",
    "list = [1,2,3,4,5]\n",
    "random.shuffle(list)\n",
    "print(list)"
   ]
  },
  {
   "cell_type": "code",
   "execution_count": 180,
   "metadata": {},
   "outputs": [
    {
     "data": {
      "text/plain": [
       "[1, 5]"
      ]
     },
     "execution_count": 180,
     "metadata": {},
     "output_type": "execute_result"
    }
   ],
   "source": [
    "# 리스트 요소 중 k개 뽑기\n",
    "random.sample([1,2,3,4,5], k=2)"
   ]
  },
  {
   "cell_type": "code",
   "execution_count": 186,
   "metadata": {},
   "outputs": [
    {
     "data": {
      "text/plain": [
       "array([[0.90259848, 0.44994999, 0.61306346, 0.90234858, 0.09928035,\n",
       "        0.96980907, 0.65314004, 0.17090959],\n",
       "       [0.35815217, 0.75068614, 0.60783067, 0.32504723, 0.03842543,\n",
       "        0.63427406, 0.95894927, 0.65279032],\n",
       "       [0.63505887, 0.99529957, 0.58185033, 0.41436859, 0.4746975 ,\n",
       "        0.6235101 , 0.33800761, 0.67475232],\n",
       "       [0.31720174, 0.77834548, 0.94957105, 0.66252687, 0.01357164,\n",
       "        0.6228461 , 0.67365963, 0.971945  ]])"
      ]
     },
     "execution_count": 186,
     "metadata": {},
     "output_type": "execute_result"
    }
   ],
   "source": [
    "# 0~1 사이의 균일분포로 구성된 4행 8열 배열을 생성\n",
    "ar = np.random.rand(4,8)\n",
    "ar"
   ]
  },
  {
   "cell_type": "code",
   "execution_count": 187,
   "metadata": {},
   "outputs": [
    {
     "data": {
      "text/html": [
       "<div>\n",
       "<style scoped>\n",
       "    .dataframe tbody tr th:only-of-type {\n",
       "        vertical-align: middle;\n",
       "    }\n",
       "\n",
       "    .dataframe tbody tr th {\n",
       "        vertical-align: top;\n",
       "    }\n",
       "\n",
       "    .dataframe thead th {\n",
       "        text-align: right;\n",
       "    }\n",
       "</style>\n",
       "<table border=\"1\" class=\"dataframe\">\n",
       "  <thead>\n",
       "    <tr style=\"text-align: right;\">\n",
       "      <th></th>\n",
       "      <th>0</th>\n",
       "      <th>1</th>\n",
       "      <th>2</th>\n",
       "      <th>3</th>\n",
       "      <th>4</th>\n",
       "      <th>5</th>\n",
       "      <th>6</th>\n",
       "      <th>7</th>\n",
       "    </tr>\n",
       "  </thead>\n",
       "  <tbody>\n",
       "    <tr>\n",
       "      <th>0</th>\n",
       "      <td>0.902598</td>\n",
       "      <td>0.449950</td>\n",
       "      <td>0.613063</td>\n",
       "      <td>0.902349</td>\n",
       "      <td>0.099280</td>\n",
       "      <td>0.969809</td>\n",
       "      <td>0.653140</td>\n",
       "      <td>0.170910</td>\n",
       "    </tr>\n",
       "    <tr>\n",
       "      <th>1</th>\n",
       "      <td>0.358152</td>\n",
       "      <td>0.750686</td>\n",
       "      <td>0.607831</td>\n",
       "      <td>0.325047</td>\n",
       "      <td>0.038425</td>\n",
       "      <td>0.634274</td>\n",
       "      <td>0.958949</td>\n",
       "      <td>0.652790</td>\n",
       "    </tr>\n",
       "    <tr>\n",
       "      <th>2</th>\n",
       "      <td>0.635059</td>\n",
       "      <td>0.995300</td>\n",
       "      <td>0.581850</td>\n",
       "      <td>0.414369</td>\n",
       "      <td>0.474698</td>\n",
       "      <td>0.623510</td>\n",
       "      <td>0.338008</td>\n",
       "      <td>0.674752</td>\n",
       "    </tr>\n",
       "    <tr>\n",
       "      <th>3</th>\n",
       "      <td>0.317202</td>\n",
       "      <td>0.778345</td>\n",
       "      <td>0.949571</td>\n",
       "      <td>0.662527</td>\n",
       "      <td>0.013572</td>\n",
       "      <td>0.622846</td>\n",
       "      <td>0.673660</td>\n",
       "      <td>0.971945</td>\n",
       "    </tr>\n",
       "  </tbody>\n",
       "</table>\n",
       "</div>"
      ],
      "text/plain": [
       "          0         1         2         3         4         5         6  \\\n",
       "0  0.902598  0.449950  0.613063  0.902349  0.099280  0.969809  0.653140   \n",
       "1  0.358152  0.750686  0.607831  0.325047  0.038425  0.634274  0.958949   \n",
       "2  0.635059  0.995300  0.581850  0.414369  0.474698  0.623510  0.338008   \n",
       "3  0.317202  0.778345  0.949571  0.662527  0.013572  0.622846  0.673660   \n",
       "\n",
       "          7  \n",
       "0  0.170910  \n",
       "1  0.652790  \n",
       "2  0.674752  \n",
       "3  0.971945  "
      ]
     },
     "execution_count": 187,
     "metadata": {},
     "output_type": "execute_result"
    }
   ],
   "source": [
    "import pandas as pd\n",
    "df = pd.DataFrame(ar)\n",
    "df"
   ]
  },
  {
   "cell_type": "code",
   "execution_count": 190,
   "metadata": {},
   "outputs": [
    {
     "data": {
      "text/html": [
       "<div>\n",
       "<style scoped>\n",
       "    .dataframe tbody tr th:only-of-type {\n",
       "        vertical-align: middle;\n",
       "    }\n",
       "\n",
       "    .dataframe tbody tr th {\n",
       "        vertical-align: top;\n",
       "    }\n",
       "\n",
       "    .dataframe thead th {\n",
       "        text-align: right;\n",
       "    }\n",
       "</style>\n",
       "<table border=\"1\" class=\"dataframe\">\n",
       "  <thead>\n",
       "    <tr style=\"text-align: right;\">\n",
       "      <th></th>\n",
       "      <th>id</th>\n",
       "      <th>gender</th>\n",
       "      <th>age</th>\n",
       "      <th>region</th>\n",
       "      <th>product</th>\n",
       "      <th>price</th>\n",
       "      <th>qty</th>\n",
       "      <th>time</th>\n",
       "    </tr>\n",
       "  </thead>\n",
       "  <tbody>\n",
       "    <tr>\n",
       "      <th>0</th>\n",
       "      <td>0.902598</td>\n",
       "      <td>0.449950</td>\n",
       "      <td>0.613063</td>\n",
       "      <td>0.902349</td>\n",
       "      <td>0.099280</td>\n",
       "      <td>0.969809</td>\n",
       "      <td>0.653140</td>\n",
       "      <td>0.170910</td>\n",
       "    </tr>\n",
       "    <tr>\n",
       "      <th>1</th>\n",
       "      <td>0.358152</td>\n",
       "      <td>0.750686</td>\n",
       "      <td>0.607831</td>\n",
       "      <td>0.325047</td>\n",
       "      <td>0.038425</td>\n",
       "      <td>0.634274</td>\n",
       "      <td>0.958949</td>\n",
       "      <td>0.652790</td>\n",
       "    </tr>\n",
       "    <tr>\n",
       "      <th>2</th>\n",
       "      <td>0.635059</td>\n",
       "      <td>0.995300</td>\n",
       "      <td>0.581850</td>\n",
       "      <td>0.414369</td>\n",
       "      <td>0.474698</td>\n",
       "      <td>0.623510</td>\n",
       "      <td>0.338008</td>\n",
       "      <td>0.674752</td>\n",
       "    </tr>\n",
       "    <tr>\n",
       "      <th>3</th>\n",
       "      <td>0.317202</td>\n",
       "      <td>0.778345</td>\n",
       "      <td>0.949571</td>\n",
       "      <td>0.662527</td>\n",
       "      <td>0.013572</td>\n",
       "      <td>0.622846</td>\n",
       "      <td>0.673660</td>\n",
       "      <td>0.971945</td>\n",
       "    </tr>\n",
       "  </tbody>\n",
       "</table>\n",
       "</div>"
      ],
      "text/plain": [
       "         id    gender       age    region   product     price       qty  \\\n",
       "0  0.902598  0.449950  0.613063  0.902349  0.099280  0.969809  0.653140   \n",
       "1  0.358152  0.750686  0.607831  0.325047  0.038425  0.634274  0.958949   \n",
       "2  0.635059  0.995300  0.581850  0.414369  0.474698  0.623510  0.338008   \n",
       "3  0.317202  0.778345  0.949571  0.662527  0.013572  0.622846  0.673660   \n",
       "\n",
       "       time  \n",
       "0  0.170910  \n",
       "1  0.652790  \n",
       "2  0.674752  \n",
       "3  0.971945  "
      ]
     },
     "execution_count": 190,
     "metadata": {},
     "output_type": "execute_result"
    }
   ],
   "source": [
    "index = [np.arange(4)]\n",
    "columns = ['id','gender','age','region','product','price','qty','time']\n",
    "df = pd.DataFrame(ar,index,columns=columns)\n",
    "df"
   ]
  },
  {
   "cell_type": "code",
   "execution_count": 195,
   "metadata": {},
   "outputs": [
    {
     "data": {
      "text/html": [
       "<div>\n",
       "<style scoped>\n",
       "    .dataframe tbody tr th:only-of-type {\n",
       "        vertical-align: middle;\n",
       "    }\n",
       "\n",
       "    .dataframe tbody tr th {\n",
       "        vertical-align: top;\n",
       "    }\n",
       "\n",
       "    .dataframe thead th {\n",
       "        text-align: right;\n",
       "    }\n",
       "</style>\n",
       "<table border=\"1\" class=\"dataframe\">\n",
       "  <thead>\n",
       "    <tr style=\"text-align: right;\">\n",
       "      <th></th>\n",
       "      <th>id</th>\n",
       "      <th>gender</th>\n",
       "      <th>age</th>\n",
       "    </tr>\n",
       "  </thead>\n",
       "  <tbody>\n",
       "    <tr>\n",
       "      <th>0</th>\n",
       "      <td>1</td>\n",
       "      <td>1</td>\n",
       "      <td>20</td>\n",
       "    </tr>\n",
       "    <tr>\n",
       "      <th>1</th>\n",
       "      <td>2</td>\n",
       "      <td>0</td>\n",
       "      <td>50</td>\n",
       "    </tr>\n",
       "    <tr>\n",
       "      <th>2</th>\n",
       "      <td>3</td>\n",
       "      <td>1</td>\n",
       "      <td>70</td>\n",
       "    </tr>\n",
       "  </tbody>\n",
       "</table>\n",
       "</div>"
      ],
      "text/plain": [
       "   id  gender  age\n",
       "0   1       1   20\n",
       "1   2       0   50\n",
       "2   3       1   70"
      ]
     },
     "execution_count": 195,
     "metadata": {},
     "output_type": "execute_result"
    }
   ],
   "source": [
    "#각 배열을 Series로 변환한 후 데이터프레임으로 통합(concat)\n",
    "id = np.array([1,2,3])\n",
    "id = pd.Series(id)\n",
    "gender = np.array([1,0,1])\n",
    "gender = pd.Series(gender)\n",
    "age = np.array([20,50,70])\n",
    "age = pd.Series(age)\n",
    "df = pd.concat([id,gender,age],axis=1)\n",
    "df.rename(columns={0:'id', 1:'gender', 2:'age'},inplace=True)\n",
    "df['age'] = round(df['age'],2)\n",
    "df"
   ]
  },
  {
   "cell_type": "markdown",
   "metadata": {},
   "source": [
    "고객 구매데이터 생성(id, 성별, 연령, 지역, 상품, 가격, 구매시간)하고\n",
    "데이터 프레임으로 변환하여 출력하세요.\n",
    "- id : 1~1000 일련번호\n",
    "- gender : 0,1 정수 난수 생성\n",
    "- age : 10~80 사이 정수 난수를 생성\n",
    "- region : 1~10 사이 정수 난수 생성\n",
    "- prod_19: 1~5사이 정수 난수 생서 ('19년에 고객별로 가장 많이 구매한 대표 상품)\n",
    "- prod_20: 1~5사이 정수 난수 생서 ('20년에 고객별로 가장 많이 구매한 대표 상품)\n",
    "- price_avg_19: 1000~50000 사이 실수 난수 생성\n",
    "- price_avg_20: 1000~50000 사이 실수 난수 생성\n",
    "- qty_19 : 1~100 사이 정수 난수 생성하여 ('19년 구매 수량)\n",
    "- qty_20 : 1~100 사이 정수 난수 생성하여 ('20년 구매 수량)\n",
    "- time_19 : 01~24 사이 정수 난수 생성('19년에 가장 자주 구매한 시간대)\n",
    "- time_20 : 01~24 사이 정수 난수 생성('20년에 가장 자주 구매한 시간대)\n",
    "\n"
   ]
  },
  {
   "cell_type": "code",
   "execution_count": 198,
   "metadata": {},
   "outputs": [
    {
     "name": "stdout",
     "output_type": "stream",
     "text": [
      "      id  gender  age  region  prod_19  prod_20  price_avg_19  price_avg_20  \\\n",
      "0     25       1   23       5        2        3      35048.54      37472.06   \n",
      "1    983       1   33       5        3        4      18620.31       9250.04   \n",
      "2    590       0   67       5        1        5      15060.34       7865.78   \n",
      "3    480       1   59       8        2        3       3396.05       4689.03   \n",
      "4    512       0   62      10        2        1      32703.32       6952.31   \n",
      "..   ...     ...  ...     ...      ...      ...           ...           ...   \n",
      "995  396       1   22       2        1        2      29970.89      36807.48   \n",
      "996  278       0   53       9        3        5      16441.54      43007.29   \n",
      "997  775       0   28       2        1        2      29895.02      48245.61   \n",
      "998   48       1   77       3        1        3      28979.34      10518.51   \n",
      "999  154       0   56       5        2        2      31161.07      44519.45   \n",
      "\n",
      "     time_19  time_20  \n",
      "0         13       24  \n",
      "1          3       17  \n",
      "2         22       17  \n",
      "3         16        5  \n",
      "4          1        1  \n",
      "..       ...      ...  \n",
      "995       11        1  \n",
      "996        5       16  \n",
      "997        9        2  \n",
      "998       20       19  \n",
      "999       20       14  \n",
      "\n",
      "[1000 rows x 10 columns]\n"
     ]
    }
   ],
   "source": [
    "import pandas as pd\n",
    "id = np.random.randint(1,1001,size=1000)\n",
    "id = pd.Series(id)\n",
    "gender = np.random.randint(0,2,size=1000)\n",
    "gender = pd.Series(gender)\n",
    "age = np.random.randint(10,81,size=1000)\n",
    "age = pd.Series(age)\n",
    "region = np.random.randint(1,11,size=1000)\n",
    "region = pd.Series(region)\n",
    "prod_19= np.random.randint(1,6,size=1000)\n",
    "prod_19 = pd.Series(prod_19)\n",
    "prod_20= np.random.randint(1,6,size=1000)\n",
    "prod_20 = pd.Series(prod_20)\n",
    "price_avg_19 = np.random.uniform(1000.0,50000.0,size=1000)\n",
    "price_avg_19 = pd.Series(price_avg_19)\n",
    "price_avg_20 = np.random.uniform(1000.0,50000.0,size=1000)\n",
    "price_avg_20 = pd.Series(price_avg_20)\n",
    "\n",
    "time_19 = np.random.randint(1,25,size=1000)\n",
    "time_19 = pd.Series(time_19)\n",
    "time_20 = np.random.randint(1,25,size=1000)\n",
    "time_20 = pd.Series(time_20)\n",
    "\n",
    "df = pd.concat([id,gender,age,region,prod_19,prod_20,price_avg_19,price_avg_20,time_19,time_20],axis=1)\n",
    "df.rename(columns={0:'id',1:'gender',2:'age',3:'region',4:'prod_19',5:'prod_20',6:'price_avg_19',7:'price_avg_20',8:'time_19',9:'time_20'},inplace=True)\n",
    "df['price_avg_19'] = round(df['price_avg_19'],2)\n",
    "df['price_avg_20'] = round(df['price_avg_20'],2)\n",
    "print(df)"
   ]
  },
  {
   "cell_type": "code",
   "execution_count": 199,
   "metadata": {},
   "outputs": [
    {
     "data": {
      "text/plain": [
       "array([[-1.15957575,  0.84038589, -0.67740024,  0.62143474],\n",
       "       [-0.56573779, -1.74272633,  1.09558153,  0.58547544],\n",
       "       [ 0.16218244, -1.47206437,  1.26698711, -1.25279076],\n",
       "       [-0.85899196,  0.41757945, -0.55858449,  1.22166885],\n",
       "       [-0.28623015,  0.98922881,  0.19689228,  0.30266973]])"
      ]
     },
     "execution_count": 199,
     "metadata": {},
     "output_type": "execute_result"
    }
   ],
   "source": [
    "arr = np.random.randn(5,4)\n",
    "arr"
   ]
  },
  {
   "cell_type": "code",
   "execution_count": 200,
   "metadata": {},
   "outputs": [
    {
     "data": {
      "text/plain": [
       "-0.0437"
      ]
     },
     "execution_count": 200,
     "metadata": {},
     "output_type": "execute_result"
    }
   ],
   "source": [
    "arr.mean().round(4)"
   ]
  },
  {
   "cell_type": "code",
   "execution_count": 201,
   "metadata": {},
   "outputs": [
    {
     "data": {
      "text/plain": [
       "-0.0437"
      ]
     },
     "execution_count": 201,
     "metadata": {},
     "output_type": "execute_result"
    }
   ],
   "source": [
    "np.mean(arr).round(4)"
   ]
  },
  {
   "cell_type": "code",
   "execution_count": 202,
   "metadata": {},
   "outputs": [
    {
     "data": {
      "text/plain": [
       "-0.874"
      ]
     },
     "execution_count": 202,
     "metadata": {},
     "output_type": "execute_result"
    }
   ],
   "source": [
    "#합계\n",
    "arr.sum().round(4)"
   ]
  },
  {
   "cell_type": "code",
   "execution_count": 204,
   "metadata": {},
   "outputs": [
    {
     "name": "stdout",
     "output_type": "stream",
     "text": [
      "[1 2 3 4 5 6 7 8]\n"
     ]
    },
    {
     "data": {
      "text/plain": [
       "array([ 1,  3,  6, 10, 15, 21, 28, 36], dtype=int32)"
      ]
     },
     "execution_count": 204,
     "metadata": {},
     "output_type": "execute_result"
    }
   ],
   "source": [
    "#누적합\n",
    "arr = np.arange(1,9)\n",
    "print(arr)\n",
    "arr.cumsum()"
   ]
  },
  {
   "cell_type": "code",
   "execution_count": 205,
   "metadata": {},
   "outputs": [
    {
     "data": {
      "text/plain": [
       "array([    1,     2,     6,    24,   120,   720,  5040, 40320],\n",
       "      dtype=int32)"
      ]
     },
     "execution_count": 205,
     "metadata": {},
     "output_type": "execute_result"
    }
   ],
   "source": [
    "#누적곱하기\n",
    "arr.cumprod()"
   ]
  },
  {
   "cell_type": "code",
   "execution_count": 207,
   "metadata": {},
   "outputs": [
    {
     "name": "stdout",
     "output_type": "stream",
     "text": [
      "[[0 1 2]\n",
      " [3 4 5]\n",
      " [6 7 8]] \n",
      "\n"
     ]
    },
    {
     "data": {
      "text/plain": [
       "array([[ 0,  1,  2],\n",
       "       [ 3,  5,  7],\n",
       "       [ 9, 12, 15]], dtype=int32)"
      ]
     },
     "execution_count": 207,
     "metadata": {},
     "output_type": "execute_result"
    }
   ],
   "source": [
    "arr = np.arange(9).reshape(3,3)\n",
    "print(arr,'\\n')\n",
    "#누적합\n",
    "arr.cumsum(axis=0)"
   ]
  },
  {
   "cell_type": "code",
   "execution_count": 208,
   "metadata": {},
   "outputs": [
    {
     "data": {
      "text/plain": [
       "array([[  0,   0,   0],\n",
       "       [  3,  12,  60],\n",
       "       [  6,  42, 336]], dtype=int32)"
      ]
     },
     "execution_count": 208,
     "metadata": {},
     "output_type": "execute_result"
    }
   ],
   "source": [
    "# 누적곱\n",
    "arr.cumprod(axis=1)"
   ]
  },
  {
   "cell_type": "code",
   "execution_count": 209,
   "metadata": {},
   "outputs": [
    {
     "data": {
      "text/plain": [
       "array([-0.15256927, -0.9135973 ,  0.75191304, -1.57908683,  0.32972352,\n",
       "       -1.74814763,  1.02360077, -0.58358111, -0.07599279,  0.32452386])"
      ]
     },
     "execution_count": 209,
     "metadata": {},
     "output_type": "execute_result"
    }
   ],
   "source": [
    "arr=np.random.randn(10)\n",
    "arr"
   ]
  },
  {
   "cell_type": "code",
   "execution_count": 210,
   "metadata": {},
   "outputs": [
    {
     "data": {
      "text/plain": [
       "4"
      ]
     },
     "execution_count": 210,
     "metadata": {},
     "output_type": "execute_result"
    }
   ],
   "source": [
    "(arr > 0).sum() # 양수인 원소의 갯수"
   ]
  },
  {
   "cell_type": "code",
   "execution_count": 211,
   "metadata": {},
   "outputs": [
    {
     "data": {
      "text/plain": [
       "True"
      ]
     },
     "execution_count": 211,
     "metadata": {},
     "output_type": "execute_result"
    }
   ],
   "source": [
    "# any 메서드 : 하나 이상의 값이 True인지 검사\n",
    "bools = np.array([False,False,True,True])\n",
    "bools.any()"
   ]
  },
  {
   "cell_type": "code",
   "execution_count": 212,
   "metadata": {},
   "outputs": [
    {
     "data": {
      "text/plain": [
       "False"
      ]
     },
     "execution_count": 212,
     "metadata": {},
     "output_type": "execute_result"
    }
   ],
   "source": [
    "# all 메서드 : 모든 원소가 True인지 검사\n",
    "bools.all()"
   ]
  }
 ],
 "metadata": {
  "kernelspec": {
   "display_name": "Python 3",
   "language": "python",
   "name": "python3"
  },
  "language_info": {
   "codemirror_mode": {
    "name": "ipython",
    "version": 3
   },
   "file_extension": ".py",
   "mimetype": "text/x-python",
   "name": "python",
   "nbconvert_exporter": "python",
   "pygments_lexer": "ipython3",
   "version": "3.7.9"
  }
 },
 "nbformat": 4,
 "nbformat_minor": 4
}
