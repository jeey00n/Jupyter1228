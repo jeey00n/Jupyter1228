{
 "cells": [
  {
   "cell_type": "markdown",
   "metadata": {},
   "source": [
    "#### 통계적 추정 : 모수 즉 모집단의 파라미터를 추정\n",
    "- 모집단 분포가 정규분포임을 가정했을 때 모수를 알면 모집단 분포를 추정할 수 있음\n",
    "- 점추정 : 모수를 어느 1개의 값으로 추정하는 방법\n",
    " - 모평균 추정에 표본평균을 사용하는데 표본평균은 불편성과 일치성을 가지고 있는 통계량이기 때문임\n",
    " - 모분산의 점추정값으로 표본에서 계산된 통계량으로 불편분산을 사용\n",
    "- 구간추정 : 추정값이 폭을 가지게 하는 추정 방법. 추정의 폭 계산에는 확률의 개념을 사용\n",
    " - 폭을 가지므로 추정오차를 가미할 수 있으며 추정오차가 작으면 구간 추정의 폭이 좁아짐.\n",
    " - 샘플사이즈가 커져도 구간 추정의 폭은 좁아짐\n",
    "- 신뢰계수(신뢰수준)와 신뢰구간\n",
    " - 신뢰계수란 구간 추정의 폭에 대한 신뢰 정도를 확률로 표현한 것. 95%, 99%\n",
    " - 신뢰구간이란 특정 신뢰계수를 만족하는 구간\n",
    " - 신뢰계수가 클수록 신뢰구간의 폭이 넓어짐\n",
    "- 신뢰한계 : 신뢰구간의 하한값과 상한값\n",
    "- 신뢰구간 계산 : \"(표본평균 - 모평균) / 표준오차\"로 계산한 t값. 구간추정을 할 때는 t분포의 퍼센트포인트 사용\n",
    " - 신뢰계수를 95%라고 했을 때 t분포를 따른다면 2.5% 지점과 97.5% 지점을 계산. \n",
    " - t분포를 따르는 변수가 이 구간에 들어갈 확률은 95%가 됨\n",
    " - 표본의 분산 크기가 커지면 신뢰구간의 폭이 넓어짐\n",
    " - 샘플사이즈가 커지면 자유도가 커지고 표준오차가 작아짐\n",
    " - 신뢰계수가 커질수록 안전해진다고 볼 수 있으며 신뢰구간의 폭이 넓어짐\n",
    " \n",
    "[모평균 μ의 신뢰구간을 추정]  \n",
    "\n",
    "만약 누군가가 점추정를 통해 \"A후보의 지지율은 54.3%입니다\"라고 말한다면, 자신감 있어 보이더라도 틀린 말이 될 수 있다. 실제 지지율이 54.9%라면 말이다. 이와 같은 점추정은 틀릴 가능성이 높다. 반면 구간추정을 통해 \"A후보의 지지율은 신뢰수준 95%로 신뢰구간 51.3%~57.3% 내에 있습니다\"라고 말한다면, 좀 더 안전하다. 물론 구간추정도 틀릴 수 있지만, 점추정에 비하면 틀릴 가능성이 적다.  \n",
    "\n",
    "모수가 신뢰구간 안에 포함되지 않을 확률을 보통 α 로 표현한다. 자연스럽게 모수가 신뢰구간 안에 포함될 확률, 즉 신뢰수준은 1 − α로 표현된다.  \n",
    "만약 신뢰수준 1 − α이 0.95 즉, 95%라면 α = 0.05 이다.\n",
    "\n",
    " <img src='신뢰구간.jpg' STYLE='width:300px;'>"
   ]
  },
  {
   "cell_type": "code",
   "execution_count": null,
   "metadata": {},
   "outputs": [],
   "source": [
    "import numpy as np\n",
    "import pandas as pd\n",
    "from scipy import stats\n",
    "\n",
    "from matplotlib import pyplot as plt\n",
    "import seaborn as sns"
   ]
  },
  {
   "cell_type": "code",
   "execution_count": null,
   "metadata": {},
   "outputs": [],
   "source": [
    "df = pd.read_csv('dataset/5_7_fl.csv')\n",
    "df"
   ]
  },
  {
   "cell_type": "code",
   "execution_count": null,
   "metadata": {},
   "outputs": [],
   "source": [
    "# series 형식\n",
    "fish = df['length']\n",
    "fish"
   ]
  },
  {
   "cell_type": "code",
   "execution_count": null,
   "metadata": {},
   "outputs": [],
   "source": [
    "# 모평균의 점추정\n",
    "mu = np.mean(fish)\n",
    "round(mu,2)"
   ]
  },
  {
   "cell_type": "code",
   "execution_count": null,
   "metadata": {},
   "outputs": [],
   "source": [
    "# 모분산의 점추정\n",
    "sigma_2 = np.var(fish, ddof=1)\n",
    "round(sigma_2,2)"
   ]
  },
  {
   "cell_type": "code",
   "execution_count": null,
   "metadata": {},
   "outputs": [],
   "source": [
    "# 자유도\n",
    "df = len(fish) - 1\n",
    "df"
   ]
  },
  {
   "cell_type": "code",
   "execution_count": null,
   "metadata": {},
   "outputs": [],
   "source": [
    "# 표준오차\n",
    "sigma = np.std(fish,ddof=1)\n",
    "se = sigma/np.sqrt(len(fish))\n",
    "round(se,2)"
   ]
  },
  {
   "cell_type": "code",
   "execution_count": null,
   "metadata": {},
   "outputs": [],
   "source": [
    "# 신뢰구간 계산 : stats.interval(alpha 신뢰계수, df, loc, scale)\n",
    "interval = stats.t.interval(\n",
    "    alpha=0.95, df=df, loc=mu, scale=se)\n",
    "interval"
   ]
  },
  {
   "cell_type": "code",
   "execution_count": null,
   "metadata": {},
   "outputs": [],
   "source": [
    "# 97.5% 지점\n",
    "t_975 = stats.t.ppf(q=0.975,df=df)\n",
    "t_975"
   ]
  },
  {
   "cell_type": "code",
   "execution_count": null,
   "metadata": {},
   "outputs": [],
   "source": [
    "# 하측신뢰한계\n",
    "lower = mu - t_975*se\n",
    "lower"
   ]
  },
  {
   "cell_type": "code",
   "execution_count": null,
   "metadata": {},
   "outputs": [],
   "source": [
    "# 상측신뢰한계\n",
    "upper = mu + t_975*se\n",
    "upper"
   ]
  },
  {
   "cell_type": "code",
   "execution_count": null,
   "metadata": {},
   "outputs": [],
   "source": [
    "# 표준편차를 10배로 늘려서 신뢰구간 계산\n",
    "# 표본의 분산 크기가 커지면 신뢰구간의 폭이 넓어짐\n",
    "se2 = (sigma*10) / np.sqrt(len(fish))\n",
    "stats.t.interval( alpha=0.95, df=df, loc=mu, scale=se2)"
   ]
  },
  {
   "cell_type": "code",
   "execution_count": null,
   "metadata": {},
   "outputs": [],
   "source": [
    "# 샘플사이즈를 10배로 늘려서 신뢰구간 계산\n",
    "df2 = (len(fish)*10) - 1\n",
    "se3 = sigma / np.sqrt(len(fish)*10)\n",
    "stats.t.interval(alpha=0.95, df=df2, loc=mu, scale=se3)"
   ]
  },
  {
   "cell_type": "code",
   "execution_count": null,
   "metadata": {},
   "outputs": [],
   "source": [
    "# 신뢰계수가 커질수록 안전해진다고 볼 수 있으며 신뢰구간의 폭이 넓어짐\n",
    "# 99% 신뢰수준의 신뢰구간\n",
    "stats.t.interval(alpha=0.99, df=df, loc=mu, scale=se)\n",
    "# (3.597010056835825, 4.777068592173221) 95%"
   ]
  },
  {
   "cell_type": "code",
   "execution_count": null,
   "metadata": {},
   "outputs": [],
   "source": [
    "# 95% 신뢰수준의 신뢰구간을 구하는 시행\n",
    "be_included_array = np.zeros(20000, dtype = 'bool')\n",
    "be_included_array"
   ]
  },
  {
   "cell_type": "code",
   "execution_count": null,
   "metadata": {},
   "outputs": [],
   "source": [
    "# 신뢰구간이 모평균(4)를 포함하면 True\n",
    "np.random.seed(1)\n",
    "norm_dist = stats.norm(loc=4,scale=0.8)\n",
    "for i in range(0,20000):\n",
    "    sample = norm_dist.rvs(size=10)\n",
    "    df = len(sample) - 1\n",
    "    mu = np.mean(sample)\n",
    "    std = np.std(sample, ddof=1)\n",
    "    se = std/np.sqrt(len(sample))\n",
    "    interval = stats.t.interval(0.95, df, mu, se)\n",
    "    if(interval[0] <= 4 and interval[1] >= 4):\n",
    "        be_included_array[i] = True\n",
    "        \n",
    "sum(be_included_array) / len(be_included_array)"
   ]
  },
  {
   "cell_type": "markdown",
   "metadata": {},
   "source": [
    "- 통계적 가설검정은 표본을 사용해서 모집단에 대한 통계적인 판단을 내리는 방법\n",
    "- 판단의 기준으로 통계적인 표현을 사용하며 간단히 검정이라고 부름\n",
    "- 평균값의 차이만으로 유의미한 차이를 얻을 수 없으며 샘플사이즈와 데이터의 흩어짐 크기를 가미하는 것이 필요\n",
    "- 1변량 데이터의 t검정\n",
    " - 샘플사이즈가 크고 데이터의 분산이 작고 평균값의 차이가 크다는 세가지 조건을 만족하는 지표를 t값이라고 함\n",
    " - t값 = (표본평균 - 비교대상값) / 표준오차\n",
    " - t값이 크면 유의미한 차이가 있다고 판단\n",
    "- 귀무가설 대립가설\n",
    " - 기각 대상이 되는 첫번째 가설을 귀무가설, 귀무가설과 대립되는 가설을 대립가설이라고 함\n",
    " - 귀무가설이 기각된다면 즉 귀무가설이 틀렸다고 판단을 하면 유의미한 차이가 있다는 것임\n",
    "- p값(유의확률) : 표본과 귀무가설 간의 모순을 나타내는 지표\n",
    " - p값이 작을수록 귀무가설과 표본이 모순된다고 판단\n",
    "- 유의수준 : 귀무가설을 기각하는 기준이 되는 값\n",
    " - 유의수준은 위험률이라고 하며 5%를 사용하는 경우가 많음"
   ]
  },
  {
   "cell_type": "code",
   "execution_count": null,
   "metadata": {},
   "outputs": [],
   "source": [
    "junk_food = pd.read_csv('dataset/5_8_jfw.csv').weight\n",
    "junk_food.head()"
   ]
  },
  {
   "cell_type": "code",
   "execution_count": null,
   "metadata": {},
   "outputs": [],
   "source": [
    "# 표본평균\n",
    "mu = np.mean(junk_food)\n",
    "mu"
   ]
  },
  {
   "cell_type": "code",
   "execution_count": null,
   "metadata": {},
   "outputs": [],
   "source": [
    "# 자유도\n",
    "df = len(junk_food) - 1\n",
    "df"
   ]
  },
  {
   "cell_type": "code",
   "execution_count": null,
   "metadata": {},
   "outputs": [],
   "source": [
    "# 표준오차\n",
    "sigma = np.std(junk_food, ddof=1)\n",
    "se = sigma/np.sqrt(len(junk_food))\n",
    "se"
   ]
  },
  {
   "cell_type": "code",
   "execution_count": null,
   "metadata": {},
   "outputs": [],
   "source": [
    "# t값이 크면 유의미한 차이가 있다고 판단할 수 있음\n",
    "# 봉지과자의 평균 중량이 50g이다.(귀무가설)\n",
    "# 봉지과자의 평균 중량은 50g과 유의미하게 차이가 있다(대립가설)\n",
    "t_value = (mu - 50) / se\n",
    "t_value"
   ]
  },
  {
   "cell_type": "code",
   "execution_count": null,
   "metadata": {},
   "outputs": [],
   "source": [
    "# p값(유의 확률) 이 유의수준 0.05 보다 작으므로 귀무가설을 기각\n",
    "# 봉지과자의 평균 중량은 50g과 유의미하게 차이가 있다는 판단이 가능\n",
    "alpha = stats.t.cdf(t_value, df=df)\n",
    "(1-alpha)*2 # 양측검정"
   ]
  },
  {
   "cell_type": "code",
   "execution_count": null,
   "metadata": {},
   "outputs": [],
   "source": [
    "# t검정 : stats.ttest_1samp()\n",
    "stats.ttest_1samp(junk_food,50)"
   ]
  },
  {
   "cell_type": "markdown",
   "metadata": {},
   "source": [
    "- 대응표본 t검정 : 약을 먹기 전과 후에 체온의 차이를 보는 경우 사용\n",
    "- 독립표본 t검정 : 큰 바늘로 낚은 물고기의 길이와 작은 바늘로 낚은 물고기의 길이의 차이를 보는 경우 사용\n",
    " - welch 근사법이라고 불리는 방법을 이용해서 p값 계산. welch 검정이라고 함"
   ]
  },
  {
   "cell_type": "code",
   "execution_count": null,
   "metadata": {},
   "outputs": [],
   "source": [
    "paired_test_data = pd.read_csv('dataset/5_9_ptt.csv')\n",
    "paired_test_data"
   ]
  },
  {
   "cell_type": "code",
   "execution_count": null,
   "metadata": {},
   "outputs": [],
   "source": [
    "before = paired_test_data.query('medicine==\"before\"')['body_temperature']\n",
    "after = paired_test_data.query('medicine==\"after\"')['body_temperature']\n",
    "# 배열로 변환\n",
    "before = np.array(before)\n",
    "after = np.array(after)\n",
    "diff = after - before\n",
    "diff"
   ]
  },
  {
   "cell_type": "code",
   "execution_count": null,
   "metadata": {},
   "outputs": [],
   "source": [
    "# 평균값이 0과 다른지 검정\n",
    "# 유의미한 차이가 있다고 주장할 수 있음\n",
    "stats.ttest_1samp(diff,0)"
   ]
  },
  {
   "cell_type": "code",
   "execution_count": null,
   "metadata": {},
   "outputs": [],
   "source": [
    "# 독립표본 t검정\n",
    "# 평균치\n",
    "mean_bef = np.mean(before)\n",
    "mean_aft = np.mean(after)\n",
    "# 분산\n",
    "sigma_bef = np.var(before, ddof=1)\n",
    "sigma_aft = np.var(after, ddof=1)\n",
    "# 샘플사이즈\n",
    "m=len(before)\n",
    "n=len(after)\n",
    "# t값\n",
    "t_value=(mean_aft-mean_bef) / np.sqrt((sigma_bef/m + sigma_aft/n))\n",
    "t_value\n"
   ]
  },
  {
   "cell_type": "code",
   "execution_count": null,
   "metadata": {},
   "outputs": [],
   "source": [
    "# 유의미한 차이가 있다고 판단\n",
    "# equal_var = False : 분산이 다르다고 가정한 t검정(Welch 검정)\n",
    "stats.ttest_ind(after,before,equal_var=False)"
   ]
  },
  {
   "cell_type": "code",
   "execution_count": null,
   "metadata": {},
   "outputs": [],
   "source": [
    "# 분할표에 대한 독립성 검정\n",
    "click_data = pd.read_csv('dataset/5_10_cd.csv')\n",
    "click_data"
   ]
  },
  {
   "cell_type": "code",
   "execution_count": null,
   "metadata": {},
   "outputs": [],
   "source": [
    "# 분할표\n",
    "# 이를 빈도분석이라고 부른다.\n",
    "cross = pd.pivot_table(data=click_data, values='freq',\n",
    "                       aggfunc='sum',index='color',columns='click')\n",
    "cross"
   ]
  },
  {
   "cell_type": "code",
   "execution_count": null,
   "metadata": {},
   "outputs": [],
   "source": [
    "# 독립성 검정\n",
    "# 카이스퀘어 통계량, p값, 자유도, 기대도수표(배열 형태)대로 출력, 보정 안함\n",
    "# 카이스퀘어 검정 시 기대도수가 전부 5 이상이어야 함\n",
    "# p값이 0.05 보다 작으므로 색에 따라 버튼을 클릭하는 것이 유의미하게 변한다고 판단\n",
    "stats.chi2_contingency(cross, correction=False)"
   ]
  },
  {
   "cell_type": "markdown",
   "metadata": {},
   "source": [
    "Q. \"dataset/5_2_shoes.csv\"을 데이터프레임으로 불러와서 아래 작업을 수행하세요.\n",
    "\n",
    "- 4행 3열을 복사하여 수직으로 결합하여 8행 3열의 데이터프레임 df로 만드세요.\n",
    "- 교차분석표를 만드세요(values = 'sales', aggfunc = 'sum', index = 'store', columns = 'color')\n",
    "- 독립성 검정을 수행하세요"
   ]
  },
  {
   "cell_type": "code",
   "execution_count": null,
   "metadata": {},
   "outputs": [],
   "source": [
    "df = pd.read_csv('dataset/5_2_shoes.csv')\n",
    "df"
   ]
  },
  {
   "cell_type": "code",
   "execution_count": null,
   "metadata": {},
   "outputs": [],
   "source": [
    "df = pd.concat([df,df], ignore_index = True)\n",
    "df"
   ]
  },
  {
   "cell_type": "code",
   "execution_count": null,
   "metadata": {},
   "outputs": [],
   "source": [
    "df_pivot = pd.pivot_table(data = df, values = 'sales', aggfunc = 'sum', index = 'store', columns = 'color')\n",
    "df_pivot"
   ]
  },
  {
   "cell_type": "code",
   "execution_count": null,
   "metadata": {},
   "outputs": [],
   "source": [
    "# 독립성 검정\n",
    "# 카이스퀘어 통계량, p값, 자유도, 기대도수표(배열 형태)대로 출력, 보정 안함\n",
    "# 카이스퀘어 검정 시 기대도수가 전부 5 이상이어야 함\n",
    "# p값이 0.05 보다 작으므로 색에 따라 버튼을 클릭하는 것이 유의미하게 변한다고 판단\n",
    "stats.chi2_contingency(df_pivot, correction=False)"
   ]
  },
  {
   "cell_type": "code",
   "execution_count": null,
   "metadata": {},
   "outputs": [],
   "source": [
    "# 파이썬에서의 R이라고 생각하면 된다.\n",
    "!pip install statsmodels"
   ]
  },
  {
   "cell_type": "code",
   "execution_count": 8,
   "metadata": {},
   "outputs": [],
   "source": [
    "import pandas as pd\n",
    "import numpy as np\n",
    "import matplotlib.pyplot as plt\n",
    "import seaborn as sns\n",
    "import statsmodels.formula.api as smf\n",
    "import statsmodels.api as sm"
   ]
  },
  {
   "cell_type": "code",
   "execution_count": 9,
   "metadata": {},
   "outputs": [
    {
     "data": {
      "text/html": [
       "<div>\n",
       "<style scoped>\n",
       "    .dataframe tbody tr th:only-of-type {\n",
       "        vertical-align: middle;\n",
       "    }\n",
       "\n",
       "    .dataframe tbody tr th {\n",
       "        vertical-align: top;\n",
       "    }\n",
       "\n",
       "    .dataframe thead th {\n",
       "        text-align: right;\n",
       "    }\n",
       "</style>\n",
       "<table border=\"1\" class=\"dataframe\">\n",
       "  <thead>\n",
       "    <tr style=\"text-align: right;\">\n",
       "      <th></th>\n",
       "      <th>beer</th>\n",
       "      <th>temperature</th>\n",
       "    </tr>\n",
       "  </thead>\n",
       "  <tbody>\n",
       "    <tr>\n",
       "      <th>0</th>\n",
       "      <td>45.3</td>\n",
       "      <td>20.5</td>\n",
       "    </tr>\n",
       "    <tr>\n",
       "      <th>1</th>\n",
       "      <td>59.3</td>\n",
       "      <td>25.0</td>\n",
       "    </tr>\n",
       "    <tr>\n",
       "      <th>2</th>\n",
       "      <td>40.4</td>\n",
       "      <td>10.0</td>\n",
       "    </tr>\n",
       "    <tr>\n",
       "      <th>3</th>\n",
       "      <td>38.0</td>\n",
       "      <td>26.9</td>\n",
       "    </tr>\n",
       "    <tr>\n",
       "      <th>4</th>\n",
       "      <td>37.0</td>\n",
       "      <td>15.8</td>\n",
       "    </tr>\n",
       "    <tr>\n",
       "      <th>5</th>\n",
       "      <td>40.9</td>\n",
       "      <td>4.2</td>\n",
       "    </tr>\n",
       "    <tr>\n",
       "      <th>6</th>\n",
       "      <td>60.2</td>\n",
       "      <td>13.5</td>\n",
       "    </tr>\n",
       "    <tr>\n",
       "      <th>7</th>\n",
       "      <td>63.3</td>\n",
       "      <td>26.0</td>\n",
       "    </tr>\n",
       "    <tr>\n",
       "      <th>8</th>\n",
       "      <td>51.1</td>\n",
       "      <td>23.3</td>\n",
       "    </tr>\n",
       "    <tr>\n",
       "      <th>9</th>\n",
       "      <td>44.9</td>\n",
       "      <td>8.5</td>\n",
       "    </tr>\n",
       "    <tr>\n",
       "      <th>10</th>\n",
       "      <td>47.0</td>\n",
       "      <td>26.2</td>\n",
       "    </tr>\n",
       "    <tr>\n",
       "      <th>11</th>\n",
       "      <td>53.2</td>\n",
       "      <td>19.1</td>\n",
       "    </tr>\n",
       "    <tr>\n",
       "      <th>12</th>\n",
       "      <td>43.5</td>\n",
       "      <td>24.3</td>\n",
       "    </tr>\n",
       "    <tr>\n",
       "      <th>13</th>\n",
       "      <td>53.2</td>\n",
       "      <td>23.3</td>\n",
       "    </tr>\n",
       "    <tr>\n",
       "      <th>14</th>\n",
       "      <td>37.4</td>\n",
       "      <td>8.4</td>\n",
       "    </tr>\n",
       "    <tr>\n",
       "      <th>15</th>\n",
       "      <td>59.9</td>\n",
       "      <td>23.5</td>\n",
       "    </tr>\n",
       "    <tr>\n",
       "      <th>16</th>\n",
       "      <td>41.5</td>\n",
       "      <td>13.9</td>\n",
       "    </tr>\n",
       "    <tr>\n",
       "      <th>17</th>\n",
       "      <td>75.1</td>\n",
       "      <td>35.5</td>\n",
       "    </tr>\n",
       "    <tr>\n",
       "      <th>18</th>\n",
       "      <td>55.6</td>\n",
       "      <td>27.2</td>\n",
       "    </tr>\n",
       "    <tr>\n",
       "      <th>19</th>\n",
       "      <td>57.2</td>\n",
       "      <td>20.5</td>\n",
       "    </tr>\n",
       "    <tr>\n",
       "      <th>20</th>\n",
       "      <td>46.5</td>\n",
       "      <td>10.2</td>\n",
       "    </tr>\n",
       "    <tr>\n",
       "      <th>21</th>\n",
       "      <td>35.8</td>\n",
       "      <td>20.5</td>\n",
       "    </tr>\n",
       "    <tr>\n",
       "      <th>22</th>\n",
       "      <td>51.9</td>\n",
       "      <td>21.6</td>\n",
       "    </tr>\n",
       "    <tr>\n",
       "      <th>23</th>\n",
       "      <td>38.2</td>\n",
       "      <td>7.9</td>\n",
       "    </tr>\n",
       "    <tr>\n",
       "      <th>24</th>\n",
       "      <td>66.0</td>\n",
       "      <td>42.2</td>\n",
       "    </tr>\n",
       "    <tr>\n",
       "      <th>25</th>\n",
       "      <td>55.3</td>\n",
       "      <td>23.9</td>\n",
       "    </tr>\n",
       "    <tr>\n",
       "      <th>26</th>\n",
       "      <td>55.3</td>\n",
       "      <td>36.9</td>\n",
       "    </tr>\n",
       "    <tr>\n",
       "      <th>27</th>\n",
       "      <td>43.3</td>\n",
       "      <td>8.9</td>\n",
       "    </tr>\n",
       "    <tr>\n",
       "      <th>28</th>\n",
       "      <td>70.5</td>\n",
       "      <td>36.4</td>\n",
       "    </tr>\n",
       "    <tr>\n",
       "      <th>29</th>\n",
       "      <td>38.8</td>\n",
       "      <td>6.4</td>\n",
       "    </tr>\n",
       "  </tbody>\n",
       "</table>\n",
       "</div>"
      ],
      "text/plain": [
       "    beer  temperature\n",
       "0   45.3         20.5\n",
       "1   59.3         25.0\n",
       "2   40.4         10.0\n",
       "3   38.0         26.9\n",
       "4   37.0         15.8\n",
       "5   40.9          4.2\n",
       "6   60.2         13.5\n",
       "7   63.3         26.0\n",
       "8   51.1         23.3\n",
       "9   44.9          8.5\n",
       "10  47.0         26.2\n",
       "11  53.2         19.1\n",
       "12  43.5         24.3\n",
       "13  53.2         23.3\n",
       "14  37.4          8.4\n",
       "15  59.9         23.5\n",
       "16  41.5         13.9\n",
       "17  75.1         35.5\n",
       "18  55.6         27.2\n",
       "19  57.2         20.5\n",
       "20  46.5         10.2\n",
       "21  35.8         20.5\n",
       "22  51.9         21.6\n",
       "23  38.2          7.9\n",
       "24  66.0         42.2\n",
       "25  55.3         23.9\n",
       "26  55.3         36.9\n",
       "27  43.3          8.9\n",
       "28  70.5         36.4\n",
       "29  38.8          6.4"
      ]
     },
     "execution_count": 9,
     "metadata": {},
     "output_type": "execute_result"
    }
   ],
   "source": [
    "# 기온에 따른 맥주의 매출\n",
    "beer = pd.read_csv('dataset/7_1_beer.csv')\n",
    "beer"
   ]
  },
  {
   "cell_type": "code",
   "execution_count": 10,
   "metadata": {},
   "outputs": [
    {
     "data": {
      "text/plain": [
       "<seaborn.axisgrid.JointGrid at 0x289c7004a88>"
      ]
     },
     "execution_count": 10,
     "metadata": {},
     "output_type": "execute_result"
    },
    {
     "data": {
      "image/png": "[encoded data removed]",
      "text/plain": [
       "<Figure size 432x432 with 3 Axes>"
      ]
     },
     "metadata": {
      "needs_background": "light"
     },
     "output_type": "display_data"
    }
   ],
   "source": [
    "# 그래프 (jointplot : 두 개 변수의 히스토그램과 산점도 분포표를 동시에 그려준다.)\n",
    "# 회귀(regretion)의 약자 reg -> 회귀선을 직선으로 그려줌\n",
    "\n",
    "# 단순 회귀 분석\n",
    "sns.jointplot(x = 'temperature', y = 'beer', kind = 'reg', data = beer, color = 'skyblue')\n"
   ]
  },
  {
   "cell_type": "code",
   "execution_count": 11,
   "metadata": {},
   "outputs": [],
   "source": [
    "# 모델 구축 : 종속변수 맥주 매상, 독립변수 기온인 정규선형모델\n",
    "# Ordinary Least Squares(최소제곱법) -> ols\n",
    "lm_model = smf.ols(formula = 'beer ~ temperature', data = beer).fit()"
   ]
  },
  {
   "cell_type": "code",
   "execution_count": 12,
   "metadata": {},
   "outputs": [
    {
     "data": {
      "text/html": [
       "<table class=\"simpletable\">\n",
       "<caption>OLS Regression Results</caption>\n",
       "<tr>\n",
       "  <th>Dep. Variable:</th>          <td>beer</td>       <th>  R-squared:         </th> <td>   0.504</td>\n",
       "</tr>\n",
       "<tr>\n",
       "  <th>Model:</th>                   <td>OLS</td>       <th>  Adj. R-squared:    </th> <td>   0.486</td>\n",
       "</tr>\n",
       "<tr>\n",
       "  <th>Method:</th>             <td>Least Squares</td>  <th>  F-statistic:       </th> <td>   28.45</td>\n",
       "</tr>\n",
       "<tr>\n",
       "  <th>Date:</th>             <td>Wed, 13 Jan 2021</td> <th>  Prob (F-statistic):</th> <td>1.11e-05</td>\n",
       "</tr>\n",
       "<tr>\n",
       "  <th>Time:</th>                 <td>10:35:45</td>     <th>  Log-Likelihood:    </th> <td> -102.45</td>\n",
       "</tr>\n",
       "<tr>\n",
       "  <th>No. Observations:</th>      <td>    30</td>      <th>  AIC:               </th> <td>   208.9</td>\n",
       "</tr>\n",
       "<tr>\n",
       "  <th>Df Residuals:</th>          <td>    28</td>      <th>  BIC:               </th> <td>   211.7</td>\n",
       "</tr>\n",
       "<tr>\n",
       "  <th>Df Model:</th>              <td>     1</td>      <th>                     </th>     <td> </td>   \n",
       "</tr>\n",
       "<tr>\n",
       "  <th>Covariance Type:</th>      <td>nonrobust</td>    <th>                     </th>     <td> </td>   \n",
       "</tr>\n",
       "</table>\n",
       "<table class=\"simpletable\">\n",
       "<tr>\n",
       "       <td></td>          <th>coef</th>     <th>std err</th>      <th>t</th>      <th>P>|t|</th>  <th>[0.025</th>    <th>0.975]</th>  \n",
       "</tr>\n",
       "<tr>\n",
       "  <th>Intercept</th>   <td>   34.6102</td> <td>    3.235</td> <td>   10.699</td> <td> 0.000</td> <td>   27.984</td> <td>   41.237</td>\n",
       "</tr>\n",
       "<tr>\n",
       "  <th>temperature</th> <td>    0.7654</td> <td>    0.144</td> <td>    5.334</td> <td> 0.000</td> <td>    0.471</td> <td>    1.059</td>\n",
       "</tr>\n",
       "</table>\n",
       "<table class=\"simpletable\">\n",
       "<tr>\n",
       "  <th>Omnibus:</th>       <td> 0.587</td> <th>  Durbin-Watson:     </th> <td>   1.960</td>\n",
       "</tr>\n",
       "<tr>\n",
       "  <th>Prob(Omnibus):</th> <td> 0.746</td> <th>  Jarque-Bera (JB):  </th> <td>   0.290</td>\n",
       "</tr>\n",
       "<tr>\n",
       "  <th>Skew:</th>          <td>-0.240</td> <th>  Prob(JB):          </th> <td>   0.865</td>\n",
       "</tr>\n",
       "<tr>\n",
       "  <th>Kurtosis:</th>      <td> 2.951</td> <th>  Cond. No.          </th> <td>    52.5</td>\n",
       "</tr>\n",
       "</table><br/><br/>Notes:<br/>[1] Standard Errors assume that the covariance matrix of the errors is correctly specified."
      ],
      "text/plain": [
       "<class 'statsmodels.iolib.summary.Summary'>\n",
       "\"\"\"\n",
       "                            OLS Regression Results                            \n",
       "==============================================================================\n",
       "Dep. Variable:                   beer   R-squared:                       0.504\n",
       "Model:                            OLS   Adj. R-squared:                  0.486\n",
       "Method:                 Least Squares   F-statistic:                     28.45\n",
       "Date:                Wed, 13 Jan 2021   Prob (F-statistic):           1.11e-05\n",
       "Time:                        10:35:45   Log-Likelihood:                -102.45\n",
       "No. Observations:                  30   AIC:                             208.9\n",
       "Df Residuals:                      28   BIC:                             211.7\n",
       "Df Model:                           1                                         \n",
       "Covariance Type:            nonrobust                                         \n",
       "===============================================================================\n",
       "                  coef    std err          t      P>|t|      [0.025      0.975]\n",
       "-------------------------------------------------------------------------------\n",
       "Intercept      34.6102      3.235     10.699      0.000      27.984      41.237\n",
       "temperature     0.7654      0.144      5.334      0.000       0.471       1.059\n",
       "==============================================================================\n",
       "Omnibus:                        0.587   Durbin-Watson:                   1.960\n",
       "Prob(Omnibus):                  0.746   Jarque-Bera (JB):                0.290\n",
       "Skew:                          -0.240   Prob(JB):                        0.865\n",
       "Kurtosis:                       2.951   Cond. No.                         52.5\n",
       "==============================================================================\n",
       "\n",
       "Notes:\n",
       "[1] Standard Errors assume that the covariance matrix of the errors is correctly specified.\n",
       "\"\"\""
      ]
     },
     "execution_count": 12,
     "metadata": {},
     "output_type": "execute_result"
    }
   ],
   "source": [
    "lm_model.summary()"
   ]
  },
  {
   "cell_type": "code",
   "execution_count": 14,
   "metadata": {},
   "outputs": [
    {
     "data": {
      "text/html": [
       "<div>\n",
       "<style scoped>\n",
       "    .dataframe tbody tr th:only-of-type {\n",
       "        vertical-align: middle;\n",
       "    }\n",
       "\n",
       "    .dataframe tbody tr th {\n",
       "        vertical-align: top;\n",
       "    }\n",
       "\n",
       "    .dataframe thead th {\n",
       "        text-align: right;\n",
       "    }\n",
       "</style>\n",
       "<table border=\"1\" class=\"dataframe\">\n",
       "  <thead>\n",
       "    <tr style=\"text-align: right;\">\n",
       "      <th></th>\n",
       "      <th>mpg</th>\n",
       "      <th>weight</th>\n",
       "    </tr>\n",
       "  </thead>\n",
       "  <tbody>\n",
       "    <tr>\n",
       "      <th>0</th>\n",
       "      <td>18.0</td>\n",
       "      <td>3504</td>\n",
       "    </tr>\n",
       "    <tr>\n",
       "      <th>1</th>\n",
       "      <td>15.0</td>\n",
       "      <td>3693</td>\n",
       "    </tr>\n",
       "    <tr>\n",
       "      <th>2</th>\n",
       "      <td>18.0</td>\n",
       "      <td>3436</td>\n",
       "    </tr>\n",
       "    <tr>\n",
       "      <th>3</th>\n",
       "      <td>16.0</td>\n",
       "      <td>3433</td>\n",
       "    </tr>\n",
       "    <tr>\n",
       "      <th>4</th>\n",
       "      <td>17.0</td>\n",
       "      <td>3449</td>\n",
       "    </tr>\n",
       "    <tr>\n",
       "      <th>...</th>\n",
       "      <td>...</td>\n",
       "      <td>...</td>\n",
       "    </tr>\n",
       "    <tr>\n",
       "      <th>393</th>\n",
       "      <td>27.0</td>\n",
       "      <td>2790</td>\n",
       "    </tr>\n",
       "    <tr>\n",
       "      <th>394</th>\n",
       "      <td>44.0</td>\n",
       "      <td>2130</td>\n",
       "    </tr>\n",
       "    <tr>\n",
       "      <th>395</th>\n",
       "      <td>32.0</td>\n",
       "      <td>2295</td>\n",
       "    </tr>\n",
       "    <tr>\n",
       "      <th>396</th>\n",
       "      <td>28.0</td>\n",
       "      <td>2625</td>\n",
       "    </tr>\n",
       "    <tr>\n",
       "      <th>397</th>\n",
       "      <td>31.0</td>\n",
       "      <td>2720</td>\n",
       "    </tr>\n",
       "  </tbody>\n",
       "</table>\n",
       "<p>398 rows × 2 columns</p>\n",
       "</div>"
      ],
      "text/plain": [
       "      mpg  weight\n",
       "0    18.0    3504\n",
       "1    15.0    3693\n",
       "2    18.0    3436\n",
       "3    16.0    3433\n",
       "4    17.0    3449\n",
       "..    ...     ...\n",
       "393  27.0    2790\n",
       "394  44.0    2130\n",
       "395  32.0    2295\n",
       "396  28.0    2625\n",
       "397  31.0    2720\n",
       "\n",
       "[398 rows x 2 columns]"
      ]
     },
     "execution_count": 14,
     "metadata": {},
     "output_type": "execute_result"
    }
   ],
   "source": [
    "df = pd.read_csv('dataset/auto-mpg.csv')\n",
    "df_mw = df[['mpg','weight']]\n",
    "df_mw"
   ]
  },
  {
   "cell_type": "code",
   "execution_count": 15,
   "metadata": {},
   "outputs": [
    {
     "data": {
      "text/plain": [
       "<seaborn.axisgrid.JointGrid at 0x289c7a335c8>"
      ]
     },
     "execution_count": 15,
     "metadata": {},
     "output_type": "execute_result"
    },
    {
     "data": {
      "image/png": "[encoded data removed]",
      "text/plain": [
       "<Figure size 432x432 with 3 Axes>"
      ]
     },
     "metadata": {
      "needs_background": "light"
     },
     "output_type": "display_data"
    }
   ],
   "source": [
    "# 단순 회귀 분석\n",
    "sns.jointplot(x = 'weight', y = 'mpg', kind = 'reg', data = df_mw, color = 'skyblue')"
   ]
  },
  {
   "cell_type": "code",
   "execution_count": 16,
   "metadata": {},
   "outputs": [],
   "source": [
    "# 모델 구축 : 종속변수 맥주 매상, 독립변수 기온인 정규선형모델\n",
    "# Ordinary Least Squares(최소제곱법) -> ols\n",
    "lm_model = smf.ols(formula = 'mpg ~ weight', data = df_mw).fit()"
   ]
  },
  {
   "cell_type": "code",
   "execution_count": 17,
   "metadata": {},
   "outputs": [
    {
     "data": {
      "text/html": [
       "<table class=\"simpletable\">\n",
       "<caption>OLS Regression Results</caption>\n",
       "<tr>\n",
       "  <th>Dep. Variable:</th>           <td>mpg</td>       <th>  R-squared:         </th> <td>   0.692</td> \n",
       "</tr>\n",
       "<tr>\n",
       "  <th>Model:</th>                   <td>OLS</td>       <th>  Adj. R-squared:    </th> <td>   0.691</td> \n",
       "</tr>\n",
       "<tr>\n",
       "  <th>Method:</th>             <td>Least Squares</td>  <th>  F-statistic:       </th> <td>   888.9</td> \n",
       "</tr>\n",
       "<tr>\n",
       "  <th>Date:</th>             <td>Wed, 13 Jan 2021</td> <th>  Prob (F-statistic):</th> <td>2.97e-103</td>\n",
       "</tr>\n",
       "<tr>\n",
       "  <th>Time:</th>                 <td>11:17:31</td>     <th>  Log-Likelihood:    </th> <td> -1148.4</td> \n",
       "</tr>\n",
       "<tr>\n",
       "  <th>No. Observations:</th>      <td>   398</td>      <th>  AIC:               </th> <td>   2301.</td> \n",
       "</tr>\n",
       "<tr>\n",
       "  <th>Df Residuals:</th>          <td>   396</td>      <th>  BIC:               </th> <td>   2309.</td> \n",
       "</tr>\n",
       "<tr>\n",
       "  <th>Df Model:</th>              <td>     1</td>      <th>                     </th>     <td> </td>    \n",
       "</tr>\n",
       "<tr>\n",
       "  <th>Covariance Type:</th>      <td>nonrobust</td>    <th>                     </th>     <td> </td>    \n",
       "</tr>\n",
       "</table>\n",
       "<table class=\"simpletable\">\n",
       "<tr>\n",
       "      <td></td>         <th>coef</th>     <th>std err</th>      <th>t</th>      <th>P>|t|</th>  <th>[0.025</th>    <th>0.975]</th>  \n",
       "</tr>\n",
       "<tr>\n",
       "  <th>Intercept</th> <td>   46.3174</td> <td>    0.795</td> <td>   58.243</td> <td> 0.000</td> <td>   44.754</td> <td>   47.881</td>\n",
       "</tr>\n",
       "<tr>\n",
       "  <th>weight</th>    <td>   -0.0077</td> <td>    0.000</td> <td>  -29.814</td> <td> 0.000</td> <td>   -0.008</td> <td>   -0.007</td>\n",
       "</tr>\n",
       "</table>\n",
       "<table class=\"simpletable\">\n",
       "<tr>\n",
       "  <th>Omnibus:</th>       <td>40.423</td> <th>  Durbin-Watson:     </th> <td>   0.797</td>\n",
       "</tr>\n",
       "<tr>\n",
       "  <th>Prob(Omnibus):</th> <td> 0.000</td> <th>  Jarque-Bera (JB):  </th> <td>  56.695</td>\n",
       "</tr>\n",
       "<tr>\n",
       "  <th>Skew:</th>          <td> 0.713</td> <th>  Prob(JB):          </th> <td>4.89e-13</td>\n",
       "</tr>\n",
       "<tr>\n",
       "  <th>Kurtosis:</th>      <td> 4.176</td> <th>  Cond. No.          </th> <td>1.13e+04</td>\n",
       "</tr>\n",
       "</table><br/><br/>Notes:<br/>[1] Standard Errors assume that the covariance matrix of the errors is correctly specified.<br/>[2] The condition number is large, 1.13e+04. This might indicate that there are<br/>strong multicollinearity or other numerical problems."
      ],
      "text/plain": [
       "<class 'statsmodels.iolib.summary.Summary'>\n",
       "\"\"\"\n",
       "                            OLS Regression Results                            \n",
       "==============================================================================\n",
       "Dep. Variable:                    mpg   R-squared:                       0.692\n",
       "Model:                            OLS   Adj. R-squared:                  0.691\n",
       "Method:                 Least Squares   F-statistic:                     888.9\n",
       "Date:                Wed, 13 Jan 2021   Prob (F-statistic):          2.97e-103\n",
       "Time:                        11:17:31   Log-Likelihood:                -1148.4\n",
       "No. Observations:                 398   AIC:                             2301.\n",
       "Df Residuals:                     396   BIC:                             2309.\n",
       "Df Model:                           1                                         \n",
       "Covariance Type:            nonrobust                                         \n",
       "==============================================================================\n",
       "                 coef    std err          t      P>|t|      [0.025      0.975]\n",
       "------------------------------------------------------------------------------\n",
       "Intercept     46.3174      0.795     58.243      0.000      44.754      47.881\n",
       "weight        -0.0077      0.000    -29.814      0.000      -0.008      -0.007\n",
       "==============================================================================\n",
       "Omnibus:                       40.423   Durbin-Watson:                   0.797\n",
       "Prob(Omnibus):                  0.000   Jarque-Bera (JB):               56.695\n",
       "Skew:                           0.713   Prob(JB):                     4.89e-13\n",
       "Kurtosis:                       4.176   Cond. No.                     1.13e+04\n",
       "==============================================================================\n",
       "\n",
       "Notes:\n",
       "[1] Standard Errors assume that the covariance matrix of the errors is correctly specified.\n",
       "[2] The condition number is large, 1.13e+04. This might indicate that there are\n",
       "strong multicollinearity or other numerical problems.\n",
       "\"\"\""
      ]
     },
     "execution_count": 17,
     "metadata": {},
     "output_type": "execute_result"
    }
   ],
   "source": [
    "lm_model.summary()"
   ]
  },
  {
   "cell_type": "code",
   "execution_count": 18,
   "metadata": {},
   "outputs": [
    {
     "data": {
      "text/plain": [
       "227.94194972563105"
      ]
     },
     "execution_count": 18,
     "metadata": {},
     "output_type": "execute_result"
    }
   ],
   "source": [
    "# Null 모델 AIC\n",
    "null_model = smf.ols('beer ~ 1', data = beer).fit()\n",
    "null_model.aic"
   ]
  },
  {
   "cell_type": "code",
   "execution_count": 19,
   "metadata": {},
   "outputs": [
    {
     "data": {
      "text/plain": [
       "208.9090293557544"
      ]
     },
     "execution_count": 19,
     "metadata": {},
     "output_type": "execute_result"
    }
   ],
   "source": [
    "# 독립변수가 있는 모델의 AIC (AIC는 낮은 것이 좋다.)\n",
    "lm_model = smf.ols('beer ~ temperature', data = beer).fit()\n",
    "lm_model.aic"
   ]
  },
  {
   "cell_type": "code",
   "execution_count": 20,
   "metadata": {},
   "outputs": [
    {
     "data": {
      "text/plain": [
       "<seaborn.axisgrid.FacetGrid at 0x289c7bbfc48>"
      ]
     },
     "execution_count": 20,
     "metadata": {},
     "output_type": "execute_result"
    },
    {
     "data": {
      "image/png": "[encoded data removed]",
      "text/plain": [
       "<Figure size 360x360 with 1 Axes>"
      ]
     },
     "metadata": {
      "needs_background": "light"
     },
     "output_type": "display_data"
    }
   ],
   "source": [
    "# 회귀직선\n",
    "sns.lmplot(x = 'temperature', y = 'beer', data = beer, \n",
    "           scatter_kws = {'color':'black'},\n",
    "          line_kws = {'color' : 'black'})"
   ]
  },
  {
   "cell_type": "code",
   "execution_count": 21,
   "metadata": {},
   "outputs": [
    {
     "data": {
      "text/plain": [
       "array([50.3014808 , 53.74590495, 42.26449113, 55.20021737, 46.70397114,\n",
       "       37.82501112, 44.94348769, 54.51133254, 52.44467805, 41.11634975,\n",
       "       54.66441806, 49.22988218, 53.21010564, 52.44467805, 41.03980699,\n",
       "       52.59776357, 45.24965873, 61.78289462, 55.42984564, 50.3014808 ,\n",
       "       42.41757665, 50.3014808 , 51.14345115, 40.6570932 , 66.91125946,\n",
       "       52.9039346 , 62.85449324, 41.42252079, 62.47177945, 39.50895182])"
      ]
     },
     "execution_count": 21,
     "metadata": {},
     "output_type": "execute_result"
    }
   ],
   "source": [
    "# AIC의 기존 x값들에 대한 예측값을 뽑아내기\n",
    "lm_model.predict()"
   ]
  },
  {
   "cell_type": "code",
   "execution_count": 22,
   "metadata": {},
   "outputs": [
    {
     "data": {
      "text/plain": [
       "0    34.610215\n",
       "dtype: float64"
      ]
     },
     "execution_count": 22,
     "metadata": {},
     "output_type": "execute_result"
    }
   ],
   "source": [
    "# 기온이 0도일 때, 맥주 매상의 기대값\n",
    "lm_model.predict(pd.DataFrame({'temperature':[0]}))"
   ]
  },
  {
   "cell_type": "code",
   "execution_count": 23,
   "metadata": {},
   "outputs": [
    {
     "data": {
      "text/plain": [
       "Intercept      34.610215\n",
       "temperature     0.765428\n",
       "dtype: float64"
      ]
     },
     "execution_count": 23,
     "metadata": {},
     "output_type": "execute_result"
    }
   ],
   "source": [
    "lm_model.params"
   ]
  },
  {
   "cell_type": "code",
   "execution_count": 24,
   "metadata": {},
   "outputs": [
    {
     "data": {
      "text/plain": [
       "49.91876701095053"
      ]
     },
     "execution_count": 24,
     "metadata": {},
     "output_type": "execute_result"
    }
   ],
   "source": [
    "# 기온이 20일때의 맥주 매상 기대값\n",
    "beta0 = lm_model.params[0] # 절편\n",
    "beta1 = lm_model.params[1]\n",
    "temperature = 20 # x의 계수\n",
    "beta0 + beta1 * temperature"
   ]
  },
  {
   "cell_type": "code",
   "execution_count": 25,
   "metadata": {},
   "outputs": [
    {
     "data": {
      "text/plain": [
       "0    49.918767\n",
       "dtype: float64"
      ]
     },
     "execution_count": 25,
     "metadata": {},
     "output_type": "execute_result"
    }
   ],
   "source": [
    "# 기온이 20도일 때, 맥주 매상의 기대값\n",
    "lm_model.predict(pd.DataFrame({'temperature':[20]}))"
   ]
  },
  {
   "cell_type": "code",
   "execution_count": 26,
   "metadata": {},
   "outputs": [
    {
     "data": {
      "text/plain": [
       "0    -5.001481\n",
       "1     5.554095\n",
       "2    -1.864491\n",
       "3   -17.200217\n",
       "4    -9.703971\n",
       "dtype: float64"
      ]
     },
     "execution_count": 26,
     "metadata": {},
     "output_type": "execute_result"
    }
   ],
   "source": [
    "# 잔차 계산\n",
    "# 회귀예측식으로 구하는 것과 실제 y값의 차이\n",
    "resid = lm_model.resid\n",
    "resid.head()"
   ]
  },
  {
   "cell_type": "code",
   "execution_count": 27,
   "metadata": {},
   "outputs": [
    {
     "data": {
      "text/plain": [
       "0    -5.001481\n",
       "1     5.554095\n",
       "2    -1.864491\n",
       "3   -17.200217\n",
       "4    -9.703971\n",
       "dtype: float64"
      ]
     },
     "execution_count": 27,
     "metadata": {},
     "output_type": "execute_result"
    }
   ],
   "source": [
    "# 잔차 = 실제값 - 예측값\n",
    "y_hat = beta0 + beta1 * beer.temperature # 예측값\n",
    "# beer.beer # 실제값\n",
    "(beer.beer - y_hat).head()"
   ]
  },
  {
   "cell_type": "code",
   "execution_count": 28,
   "metadata": {},
   "outputs": [
    {
     "data": {
      "text/plain": [
       "0.503959323061188"
      ]
     },
     "execution_count": 28,
     "metadata": {},
     "output_type": "execute_result"
    }
   ],
   "source": [
    "# 결정계수\n",
    "mu = np.mean(beer.beer) # 매상액의 평균\n",
    "y = beer.beer\n",
    "yhat = lm_model.predict() # 예측식\n",
    "\n",
    "np.sum((yhat - mu)**2)/np.sum((y-mu)**2)"
   ]
  },
  {
   "cell_type": "code",
   "execution_count": 29,
   "metadata": {},
   "outputs": [
    {
     "data": {
      "text/plain": [
       "0.5039593230611856"
      ]
     },
     "execution_count": 29,
     "metadata": {},
     "output_type": "execute_result"
    }
   ],
   "source": [
    "lm_model.rsquared"
   ]
  },
  {
   "cell_type": "code",
   "execution_count": 35,
   "metadata": {},
   "outputs": [
    {
     "data": {
      "text/plain": [
       "0.9993891124668242"
      ]
     },
     "execution_count": 35,
     "metadata": {},
     "output_type": "execute_result"
    }
   ],
   "source": [
    "# 수정된 결정계수: 독립변수가 늘어나는 것에 대해 패널티를 적용한 결정계수\n",
    "# 독립변수의 수가 늘어나면 결정계수가 큰 값이 되며 \n",
    "# 과학습을 일으킬 소지가 있으므로 조정이 필요하다.\n",
    "n = len(beer.beer)\n",
    "s = 1 # 독립변수의 수\n",
    "1 - ((np.sum(resid**2)/(n - s - 1)/(np.sum((y - mu)**2))/(n-1)))"
   ]
  },
  {
   "cell_type": "code",
   "execution_count": 33,
   "metadata": {},
   "outputs": [
    {
     "data": {
      "text/plain": [
       "0.4862435845990851"
      ]
     },
     "execution_count": 33,
     "metadata": {},
     "output_type": "execute_result"
    }
   ],
   "source": [
    "lm_model.rsquared_adj"
   ]
  },
  {
   "cell_type": "code",
   "execution_count": 30,
   "metadata": {},
   "outputs": [
    {
     "data": {
      "text/plain": [
       "3277.1146666666655"
      ]
     },
     "execution_count": 30,
     "metadata": {},
     "output_type": "execute_result"
    }
   ],
   "source": [
    "# 종속변수의 변동 크기는, 모델로 설명 가능한 변동과 np.sum((yhat - mu)**2), \n",
    "# 모델로 설명하지 못하는 잔차제곱합으로 분해할 수 있다. np.sum((y-mu)**2)\n",
    "\n",
    "np.sum((y-mu)**2)"
   ]
  },
  {
   "cell_type": "code",
   "execution_count": 31,
   "metadata": {},
   "outputs": [
    {
     "data": {
      "text/plain": [
       "3277.1146666666727"
      ]
     },
     "execution_count": 31,
     "metadata": {},
     "output_type": "execute_result"
    }
   ],
   "source": [
    "np.sum((yhat - mu)**2) + sum(resid**2) # 모델로 설명가능한 부분 + 잔차제곱합\n",
    "                                       # 종속변수의 변동 크기와 똑같은 값임."
   ]
  },
  {
   "cell_type": "code",
   "execution_count": 36,
   "metadata": {},
   "outputs": [
    {
     "data": {
      "text/plain": [
       "<AxesSubplot:ylabel='Density'>"
      ]
     },
     "execution_count": 36,
     "metadata": {},
     "output_type": "execute_result"
    },
    {
     "data": {
      "image/png": "[encoded data removed]",
      "text/plain": [
       "<Figure size 432x288 with 1 Axes>"
      ]
     },
     "metadata": {
      "needs_background": "light"
     },
     "output_type": "display_data"
    }
   ],
   "source": [
    "import warnings\n",
    "warnings.filterwarnings('ignore')\n",
    "# 잔차 그래프\n",
    "sns.distplot(resid, color = 'black') # distplot으로 히스토그램 그리기\n",
    "# 잔차가 거의 정규분포 형태를 이루고 있다."
   ]
  },
  {
   "cell_type": "code",
   "execution_count": 37,
   "metadata": {},
   "outputs": [
    {
     "data": {
      "text/plain": [
       "<seaborn.axisgrid.JointGrid at 0x289c8137208>"
      ]
     },
     "execution_count": 37,
     "metadata": {},
     "output_type": "execute_result"
    },
    {
     "data": {
      "image/png": "[encoded data removed]",
      "text/plain": [
       "<Figure size 432x432 with 3 Axes>"
      ]
     },
     "metadata": {
      "needs_background": "light"
     },
     "output_type": "display_data"
    }
   ],
   "source": [
    "# 잔차의 산포도 : x축 적합도, y축 잔차\n",
    "sns.jointplot(lm_model.fittedvalues, resid,\n",
    "             joint_kws = {'color':'blue'},\n",
    "             marginal_kws = {'color':'blue'})"
   ]
  },
  {
   "cell_type": "code",
   "execution_count": 38,
   "metadata": {},
   "outputs": [
    {
     "data": {
      "image/png": "[encoded data removed]",
      "text/plain": [
       "<Figure size 432x288 with 1 Axes>"
      ]
     },
     "metadata": {
      "needs_background": "light"
     },
     "output_type": "display_data"
    }
   ],
   "source": [
    "# Q-Q플롯: 이론상의 분위점과 실제 데이터의 분위점을 산포도그래프로 그린 것\n",
    "# 이론상의 분위점과 실제 데이터의 분위점을 구해서 그 둘을 비교하는 것으로 \n",
    "# 잔차가 정규분포에 근접하는지 시각적으로 판단\n",
    "fig = sm.qqplot(resid, line = 's')"
   ]
  },
  {
   "cell_type": "code",
   "execution_count": 39,
   "metadata": {},
   "outputs": [],
   "source": [
    "# 분산분석\n",
    "# 1. 수준이 세 개 이상인 경우에 사용\n",
    "# 2. 변수가 하나인 경우 t-test를 했지만, \n",
    "# 변수가 두 개 이상일 경우 분산분석을 사용한다."
   ]
  },
  {
   "cell_type": "markdown",
   "metadata": {},
   "source": [
    "#### 분산분석\n",
    "\n",
    "- 정규선형모델 중 독립변수가 카테고리형 변수인 모델을 분산분석 모델이라고 함. 분산분석은 또한 검정방법의 이름이기도 하다.\n",
    "- 분산분석은 정규선형모델에서 폭넓게 이용되는 검정방법으로, 평균값의 차이를 검정하는 방법이다.\n",
    "- 평균값의 차이 검정은 t검정을 이용하지만, 세 개 이상의 수준 간의 평균값 차이 검정은 분산분석을 사용한다.\n",
    "- 모집단이 정규분포를 따르는 데이터에 대해서만 적용. 또한 수준 사이의 분산값이 다르지 않다는 조건도 충족해야 한다.\n",
    "- 자료를 분석하는 데 자료의 분산을 활용하는 통계기법으로 실험이나 관측에서 독립변수와 종속변수의 관계를 분석하는 데 활용\n",
    "- \"온도는 생산성에 영향을 주는가?\", \"유통되는 약들이 당뇨에 미치는 효과는 같은가?\" 와 같은 과제를 분석한다.\n",
    "- 여러 정신과 환자들이 상담, 명상, 그리고 바이오 피드백 세 가지 치료법을 시도하려고 한다. 이 중에서 다른 치료법보다 나은 치료방법이 있는가?\n",
    "- 한 제조업체는 전구를 만드는 두 가지 공법이 있다. 한 방법이 다른 방법보다 나은가? (수준이 2개이기 때문에 t-test, 분산분석 둘 다 사용 가능하다)\n",
    "- 서로 다른 두 학교의 학생들이 같은 시험을 치르려 한다. 이 때 한 학교가 다른 학교보다 성적이 더 나은가?(시험이라는 변수는 1개, 학교라는 수준은 2개)\n",
    "- 독립변수는 정성적이거나 정량적일 수 잇으며, 예에서 온도는 정량적이며 약은 정성적이다.\n",
    "- 온도가 인자라고 한다면 10도, 20도, 30도와 같이 몇 개의 값을 가지며, 인자를 구성하는 몇 가지 특성을 수준이라고 한다.\n",
    "- 각 수준은 독립적인 모집단을 구성하고 이에 따라 확률변수가 정의된다.\n",
    "- 분산분석은 서로 다른 수준을 갖는 모집단들을 대상으로 그들의 평균에 의미가 있는 차이가 있는지 없는지를 검정한다.\n",
    "- 인자(변수)가 하나인 분산분석을 일원분산분석, 둘이면 이원분산분석, 셋 이상이면 통틀어 다원분산분석이라고 한다.\n",
    "- 집단 또는 수준은 동일한 독립변수 내의 묶음을 의미한다. \"시리얼의 종류\" 라는 독립변수가 있다면, 코코볼, 콘푸로스트, 오레오 오즈는 그 아래의 세 수준이 될 수 있다. \"칼로리\"라는 독립변수의 경우, 가당과 무가당 두 가지 수준을 가질 수 있다.\n",
    "- 일원분산분석에서는 하나의 인자(변수)의 수준만 처리가 되지만, 이원분산분석에서는 두 인자(변수)의 수준들이 조합되어 처리된다.\n",
    "- 다음의 가정에 기초한다.\n",
    "    - 모든 모집단의 확률변수는 정규분포를 갖는다. -> 모집단의 특성을 모수로 설명한다. 표본을 뽑아서 통계량을 통해 표본집단의 특성을 설명한다. 이는 모집단이 정규분포를 이룬다는 가정 하에 진행된다.\n",
    "    - 모든 모집단의 확률변수인 분산은 sigma squared를 도입한다.\n",
    "    - 표본이 무작위로 추출되면 모든 표본은 서로 독립적이다."
   ]
  },
  {
   "cell_type": "code",
   "execution_count": 41,
   "metadata": {},
   "outputs": [
    {
     "data": {
      "text/html": [
       "<div>\n",
       "<style scoped>\n",
       "    .dataframe tbody tr th:only-of-type {\n",
       "        vertical-align: middle;\n",
       "    }\n",
       "\n",
       "    .dataframe tbody tr th {\n",
       "        vertical-align: top;\n",
       "    }\n",
       "\n",
       "    .dataframe thead th {\n",
       "        text-align: right;\n",
       "    }\n",
       "</style>\n",
       "<table border=\"1\" class=\"dataframe\">\n",
       "  <thead>\n",
       "    <tr style=\"text-align: right;\">\n",
       "      <th></th>\n",
       "      <th>beer</th>\n",
       "      <th>weather</th>\n",
       "    </tr>\n",
       "  </thead>\n",
       "  <tbody>\n",
       "    <tr>\n",
       "      <th>0</th>\n",
       "      <td>6</td>\n",
       "      <td>cloudy</td>\n",
       "    </tr>\n",
       "    <tr>\n",
       "      <th>1</th>\n",
       "      <td>8</td>\n",
       "      <td>cloudy</td>\n",
       "    </tr>\n",
       "    <tr>\n",
       "      <th>2</th>\n",
       "      <td>2</td>\n",
       "      <td>rainy</td>\n",
       "    </tr>\n",
       "    <tr>\n",
       "      <th>3</th>\n",
       "      <td>4</td>\n",
       "      <td>rainy</td>\n",
       "    </tr>\n",
       "    <tr>\n",
       "      <th>4</th>\n",
       "      <td>10</td>\n",
       "      <td>sunny</td>\n",
       "    </tr>\n",
       "    <tr>\n",
       "      <th>5</th>\n",
       "      <td>12</td>\n",
       "      <td>sunny</td>\n",
       "    </tr>\n",
       "  </tbody>\n",
       "</table>\n",
       "</div>"
      ],
      "text/plain": [
       "   beer weather\n",
       "0     6  cloudy\n",
       "1     8  cloudy\n",
       "2     2   rainy\n",
       "3     4   rainy\n",
       "4    10   sunny\n",
       "5    12   sunny"
      ]
     },
     "execution_count": 41,
     "metadata": {},
     "output_type": "execute_result"
    }
   ],
   "source": [
    "# 샘플 데이터\n",
    "weather = ['cloudy', 'cloudy', 'rainy', 'rainy', 'sunny', 'sunny']\n",
    "beer = [6,8,2,4,10,12]\n",
    "w_beer = pd.DataFrame({\n",
    "    'beer':beer,\n",
    "    'weather' : weather\n",
    "})\n",
    "w_beer"
   ]
  },
  {
   "cell_type": "code",
   "execution_count": 42,
   "metadata": {},
   "outputs": [
    {
     "data": {
      "text/plain": [
       "<AxesSubplot:xlabel='weather', ylabel='beer'>"
      ]
     },
     "execution_count": 42,
     "metadata": {},
     "output_type": "execute_result"
    },
    {
     "data": {
      "image/png": "[encoded data removed]",
      "text/plain": [
       "<Figure size 432x288 with 1 Axes>"
      ]
     },
     "metadata": {
      "needs_background": "light"
     },
     "output_type": "display_data"
    }
   ],
   "source": [
    "# box plot\n",
    "sns.boxplot(x = 'weather', y = 'beer', data = w_beer, color = 'gray')"
   ]
  },
  {
   "cell_type": "code",
   "execution_count": 43,
   "metadata": {},
   "outputs": [
    {
     "data": {
      "text/html": [
       "<div>\n",
       "<style scoped>\n",
       "    .dataframe tbody tr th:only-of-type {\n",
       "        vertical-align: middle;\n",
       "    }\n",
       "\n",
       "    .dataframe tbody tr th {\n",
       "        vertical-align: top;\n",
       "    }\n",
       "\n",
       "    .dataframe thead th {\n",
       "        text-align: right;\n",
       "    }\n",
       "</style>\n",
       "<table border=\"1\" class=\"dataframe\">\n",
       "  <thead>\n",
       "    <tr style=\"text-align: right;\">\n",
       "      <th></th>\n",
       "      <th>beer</th>\n",
       "    </tr>\n",
       "    <tr>\n",
       "      <th>weather</th>\n",
       "      <th></th>\n",
       "    </tr>\n",
       "  </thead>\n",
       "  <tbody>\n",
       "    <tr>\n",
       "      <th>cloudy</th>\n",
       "      <td>7</td>\n",
       "    </tr>\n",
       "    <tr>\n",
       "      <th>rainy</th>\n",
       "      <td>3</td>\n",
       "    </tr>\n",
       "    <tr>\n",
       "      <th>sunny</th>\n",
       "      <td>11</td>\n",
       "    </tr>\n",
       "  </tbody>\n",
       "</table>\n",
       "</div>"
      ],
      "text/plain": [
       "         beer\n",
       "weather      \n",
       "cloudy      7\n",
       "rainy       3\n",
       "sunny      11"
      ]
     },
     "execution_count": 43,
     "metadata": {},
     "output_type": "execute_result"
    }
   ],
   "source": [
    "# 날씨 별 매상의 평균 수\n",
    "w_beer .groupby('weather').mean()"
   ]
  },
  {
   "cell_type": "code",
   "execution_count": 44,
   "metadata": {},
   "outputs": [],
   "source": [
    "# 날씨에 의한 영향: 2일씩 6일에 대한 날씨별 매상의 평균치\n",
    "effect = [7,7,3,3,11,11]"
   ]
  },
  {
   "cell_type": "code",
   "execution_count": 45,
   "metadata": {},
   "outputs": [
    {
     "data": {
      "text/plain": [
       "64.0"
      ]
     },
     "execution_count": 45,
     "metadata": {},
     "output_type": "execute_result"
    }
   ],
   "source": [
    "# 군 간 변동: 군 간 제곱합\n",
    "mu_effect = np.mean(effect)\n",
    "squared_model = np.sum((effect - mu_effect)**2)\n",
    "squared_model"
   ]
  },
  {
   "cell_type": "code",
   "execution_count": 46,
   "metadata": {},
   "outputs": [
    {
     "data": {
      "text/plain": [
       "0   -1\n",
       "1    1\n",
       "2   -1\n",
       "3    1\n",
       "4   -1\n",
       "5    1\n",
       "Name: beer, dtype: int64"
      ]
     },
     "execution_count": 46,
     "metadata": {},
     "output_type": "execute_result"
    }
   ],
   "source": [
    "# 오차\n",
    "resid = w_beer.beer - effect\n",
    "resid"
   ]
  },
  {
   "cell_type": "code",
   "execution_count": 47,
   "metadata": {},
   "outputs": [
    {
     "data": {
      "text/plain": [
       "6"
      ]
     },
     "execution_count": 47,
     "metadata": {},
     "output_type": "execute_result"
    }
   ],
   "source": [
    "# 군 내 제곱합 : 오차의 평균값은 0\n",
    "squared_resid = np.sum(resid**2)\n",
    "squared_resid          "
   ]
  },
  {
   "cell_type": "code",
   "execution_count": 48,
   "metadata": {},
   "outputs": [],
   "source": [
    "df_model = 2 # 군 간 변동의 자유도(수준의 종류에 따라 결정. 수준(3)-1)\n",
    "df_resid = 3 # 군 내 변동의 자유도(샘플 사이즈와 수준의 종류에 따라 결정. 샘플(6) - 3 = 3)"
   ]
  },
  {
   "cell_type": "code",
   "execution_count": 51,
   "metadata": {},
   "outputs": [
    {
     "data": {
      "text/plain": [
       "32.0"
      ]
     },
     "execution_count": 51,
     "metadata": {},
     "output_type": "execute_result"
    }
   ],
   "source": [
    "# 군 간 평균제곱(분산)\n",
    "variance_model = squared_model/df_model\n",
    "variance_model"
   ]
  },
  {
   "cell_type": "code",
   "execution_count": 52,
   "metadata": {},
   "outputs": [
    {
     "data": {
      "text/plain": [
       "2.0"
      ]
     },
     "execution_count": 52,
     "metadata": {},
     "output_type": "execute_result"
    }
   ],
   "source": [
    "# 군 내 평균제곱(분산)\n",
    "variance_resid = squared_resid/df_resid\n",
    "variance_resid"
   ]
  },
  {
   "cell_type": "code",
   "execution_count": null,
   "metadata": {},
   "outputs": [],
   "source": [
    "F비: 효과의 분산 크기/오차의 분산 크기\n",
    "    군 간 분산과 군 내 분산의 비율\n",
    "F비가 크면 오차에 비해 효과의 영향이 클 것이라고 판단되기 때문에\n",
    "F비의 숫자는 클수록 좋다.."
   ]
  },
  {
   "cell_type": "code",
   "execution_count": 53,
   "metadata": {},
   "outputs": [
    {
     "data": {
      "text/plain": [
       "16.0"
      ]
     },
     "execution_count": 53,
     "metadata": {},
     "output_type": "execute_result"
    }
   ],
   "source": [
    "# F비: 군간 분산과 군내 분산의 비\n",
    "f_ratio = variance_model/variance_resid\n",
    "f_ratio"
   ]
  },
  {
   "cell_type": "code",
   "execution_count": 54,
   "metadata": {},
   "outputs": [
    {
     "data": {
      "text/plain": [
       "0.02509457330439091"
      ]
     },
     "execution_count": 54,
     "metadata": {},
     "output_type": "execute_result"
    }
   ],
   "source": [
    "import scipy as sp\n",
    "# p값은 F분포의 누적분포함수에서 계산한다. sp.stats.f.cdf 함수 사용\n",
    "1 - sp.stats.f.cdf(x = f_ratio, dfn = df_model, dfd = df_resid)\n",
    "# p값은 0.05 이하이므로 날씨에 의한 매상이 유의미하게 변한다고 판단 가능."
   ]
  },
  {
   "cell_type": "code",
   "execution_count": 55,
   "metadata": {},
   "outputs": [],
   "source": [
    "# 범주형에도 smf.ols를 쓸 수 있다.\n",
    "anova_model = smf.ols('beer ~ weather', data = w_beer).fit()"
   ]
  },
  {
   "cell_type": "code",
   "execution_count": 56,
   "metadata": {
    "scrolled": true
   },
   "outputs": [
    {
     "data": {
      "text/html": [
       "<div>\n",
       "<style scoped>\n",
       "    .dataframe tbody tr th:only-of-type {\n",
       "        vertical-align: middle;\n",
       "    }\n",
       "\n",
       "    .dataframe tbody tr th {\n",
       "        vertical-align: top;\n",
       "    }\n",
       "\n",
       "    .dataframe thead th {\n",
       "        text-align: right;\n",
       "    }\n",
       "</style>\n",
       "<table border=\"1\" class=\"dataframe\">\n",
       "  <thead>\n",
       "    <tr style=\"text-align: right;\">\n",
       "      <th></th>\n",
       "      <th>sum_sq</th>\n",
       "      <th>df</th>\n",
       "      <th>F</th>\n",
       "      <th>PR(&gt;F)</th>\n",
       "    </tr>\n",
       "  </thead>\n",
       "  <tbody>\n",
       "    <tr>\n",
       "      <th>weather</th>\n",
       "      <td>64.0</td>\n",
       "      <td>2.0</td>\n",
       "      <td>16.0</td>\n",
       "      <td>0.025095</td>\n",
       "    </tr>\n",
       "    <tr>\n",
       "      <th>Residual</th>\n",
       "      <td>6.0</td>\n",
       "      <td>3.0</td>\n",
       "      <td>NaN</td>\n",
       "      <td>NaN</td>\n",
       "    </tr>\n",
       "  </tbody>\n",
       "</table>\n",
       "</div>"
      ],
      "text/plain": [
       "          sum_sq   df     F    PR(>F)\n",
       "weather     64.0  2.0  16.0  0.025095\n",
       "Residual     6.0  3.0   NaN       NaN"
      ]
     },
     "execution_count": 56,
     "metadata": {},
     "output_type": "execute_result"
    }
   ],
   "source": [
    "# 분산분석표\n",
    "sm.stats.anova_lm(anova_model, typ = 2)"
   ]
  },
  {
   "cell_type": "code",
   "execution_count": 57,
   "metadata": {},
   "outputs": [
    {
     "data": {
      "text/plain": [
       "Intercept           7.0\n",
       "weather[T.rainy]   -4.0\n",
       "weather[T.sunny]    4.0\n",
       "dtype: float64"
      ]
     },
     "execution_count": 57,
     "metadata": {},
     "output_type": "execute_result"
    }
   ],
   "source": [
    "# 절편이 7, rainy일 때는 -이기 때문에 줄어든다. sunny일때는 늘어난다.\n",
    "anova_model.params"
   ]
  },
  {
   "cell_type": "code",
   "execution_count": 58,
   "metadata": {},
   "outputs": [
    {
     "data": {
      "text/plain": [
       "0     7.0\n",
       "1     7.0\n",
       "2     3.0\n",
       "3     3.0\n",
       "4    11.0\n",
       "5    11.0\n",
       "dtype: float64"
      ]
     },
     "execution_count": 58,
     "metadata": {},
     "output_type": "execute_result"
    }
   ],
   "source": [
    "# 독립변수를 카테고리형 변수로 한 일반 선형 모델의 예측치는 \n",
    "# 각 수준의 평균값과 일치한다.\n",
    "fitted = anova_model.fittedvalues\n",
    "fitted"
   ]
  },
  {
   "cell_type": "code",
   "execution_count": 68,
   "metadata": {},
   "outputs": [
    {
     "data": {
      "text/html": [
       "<div>\n",
       "<style scoped>\n",
       "    .dataframe tbody tr th:only-of-type {\n",
       "        vertical-align: middle;\n",
       "    }\n",
       "\n",
       "    .dataframe tbody tr th {\n",
       "        vertical-align: top;\n",
       "    }\n",
       "\n",
       "    .dataframe thead th {\n",
       "        text-align: right;\n",
       "    }\n",
       "</style>\n",
       "<table border=\"1\" class=\"dataframe\">\n",
       "  <thead>\n",
       "    <tr style=\"text-align: right;\">\n",
       "      <th></th>\n",
       "      <th>beer</th>\n",
       "      <th>temperature</th>\n",
       "    </tr>\n",
       "  </thead>\n",
       "  <tbody>\n",
       "    <tr>\n",
       "      <th>0</th>\n",
       "      <td>45.3</td>\n",
       "      <td>20.5</td>\n",
       "    </tr>\n",
       "    <tr>\n",
       "      <th>1</th>\n",
       "      <td>59.3</td>\n",
       "      <td>25.0</td>\n",
       "    </tr>\n",
       "    <tr>\n",
       "      <th>2</th>\n",
       "      <td>40.4</td>\n",
       "      <td>10.0</td>\n",
       "    </tr>\n",
       "    <tr>\n",
       "      <th>3</th>\n",
       "      <td>38.0</td>\n",
       "      <td>26.9</td>\n",
       "    </tr>\n",
       "    <tr>\n",
       "      <th>4</th>\n",
       "      <td>37.0</td>\n",
       "      <td>15.8</td>\n",
       "    </tr>\n",
       "    <tr>\n",
       "      <th>5</th>\n",
       "      <td>40.9</td>\n",
       "      <td>4.2</td>\n",
       "    </tr>\n",
       "    <tr>\n",
       "      <th>6</th>\n",
       "      <td>60.2</td>\n",
       "      <td>13.5</td>\n",
       "    </tr>\n",
       "    <tr>\n",
       "      <th>7</th>\n",
       "      <td>63.3</td>\n",
       "      <td>26.0</td>\n",
       "    </tr>\n",
       "    <tr>\n",
       "      <th>8</th>\n",
       "      <td>51.1</td>\n",
       "      <td>23.3</td>\n",
       "    </tr>\n",
       "    <tr>\n",
       "      <th>9</th>\n",
       "      <td>44.9</td>\n",
       "      <td>8.5</td>\n",
       "    </tr>\n",
       "    <tr>\n",
       "      <th>10</th>\n",
       "      <td>47.0</td>\n",
       "      <td>26.2</td>\n",
       "    </tr>\n",
       "    <tr>\n",
       "      <th>11</th>\n",
       "      <td>53.2</td>\n",
       "      <td>19.1</td>\n",
       "    </tr>\n",
       "    <tr>\n",
       "      <th>12</th>\n",
       "      <td>43.5</td>\n",
       "      <td>24.3</td>\n",
       "    </tr>\n",
       "    <tr>\n",
       "      <th>13</th>\n",
       "      <td>53.2</td>\n",
       "      <td>23.3</td>\n",
       "    </tr>\n",
       "    <tr>\n",
       "      <th>14</th>\n",
       "      <td>37.4</td>\n",
       "      <td>8.4</td>\n",
       "    </tr>\n",
       "    <tr>\n",
       "      <th>15</th>\n",
       "      <td>59.9</td>\n",
       "      <td>23.5</td>\n",
       "    </tr>\n",
       "    <tr>\n",
       "      <th>16</th>\n",
       "      <td>41.5</td>\n",
       "      <td>13.9</td>\n",
       "    </tr>\n",
       "    <tr>\n",
       "      <th>17</th>\n",
       "      <td>75.1</td>\n",
       "      <td>35.5</td>\n",
       "    </tr>\n",
       "    <tr>\n",
       "      <th>18</th>\n",
       "      <td>55.6</td>\n",
       "      <td>27.2</td>\n",
       "    </tr>\n",
       "    <tr>\n",
       "      <th>19</th>\n",
       "      <td>57.2</td>\n",
       "      <td>20.5</td>\n",
       "    </tr>\n",
       "    <tr>\n",
       "      <th>20</th>\n",
       "      <td>46.5</td>\n",
       "      <td>10.2</td>\n",
       "    </tr>\n",
       "    <tr>\n",
       "      <th>21</th>\n",
       "      <td>35.8</td>\n",
       "      <td>20.5</td>\n",
       "    </tr>\n",
       "    <tr>\n",
       "      <th>22</th>\n",
       "      <td>51.9</td>\n",
       "      <td>21.6</td>\n",
       "    </tr>\n",
       "    <tr>\n",
       "      <th>23</th>\n",
       "      <td>38.2</td>\n",
       "      <td>7.9</td>\n",
       "    </tr>\n",
       "    <tr>\n",
       "      <th>24</th>\n",
       "      <td>66.0</td>\n",
       "      <td>42.2</td>\n",
       "    </tr>\n",
       "    <tr>\n",
       "      <th>25</th>\n",
       "      <td>55.3</td>\n",
       "      <td>23.9</td>\n",
       "    </tr>\n",
       "    <tr>\n",
       "      <th>26</th>\n",
       "      <td>55.3</td>\n",
       "      <td>36.9</td>\n",
       "    </tr>\n",
       "    <tr>\n",
       "      <th>27</th>\n",
       "      <td>43.3</td>\n",
       "      <td>8.9</td>\n",
       "    </tr>\n",
       "    <tr>\n",
       "      <th>28</th>\n",
       "      <td>70.5</td>\n",
       "      <td>36.4</td>\n",
       "    </tr>\n",
       "    <tr>\n",
       "      <th>29</th>\n",
       "      <td>38.8</td>\n",
       "      <td>6.4</td>\n",
       "    </tr>\n",
       "  </tbody>\n",
       "</table>\n",
       "</div>"
      ],
      "text/plain": [
       "    beer  temperature\n",
       "0   45.3         20.5\n",
       "1   59.3         25.0\n",
       "2   40.4         10.0\n",
       "3   38.0         26.9\n",
       "4   37.0         15.8\n",
       "5   40.9          4.2\n",
       "6   60.2         13.5\n",
       "7   63.3         26.0\n",
       "8   51.1         23.3\n",
       "9   44.9          8.5\n",
       "10  47.0         26.2\n",
       "11  53.2         19.1\n",
       "12  43.5         24.3\n",
       "13  53.2         23.3\n",
       "14  37.4          8.4\n",
       "15  59.9         23.5\n",
       "16  41.5         13.9\n",
       "17  75.1         35.5\n",
       "18  55.6         27.2\n",
       "19  57.2         20.5\n",
       "20  46.5         10.2\n",
       "21  35.8         20.5\n",
       "22  51.9         21.6\n",
       "23  38.2          7.9\n",
       "24  66.0         42.2\n",
       "25  55.3         23.9\n",
       "26  55.3         36.9\n",
       "27  43.3          8.9\n",
       "28  70.5         36.4\n",
       "29  38.8          6.4"
      ]
     },
     "execution_count": 68,
     "metadata": {},
     "output_type": "execute_result"
    }
   ],
   "source": [
    "# 분산분석이라는 검정 방법은 일반선형모형에서 일반적으로 사용한다.\n",
    "# 독립변수가 연속형이어도 가능하다.\n",
    "\n",
    "beer = pd.read_csv('dataset/7_1_beer.csv')\n",
    "beer"
   ]
  },
  {
   "cell_type": "code",
   "execution_count": null,
   "metadata": {},
   "outputs": [],
   "source": [
    "# 모델 추정\n",
    "lm_model = smf.ols('beer ~ temperature', data = beer).fit()"
   ]
  },
  {
   "cell_type": "code",
   "execution_count": 61,
   "metadata": {},
   "outputs": [],
   "source": [
    "# 자유도\n",
    "# 수준이 없을 경우는 파라미터 개수로 자유도를 설정한다.\n",
    "df_lm_model = 1 # 모델의 자유도(추정된 파라미터)\n",
    "df_lm_resid = 28"
   ]
  },
  {
   "cell_type": "code",
   "execution_count": 63,
   "metadata": {},
   "outputs": [
    {
     "data": {
      "text/plain": [
       "28.446983688504666"
      ]
     },
     "execution_count": 63,
     "metadata": {},
     "output_type": "execute_result"
    }
   ],
   "source": [
    "# F비 계산\n",
    "lm_effect = lm_model.fittedvalues\n",
    "# 잔차\n",
    "lm_resid = lm_model.resid\n",
    "# 기온의 효과 크기\n",
    "mu = np.mean(lm_effect)\n",
    "squares_lm_model = np.sum((lm_effect - mu)**2)\n",
    "variance_lm_model = squares_lm_model/df_lm_model\n",
    "# 잔차의 크기\n",
    "squares_lm_resid = np.sum((lm_resid)**2)\n",
    "variance_lm_resid = squares_lm_resid / df_lm_resid\n",
    "# F비\n",
    "# F비: 군간 분산과 군내 분산의 비\n",
    "f_value_lm = variance_lm_model/variance_lm_resid\n",
    "f_value_lm"
   ]
  },
  {
   "cell_type": "code",
   "execution_count": 64,
   "metadata": {},
   "outputs": [
    {
     "data": {
      "text/plain": [
       "1.1148907825053733e-05"
      ]
     },
     "execution_count": 64,
     "metadata": {},
     "output_type": "execute_result"
    }
   ],
   "source": [
    "# p값 구하기\n",
    "# p값은 F분포의 누적분포함수에서 계산한다. sp.stats.f.cdf 함수 사용\n",
    "1 - sp.stats.f.cdf(x = f_value_lm, dfn = df_lm_model, dfd = df_lm_resid)\n",
    "# e-05는 소숫점 5자리를 붙이는 것\n",
    "# p값이 0에 가까우므로 귀무가설을 기각한다."
   ]
  },
  {
   "cell_type": "code",
   "execution_count": 70,
   "metadata": {
    "scrolled": true
   },
   "outputs": [
    {
     "data": {
      "text/html": [
       "<div>\n",
       "<style scoped>\n",
       "    .dataframe tbody tr th:only-of-type {\n",
       "        vertical-align: middle;\n",
       "    }\n",
       "\n",
       "    .dataframe tbody tr th {\n",
       "        vertical-align: top;\n",
       "    }\n",
       "\n",
       "    .dataframe thead th {\n",
       "        text-align: right;\n",
       "    }\n",
       "</style>\n",
       "<table border=\"1\" class=\"dataframe\">\n",
       "  <thead>\n",
       "    <tr style=\"text-align: right;\">\n",
       "      <th></th>\n",
       "      <th>df</th>\n",
       "      <th>sum_sq</th>\n",
       "      <th>mean_sq</th>\n",
       "      <th>F</th>\n",
       "      <th>PR(&gt;F)</th>\n",
       "    </tr>\n",
       "  </thead>\n",
       "  <tbody>\n",
       "    <tr>\n",
       "      <th>temperature</th>\n",
       "      <td>1.0</td>\n",
       "      <td>1651.532489</td>\n",
       "      <td>1651.532489</td>\n",
       "      <td>28.446984</td>\n",
       "      <td>0.000011</td>\n",
       "    </tr>\n",
       "    <tr>\n",
       "      <th>Residual</th>\n",
       "      <td>28.0</td>\n",
       "      <td>1625.582178</td>\n",
       "      <td>58.056506</td>\n",
       "      <td>NaN</td>\n",
       "      <td>NaN</td>\n",
       "    </tr>\n",
       "  </tbody>\n",
       "</table>\n",
       "</div>"
      ],
      "text/plain": [
       "               df       sum_sq      mean_sq          F    PR(>F)\n",
       "temperature   1.0  1651.532489  1651.532489  28.446984  0.000011\n",
       "Residual     28.0  1625.582178    58.056506        NaN       NaN"
      ]
     },
     "execution_count": 70,
     "metadata": {},
     "output_type": "execute_result"
    }
   ],
   "source": [
    "# 분산분석표\n",
    "# anova_model = smf.ols('beer ~ temperature', data = beer).fit()\n",
    "# sm.stats.anova_lm(anova_model, typ = 2)\n",
    "sm.stats.anova_lm(lm_model, dfd = df_lm_resid)"
   ]
  },
  {
   "cell_type": "code",
   "execution_count": 69,
   "metadata": {},
   "outputs": [
    {
     "data": {
      "text/html": [
       "<table class=\"simpletable\">\n",
       "<caption>OLS Regression Results</caption>\n",
       "<tr>\n",
       "  <th>Dep. Variable:</th>          <td>beer</td>       <th>  R-squared:         </th> <td>   0.504</td>\n",
       "</tr>\n",
       "<tr>\n",
       "  <th>Model:</th>                   <td>OLS</td>       <th>  Adj. R-squared:    </th> <td>   0.486</td>\n",
       "</tr>\n",
       "<tr>\n",
       "  <th>Method:</th>             <td>Least Squares</td>  <th>  F-statistic:       </th> <td>   28.45</td>\n",
       "</tr>\n",
       "<tr>\n",
       "  <th>Date:</th>             <td>Wed, 13 Jan 2021</td> <th>  Prob (F-statistic):</th> <td>1.11e-05</td>\n",
       "</tr>\n",
       "<tr>\n",
       "  <th>Time:</th>                 <td>15:50:41</td>     <th>  Log-Likelihood:    </th> <td> -102.45</td>\n",
       "</tr>\n",
       "<tr>\n",
       "  <th>No. Observations:</th>      <td>    30</td>      <th>  AIC:               </th> <td>   208.9</td>\n",
       "</tr>\n",
       "<tr>\n",
       "  <th>Df Residuals:</th>          <td>    28</td>      <th>  BIC:               </th> <td>   211.7</td>\n",
       "</tr>\n",
       "<tr>\n",
       "  <th>Df Model:</th>              <td>     1</td>      <th>                     </th>     <td> </td>   \n",
       "</tr>\n",
       "<tr>\n",
       "  <th>Covariance Type:</th>      <td>nonrobust</td>    <th>                     </th>     <td> </td>   \n",
       "</tr>\n",
       "</table>\n",
       "<table class=\"simpletable\">\n",
       "<tr>\n",
       "       <td></td>          <th>coef</th>     <th>std err</th>      <th>t</th>      <th>P>|t|</th>  <th>[0.025</th>    <th>0.975]</th>  \n",
       "</tr>\n",
       "<tr>\n",
       "  <th>Intercept</th>   <td>   34.6102</td> <td>    3.235</td> <td>   10.699</td> <td> 0.000</td> <td>   27.984</td> <td>   41.237</td>\n",
       "</tr>\n",
       "<tr>\n",
       "  <th>temperature</th> <td>    0.7654</td> <td>    0.144</td> <td>    5.334</td> <td> 0.000</td> <td>    0.471</td> <td>    1.059</td>\n",
       "</tr>\n",
       "</table>\n",
       "<table class=\"simpletable\">\n",
       "<tr>\n",
       "  <th>Omnibus:</th>       <td> 0.587</td> <th>  Durbin-Watson:     </th> <td>   1.960</td>\n",
       "</tr>\n",
       "<tr>\n",
       "  <th>Prob(Omnibus):</th> <td> 0.746</td> <th>  Jarque-Bera (JB):  </th> <td>   0.290</td>\n",
       "</tr>\n",
       "<tr>\n",
       "  <th>Skew:</th>          <td>-0.240</td> <th>  Prob(JB):          </th> <td>   0.865</td>\n",
       "</tr>\n",
       "<tr>\n",
       "  <th>Kurtosis:</th>      <td> 2.951</td> <th>  Cond. No.          </th> <td>    52.5</td>\n",
       "</tr>\n",
       "</table><br/><br/>Notes:<br/>[1] Standard Errors assume that the covariance matrix of the errors is correctly specified."
      ],
      "text/plain": [
       "<class 'statsmodels.iolib.summary.Summary'>\n",
       "\"\"\"\n",
       "                            OLS Regression Results                            \n",
       "==============================================================================\n",
       "Dep. Variable:                   beer   R-squared:                       0.504\n",
       "Model:                            OLS   Adj. R-squared:                  0.486\n",
       "Method:                 Least Squares   F-statistic:                     28.45\n",
       "Date:                Wed, 13 Jan 2021   Prob (F-statistic):           1.11e-05\n",
       "Time:                        15:50:41   Log-Likelihood:                -102.45\n",
       "No. Observations:                  30   AIC:                             208.9\n",
       "Df Residuals:                      28   BIC:                             211.7\n",
       "Df Model:                           1                                         \n",
       "Covariance Type:            nonrobust                                         \n",
       "===============================================================================\n",
       "                  coef    std err          t      P>|t|      [0.025      0.975]\n",
       "-------------------------------------------------------------------------------\n",
       "Intercept      34.6102      3.235     10.699      0.000      27.984      41.237\n",
       "temperature     0.7654      0.144      5.334      0.000       0.471       1.059\n",
       "==============================================================================\n",
       "Omnibus:                        0.587   Durbin-Watson:                   1.960\n",
       "Prob(Omnibus):                  0.746   Jarque-Bera (JB):                0.290\n",
       "Skew:                          -0.240   Prob(JB):                        0.865\n",
       "Kurtosis:                       2.951   Cond. No.                         52.5\n",
       "==============================================================================\n",
       "\n",
       "Notes:\n",
       "[1] Standard Errors assume that the covariance matrix of the errors is correctly specified.\n",
       "\"\"\""
      ]
     },
     "execution_count": 69,
     "metadata": {},
     "output_type": "execute_result"
    }
   ],
   "source": [
    "# 독립변수가 1개인 경우에는 \n",
    "# 계수의 t검정 결과와 분산분석의 결과가 일치\n",
    "\n",
    "# t검정 결과 모델 summary\n",
    "lm_model.summary()"
   ]
  },
  {
   "cell_type": "code",
   "execution_count": 85,
   "metadata": {},
   "outputs": [
    {
     "data": {
      "text/html": [
       "<div>\n",
       "<style scoped>\n",
       "    .dataframe tbody tr th:only-of-type {\n",
       "        vertical-align: middle;\n",
       "    }\n",
       "\n",
       "    .dataframe tbody tr th {\n",
       "        vertical-align: top;\n",
       "    }\n",
       "\n",
       "    .dataframe thead th {\n",
       "        text-align: right;\n",
       "    }\n",
       "</style>\n",
       "<table border=\"1\" class=\"dataframe\">\n",
       "  <thead>\n",
       "    <tr style=\"text-align: right;\">\n",
       "      <th></th>\n",
       "      <th>humidity</th>\n",
       "      <th>price</th>\n",
       "      <th>sales</th>\n",
       "      <th>temperature</th>\n",
       "      <th>weather</th>\n",
       "    </tr>\n",
       "  </thead>\n",
       "  <tbody>\n",
       "    <tr>\n",
       "      <th>0</th>\n",
       "      <td>29.5</td>\n",
       "      <td>290</td>\n",
       "      <td>229.7</td>\n",
       "      <td>17.8</td>\n",
       "      <td>rainy</td>\n",
       "    </tr>\n",
       "    <tr>\n",
       "      <th>1</th>\n",
       "      <td>38.1</td>\n",
       "      <td>290</td>\n",
       "      <td>206.1</td>\n",
       "      <td>26.1</td>\n",
       "      <td>rainy</td>\n",
       "    </tr>\n",
       "    <tr>\n",
       "      <th>2</th>\n",
       "      <td>31.5</td>\n",
       "      <td>290</td>\n",
       "      <td>202.5</td>\n",
       "      <td>22.0</td>\n",
       "      <td>rainy</td>\n",
       "    </tr>\n",
       "    <tr>\n",
       "      <th>3</th>\n",
       "      <td>39.7</td>\n",
       "      <td>290</td>\n",
       "      <td>195.5</td>\n",
       "      <td>23.0</td>\n",
       "      <td>rainy</td>\n",
       "    </tr>\n",
       "    <tr>\n",
       "      <th>4</th>\n",
       "      <td>24.7</td>\n",
       "      <td>290</td>\n",
       "      <td>214.4</td>\n",
       "      <td>14.5</td>\n",
       "      <td>rainy</td>\n",
       "    </tr>\n",
       "    <tr>\n",
       "      <th>...</th>\n",
       "      <td>...</td>\n",
       "      <td>...</td>\n",
       "      <td>...</td>\n",
       "      <td>...</td>\n",
       "      <td>...</td>\n",
       "    </tr>\n",
       "    <tr>\n",
       "      <th>95</th>\n",
       "      <td>24.2</td>\n",
       "      <td>315</td>\n",
       "      <td>208.4</td>\n",
       "      <td>11.9</td>\n",
       "      <td>sunny</td>\n",
       "    </tr>\n",
       "    <tr>\n",
       "      <th>96</th>\n",
       "      <td>33.1</td>\n",
       "      <td>315</td>\n",
       "      <td>215.4</td>\n",
       "      <td>23.0</td>\n",
       "      <td>sunny</td>\n",
       "    </tr>\n",
       "    <tr>\n",
       "      <th>97</th>\n",
       "      <td>33.6</td>\n",
       "      <td>315</td>\n",
       "      <td>220.2</td>\n",
       "      <td>22.1</td>\n",
       "      <td>sunny</td>\n",
       "    </tr>\n",
       "    <tr>\n",
       "      <th>98</th>\n",
       "      <td>29.6</td>\n",
       "      <td>315</td>\n",
       "      <td>212.6</td>\n",
       "      <td>24.1</td>\n",
       "      <td>sunny</td>\n",
       "    </tr>\n",
       "    <tr>\n",
       "      <th>99</th>\n",
       "      <td>34.9</td>\n",
       "      <td>315</td>\n",
       "      <td>233.7</td>\n",
       "      <td>25.2</td>\n",
       "      <td>sunny</td>\n",
       "    </tr>\n",
       "  </tbody>\n",
       "</table>\n",
       "<p>100 rows × 5 columns</p>\n",
       "</div>"
      ],
      "text/plain": [
       "    humidity  price  sales  temperature weather\n",
       "0       29.5    290  229.7         17.8   rainy\n",
       "1       38.1    290  206.1         26.1   rainy\n",
       "2       31.5    290  202.5         22.0   rainy\n",
       "3       39.7    290  195.5         23.0   rainy\n",
       "4       24.7    290  214.4         14.5   rainy\n",
       "..       ...    ...    ...          ...     ...\n",
       "95      24.2    315  208.4         11.9   sunny\n",
       "96      33.1    315  215.4         23.0   sunny\n",
       "97      33.6    315  220.2         22.1   sunny\n",
       "98      29.6    315  212.6         24.1   sunny\n",
       "99      34.9    315  233.7         25.2   sunny\n",
       "\n",
       "[100 rows x 5 columns]"
      ]
     },
     "execution_count": 85,
     "metadata": {},
     "output_type": "execute_result"
    }
   ],
   "source": [
    "# 독립변수가 여럿인 모델\n",
    "sales = pd.read_csv('dataset/7_3_lmm.csv')\n",
    "sales"
   ]
  },
  {
   "cell_type": "code",
   "execution_count": 84,
   "metadata": {},
   "outputs": [
    {
     "data": {
      "text/plain": [
       "<seaborn.axisgrid.PairGrid at 0x289c9d51b48>"
      ]
     },
     "execution_count": 84,
     "metadata": {},
     "output_type": "execute_result"
    },
    {
     "data": {
      "image/png": "[encoded data removed]",
      "text/plain": [
       "<Figure size 786.25x720 with 20 Axes>"
      ]
     },
     "metadata": {
      "needs_background": "light"
     },
     "output_type": "display_data"
    }
   ],
   "source": [
    "# pairplot() 변수들 간의 관계를 빠르게 보고 싶을 때 쓸 수 있다.\n",
    "#                          hue(나누는 기준)\n",
    "sns.pairplot(data = sales, hue = 'weather')"
   ]
  },
  {
   "cell_type": "code",
   "execution_count": 77,
   "metadata": {},
   "outputs": [
    {
     "data": {
      "text/plain": [
       "Intercept    113.645406\n",
       "price          0.332812\n",
       "dtype: float64"
      ]
     },
     "execution_count": 77,
     "metadata": {},
     "output_type": "execute_result"
    }
   ],
   "source": [
    "# 독립변수에 가격만 사용한 단순회귀모델 추정\n",
    "lm_p = smf.ols('sales ~ price', sales).fit()\n",
    "lm_p.params"
   ]
  },
  {
   "cell_type": "code",
   "execution_count": 78,
   "metadata": {},
   "outputs": [
    {
     "data": {
      "text/html": [
       "<div>\n",
       "<style scoped>\n",
       "    .dataframe tbody tr th:only-of-type {\n",
       "        vertical-align: middle;\n",
       "    }\n",
       "\n",
       "    .dataframe tbody tr th {\n",
       "        vertical-align: top;\n",
       "    }\n",
       "\n",
       "    .dataframe thead th {\n",
       "        text-align: right;\n",
       "    }\n",
       "</style>\n",
       "<table border=\"1\" class=\"dataframe\">\n",
       "  <thead>\n",
       "    <tr style=\"text-align: right;\">\n",
       "      <th></th>\n",
       "      <th>sum_sq</th>\n",
       "      <th>df</th>\n",
       "      <th>F</th>\n",
       "      <th>PR(&gt;F)</th>\n",
       "    </tr>\n",
       "  </thead>\n",
       "  <tbody>\n",
       "    <tr>\n",
       "      <th>price</th>\n",
       "      <td>1398.392322</td>\n",
       "      <td>1.0</td>\n",
       "      <td>4.970685</td>\n",
       "      <td>0.028064</td>\n",
       "    </tr>\n",
       "    <tr>\n",
       "      <th>Residual</th>\n",
       "      <td>27570.133578</td>\n",
       "      <td>98.0</td>\n",
       "      <td>NaN</td>\n",
       "      <td>NaN</td>\n",
       "    </tr>\n",
       "  </tbody>\n",
       "</table>\n",
       "</div>"
      ],
      "text/plain": [
       "                sum_sq    df         F    PR(>F)\n",
       "price      1398.392322   1.0  4.970685  0.028064\n",
       "Residual  27570.133578  98.0       NaN       NaN"
      ]
     },
     "execution_count": 78,
     "metadata": {},
     "output_type": "execute_result"
    }
   ],
   "source": [
    "# 가격은 매상에 대해 유의미한 영향이 있고, 가격이 오르면 매상도 증가\n",
    "# : 잘못된 분석이다.\n",
    "sm.stats.anova_lm(lm_p, typ = 2)"
   ]
  },
  {
   "cell_type": "code",
   "execution_count": 80,
   "metadata": {},
   "outputs": [
    {
     "data": {
      "text/plain": [
       "<seaborn.axisgrid.FacetGrid at 0x289c9eee488>"
      ]
     },
     "execution_count": 80,
     "metadata": {},
     "output_type": "execute_result"
    },
    {
     "data": {
      "image/png": "[encoded data removed]",
      "text/plain": [
       "<Figure size 360x360 with 1 Axes>"
      ]
     },
     "metadata": {
      "needs_background": "light"
     },
     "output_type": "display_data"
    }
   ],
   "source": [
    "sns.lmplot(x = 'price', y = 'sales', data = sales,\n",
    "          scatter_kws = {'color':'blue'},\n",
    "          line_kws = {'color':'blue'})"
   ]
  },
  {
   "cell_type": "code",
   "execution_count": 81,
   "metadata": {},
   "outputs": [
    {
     "data": {
      "text/html": [
       "<div>\n",
       "<style scoped>\n",
       "    .dataframe tbody tr th:only-of-type {\n",
       "        vertical-align: middle;\n",
       "    }\n",
       "\n",
       "    .dataframe tbody tr th {\n",
       "        vertical-align: top;\n",
       "    }\n",
       "\n",
       "    .dataframe thead th {\n",
       "        text-align: right;\n",
       "    }\n",
       "</style>\n",
       "<table border=\"1\" class=\"dataframe\">\n",
       "  <thead>\n",
       "    <tr style=\"text-align: right;\">\n",
       "      <th></th>\n",
       "      <th>humidity</th>\n",
       "      <th>price</th>\n",
       "      <th>sales</th>\n",
       "      <th>temperature</th>\n",
       "    </tr>\n",
       "    <tr>\n",
       "      <th>weather</th>\n",
       "      <th></th>\n",
       "      <th></th>\n",
       "      <th></th>\n",
       "      <th></th>\n",
       "    </tr>\n",
       "  </thead>\n",
       "  <tbody>\n",
       "    <tr>\n",
       "      <th>rainy</th>\n",
       "      <td>32.126</td>\n",
       "      <td>295.5</td>\n",
       "      <td>205.924</td>\n",
       "      <td>20.422</td>\n",
       "    </tr>\n",
       "    <tr>\n",
       "      <th>sunny</th>\n",
       "      <td>30.852</td>\n",
       "      <td>309.5</td>\n",
       "      <td>222.718</td>\n",
       "      <td>21.102</td>\n",
       "    </tr>\n",
       "  </tbody>\n",
       "</table>\n",
       "</div>"
      ],
      "text/plain": [
       "         humidity  price    sales  temperature\n",
       "weather                                       \n",
       "rainy      32.126  295.5  205.924       20.422\n",
       "sunny      30.852  309.5  222.718       21.102"
      ]
     },
     "execution_count": 81,
     "metadata": {},
     "output_type": "execute_result"
    }
   ],
   "source": [
    "sales.groupby('weather').mean()"
   ]
  },
  {
   "cell_type": "code",
   "execution_count": 83,
   "metadata": {},
   "outputs": [
    {
     "data": {
      "text/plain": [
       "<seaborn.axisgrid.FacetGrid at 0x289c9d1ebc8>"
      ]
     },
     "execution_count": 83,
     "metadata": {},
     "output_type": "execute_result"
    },
    {
     "data": {
      "image/png": "[encoded data removed]",
      "text/plain": [
       "<Figure size 426.25x360 with 1 Axes>"
      ]
     },
     "metadata": {
      "needs_background": "light"
     },
     "output_type": "display_data"
    }
   ],
   "source": [
    "sns.lmplot(x = 'price', y = 'sales', data = sales, hue = 'weather')\n",
    "# weather라는 변수를 하나 추가함으로써 price와 sales 둘의 \n",
    "# 관계가 좀더 정확하게 나오는 것을 볼 수 있다.\n",
    "# 단순히 1독립변수, 1종속변수만 사용해서 데이터를 분석하는것은 위험하다."
   ]
  },
  {
   "cell_type": "code",
   "execution_count": 91,
   "metadata": {},
   "outputs": [
    {
     "data": {
      "text/plain": [
       "Intercept           278.627722\n",
       "weather[T.sunny]     19.989119\n",
       "humidity             -0.254055\n",
       "temperature           1.603115\n",
       "price                -0.329207\n",
       "dtype: float64"
      ]
     },
     "execution_count": 91,
     "metadata": {},
     "output_type": "execute_result"
    }
   ],
   "source": [
    "# 독립변수가 4개인 모델 추정\n",
    "# ('종속변수 ~ 독립변수 + 독립변수 + ...')\n",
    "lm_sales = smf.ols('sales ~ weather + humidity + temperature + price',\n",
    "                   data = sales).fit()\n",
    "lm_sales.params"
   ]
  },
  {
   "cell_type": "code",
   "execution_count": 92,
   "metadata": {},
   "outputs": [
    {
     "data": {
      "text/html": [
       "<div>\n",
       "<style scoped>\n",
       "    .dataframe tbody tr th:only-of-type {\n",
       "        vertical-align: middle;\n",
       "    }\n",
       "\n",
       "    .dataframe tbody tr th {\n",
       "        vertical-align: top;\n",
       "    }\n",
       "\n",
       "    .dataframe thead th {\n",
       "        text-align: right;\n",
       "    }\n",
       "</style>\n",
       "<table border=\"1\" class=\"dataframe\">\n",
       "  <thead>\n",
       "    <tr style=\"text-align: right;\">\n",
       "      <th></th>\n",
       "      <th>df</th>\n",
       "      <th>sum_sq</th>\n",
       "      <th>mean_sq</th>\n",
       "      <th>F</th>\n",
       "      <th>PR(&gt;F)</th>\n",
       "    </tr>\n",
       "  </thead>\n",
       "  <tbody>\n",
       "    <tr>\n",
       "      <th>weather</th>\n",
       "      <td>1.0</td>\n",
       "      <td>7050.961</td>\n",
       "      <td>7050.961</td>\n",
       "      <td>38.848</td>\n",
       "      <td>0.000</td>\n",
       "    </tr>\n",
       "    <tr>\n",
       "      <th>humidity</th>\n",
       "      <td>1.0</td>\n",
       "      <td>1779.601</td>\n",
       "      <td>1779.601</td>\n",
       "      <td>9.805</td>\n",
       "      <td>0.002</td>\n",
       "    </tr>\n",
       "    <tr>\n",
       "      <th>temperature</th>\n",
       "      <td>1.0</td>\n",
       "      <td>2076.845</td>\n",
       "      <td>2076.845</td>\n",
       "      <td>11.443</td>\n",
       "      <td>0.001</td>\n",
       "    </tr>\n",
       "    <tr>\n",
       "      <th>price</th>\n",
       "      <td>1.0</td>\n",
       "      <td>818.402</td>\n",
       "      <td>818.402</td>\n",
       "      <td>4.509</td>\n",
       "      <td>0.036</td>\n",
       "    </tr>\n",
       "    <tr>\n",
       "      <th>Residual</th>\n",
       "      <td>95.0</td>\n",
       "      <td>17242.717</td>\n",
       "      <td>181.502</td>\n",
       "      <td>NaN</td>\n",
       "      <td>NaN</td>\n",
       "    </tr>\n",
       "  </tbody>\n",
       "</table>\n",
       "</div>"
      ],
      "text/plain": [
       "               df     sum_sq   mean_sq       F  PR(>F)\n",
       "weather       1.0   7050.961  7050.961  38.848   0.000\n",
       "humidity      1.0   1779.601  1779.601   9.805   0.002\n",
       "temperature   1.0   2076.845  2076.845  11.443   0.001\n",
       "price         1.0    818.402   818.402   4.509   0.036\n",
       "Residual     95.0  17242.717   181.502     NaN     NaN"
      ]
     },
     "execution_count": 92,
     "metadata": {},
     "output_type": "execute_result"
    }
   ],
   "source": [
    "# 분산분석표\n",
    "sm.stats.anova_lm(lm_sales).round(3)"
   ]
  },
  {
   "cell_type": "code",
   "execution_count": 93,
   "metadata": {},
   "outputs": [
    {
     "data": {
      "text/html": [
       "<div>\n",
       "<style scoped>\n",
       "    .dataframe tbody tr th:only-of-type {\n",
       "        vertical-align: middle;\n",
       "    }\n",
       "\n",
       "    .dataframe tbody tr th {\n",
       "        vertical-align: top;\n",
       "    }\n",
       "\n",
       "    .dataframe thead th {\n",
       "        text-align: right;\n",
       "    }\n",
       "</style>\n",
       "<table border=\"1\" class=\"dataframe\">\n",
       "  <thead>\n",
       "    <tr style=\"text-align: right;\">\n",
       "      <th></th>\n",
       "      <th>df</th>\n",
       "      <th>sum_sq</th>\n",
       "      <th>mean_sq</th>\n",
       "      <th>F</th>\n",
       "      <th>PR(&gt;F)</th>\n",
       "    </tr>\n",
       "  </thead>\n",
       "  <tbody>\n",
       "    <tr>\n",
       "      <th>weather</th>\n",
       "      <td>1.0</td>\n",
       "      <td>7050.961</td>\n",
       "      <td>7050.961</td>\n",
       "      <td>38.848</td>\n",
       "      <td>0.000</td>\n",
       "    </tr>\n",
       "    <tr>\n",
       "      <th>temperature</th>\n",
       "      <td>1.0</td>\n",
       "      <td>3814.779</td>\n",
       "      <td>3814.779</td>\n",
       "      <td>21.018</td>\n",
       "      <td>0.000</td>\n",
       "    </tr>\n",
       "    <tr>\n",
       "      <th>humidity</th>\n",
       "      <td>1.0</td>\n",
       "      <td>41.667</td>\n",
       "      <td>41.667</td>\n",
       "      <td>0.230</td>\n",
       "      <td>0.633</td>\n",
       "    </tr>\n",
       "    <tr>\n",
       "      <th>price</th>\n",
       "      <td>1.0</td>\n",
       "      <td>818.402</td>\n",
       "      <td>818.402</td>\n",
       "      <td>4.509</td>\n",
       "      <td>0.036</td>\n",
       "    </tr>\n",
       "    <tr>\n",
       "      <th>Residual</th>\n",
       "      <td>95.0</td>\n",
       "      <td>17242.717</td>\n",
       "      <td>181.502</td>\n",
       "      <td>NaN</td>\n",
       "      <td>NaN</td>\n",
       "    </tr>\n",
       "  </tbody>\n",
       "</table>\n",
       "</div>"
      ],
      "text/plain": [
       "               df     sum_sq   mean_sq       F  PR(>F)\n",
       "weather       1.0   7050.961  7050.961  38.848   0.000\n",
       "temperature   1.0   3814.779  3814.779  21.018   0.000\n",
       "humidity      1.0     41.667    41.667   0.230   0.633\n",
       "price         1.0    818.402   818.402   4.509   0.036\n",
       "Residual     95.0  17242.717   181.502     NaN     NaN"
      ]
     },
     "execution_count": 93,
     "metadata": {},
     "output_type": "execute_result"
    }
   ],
   "source": [
    "# 독립변수의 위치를 바꿨더니 p값이 0.05보다 커졌다.\n",
    "lm_sales2 = smf.ols('sales ~ weather + temperature + humidity + price',\n",
    "                   data = sales).fit()\n",
    "sm.stats.anova_lm(lm_sales2).round(3)"
   ]
  },
  {
   "cell_type": "code",
   "execution_count": null,
   "metadata": {},
   "outputs": [],
   "source": []
  }
 ],
 "metadata": {
  "kernelspec": {
   "display_name": "Python 3",
   "language": "python",
   "name": "python3"
  },
  "language_info": {
   "codemirror_mode": {
    "name": "ipython",
    "version": 3
   },
   "file_extension": ".py",
   "mimetype": "text/x-python",
   "name": "python",
   "nbconvert_exporter": "python",
   "pygments_lexer": "ipython3",
   "version": "3.7.9"
  }
 },
 "nbformat": 4,
 "nbformat_minor": 4
}
